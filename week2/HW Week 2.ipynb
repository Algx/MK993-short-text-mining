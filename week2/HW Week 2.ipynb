{
 "cells": [
  {
   "cell_type": "markdown",
   "metadata": {},
   "source": [
    "# Homework Week 6"
   ]
  },
  {
   "cell_type": "markdown",
   "metadata": {},
   "source": [
    "You need to have a collection of documents for this homework. You can use any files in the data directory **except** the ones we used in class examples. \n",
    "\n",
    "That means you can use \n",
    "* any group of books you download from Gutenberg yourself (you don't have to clean out the text at the start and end this time), \n",
    "* the yelpsample (30 reviews), \n",
    "* the movie reviews directory we did not use in class, \n",
    "* the State of the Union Speeches since 1945, \n",
    "* or any of the job folders. You could also create your own mixed job adds, but you need to compress and upload it if you do.\n",
    "\n",
    "If you want to use French text, these methods should work -- but you may have to adjust the nlp_utilities.py file for french stop words, if you want to use them."
   ]
  },
  {
   "cell_type": "markdown",
   "metadata": {},
   "source": [
    "Q1. Calculate the top 5 scoring tf-idf words for 5 documents in your collection of texts.  You can use either the scikit-learn method (do that if your documents are long) or the NLTK method. I suggest you make a smaller folder of documents (only 5) if you use NLTK code.\n"
   ]
  },
  {
   "cell_type": "markdown",
   "metadata": {},
   "source": [
    "\n",
    "Q2: Redo the steps for the k-means clustering on all your files (not just 5) and report your top words and clusters.  (You don't need to do the graphs.)  If you have garbage stop words in your output words, rerun the vectorizer with your stopwords listed to filter them out.\n",
    "\n",
    "Q3: Redo the hierarchical clustering dendrogram tree using your collection (heatmap display is not required). Use \"ward\" as your method for linkage.  Identify for me the 2 items that are most similar in the tree in your notebook.\n",
    "\n",
    "Q5: Quiz on topics from the homework (it won't be too mathy)."
   ]
  },
  {
   "cell_type": "code",
   "execution_count": null,
   "metadata": {
    "collapsed": true
   },
   "outputs": [],
   "source": []
  }
 ],
 "metadata": {
  "anaconda-cloud": {},
  "kernelspec": {
   "display_name": "Python [conda env:pandasnlp]",
   "language": "python",
   "name": "conda-env-pandasnlp-py"
  },
  "language_info": {
   "codemirror_mode": {
    "name": "ipython",
    "version": 3
   },
   "file_extension": ".py",
   "mimetype": "text/x-python",
   "name": "python",
   "nbconvert_exporter": "python",
   "pygments_lexer": "ipython3",
   "version": "3.5.0"
  }
 },
 "nbformat": 4,
 "nbformat_minor": 1
}
