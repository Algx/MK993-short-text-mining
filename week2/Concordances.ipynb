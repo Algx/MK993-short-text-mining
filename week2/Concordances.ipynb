{
 "cells": [
  {
   "cell_type": "markdown",
   "metadata": {},
   "source": [
    "# Concordances, or Keyword In Context Displays"
   ]
  },
  {
   "cell_type": "markdown",
   "metadata": {},
   "source": [
    "There is a utility in NLTK that allows some built-in, easy analysis on tokens from a text. It's the Text object."
   ]
  },
  {
   "cell_type": "markdown",
   "metadata": {},
   "source": [
    "this is text"
   ]
  },
  {
   "cell_type": "code",
   "execution_count": 1,
   "metadata": {
    "collapsed": false
   },
   "outputs": [
    {
     "name": "stderr",
     "output_type": "stream",
     "text": [
      "/Users/cherny/miniconda3/envs/pandasnlp/lib/python3.5/site-packages/matplotlib/font_manager.py:273: UserWarning: Matplotlib is building the font cache using fc-list. This may take a moment.\n",
      "  warnings.warn('Matplotlib is building the font cache using fc-list. This may take a moment.')\n",
      "/Users/cherny/miniconda3/envs/pandasnlp/lib/python3.5/site-packages/matplotlib/font_manager.py:273: UserWarning: Matplotlib is building the font cache using fc-list. This may take a moment.\n",
      "  warnings.warn('Matplotlib is building the font cache using fc-list. This may take a moment.')\n"
     ]
    }
   ],
   "source": [
    "%matplotlib inline\n",
    "import nltk\n",
    "from nltk.text import Text\n",
    "import nlp_utilities as nlp\n",
    "from matplotlib import pyplot"
   ]
  },
  {
   "cell_type": "code",
   "execution_count": 2,
   "metadata": {
    "collapsed": true
   },
   "outputs": [],
   "source": [
    "tokens = nlp.tokenize_text(\"data/books/Austen_Emma.txt\")"
   ]
  },
  {
   "cell_type": "code",
   "execution_count": null,
   "metadata": {
    "collapsed": false
   },
   "outputs": [],
   "source": []
  },
  {
   "cell_type": "code",
   "execution_count": 3,
   "metadata": {
    "collapsed": false
   },
   "outputs": [],
   "source": [
    "# Make a text object using this construction, around your tokens:\n",
    "textobject = Text(tokens)"
   ]
  },
  {
   "cell_type": "code",
   "execution_count": 4,
   "metadata": {
    "collapsed": false
   },
   "outputs": [
    {
     "data": {
      "text/plain": [
       "483"
      ]
     },
     "execution_count": 4,
     "metadata": {},
     "output_type": "execute_result"
    }
   ],
   "source": [
    "# We can also find counts for words from the Text object-- instead of having to do our own Counter.\n",
    "textobject.count(\"said\")"
   ]
  },
  {
   "cell_type": "markdown",
   "metadata": {},
   "source": [
    "**Collocations** are like statistically significant bigrams -- words that appear together a lot in the text.   You can read this:\n",
    "https://en.wikipedia.org/wiki/Collocation"
   ]
  },
  {
   "cell_type": "code",
   "execution_count": 5,
   "metadata": {
    "collapsed": false
   },
   "outputs": [
    {
     "name": "stdout",
     "output_type": "stream",
     "text": [
      "Mr. Knightley; Mrs. Weston; Frank Churchill; Mr. Elton; Miss\n",
      "Woodhouse; Miss Bates; Mrs. Elton; Miss Fairfax; Mr. Weston; Jane\n",
      "Fairfax; every thing; Mr. Woodhouse; young man; every body; great\n",
      "deal; Mrs. Goddard; dare say; Maple Grove; John Knightley; Miss Smith;\n",
      "Miss Taylor; Robert Martin; Colonel Campbell; Box Hill; said Emma\n"
     ]
    }
   ],
   "source": [
    "# Notice that punctuation is stripped out here.\n",
    "textobject.collocations(25)"
   ]
  },
  {
   "cell_type": "markdown",
   "metadata": {},
   "source": [
    "This is a **concordance** display of the context around a matching word.  This is also known as a \"keyword in context\" view. This display is useful for inspecting the common or uncommon words in a text and how they are used.  When you do reporting for a client on document analysis, this display is often useful for context."
   ]
  },
  {
   "cell_type": "code",
   "execution_count": 6,
   "metadata": {
    "collapsed": false
   },
   "outputs": [
    {
     "name": "stdout",
     "output_type": "stream",
     "text": [
      "Displaying 25 of 233 matches:\n",
      "s together , as she does about Jane Fairfax . One is sick of the very name of J\n",
      "ne is sick of the very name of Jane Fairfax . Every letter from her is read for\n",
      "hing else for a month . I wish Jane Fairfax very well ; but she tires me to dea\n",
      "Isabella 's kind inquiry after Jane Fairfax ; and Jane Fairfax , though no grea\n",
      "quiry after Jane Fairfax ; and Jane Fairfax , though no great favourite with he\n",
      "sing . `` That sweet , amiable Jane Fairfax ! '' said Mrs. John Knightley. -- `\n",
      "t happy to hear it -- but only Jane Fairfax one knows to be so very accomplishe\n",
      "uite safe from any letter from Jane Fairfax . The house belonged to people in b\n",
      " had not been prepared to have Jane Fairfax succeed Mr. Elton ; but he was actu\n",
      "rest -- `` Have you heard from Miss Fairfax so lately ? I am extremely happy . \n",
      " civil about the excellence of Miss Fairfax 's handwriting . `` You are extreme\n",
      "de , of making her escape from Jane Fairfax 's letter , and had almost resolved\n",
      " now . '' `` Are you expecting Miss Fairfax here soon ? '' `` Oh yes ; next wee\n",
      "nce of my hearing any thing of Miss Fairfax to-day . '' `` So obliging of you !\n",
      "g Emma 's brain with regard to Jane Fairfax , this charming Mr. Dixon , and the\n",
      "st feel it very fortunate that Miss Fairfax should be allowed to come to you at\n",
      "r own wish of seeing Ireland , Miss Fairfax prefers devoting the time to you an\n",
      "ny means , to be compared with Miss Fairfax . '' `` Oh ! no . You are very obli\n",
      "t heard the whole substance of Jane Fairfax 's letter , she had been able to es\n",
      "the letter itself . CHAPTER II Jane Fairfax was an orphan , the only child of M\n",
      " daughter . The marriage of Lieut . Fairfax of the _______ regiment of infantry\n",
      "bell , who had very highly regarded Fairfax , as an excellent officer and most \n",
      " passed away from the death of poor Fairfax , before his own return to England \n",
      "bsistence hereafter . Such was Jane Fairfax 's history . She had fallen into go\n",
      "ly and happily settled , while Jane Fairfax had yet her bread to earn . This ev\n"
     ]
    }
   ],
   "source": [
    "textobject.concordance(\"Fairfax\")"
   ]
  },
  {
   "cell_type": "code",
   "execution_count": 7,
   "metadata": {
    "collapsed": false
   },
   "outputs": [
    {
     "name": "stdout",
     "output_type": "stream",
     "text": [
      "Displaying 25 of 56 matches:\n",
      "e her ; she would detach her from her bad acquaintance , and introduce her into\n",
      "t is that their manners should not be bad ; the more glaring and disgusting any\n",
      " Will he , indeed ? That will be very bad . '' `` How much his business engross\n",
      " and Harriet Smith , but I think it a bad thing . '' `` A bad thing ! Do you re\n",
      " but I think it a bad thing . '' `` A bad thing ! Do you really think it a bad \n",
      " bad thing ! Do you really think it a bad thing ? -- why so ? '' `` I think the\n",
      "man she cared for . It would not be a bad thing for her to be very much in love\n",
      "a short letter too . '' Emma felt the bad taste of her friend , but let it pass\n",
      " as being beneath his deserts , and a bad connexion for him . I felt that , as \n",
      " much against him , and his manner so bad , that if she ever were disposed to f\n",
      "fly indeed ! -- and my memory is very bad . However , it was an exceeding good \n",
      "the whole . But poor Mrs. Bates had a bad cold about a month ago . '' `` How so\n",
      "here ! so far off ! -- and the air so bad ! '' `` No , indeed -- _we_ are not a\n",
      " , indeed -- _we_ are not at all in a bad air . Our part of London is very supe\n",
      "lls . She was very feverish and had a bad sore throat : Mrs. Goddard was full o\n",
      "ddard that Harriet was liable to very bad sore-throats , and had often alarmed \n",
      " . A young _woman_ , if she fall into bad hands , may be teazed , and kept at a\n",
      "h your sweet temper , to understand a bad one , or to lay down rules for it : y\n",
      "sufficiently awake to the terror of a bad sore throat ; and Emma was quite in c\n",
      "if he were more afraid of its being a bad sore throat on her account , than on \n",
      "; and if we do come to any thing very bad , I can get out and walk . I am not a\n",
      "alking home , I dare say . It will be bad enough for the horses . '' Isabella t\n",
      "He was afraid they should have a very bad drive . He was afraid poor Isabella w\n",
      "utely fixed , in the same place , was bad for each , for all three . Not one of\n",
      " that of course . '' `` Jane caught a bad cold , poor thing ! so long ago as th\n"
     ]
    }
   ],
   "source": [
    "textobject.concordance(\"bad\")"
   ]
  },
  {
   "cell_type": "markdown",
   "metadata": {},
   "source": [
    "The search for similar contexts shows you the constructions that both (or all) words appear in. The _ is the placeholder for the words in your list."
   ]
  },
  {
   "cell_type": "code",
   "execution_count": 8,
   "metadata": {
    "collapsed": false
   },
   "outputs": [
    {
     "name": "stdout",
     "output_type": "stream",
     "text": [
      "and_was --_took said_; give_such ._and with_, at_. ''_was said_.\n",
      "dear_was to_, said_, ._will ''_did cried_, replied_; but_, ``_! own_,\n",
      "and_.\n"
     ]
    }
   ],
   "source": [
    "# An interesting search -- to find where a list of words occurs in similar context.\n",
    "textobject.common_contexts([\"Emma\", \"Jane\"], 20)"
   ]
  },
  {
   "cell_type": "code",
   "execution_count": 9,
   "metadata": {
    "collapsed": false
   },
   "outputs": [
    {
     "name": "stdout",
     "output_type": "stream",
     "text": [
      "to_,\n"
     ]
    }
   ],
   "source": [
    "# Apparently the only similar context these words have is the infinitive verb context: to dress, to dance.\n",
    "textobject.common_contexts([\"dress\", \"dance\"])"
   ]
  },
  {
   "cell_type": "code",
   "execution_count": 10,
   "metadata": {
    "collapsed": false
   },
   "outputs": [
    {
     "name": "stdout",
     "output_type": "stream",
     "text": [
      "of_. ._was ._and ._, ._'s ,_; ,_-- ``_has ._must ``_! ,_, ._is ,_.\n"
     ]
    }
   ],
   "source": [
    "textobject.common_contexts([\"Emma\", \"Knightley\"])"
   ]
  },
  {
   "cell_type": "code",
   "execution_count": 11,
   "metadata": {
    "collapsed": false
   },
   "outputs": [
    {
     "name": "stdout",
     "output_type": "stream",
     "text": [
      "a_thing very_. so_, into_hands very_thing a_one very_-- be_enough so_!\n",
      "so_as\n"
     ]
    }
   ],
   "source": [
    "textobject.common_contexts([\"bad\", \"good\"])"
   ]
  },
  {
   "cell_type": "markdown",
   "metadata": {},
   "source": [
    "The dispersion plot shows where words occur in the document - each line is a location (left to right).  This helps to show whether there are some sections of the document with more of the word of interest, or whether it appears to be evenly distributed."
   ]
  },
  {
   "cell_type": "code",
   "execution_count": 13,
   "metadata": {
    "collapsed": false
   },
   "outputs": [
    {
     "data": {
      "image/png": "[encoded data removed]",
      "text/plain": [
       "<matplotlib.figure.Figure at 0x106715978>"
      ]
     },
     "metadata": {},
     "output_type": "display_data"
    }
   ],
   "source": [
    "textobject.dispersion_plot([\"good\", \"bad\", \"dress\"])"
   ]
  },
  {
   "cell_type": "code",
   "execution_count": null,
   "metadata": {
    "collapsed": true
   },
   "outputs": [],
   "source": []
  }
 ],
 "metadata": {
  "anaconda-cloud": {},
  "kernelspec": {
   "display_name": "Python [conda env:pandasnlp]",
   "language": "python",
   "name": "conda-env-pandasnlp-py"
  },
  "language_info": {
   "codemirror_mode": {
    "name": "ipython",
    "version": 3
   },
   "file_extension": ".py",
   "mimetype": "text/x-python",
   "name": "python",
   "nbconvert_exporter": "python",
   "pygments_lexer": "ipython3",
   "version": "3.5.2"
  }
 },
 "nbformat": 4,
 "nbformat_minor": 1
}
