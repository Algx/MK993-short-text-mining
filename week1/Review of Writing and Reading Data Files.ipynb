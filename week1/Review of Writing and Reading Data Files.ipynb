{
 "cells": [
  {
   "cell_type": "markdown",
   "metadata": {},
   "source": [
    "# Review: Writing and Reading Files in Python\n",
    "\n",
    "There are lots of ways to handle reading and writing files in Python, especially for CSV data.\n",
    "\n",
    "*Note*: In Python3, if you have an error with characters it can't read, you can get around it by saying\n",
    "\n",
    "`errors=\"ignore\"` in your file() function.\n",
    "\n",
    "Remember pandas will do it for you with the .read_csv and .write_csv functions, too."
   ]
  },
  {
   "cell_type": "code",
   "execution_count": 1,
   "metadata": {
    "collapsed": false
   },
   "outputs": [],
   "source": [
    "csvdata = [[2,4,5,12,\"fred\"],[34,43,21,43,\"annie\"], [324,3,43,4,\"jean\"]]"
   ]
  },
  {
   "cell_type": "code",
   "execution_count": 3,
   "metadata": {
    "collapsed": false
   },
   "outputs": [],
   "source": [
    "# Remember how join works:"
   ]
  },
  {
   "cell_type": "code",
   "execution_count": 4,
   "metadata": {
    "collapsed": false
   },
   "outputs": [
    {
     "data": {
      "text/plain": [
       "'fred,annie,howard'"
      ]
     },
     "execution_count": 4,
     "metadata": {},
     "output_type": "execute_result"
    }
   ],
   "source": [
    "','.join([\"fred\", \"annie\", \"howard\"])  # creates a string separated by ,"
   ]
  },
  {
   "cell_type": "code",
   "execution_count": 5,
   "metadata": {
    "collapsed": false
   },
   "outputs": [
    {
     "ename": "TypeError",
     "evalue": "sequence item 0: expected str instance, int found",
     "output_type": "error",
     "traceback": [
      "\u001b[0;31m---------------------------------------------------------------------------\u001b[0m",
      "\u001b[0;31mTypeError\u001b[0m                                 Traceback (most recent call last)",
      "\u001b[0;32m<ipython-input-5-a49489e2688a>\u001b[0m in \u001b[0;36m<module>\u001b[0;34m()\u001b[0m\n\u001b[1;32m      1\u001b[0m \u001b[0;31m# won't work because of the numbers in it!\u001b[0m\u001b[0;34m\u001b[0m\u001b[0;34m\u001b[0m\u001b[0m\n\u001b[0;32m----> 2\u001b[0;31m \u001b[0;34m','\u001b[0m\u001b[0;34m.\u001b[0m\u001b[0mjoin\u001b[0m\u001b[0;34m(\u001b[0m\u001b[0mcsvdata\u001b[0m\u001b[0;34m[\u001b[0m\u001b[0;36m1\u001b[0m\u001b[0;34m]\u001b[0m\u001b[0;34m)\u001b[0m\u001b[0;34m\u001b[0m\u001b[0m\n\u001b[0m",
      "\u001b[0;31mTypeError\u001b[0m: sequence item 0: expected str instance, int found"
     ]
    }
   ],
   "source": [
    "# won't work because of the numbers in it!\n",
    "','.join(csvdata[1])"
   ]
  },
  {
   "cell_type": "code",
   "execution_count": 6,
   "metadata": {
    "collapsed": false
   },
   "outputs": [
    {
     "data": {
      "text/plain": [
       "'34,43,21,43,annie'"
      ]
     },
     "execution_count": 6,
     "metadata": {},
     "output_type": "execute_result"
    }
   ],
   "source": [
    "row = csvdata[1]\n",
    "','.join([ str(row[0]), str(row[1]), str(row[2]), str(row[3]), str(row[4]) ])"
   ]
  },
  {
   "cell_type": "code",
   "execution_count": 7,
   "metadata": {
    "collapsed": false
   },
   "outputs": [
    {
     "data": {
      "text/plain": [
       "['34', '43', '21', '43', 'annie']"
      ]
     },
     "execution_count": 7,
     "metadata": {},
     "output_type": "execute_result"
    }
   ],
   "source": [
    "#or you can make it all strings first:\n",
    "\n",
    "row = [str(item) for item in row]\n",
    "row"
   ]
  },
  {
   "cell_type": "markdown",
   "metadata": {},
   "source": [
    "## To Read a Plain Text File"
   ]
  },
  {
   "cell_type": "markdown",
   "metadata": {},
   "source": [
    "This won't work on Windows but is useful on Mac to see you files in a folder:"
   ]
  },
  {
   "cell_type": "code",
   "execution_count": 2,
   "metadata": {
    "collapsed": false
   },
   "outputs": [
    {
     "name": "stdout",
     "output_type": "stream",
     "text": [
      "\u001b[31mAusten_Emma.txt\u001b[m\u001b[m*       \u001b[31mMelville_MobyDick.txt\u001b[m\u001b[m*\r\n",
      "\u001b[31mAusten_Pride.txt\u001b[m\u001b[m*      \u001b[31mlovecraft.txt\u001b[m\u001b[m*\r\n"
     ]
    }
   ],
   "source": [
    "ls data/books"
   ]
  },
  {
   "cell_type": "code",
   "execution_count": 5,
   "metadata": {
    "collapsed": true
   },
   "outputs": [],
   "source": [
    "with open(\"data/books/lovecraft.txt\", \"r\", errors=\"ignore\") as handle:\n",
    "    text = handle.read()"
   ]
  },
  {
   "cell_type": "code",
   "execution_count": 6,
   "metadata": {
    "collapsed": false
   },
   "outputs": [
    {
     "data": {
      "text/plain": [
       "'\\n                        The\\n                             Shunned House\\n\\n                        By H. P. LOVECRAFT\\n\\n\\n\\nFrom even the greatest of horrors irony is seldom absent. Sometimes it\\nenters directly into the composition of the events, while sometimes it\\nrelates only to their fortuitous position among persons and places. The\\nlatter sort is splendidly exemplified by a case in the ancient city of\\nProvidence, where in the late forties Edgar Allan Poe used to sojourn\\noften during his unsuccessful wooing of the gifted poetess, Mrs.\\nWhitman. Poe generally stopped at the Mansion House in Benefit\\nStreet--the renamed Golden Ball Inn whose roof has sheltered Washington,\\nJefferson, and Lafayette--and his favorite walk led northward along the\\nsame street to Mrs. Whitman\\'s home and the neighboring hillside\\nchurchyard of St. John\\'s, whose hidden expanse of Eighteenth Century\\ngravestones had for him a peculiar fascination.\\n\\nNow the irony is this. In this walk, so many times repeated, the world\\'s\\ngreatest master of the terrible and the bizarre was obliged to pass a\\nparticular house on the eastern side of the street; a dingy, antiquated\\nstructure perched on the abruptly rising side hill, with a great unkempt\\nyard dating from a time when the region was partly open country. It does\\nnot appear that he ever wrote or spoke of it, nor is there any evidence\\nthat he even noticed it. And yet that house, to the two persons in\\npossession of certain information, equals or outranks in horror the\\nwildest fantasy of the genius who so often passed it unknowingly, and\\nstands starkly leering as a symbol of all that is unutterably hideous.\\n\\nThe house was--and for that matter still is--of a kind to attract the\\nattention of the curious. Originally a farm or semi-farm building, it\\nfollowed the average New England colonial lines of the middle Eighteenth\\nCentury--the prosperous peaked-roof sort, with two stories and\\ndormerless attic, and with the Georgian doorway and interior panelling\\ndictated by the progress of taste at that time. It faced south, with one\\ngable end buried to the lower windows in the eastward rising hill, and\\nthe other exposed to the foundations toward the street. Its\\nconstruction, over a century and a half ago, had followed the grading\\nand straightening of the road in that especial vicinity; for Benefit\\nStreet--at first called Back Street--was laid out as a lane winding\\namongst the graveyards of the first settlers, and straightened only when\\nthe removal of the bodies to the North Burial Ground made it decently\\npossible to cut through the old family plots.\\n\\nAt the start, the western wall had lain some twenty feet up a\\nprecipitous lawn from the roadway; but a widening of the street at about\\nthe time of the Revolution sheared off most of the intervening space,\\nexposing the foundations so that a brick basement wall had to be made,\\ngiving the deep cellar a street frontage with door and one window above\\nground, close to the new line of public travel. When the sidewalk was\\nlaid out a century ago the last of the intervening space was removed;\\nand Poe in his walks must have seen only a sheer ascent of dull gray\\nbrick flush with the sidewalk and surmounted at a height of ten feet by\\nthe antique shingled bulk of the house proper.\\n\\n[Illustration: \"That awful door in Benefit Street which I had left\\najar.\"]\\n\\nThe farm-like ground extended back very deeply up the hill, almost to\\nWheaton Street. The space south of the house, abutting on Benefit\\nStreet, was of course greatly above the existing sidewalk level, forming\\na terrace bounded by a high bank wall of damp, mossy stone pierced by a\\nsteep flight of narrow steps which led inward between canyon-like\\nsurfaces to the upper region of mangy lawn, rheumy brick walks, and\\nneglected gardens whose dismantled cement urns, rusted kettles fallen\\nfrom tripods of knotty sticks, and similar paraphernalia set off the\\nweather-beaten front door with its broken fanlight, rotting Ionic\\npilasters, and wormy triangular pediment.\\n\\n       *       *       *       *       *\\n\\nWhat I heard in my youth about the shunned house was merely that people\\ndied there in alarmingly great numbers. That, I was told, was why the\\noriginal owners had moved out some twenty years after building the\\nplace. It was plainly unhealthy, perhaps because of the dampness and\\nfungous growths in the cellar, the general sickish smell, the drafts of\\nthe hallways, or the quality of the well and pump water. These things\\nwere bad enough, and these were all that gained belief among the persons\\nwhom I knew. Only the notebooks of my antiquarian uncle, Doctor Elihu\\nWhipple, revealed to me at length the darker, vaguer surmises which\\nformed an undercurrent of folklore among old-time servants and humble\\nfolk; surmises which never travelled far, and which were largely\\nforgotten when Providence grew to be a metropolis with a shifting modern\\npopulation.\\n\\nThe general fact is, that the house was never regarded by the solid part\\nof the community as in any real sense \"haunted.\" There were no\\nwidespread tales of rattling chains, cold currents of air, extinguished\\nlights, or faces at the window. Extremists sometimes said the house was\\n\"unlucky,\" but that is as far as even they went. What was really beyond\\ndispute is that a frightful proportion of persons died there; or more\\naccurately, _had_ died there, since after some peculiar happenings over\\nsixty years ago the building had become deserted through the sheer\\nimpossibility of renting it. These persons were not all cut off suddenly\\nby any one cause; rather did it seem that their vitality was insidiously\\nsapped, so that each one died the sooner from whatever tendency to\\nweakness he may have naturally had. And those who did not die displayed\\nin varying degree a type of anemia or consumption, and sometimes a\\ndecline of the mental faculties, which spoke ill for the salubriousness\\nof the building. Neighboring houses, it must be added, seemed entirely\\nfree from the noxious quality.\\n\\nThis much I knew before my insistent questioning led my uncle to show me\\nthe notes which finally embarked us both on our hideous investigation.\\nIn my childhood the shunned house was vacant, with barren, gnarled and\\nterrible old trees, long, queerly pale grass and nightmarishly misshapen\\nweeds in the high terraced yard where birds never lingered. We boys used\\nto overrun the place, and I can still recall my youthful terror not only\\nat the morbid strangeness of this sinister vegetation, but at the\\neldritch atmosphere and odor of the dilapidated house, whose unlocked\\nfront door was often entered in quest of shudders. The small-paned\\nwindows were largely broken, and a nameless air of desolation hung round\\nthe precarious panelling, shaky interior shutters, peeling wall-paper,\\nfalling plaster, rickety staircases, and such fragments of battered\\nfurniture as still remained. The dust and cobwebs added their touch of\\nthe fearful; and brave indeed was the boy who would voluntarily ascend\\nthe ladder to the attic, a vast raftered length lighted only by small\\nblinking windows in the gable ends, and filled with a massed wreckage\\nof chests, chairs, and spinning-wheels which infinite years of deposit\\nhad shrouded and festooned into monstrous and hellish shapes.\\n\\nBut after all, the attic was not the most terrible part of the house. It\\nwas the dank, humid cellar which somehow exerted the strongest repulsion\\non us, even though it was wholly above ground on the street side, with\\nonly a thin door and window-pierced brick wall to separate it from the\\nbusy sidewalk. We scarcely knew whether to haunt it in spectral\\nfascination, or to shun it for the sake of our souls and our sanity. For\\none thing, the bad odor of the house was strongest there; and for\\nanother thing, we did not like the white fungous growths which\\noccasionally sprang up in rainy summer weather from the hard earth\\nfloor. Those fungi, grotesquely like the vegetation in the yard outside,\\nwere truly horrible in their outlines; detestable parodies of toadstools\\nand Indian-pipes, whose like we had never seen in any other situation.\\nThey rotted quickly, and at one stage became slightly phosphorescent; so\\nthat nocturnal passers-by sometimes spoke of witch-fires glowing behind\\nthe broken panes of the fetor-spreading windows.\\n\\nWe never--even in our wildest Halloween moods--visited this cellar\\nby night, but in some of our daytime visits could detect the\\nphosphorescence, especially when the day was dark and wet. There was\\nalso a subtler thing we often thought we detected--a very strange thing\\nwhich was, however, merely suggestive at most. I refer to a sort of\\ncloudy whitish pattern on the dirt floor--a vague, shifting deposit of\\nmold or niter which we sometimes thought we could trace amidst the\\nsparse fungous growths near the huge fireplace of the basement kitchen.\\nOnce in a while it struck us that this patch bore an uncanny resemblance\\nto a doubled-up human figure, though generally no such kinship existed,\\nand often there was no whitish deposit whatever.\\n\\nOn a certain rainy afternoon when this illusion seemed phenomenally\\nstrong, and when, in addition, I had fancied I glimpsed a kind of thin,\\nyellowish, shimmering exhalation rising from the nitrous pattern toward\\nthe yawning fireplace, I spoke to my uncle about the matter. He smiled\\nat this odd conceit, but it seemed that his smile was tinged with\\nreminiscence. Later I heard that a similar notion entered into some of\\nthe wild ancient tales of the common folk--a notion likewise alluding to\\nghoulish, wolfish shapes taken by smoke from the great chimney, and\\nqueer contours assumed by certain of the sinuous tree-roots that thrust\\ntheir way into the cellar through the loose foundation-stones.\\n\\n\\n2\\n\\nNot till my adult years did my uncle set before me the notes and data\\nwhich he had collected concerning the shunned house. Doctor Whipple was\\na sane, conservative physician of the old school, and for all his\\ninterest in the place was not eager to encourage young thoughts toward\\nthe abnormal. His own view, postulating simply a building and location\\nof markedly unsanitary qualities, had nothing to do with abnormality;\\nbut he realized that the very picturesqueness which aroused his own\\ninterest would in a boy\\'s fanciful mind take on all manner of gruesome\\nimaginative associations.\\n\\nThe doctor was a bachelor; a white-haired, clean-shaven, old-fashioned\\ngentleman, and a local historian of note, who had often broken a lance\\nwith such controversial guardians of tradition as Sidney S. Rider and\\nThomas W. Bicknell. He lived with one man-servant in a Georgian\\nhomestead with knocker and iron-railed steps, balanced eerily on the\\nsteep ascent of North Court Street beside the ancient brick court and\\ncolony house where his grandfather--a cousin of that celebrated\\nprivateersman, Captain Whipple, who burnt His Majesty\\'s armed schooner\\n_Gaspee_ in 1772--had voted in the legislature on May 4, 1776, for the\\nindependence of the Rhode Island Colony. Around him in the damp,\\nlow-ceiled library with the musty white panelling, heavy carved\\novermantel and small-paned, vine-shaded windows, were the relics and\\nrecords of his ancient family, among which were many dubious allusions\\nto the shunned house in Benefit Street. That pest spot lies not far\\ndistant--for Benefit runs ledgewise just above the court house along the\\nprecipitous hill up which the first settlement climbed.\\n\\nWhen, in the end, my insistent pestering and maturing years evoked from\\nmy uncle the hoarded lore I sought, there lay before me a strange enough\\nchronicle. Long-winded, statistical, and drearily genealogical as some\\nof the matter was, there ran through it a continuous thread of brooding,\\ntenacious horror and preternatural malevolence which impressed me even\\nmore than it had impressed the good doctor. Separate events fitted\\ntogether uncannily, and seemingly irrelevant details held mines of\\nhideous possibilities. A new and burning curiosity grew in me, compared\\nto which my boyish curiosity was feeble and inchoate.\\n\\nThe first revelation led to an exhaustive research, and finally to that\\nshuddering quest which proved so disastrous to myself and mine. For at\\nthe last my uncle insisted on joining the search I had commenced, and\\nafter a certain night in that house he did not come away with me. I am\\nlonely without that gentle soul whose long years were filled only with\\nhonor, virtue, good taste, benevolence, and learning. I have reared a\\nmarble urn to his memory in St. John\\'s churchyard--the place that Poe\\nloved--the hidden grove of giant willows on the hill, where tombs and\\nheadstones huddle quietly between the hoary bulk of the church and the\\nhouses and bank walls of Benefit Street.\\n\\nThe history of the house, opening amidst a maze of dates, revealed no\\ntrace of the sinister either about its construction or about the\\nprosperous and honorable family who built it. Yet from the first a taint\\nof calamity, soon increased to boding significance, was apparent. My\\nuncle\\'s carefully compiled record began with the building of the\\nstructure in 1763, and followed the theme with an unusual amount of\\ndetail. The shunned house, it seems, was first inhabited by William\\nHarris and his wife Rhoby Dexter, with their children, Elkanah, born in\\n1755, Abigail, born in 1757, William, Jr., born in 1759, and Ruth, born\\nin 1761. Harris was a substantial merchant and seaman in the West India\\ntrade, connected with the firm of Obadiah Brown and his nephews. After\\nBrown\\'s death in 1761, the new firm of Nicholas Brown & Company made him\\nmaster of the brig _Prudence_, Providence-built, of 120 tons, thus\\nenabling him to erect the new homestead he had desired ever since his\\nmarriage.\\n\\nThe site he had chosen--a recently straightened part of the new and\\nfashionable Back Street, which ran along the side of the hill above\\ncrowded Cheapside--was all that could be wished, and the building did\\njustice to the location. It was the best that moderate means could\\nafford, and Harris hastened to move in before the birth of a fifth child\\nwhich the family expected. That child, a boy, came in December; but was\\nstill-born. Nor was any child to be born alive in that house for a\\ncentury and a half.\\n\\nThe next April, sickness occurred among the children, and Abigail and\\nRuth died before the month was over. Doctor Job Ives diagnosed the\\ntrouble as some infantile fever, though others declared it was more of a\\nmere wasting-away or decline. It seemed, in any event, to be contagious;\\nfor Hannah Bowen, one of the two servants, died of it in the following\\nJune. Eli Lideason, the other servant, constantly complained of\\nweakness; and would have returned to his father\\'s farm in Rehoboth but\\nfor a sudden attachment for Mehitabel Pierce, who was hired to succeed\\nHannah. He died the next year--a sad year indeed, since it marked the\\ndeath of William Harris himself, enfeebled as he was by the climate of\\nMartinique, where his occupation had kept him for considerable periods\\nduring the preceding decade.\\n\\nThe widowed Rhoby Harris never recovered from the shock of her husband\\'s\\ndeath, and the passing of her first-born Elkanah two years later was the\\nfinal blow to her reason. In 1768 she fell victim to a mild form of\\ninsanity, and was thereafter confined to the upper part of the house;\\nher elder maiden sister, Mercy Dexter, having moved in to take charge of\\nthe family. Mercy was a plain, raw-boned woman of great strength; but\\nher health visibly declined from the time of her advent. She was greatly\\ndevoted to her unfortunate sister, and had an especial affection for her\\nonly surviving nephew William, who from a sturdy infant had become a\\nsickly, spindling lad. In this year the servant Mehitabel died, and the\\nother servant, Preserved Smith, left without coherent explanation--or at\\nleast, with only some wild tales and a complaint that he disliked the\\nsmell of the place. For a time Mercy could secure no more help, since\\nthe seven deaths and case of madness, all occurring within five years\\'\\nspace, had begun to set in motion the body of fireside rumor which later\\nbecame so bizarre. Ultimately, however, she obtained new servants from\\nout of town; Ann White, a morose woman from that part of North Kingstown\\nnow set off as the township of Exeter, and a capable Boston man named\\nZenas Low.\\n\\n       *       *       *       *       *\\n\\nIt was Ann White who first gave definite shape to the sinister idle\\ntalk. Mercy should have known better than to hire anyone from the\\nNooseneck Hill country, for that remote bit of backwoods was then, as\\nnow, a seat of the most uncomfortable superstitions. As lately as 1892\\nan Exeter community exhumed a dead body and ceremoniously burnt its\\nheart in order to prevent certain alleged visitations injurious to the\\npublic health and peace, and one may imagine the point of view of the\\nsame section in 1768. Ann\\'s tongue was perniciously active, and within a\\nfew months Mercy discharged her, filling her place with a faithful and\\namiable Amazon from Newport, Maria Robbins.\\n\\nMeanwhile poor Rhoby Harris, in her madness, gave voice to dreams and\\nimaginings of the most hideous sort. At times her screams became\\ninsupportable, and for long periods she would utter shrieking horrors\\nwhich necessitated her son\\'s temporary residence with his cousin, Peleg\\nHarris, in Presbyterian Lane near the new college building. The boy\\nwould seem to improve after these visits, and had Mercy been as wise as\\nshe was well-meaning, she would have let him live permanently with\\nPeleg. Just what Mrs. Harris cried out in her fits of violence,\\ntradition hesitates to say; or rather, presents such extravagant\\naccounts that they nullify themselves through sheer absurdity. Certainly\\nit sounds absurd to hear that a woman educated only in the rudiments of\\nFrench often shouted for hours in a coarse and idiomatic form of that\\nlanguage, or that the same person, alone and guarded, complained wildly\\nof a staring thing which bit and chewed at her. In 1772 the servant\\nZenas died, and when Mrs. Harris heard of it she laughed with a shocking\\ndelight utterly foreign to her. The next year she herself died, and was\\nlaid to rest in the North Burial Ground beside her husband.\\n\\nUpon the outbreak of trouble with Great Britain in 1775, William Harris,\\ndespite his scant sixteen years and feeble constitution, managed to\\nenlist in the Army of Observation under General Greene; and from that\\ntime on enjoyed a steady rise in health and prestige. In 1780, as a\\ncaptain in the Rhode Island forces in New Jersey under Colonel Angell,\\nhe met and married Phebe Hetfield of Elizabethtown, whom he brought to\\nProvidence upon his honorable discharge in the following year.\\n\\nThe young soldier\\'s return was not a thing of unmitigated happiness. The\\nhouse, it is true, was still in good condition; and the street had been\\nwidened and changed in name from Back Street to Benefit Street. But\\nMercy Dexter\\'s once robust frame had undergone a sad and curious decay,\\nso that she was now a stooped and pathetic figure with hollow voice and\\ndisconcerting pallor--qualities shared to a singular degree by the one\\nremaining servant Maria. In the autumn of 1782 Phebe Harris gave birth\\nto a still-born daughter, and on the fifteenth of the next May Mercy\\nDexter took leave of a useful, austere, and virtuous life.\\n\\nWilliam Harris, at last thoroughly convinced of the radically\\nunhealthful nature of his abode, now took steps toward quitting it and\\nclosing it for ever. Securing temporary quarters for himself and his\\nwife at the newly opened Golden Ball Inn, he arranged for the building\\nof a new and finer house in Westminster Street, in the growing part of\\nthe town across the Great Bridge. There, in 1785, his son Dutee was\\nborn; and there the family dwelt till the encroachments of commerce\\ndrove them back across the river and over the hill to Angell Street, in\\nthe newer East Side residence district, where the late Archer Harris\\nbuilt his sumptuous but hideous French-roofed mansion in 1876. William\\nand Phebe both succumbed to the yellow fever epidemic of 1797, but Dutee\\nwas brought up by his cousin Rathbone Harris, Peleg\\'s son.\\n\\nRathbone was a practical man, and rented the Benefit Street house\\ndespite William\\'s wish to keep it vacant. He considered it an obligation\\nto his ward to make the most of all the boy\\'s property, nor did he\\nconcern himself with the deaths and illnesses which caused so many\\nchanges of tenants, or the steadily growing aversion with which the\\nhouse was generally regarded. It is likely that he felt only vexation\\nwhen, in 1804, the town council ordered him to fumigate the place with\\nsulfur, tar, and gum camphor on account of the much-discussed deaths of\\nfour persons, presumably caused by the then diminishing fever epidemic.\\nThey said the place had a febrile smell.\\n\\nDutee himself thought little of the house, for he grew up to be a\\nprivateersman, and served with distinction on the _Vigilant_ under\\nCaptain Cahoone in the War of 1812. He returned unharmed, married in\\n1814, and became a father on that memorable night of September 23, 1815,\\nwhen a great gale drove the waters of the bay over half the town, and\\nfloated a tall sloop well up Westminster Street so that its masts almost\\ntapped the Harris windows in symbolic affirmation that the new boy,\\nWelcome, was a seaman\\'s son.\\n\\nWelcome did not survive his father, but lived to perish gloriously at\\nFredericksburg in 1862. Neither he nor his son Archer knew of the\\nshunned house as other than a nuisance almost impossible to\\nrent--perhaps on account of the mustiness and sickly odor of unkempt old\\nage. Indeed, it never was rented after a series of deaths culminating in\\n1861, which the excitement of the war tended to throw into obscurity.\\nCarrington Harris, last of the male line, knew it only as a deserted and\\nsomewhat picturesque center of legend until I told him my experience. He\\nhad meant to tear it down and build an apartment house on the site, but\\nafter my account decided to let it stand, install plumbing, and rent it.\\nNor has he yet had any difficulty in obtaining tenants. The horror has\\ngone.\\n\\n\\n3\\n\\nIt may well be imagined how powerfully I was affected by the annals of\\nthe Harrises. In this continuous record there seemed to me to brood a\\npersistent evil beyond anything in nature as I had known it; an evil\\nclearly connected with the house and not with the family. This\\nimpression was confirmed by my uncle\\'s less systematic array of\\nmiscellaneous data--legends transcribed from servant gossip, cuttings\\nfrom the papers, copies of death certificates by fellow-physicians, and\\nthe like. All of this material I cannot hope to give, for my uncle was a\\ntireless antiquarian and very deeply interested in the shunned house;\\nbut I may refer to several dominant points which earn notice by their\\nrecurrence through many reports from diverse sources. For example, the\\nservant gossip was practically unanimous in attributing to the fungous\\nand malodorous _cellar_ of the house a vast supremacy in evil influence.\\nThere had been servants--Ann White especially--who would not use the\\ncellar kitchen, and at least three well-defined legends bore upon the\\nqueer quasi-human or diabolic outlines assumed by tree-roots and patches\\nof mold in that region. These latter narratives interested me\\nprofoundly, on account of what I had seen in my boyhood, but I felt that\\nmost of the significance had in each case been largely obscured by\\nadditions from the common stock of local ghost lore.\\n\\nAnn White, with her Exeter superstition, had promulgated the most\\nextravagant and at the same time most consistent tale; alleging that\\nthere must lie buried beneath the house one of those vampires--the dead\\nwho retain their bodily form and live on the blood or breath of the\\nliving--whose hideous legions send their preying shapes or spirits\\nabroad by night. To destroy a vampire one must, the grandmothers say,\\nexhume it and burn its heart, or at least drive a stake through that\\norgan; and Ann\\'s dogged insistence on a search under the cellar had been\\nprominent in bringing about her discharge.\\n\\nHer tales, however, commanded a wide audience, and were the more readily\\naccepted because the house indeed stood on land once used for burial\\npurposes. To me their interest depended less on this circumstance than\\non the peculiarly appropriate way in which they dovetailed with certain\\nother things--the complaint of the departing servant Preserved Smith,\\nwho had preceded Ann and never heard of her, that something \"sucked his\\nbreath\" at night; the death-certificates of the fever victims of 1804,\\nissued by Doctor Chad Hopkins, and showing the four deceased persons all\\nunaccountably lacking in blood; and the obscure passages of poor Rhoby\\nHarris\\'s ravings, where she complained of the sharp teeth of a\\nglassy-eyed, half-visible presence.\\n\\nFree from unwarranted superstition though I am, these things produced in\\nme an odd sensation, which was intensified by a pair of widely separated\\nnewspaper cuttings relating to deaths in the shunned house--one from the\\n_Providence Gazette and Country-Journal_ of April 12, 1815, and the\\nother from the _Daily Transcript and Chronicle_ of October 27,\\n1845--each of which detailed an appallingly grisly circumstance whose\\nduplication was remarkable. It seems that in both instances the dying\\nperson, in 1815 a gentle old lady named Stafford and in 1845 a\\nschoolteacher of middle age named Eleazar Durfee, became transfigured in\\na horrible way, glaring glassily and attempting to bite the throat of\\nthe attending physician. Even more puzzling, though, was the final case\\nwhich put an end to the renting of the house--a series of anemia deaths\\npreceded by progressive madnesses wherein the patient would craftily\\nattempt the lives of his relatives by incisions in the neck or wrist.\\n\\nThis was in 1860 and 1861, when my uncle had just begun his medical\\npractise; and before leaving for the front he heard much of it from his\\nelder professional colleagues. The really inexplicable thing was the way\\nin which the victims--ignorant people, for the ill-smelling and widely\\nshunned house could now be rented to no others--would babble\\nmaledictions in French, a language they could not possibly have studied\\nto any extent. It made one think of poor Rhoby Harris nearly a century\\nbefore, and so moved my uncle that he commenced collecting historical\\ndata on the house after listening, some time subsequent to his return\\nfrom the war, to the first-hand account of Doctors Chase and Whitmarsh.\\nIndeed, I could see that my uncle had thought deeply on the subject, and\\nthat he was glad of my own interest--an open-minded and sympathetic\\ninterest which enabled him to discuss with me matters at which others\\nwould merely have laughed. His fancy had not gone so far as mine, but he\\nfelt that the place was rare in its imaginative potentialities, and\\nworthy of note as an inspiration in the field of the grotesque and\\nmacabre.\\n\\nFor my part, I was disposed to take the whole subject with profound\\nseriousness, and began at once not only to review the evidence, but to\\naccumulate as much more as I could. I talked with the elderly Archer\\nHarris, then owner of the house, many times before his death in 1916;\\nand obtained from him and his still surviving maiden sister Alice an\\nauthentic corroboration of all the family data my uncle had collected.\\nWhen, however, I asked them what connection with France or its language\\nthe house could have, they confessed themselves as frankly baffled and\\nignorant as I. Archer knew nothing, and all that Miss Harris could say\\nwas that an old allusion her grandfather, Dutee Harris, had heard of\\nmight have shed a little light. The old seaman, who had survived his son\\nWelcome\\'s death in battle by two years, had not himself known the\\nlegend, but recalled that his earliest nurse, the ancient Maria Robbins,\\nseemed darkly aware of something that might have lent a weird\\nsignificance to the French raving of Rhoby Harris, which she had so\\noften heard during the last days of that hapless woman. Maria had been\\nat the shunned house from 1769 till the removal of the family in 1783,\\nand had seen Mercy Dexter die. Once she hinted to the child Dutee of a\\nsomewhat peculiar circumstance in Mercy\\'s last moments, but he had soon\\nforgotten all about it save that it was something peculiar. The\\ngranddaughter, moreover, recalled even this much with difficulty. She\\nand her brother were not so much interested in the house as was Archer\\'s\\nson Carrington, the present owner, with whom I talked after my\\nexperience.\\n\\n       *       *       *       *       *\\n\\nHaving exhausted the Harris family of all the information it could\\nfurnish, I turned my attention to early town records and deeds with a\\nzeal more penetrating than that which my uncle had occasionally shown in\\nthe same work. What I wished was a comprehensive history of the site\\nfrom its very settlement in 1636--or even before, if any Narragansett\\nIndian legend could be unearthed to supply the data. I found, at the\\nstart, that the land had been part of the long strip of home lot granted\\noriginally to John Throckmorton; one of many similar strips beginning at\\nthe Town Street beside the river and extending up over the hill to a\\nline roughly corresponding with the modern Hope Street. The Throckmorton\\nlot had later, of course, been much subdivided; and I became very\\nassiduous in tracing that section through which Back or Benefit Street\\nwas later run. It had, as rumor indeed said, been the Throckmorton\\ngraveyard; but as I examined the records more carefully, I found that\\nthe graves had all been transferred at an early date to the North Burial\\nGround on the Pawtucket West Road.\\n\\nThen suddenly I came--by a rare piece of chance, since it was not in the\\nmain body of records and might easily have been missed--upon something\\nwhich aroused my keenest eagerness, fitting in as it did with several of\\nthe queerest phases of the affair. It was the record of a lease, in\\n1697, of a small tract of ground to an Etienne Roulet and wife. At last\\nthe French element had appeared--that, and another deeper element of\\nhorror which the name conjured up from the darkest recesses of my weird\\nand heterogeneous reading--and I feverishly studied the platting of the\\nlocality as it had been before the cutting through and partial\\nstraightening of Back Street between 1747 and 1758. I found what I had\\nhalf expected, that where the shunned house now stood the Roulets had\\nlaid out their graveyard behind a one-story and attic cottage, and that\\nno record of any transfer of graves existed. The document, indeed, ended\\nin much confusion; and I was forced to ransack both the Rhode Island\\nHistorical Society and Shepley Library before I could find a local door\\nwhich the name of Etienne Roulet would unlock. In the end I did find\\nsomething; something of such vague but monstrous import that I set about\\nat once to examine the cellar of the shunned house itself with a new and\\nexcited minuteness.\\n\\nThe Roulets, it seemed, had come in 1696 from East Greenwich, down the\\nwest shore of Narragansett Bay. They were Huguenots from Caude, and had\\nencountered much opposition before the Providence selectmen allowed them\\nto settle in the town. Unpopularity had dogged them in East Greenwich,\\nwhither they had come in 1686, after the revocation of the Edict of\\nNantes, and rumor said that the cause of dislike extended beyond mere\\nracial and national prejudice, or the land disputes which involved other\\nFrench settlers with the English in rivalries which not even Governor\\nAndros could quell. But their ardent Protestantism--too ardent, some\\nwhispered--and their evident distress when virtually driven from the\\nvillage down the bay, had moved the sympathy of the town fathers. Here\\nthe strangers had been granted a haven; and the swarthy Etienne Roulet,\\nless apt at agriculture than at reading queer books and drawing queer\\ndiagrams, was given a clerical post in the warehouse at Pardon\\nTillinghast\\'s wharf, far south in Town Street. There had, however, been\\na riot of some sort later on--perhaps forty years later, after old\\nRoulet\\'s death--and no one seemed to hear of the family after that.\\n\\nFor a century and more, it appeared, the Roulets had been well\\nremembered and frequently discussed as vivid incidents in the quiet\\nlife of a New England seaport. Etienne\\'s son Paul, a surly fellow whose\\nerratic conduct had probably provoked the riot which wiped out the\\nfamily, was particularly a source of speculation; and though Providence\\nnever shared the witchcraft panics of her Puritan neighbors, it was\\nfreely intimated by old wives that his prayers were neither uttered at\\nthe proper time nor directed toward the proper object. All this had\\nundoubtedly formed the basis of the legend known by old Maria Robbins.\\nWhat relation it had to the French ravings of Rhoby Harris and other\\ninhabitants of the shunned house, imagination or future discovery alone\\ncould determine. I wondered how many of those who had known the legends\\nrealized that additional link with the terrible which my wider reading\\nhad given me; that ominous item in the annals of morbid horror which\\ntells of the creature _Jacques Roulet, of Caude_, who in 1598 was\\ncondemned to death as a demoniac but afterward saved from the stake by\\nthe Paris parliament and shut in a madhouse. He had been found covered\\nwith blood and shreds of flesh in a wood, shortly after the killing and\\nrending of a boy by a pair of wolves. One wolf was seen to lope away\\nunhurt. Surely a pretty hearthside tale, with a queer significance as to\\nname and place; but I decided that the Providence gossips could not have\\ngenerally known of it. Had they known, the coincidence of names would\\nhave brought some drastic and frightened action--indeed, might not its\\nlimited whispering have precipitated the final riot which erased the\\nRoulets from the town?\\n\\n       *       *       *       *       *\\n\\nI now visited the accursed place with increased frequency; studying the\\nunwholesome vegetation of the garden, examining all the walls of the\\nbuilding, and poring over every inch of the earthen cellar floor.\\nFinally, with Carrington Harris\\'s permission, I fitted a key to the\\ndisused door opening from the cellar directly upon Benefit Street,\\npreferring to have a more immediate access to the outside world than the\\ndark stairs, ground-floor hall, and front door could give. There, where\\nmorbidity lurked most thickly, I searched and poked during long\\nafternoons when the sunlight filtered in through the cobwebbed\\nabove-ground windows, and a sense of security glowed from the unlocked\\ndoor which placed me only a few feet from the placid sidewalk outside.\\nNothing new rewarded my efforts--only the same depressing mustiness and\\nfaint suggestions of noxious odors and nitrous outlines on the\\nfloor--and I fancy that many pedestrians must have watched me curiously\\nthrough the broken panes.\\n\\nAt length, upon a suggestion of my uncle\\'s, I decided to try the spot\\nnocturnally; and one stormy midnight ran the beams of an electric torch\\nover the moldy floor with its uncanny shapes and distorted,\\nhalf-phosphorescent fungi. The place had dispirited me curiously that\\nevening, and I was almost prepared when I saw--or thought I saw--amidst\\nthe whitish deposits a particularly sharp definition of the \"huddled\\nform\" I had suspected from boyhood. Its clearness was astonishing and\\nunprecedented--and as I watched I seemed to see again the thin,\\nyellowish, shimmering exhalation which had startled me on that rainy\\nafternoon so many years before.\\n\\nAbove the anthropomorphic patch of mold by the fireplace it rose; a\\nsubtle, sickish, almost luminous vapor which as it hung trembling in the\\ndampness seemed to develop vague and shocking suggestions of form,\\ngradually trailing off into nebulous decay and passing up into the\\nblackness of the great chimney with a fetor in its wake. It was truly\\nhorrible, and the more so to me because of what I knew of the spot.\\nRefusing to flee, I watched it fade--and as I watched I felt that it was\\nin turn watching me greedily with eyes more imaginable than visible.\\nWhen I told my uncle about it he was greatly aroused; and after a tense\\nhour of reflection, arrived at a definite and drastic decision. Weighing\\nin his mind the importance of the matter, and the significance of our\\nrelation to it, he insisted that we both test--and if possible\\ndestroy--the horror of the house by a joint night or nights of\\naggressive vigil in that musty and fungus-cursed cellar.\\n\\n\\n4\\n\\nOn Wednesday, June 25, 1919, after a proper notification of Carrington\\nHarris which did not include surmises as to what we expected to find, my\\nuncle and I conveyed to the shunned house two camp chairs and a folding\\ncamp cot, together with some scientific mechanism of greater weight and\\nintricacy. These we placed in the cellar during the day, screening the\\nwindows with paper and planning to return in the evening for our first\\nvigil. We had locked the door from the cellar to the ground floor; and\\nhaving a key to the outside cellar door, were prepared to leave our\\nexpensive and delicate apparatus--which we had obtained secretly and at\\ngreat cost--as many days as our vigils might be protracted. It was our\\ndesign to sit up together till very late, and then watch singly till\\ndawn in two-hour stretches, myself first and then my companion; the\\ninactive member resting on the cot.\\n\\nThe natural leadership with which my uncle procured the instruments from\\nthe laboratories of Brown University and the Cranston Street Armory, and\\ninstinctively assumed direction of our venture, was a marvelous\\ncommentary on the potential vitality and resilience of a man of\\neighty-one. Elihu Whipple had lived according to the hygienic laws he\\nhad preached as a physician, and but for what happened later would be\\nhere in full vigor today. Only two persons suspected what did\\nhappen--Carrington Harris and myself. I had to tell Harris because he\\nowned the house and deserved to know what had gone out of it. Then too,\\nwe had spoken to him in advance of our quest; and I felt after my\\nuncle\\'s going that he would understand and assist me in some vitally\\nnecessary public explanations. He turned very pale, but agreed to help\\nme, and decided that it would now be safe to rent the house.\\n\\nTo declare that we were not nervous on that rainy night of watching\\nwould be an exaggeration both gross and ridiculous. We were not, as I\\nhave said, in any sense childishly superstitious, but scientific study\\nand reflection had taught us that the known universe of three dimensions\\nembraces the merest fraction of the whole cosmos of substance and\\nenergy. In this case an overwhelming preponderance of evidence from\\nnumerous authentic sources pointed to the tenacious existence of certain\\nforces of great power and, so far as the human point of view is\\nconcerned, exceptional malignancy. To say that we actually believed in\\nvampires or werewolves would be a carelessly inclusive statement. Rather\\nmust it be said that we were not prepared to deny the possibility of\\ncertain unfamiliar and unclassified modifications of vital force and\\nattenuated matter; existing very infrequently in three-dimensional space\\nbecause of its more intimate connection with other spatial units, yet\\nclose enough to the boundary of our own to furnish us occasional\\nmanifestations which we, for lack of a proper vantage-point, may never\\nhope to understand.\\n\\nIn short, it seemed to my uncle and me that an incontrovertible array\\nof facts pointed to some lingering influence in the shunned house;\\ntraceable to one or another of the ill-favored French settlers of two\\ncenturies before, and still operative through rare and unknown laws of\\natomic and electronic motion. That the family of Roulet had possessed an\\nabnormal affinity for outer circles of entity--dark spheres which for\\nnormal folk hold only repulsion and terror--their recorded history\\nseemed to prove. Had not, then, the riots of those bygone\\nseventeen-thirties set moving certain kinetic patterns in the morbid\\nbrain of one or more of them--notably the sinister Paul Roulet--which\\nobscurely survived the bodies murdered and buried by the mob, and\\ncontinued to function in some multiple-dimensioned space along the\\noriginal lines of force determined by a frantic hatred of the\\nencroaching community?\\n\\nSuch a thing was surely not a physical or biochemical impossibility in\\nthe light of a newer science which includes the theories of relativity\\nand intra-atomic action. One might easily imagine an alien nucleus of\\nsubstance or energy, formless or otherwise, kept alive by imperceptible\\nor immaterial subtractions from the life-force or bodily tissue and\\nfluids of other and more palpably living things into which it penetrates\\nand with whose fabric it sometimes completely merges itself. It might be\\nactively hostile, or it might be dictated merely by blind motives of\\nself-preservation. In any case such a monster must of necessity be in\\nour scheme of things an anomaly and an intruder, whose extirpation forms\\na primary duty with every man not an enemy to the world\\'s life, health,\\nand sanity.\\n\\nWhat baffled us was our utter ignorance of the aspect in which we might\\nencounter the thing. No sane person had ever seen it, and few had ever\\nfelt it definitely. It might be pure energy--a form ethereal and outside\\nthe realm of substance--or it might be partly material; some unknown and\\nequivocal mass of plasticity, capable of changing at will to nebulous\\napproximations of the solid, liquid, gaseous, or tenuously unparticled\\nstates. The anthropomorphic patch of mold on the floor, the form of the\\nyellowish vapor, and the curvature of the tree-roots in some of the old\\ntales, all argued at least a remote and reminiscent connection with the\\nhuman shape; but how representative or permanent that similarity might\\nbe, none could say with any kind of certainty.\\n\\n       *       *       *       *       *\\n\\nWe had devised two weapons to fight it; a large and specially fitted\\nCrookes tube operated by powerful storage batteries and provided with\\npeculiar screens and reflectors, in case it proved intangible and\\nopposable only by vigorously destructive ether radiations, and a pair of\\nmilitary flame-throwers of the sort used in the World War, in case it\\nproved partly material and susceptible of mechanical destruction--for\\nlike the superstitious Exeter rustics, we were prepared to burn the\\nthing\\'s heart out if heart existed to burn. All this aggressive\\nmechanism we set in the cellar in positions carefully arranged with\\nreference to the cot and chairs, and to the spot before the fireplace\\nwhere the mold had taken strange shapes. That suggestive patch, by the\\nway, was only faintly visible when we placed our furniture and\\ninstruments, and when we returned that evening for the actual vigil. For\\na moment I half doubted that I had ever seen it in the more definitely\\nlimned form--but then I thought of the legends.\\n\\nOur cellar vigil began at ten p. m., daylight saving time, and as it\\ncontinued we found no promise of pertinent developments. A weak,\\nfiltered glow from the rain-harassed street-lamps outside, and a feeble\\nphosphorescence from the detestable fungi within, showed the dripping\\nstone of the walls, from which all traces of whitewash had vanished; the\\ndank, fetid and mildew-tainted hard earth floor with its obscene fungi;\\nthe rotting remains of what had been stools, chairs, and tables, and\\nother more shapeless furniture; the heavy planks and massive beams of\\nthe ground floor overhead; the decrepit plank door leading to bins and\\nchambers beneath other parts of the house; the crumbling stone staircase\\nwith ruined wooden hand-rail; and the crude and cavernous fireplace of\\nblackened brick where rusted iron fragments revealed the past presence\\nof hooks, andirons, spit, crane, and a door to the Dutch oven--these\\nthings, and our austere cot and camp chairs, and the heavy and intricate\\ndestructive machinery we had brought.\\n\\nWe had, as in my own former explorations, left the door to the street\\nunlocked; so that a direct and practical path of escape might lie open\\nin case of manifestations beyond our power to deal with. It was our idea\\nthat our continued nocturnal presence would call forth whatever malign\\nentity lurked there; and that being prepared, we could dispose of the\\nthing with one or the other of our provided means as soon as we had\\nrecognized and observed it sufficiently. How long it might require to\\nevoke and extinguish the thing, we had no notion. It occurred to us,\\ntoo, that our venture was far from safe; for in what strength the thing\\nmight appear no one could tell. But we deemed the game worth the hazard,\\nand embarked on it alone and unhesitatingly; conscious that the seeking\\nof outside aid would only expose us to ridicule and perhaps defeat our\\nentire purpose. Such was our frame of mind as we talked--far into the\\nnight, till my uncle\\'s growing drowsiness made me remind him to lie down\\nfor his two-hour sleep.\\n\\nSomething like fear chilled me as I sat there in the small hours\\nalone--I say alone, for one who sits by a sleeper is indeed alone;\\nperhaps more alone than he can realize. My uncle breathed heavily, his\\ndeep inhalations and exhalations accompanied by the rain outside, and\\npunctuated by another nerve-racking sound of distant dripping water\\nwithin--for the house was repulsively damp even in dry weather, and in\\nthis storm positively swamp-like. I studied the loose, antique masonry\\nof the walls in the fungus-light and the feeble rays which stole in from\\nthe street through the screened window; and once, when the noisome\\natmosphere of the place seemed about to sicken me, I opened the door and\\nlooked up and down the street, feasting my eyes on familiar sights and\\nmy nostrils on wholesome air. Still nothing occurred to reward my\\nwatching; and I yawned repeatedly, fatigue getting the better of\\napprehension.\\n\\nThen the stirring of my uncle in his sleep attracted my notice. He had\\nturned restlessly on the cot several times during the latter half of the\\nfirst hour, but now he was breathing with unusual irregularity,\\noccasionally heaving a sigh which held more than a few of the qualities\\nof a choking moan.\\n\\nI turned my electric flashlight on him and found his face averted; so\\nrising and crossing to the other side of the cot, I again flashed the\\nlight to see if he seemed in any pain. What I saw unnerved me most\\nsurprisingly, considering its relative triviality. It must have been\\nmerely the association of any odd circumstance with the sinister nature\\nof our location and mission, for surely the circumstance was not in\\nitself frightful or unnatural. It was merely that my uncle\\'s facial\\nexpression, disturbed no doubt by the strange dreams which our\\nsituation prompted, betrayed considerable agitation, and seemed not at\\nall characteristic of him. His habitual expression was one of kindly and\\nwell-bred calm, whereas now a variety of emotions seemed struggling\\nwithin him. I think, on the whole, that it was this _variety_ which\\nchiefly disturbed me. My uncle, as he gasped and tossed in increasing\\nperturbation and with eyes that had now started open, seemed not one but\\nmany men, and suggested a curious quality of alienage from himself.\\n\\n       *       *       *       *       *\\n\\nAll at once he commenced to mutter, and I did not like the look of his\\nmouth and teeth as he spoke. The words were at first indistinguishable,\\nand then--with a tremendous start--I recognized something about them\\nwhich filled me with icy fear till I recalled the breadth of my uncle\\'s\\neducation and the interminable translations he had made from\\nanthropological and antiquarian articles in the _Revue des Deux Mondes_.\\nFor the venerable Elihu Whipple was muttering _in French_, and the few\\nphrases I could distinguish seemed connected with the darkest myths he\\nhad ever adapted from the famous Paris magazine.\\n\\nSuddenly a perspiration broke out on the sleeper\\'s forehead, and he\\nleaped abruptly up, half awake. The jumble of French changed to a cry in\\nEnglish, and the hoarse voice shouted excitedly, \"My breath, my breath!\"\\nThen the awakening became complete, and with a subsidence of facial\\nexpression to the normal state my uncle seized my hand and began to\\nrelate a dream whose nucleus of significance I could only surmise with a\\nkind of awe.\\n\\nHe had, he said, floated off from a very ordinary series of\\ndream-pictures into a scene whose strangeness was related to nothing he\\nhad ever read. It was of this world, and yet not of it--a shadowy\\ngeometrical confusion in which could be seen elements of familiar things\\nin most unfamiliar and perturbing combinations. There was a suggestion\\nof queerly disordered pictures superimposed one upon another; an\\narrangement in which the essentials of time as well as of space seemed\\ndissolved and mixed in the most illogical fashion. In this kaleidoscopic\\nvortex of phantasmal images were occasional snap-shots, if one might use\\nthe term, of singular clearness but unaccountable heterogeneity.\\n\\nOnce my uncle thought he lay in a carelessly dug open pit, with a crowd\\nof angry faces framed by straggling locks and three-cornered hats\\nfrowning down on him. Again he seemed to be in the interior of a\\nhouse--an old house, apparently--but the details and inhabitants were\\nconstantly changing, and he could never be certain of the faces or the\\nfurniture, or even of the room itself, since doors and windows seemed in\\njust as great a state of flux as the presumably more mobile objects. It\\nwas queer--damnably queer--and my uncle spoke almost sheepishly, as if\\nhalf expecting not to be believed, when he declared that of the strange\\nfaces many had unmistakably borne the features of the Harris family. And\\nall the while there was a personal sensation of choking, as if some\\npervasive presence had spread itself through his body and sought to\\npossess itself of his vital processes.\\n\\nI shuddered at the thought of those vital processes, worn as they were\\nby eighty-one years of continuous functioning, in conflict with unknown\\nforces of which the youngest and strongest system might well be afraid;\\nbut in another moment reflected that dreams are only dreams, and that\\nthese uncomfortable visions could be, at most, no more than my uncle\\'s\\nreaction to the investigations and expectations which had lately filled\\nour minds to the exclusion of all else.\\n\\nConversation, also, soon tended to dispel my sense of strangeness; and\\nin time I yielded to my yawns and took my turn at slumber. My uncle\\nseemed now very wakeful, and welcomed his period of watching even though\\nthe nightmare had aroused him far ahead of his allotted two hours.\\n\\nSleep seized me quickly, and I was at once haunted with dreams of the\\nmost disturbing kind. I felt, in my visions, a cosmic and abysmal\\nloneness; with hostility surging from all sides upon some prison where I\\nlay confined. I seemed bound and gagged, and taunted by the echoing\\nyells of distant multitudes who thirsted for my blood. My uncle\\'s face\\ncame to me with less pleasant association than in waking hours, and I\\nrecall many futile struggles and attempts to scream. It was not a\\npleasant sleep, and for a second I was not sorry for the echoing shriek\\nwhich clove through the barriers of dream and flung me to a sharp and\\nstartled awakeness in which every actual object before my eyes stood out\\nwith more than natural clearness and reality.\\n\\n\\n5\\n\\nI had been lying with my face away from my uncle\\'s chair, so that in\\nthis sudden flash of awakening I saw only the door to the street, the\\nwindow, and the wall and floor and ceiling toward the north of the room,\\nall photographed with morbid vividness on my brain in a light brighter\\nthan the glow of the fungi or the rays from the street outside. It was\\nnot a strong or even a fairly strong light; certainly not nearly strong\\nenough to read an average book by. But it cast a shadow of myself and\\nthe cot on the floor, and had a yellowish, penetrating force that hinted\\nat things more potent than luminosity. This I perceived with unhealthy\\nsharpness despite the fact that two of my other senses were violently\\nassailed. For on my ears rang the reverberations of that shocking\\nscream, while my nostrils revolted at the stench which filled the place.\\nMy mind, as alert as my senses, recognized the gravely unusual; and\\nalmost automatically I leaped up and turned about to grasp the\\ndestructive instruments which we had left trained on the moldy spot\\nbefore the fireplace. As I turned, I dreaded what I was to see; for the\\nscream had been in my uncle\\'s voice, and I knew not against what menace\\nI should have to defend him and myself.\\n\\nYet after all, the sight was worse than I had dreaded. There are horrors\\nbeyond horrors, and this was one of those nuclei of all dreamable\\nhideousness which the cosmos saves to blast an accursed and unhappy few.\\nOut of the fungus-ridden earth steamed up a vaporous corpse-light,\\nyellow and diseased, which bubbled and lapped to a gigantic height in\\nvague outlines half human and half monstrous, through which I could see\\nthe chimney and fireplace beyond. It was all eyes--wolfish and\\nmocking--and the rugose insect-like head dissolved at the top to a thin\\nstream of mist which curled putridly about and finally vanished up the\\nchimney. I say that I saw this thing, but it is only in conscious\\nretrospection that I ever definitely traced its damnable approach to\\nform. At the time, it was to me only a seething, dimly phosphorescent\\ncloud of fungous loathsomeness, enveloping and dissolving to an\\nabhorrent plasticity the one object on which all my attention was\\nfocussed. That object was my uncle--the venerable Elihu Whipple--who\\nwith blackening and decaying features leered and gibbered at me, and\\nreached out dripping claws to rend me in the fury which this horror had\\nbrought.\\n\\nIt was a sense of routine which kept me from going mad. I had drilled\\nmyself in preparation for the crucial moment, and blind training saved\\nme. Recognizing the bubbling evil as no substance reachable by matter or\\nmaterial chemistry, and therefore ignoring the flame-thrower which\\nloomed on my left, I threw on the current of the Crookes tube apparatus,\\nand focussed toward that scene of immortal blasphemousness the strongest\\nether radiations which man\\'s art can arouse from the spaces and fluids\\nof nature. There was a bluish haze and a frenzied sputtering, and the\\nyellowish phosphorescence grew dimmer to my eyes. But I saw the dimness\\nwas only that of contrast, and that the waves from the machine had no\\neffect whatever.\\n\\nThen, in the midst of that demoniac spectacle, I saw a fresh horror\\nwhich brought cries to my lips and sent me fumbling and staggering\\ntoward that unlocked door to the quiet street, careless of what abnormal\\nterrors I loosed upon the world, or what thoughts or judgments of men I\\nbrought down upon my head. In that dim blend of blue and yellow the form\\nof my uncle had commenced a nauseous liquefaction whose essence eludes\\nall description, and in which there played across his vanishing face\\nsuch changes of identity as only madness can conceive. He was at once a\\ndevil and a multitude, a charnel-house and a pageant. Lit by the mixed\\nand uncertain beams, that gelatinous face assumed a dozen--a score--a\\nhundred--aspects; grinning, as it sank to the ground on a body that\\nmelted like tallow, in the caricatured likeness of legions strange and\\nyet not strange.\\n\\nI saw the features of the Harris line, masculine and feminine, adult and\\ninfantile, and other features old and young, coarse and refined,\\nfamiliar and unfamiliar. For a second there flashed a degraded\\ncounterfeit of a miniature of poor mad Rhoby Harris that I had seen in\\nthe School of Design museum, and another time I thought I caught the\\nraw-boned image of Mercy Dexter as I recalled her from a painting in\\nCarrington Harris\\'s house. It was frightful beyond conception; toward\\nthe last, when a curious blend of servant and baby visages flickered\\nclose to the fungous floor where a pool of greenish grease was\\nspreading, it seemed as though the shifting features fought against\\nthemselves and strove to form contours like those of my uncle\\'s kindly\\nface. I like to think that he existed at that moment, and that he tried\\nto bid me farewell. It seems to me I hiccupped a farewell from my own\\nparched throat as I lurched out into the street; a thin stream of grease\\nfollowing me through the door to the rain-drenched sidewalk.\\n\\n       *       *       *       *       *\\n\\nThe rest is shadowy and monstrous. There was no one in the soaking\\nstreet, and in all the world there was no one I dared tell. I walked\\naimlessly south past College Hill and the Athenum, down Hopkins Street,\\nand over the bridge to the business section where tall buildings seemed\\nto guard me as modern material things guard the world from ancient and\\nunwholesome wonder. Then gray dawn unfolded wetly from the east,\\nsilhouetting the archaic hill and its venerable steeples, and beckoning\\nme to the place where my terrible work was still unfinished. And in the\\nend I went, wet, hatless, and dazed in the morning light, and entered\\nthat awful door in Benefit Street which I had left ajar, and which still\\nswung cryptically in full sight of the early householders to whom I\\ndared not speak.\\n\\nThe grease was gone, for the moldy floor was porous. And in front of the\\nfireplace was no vestige of the giant doubled-up form traced in niter.\\nI looked at the cot, the chairs, the instruments, my neglected hat, and\\nthe yellowed straw hat of my uncle. Dazedness was uppermost, and I could\\nscarcely recall what was dream and what was reality. Then thought\\ntrickled back, and I knew that I had witnessed things more horrible than\\nI had dreamed.\\n\\nSitting down, I tried to conjecture as nearly as sanity would let me\\njust what had happened, and how I might end the horror, if indeed it had\\nbeen real. Matter it seemed not to be, nor ether, nor anything else\\nconceivable by mortal mind. What, then, but some exotic _emanation_;\\nsome vampirish vapor such as Exeter rustics tell of as lurking over\\ncertain churchyards? This I felt was the clue, and again I looked at the\\nfloor before the fireplace where the mold and niter had taken strange\\nforms.\\n\\nIn ten minutes my mind was made up, and taking my hat I set out for\\nhome, where I bathed, ate, and gave by telephone an order for a pickax,\\na spade, a military gas-mask, and six carboys of sulfuric acid, all to\\nbe delivered the next morning at the cellar door of the shunned house in\\nBenefit Street. After that I tried to sleep; and failing, passed the\\nhours in reading and in the composition of inane verses to counteract my\\nmood.\\n\\nAt eleven a. m. the next day I commenced digging. It was sunny weather,\\nand I was glad of that. I was still alone, for as much as I feared the\\nunknown horror I sought, there was more fear in the thought of telling\\nanybody. Later I told Harris only through sheer necessity, and because\\nhe had heard odd tales from old people which disposed him ever so little\\ntoward belief. As I turned up the stinking black earth in front of the\\nfireplace, my spade causing a viscous yellow ichor to ooze from the\\nwhite fungi which it severed, I trembled at the dubious thoughts of what\\nI might uncover. Some secrets of inner earth are not good for mankind,\\nand this seemed to me one of them.\\n\\nMy hand shook perceptibly, but still I delved; after a while standing in\\nthe large hole I had made. With the deepening of the hole, which was\\nabout six feet square, the evil smell increased; and I lost all doubt of\\nmy imminent contact with the hellish thing whose emanations had cursed\\nthe house for over a century and a half. I wondered what it would look\\nlike--what its form and substance would be, and how big it might have\\nwaxed through long ages of life-sucking. At length I climbed out of the\\nhole and dispersed the heaped-up dirt, then arranging the great carboys\\nof acid around and near two sides, so that when necessary I might empty\\nthem all down the aperture in quick succession. After that I dumped\\nearth only along the other two sides; working more slowly and donning my\\ngas-mask as the smell grew. I was nearly unnerved at my proximity to a\\nnameless thing at the bottom of a pit.\\n\\nSuddenly my spade struck something softer than earth. I shuddered, and\\nmade a motion as if to climb out of the hole, which was now as deep as\\nmy neck. Then courage returned, and I scraped away more dirt in the\\nlight of the electric torch I had provided. The surface I uncovered was\\nfishy and glassy--a kind of semi-putrid congealed jelly with suggestions\\nof translucency. I scraped further, and saw that it had form. There was\\na rift where a part of the substance was folded over. The exposed area\\nwas huge and roughly cylindrical; like a mammoth soft blue-white\\nstovepipe doubled in two, its largest part some two feet in diameter.\\nStill more I scraped, and then abruptly I leaped out of the hole and\\naway from the filthy thing; frantically unstopping and tilting the heavy\\ncarboys, and precipitating their corrosive contents one after another\\ndown that charnel gulf and upon the unthinkable abnormality whose titan\\n_elbow_ I had seen.\\n\\n       *       *       *       *       *\\n\\nThe blinding maelstrom of greenish-yellow vapor which surged\\ntempestuously up from that hole as the floods of acid descended, will\\nnever leave my memory. All along the hill people tell of the yellow day,\\nwhen virulent and horrible fumes arose from the factory waste dumped in\\nthe Providence River, but I know how mistaken they are as to the source.\\nThey tell, too, of the hideous roar which at the same time came from\\nsome disordered water-pipe or gas main underground--but again I could\\ncorrect them if I dared. It was unspeakably shocking, and I do not see\\nhow I lived through it. I did faint after emptying the fourth carboy,\\nwhich I had to handle after the fumes had begun to penetrate my mask;\\nbut when I recovered I saw that the hole was emitting no fresh vapors.\\n\\nThe two remaining carboys I emptied down without particular result, and\\nafter a time I felt it safe to shovel the earth back into the pit. It\\nwas twilight before I was done, but fear had gone out of the place. The\\ndampness was less fetid, and all the strange fungi had withered to a\\nkind of harmless grayish powder which blew ash-like along the floor. One\\nof earth\\'s nethermost terrors had perished for ever; and if there be a\\nhell, it had received at last the demon soul of an unhallowed thing. And\\nas I patted down the last spadeful of mold, I shed the first of the many\\ntears with which I have paid unaffected tribute to my beloved uncle\\'s\\nmemory.\\n\\nThe next spring no more pale grass and strange weeds came up in the\\nshunned house\\'s terraced garden, and shortly afterward Carrington Harris\\nrented the place. It is still spectral, but its strangeness fascinates\\nme, and I shall find mixed with my relief a queer regret when it is torn\\ndown to make way for a tawdry shop or vulgar apartment building. The\\nbarren old trees in the yard have begun to bear small, sweet apples, and\\nlast year the birds nested in their gnarled boughs.\\n\\n\\n\\n\\n\\n'"
      ]
     },
     "execution_count": 6,
     "metadata": {},
     "output_type": "execute_result"
    }
   ],
   "source": [
    "text"
   ]
  },
  {
   "cell_type": "markdown",
   "metadata": {},
   "source": [
    "**When we open a file for writing, we need to say \"w\" for the write operation. Read is the default (but you can also say 'r' if you prefer when reading.)**"
   ]
  },
  {
   "cell_type": "code",
   "execution_count": 64,
   "metadata": {
    "collapsed": false
   },
   "outputs": [
    {
     "name": "stdout",
     "output_type": "stream",
     "text": [
      "['2', '4', '5', '12', 'fred']\n",
      "['34', '43', '21', '43', 'annie']\n",
      "['324', '3', '43', '4', 'jean']\n"
     ]
    }
   ],
   "source": [
    "with open(\"data/myfile.csv\", \"w\", errors=\"ignore\") as handle:\n",
    "    # up here, print your headers to the file:\n",
    "    handle.write(\"Score1,Score2,Score3,Score4,Name\\n\")\n",
    "    for row in csvdata:\n",
    "        # we loop through the data -- but we have to make it a string\n",
    "        # to write it with the plain file write command.\n",
    "        # each string has to end in a \\n -- new line.\n",
    "        #handle.write(\"Some string\")\n",
    "        row = [str(item) for item in row]\n",
    "        print(row)\n",
    "        handle.write(','.join(row) + \"\\n\")"
   ]
  },
  {
   "cell_type": "markdown",
   "metadata": {},
   "source": [
    "## Wrap It In a Function! "
   ]
  },
  {
   "cell_type": "code",
   "execution_count": 2,
   "metadata": {
    "collapsed": true
   },
   "outputs": [],
   "source": [
    "def write_csv(filename, data, headers):\n",
    "    \"\"\" Takes file to write to, data in list, and header string.\"\"\"\n",
    "    with open(filename, \"w\", errors=\"ignore\") as handle:\n",
    "        # up here, print your headers to the file:\n",
    "        handle.write(headers)\n",
    "        for row in data:\n",
    "            # we loop through the data -- but we have to make it a string\n",
    "            # to write it with the plain file write command.\n",
    "            # each string has to end in a \\n -- new line.\n",
    "            #handle.write(\"Some string\")\n",
    "            row = [str(item) for item in row]\n",
    "            handle.write(','.join(row) + \"\\n\")\n",
    "        print(\"wrote file %s\" % filename)"
   ]
  },
  {
   "cell_type": "code",
   "execution_count": 4,
   "metadata": {
    "collapsed": false
   },
   "outputs": [
    {
     "name": "stdout",
     "output_type": "stream",
     "text": [
      "wrote file myfile1.csv\n"
     ]
    }
   ],
   "source": [
    "header = \"Score1,Score2,Score3,Score4,Name\\n\"\n",
    "\n",
    "# call the function with the arguments:\n",
    "write_csv(\"myfile1.csv\", csvdata, header)"
   ]
  },
  {
   "cell_type": "markdown",
   "metadata": {},
   "source": [
    "## Using the CSV Module"
   ]
  },
  {
   "cell_type": "markdown",
   "metadata": {},
   "source": [
    "docs: https://docs.python.org/3.6/library/csv.html"
   ]
  },
  {
   "cell_type": "code",
   "execution_count": 7,
   "metadata": {
    "collapsed": false
   },
   "outputs": [
    {
     "name": "stdout",
     "output_type": "stream",
     "text": [
      "raw row looks like this: ['Score1', 'Score2', 'Score3', 'Score4', 'Name']\n",
      "Prettier Score1, Score2, Score3, Score4, Name\n",
      "raw row looks like this: ['2', '4', '5', '12', 'fred']\n",
      "Prettier 2, 4, 5, 12, fred\n",
      "raw row looks like this: ['34', '43', '21', '43', 'annie']\n",
      "Prettier 34, 43, 21, 43, annie\n",
      "raw row looks like this: ['324', '3', '43', '4', 'jean']\n",
      "Prettier 324, 3, 43, 4, jean\n"
     ]
    }
   ],
   "source": [
    "# reading a csv file using csv -- notice, no 'w', so 'r' is assumed:\n",
    "\n",
    "import csv\n",
    "with open('data/myfile.csv', 'r', errors='ignore') as csvfile:\n",
    "    spamreader = csv.reader(csvfile, delimiter=',')\n",
    "    for row in spamreader:\n",
    "        print(\"raw row looks like this:\", row)\n",
    "        # make it prettier with:\n",
    "        print(\"Prettier\", ', '.join(row))"
   ]
  },
  {
   "cell_type": "code",
   "execution_count": 10,
   "metadata": {
    "collapsed": false
   },
   "outputs": [],
   "source": [
    "# Writing with it:\n",
    "\n",
    "with open('data/myfile3.csv', 'w', newline='\\n') as csvfile:\n",
    "    spamwriter = csv.writer(csvfile, delimiter=',')\n",
    "    for row in csvdata:\n",
    "        spamwriter.writerow(row)"
   ]
  },
  {
   "cell_type": "code",
   "execution_count": 11,
   "metadata": {
    "collapsed": false
   },
   "outputs": [
    {
     "name": "stdout",
     "output_type": "stream",
     "text": [
      "2,4,5,12,fred\r",
      "\r\n",
      "34,43,21,43,annie\r",
      "\r\n",
      "324,3,43,4,jean\r",
      "\r\n"
     ]
    }
   ],
   "source": [
    "# unix, probably won't work on windows - you can go find the file and look at it.\n",
    "!cat data/myfile3.csv"
   ]
  },
  {
   "cell_type": "markdown",
   "metadata": {},
   "source": [
    "## CSV Dict files"
   ]
  },
  {
   "cell_type": "markdown",
   "metadata": {},
   "source": [
    "If your first row has labels in it, you can return a dictionary using the CSV DictReader."
   ]
  },
  {
   "cell_type": "code",
   "execution_count": 12,
   "metadata": {
    "collapsed": false
   },
   "outputs": [
    {
     "name": "stdout",
     "output_type": "stream",
     "text": [
      "the raw dictionary {'Name': 'fred', 'Score2': '4', 'Score4': '12', 'Score1': '2', 'Score3': '5'}\n",
      "2 4 fred\n",
      "the raw dictionary {'Name': 'annie', 'Score2': '43', 'Score4': '43', 'Score1': '34', 'Score3': '21'}\n",
      "34 43 annie\n",
      "the raw dictionary {'Name': 'jean', 'Score2': '3', 'Score4': '4', 'Score1': '324', 'Score3': '43'}\n",
      "324 3 jean\n"
     ]
    }
   ],
   "source": [
    "import csv\n",
    "\n",
    "mydata = []\n",
    "with open('data/myfile.csv', errors='ignore') as csvfile:\n",
    "    reader = csv.DictReader(csvfile)\n",
    "    for row in reader:\n",
    "        print(\"the raw dictionary\", row)\n",
    "        # accessing certain columns:\n",
    "        print(row['Score1'], row['Score2'], row['Name'])\n",
    "        mydata.append(row)"
   ]
  },
  {
   "cell_type": "markdown",
   "metadata": {},
   "source": [
    "Likewise, you can write dictionary data out as a csv using the DictWriter.  Up above, we collected the rows into a list called mydata."
   ]
  },
  {
   "cell_type": "code",
   "execution_count": 13,
   "metadata": {
    "collapsed": false
   },
   "outputs": [
    {
     "data": {
      "text/plain": [
       "[{'Name': 'fred', 'Score1': '2', 'Score2': '4', 'Score3': '5', 'Score4': '12'},\n",
       " {'Name': 'annie',\n",
       "  'Score1': '34',\n",
       "  'Score2': '43',\n",
       "  'Score3': '21',\n",
       "  'Score4': '43'},\n",
       " {'Name': 'jean',\n",
       "  'Score1': '324',\n",
       "  'Score2': '3',\n",
       "  'Score3': '43',\n",
       "  'Score4': '4'}]"
      ]
     },
     "execution_count": 13,
     "metadata": {},
     "output_type": "execute_result"
    }
   ],
   "source": [
    "mydata"
   ]
  },
  {
   "cell_type": "code",
   "execution_count": 52,
   "metadata": {
    "collapsed": false
   },
   "outputs": [
    {
     "data": {
      "text/plain": [
       "dict_keys(['Score2', 'Score4', 'Score3', 'Score1', 'Name'])"
      ]
     },
     "execution_count": 52,
     "metadata": {},
     "output_type": "execute_result"
    }
   ],
   "source": [
    "# These are the column headers for the data file.  Remember there is no order here.\n",
    "mydata[0].keys()"
   ]
  },
  {
   "cell_type": "code",
   "execution_count": 14,
   "metadata": {
    "collapsed": false
   },
   "outputs": [],
   "source": [
    "# we can set the delimiter between fields to whatever we want, including tab - \\t\n",
    "# Notice you have kind of random order on the fields. That's because we just got the keys from the first item,\n",
    "# and didn't specify the order. if you say the order, it's controlled.\n",
    "\n",
    "with open('data/myfile3.csv', 'w', errors='ignore') as csvfile:\n",
    "    writer = csv.DictWriter(csvfile, delimiter='\\t', fieldnames=list(mydata[0].keys()))\n",
    "    writer.writeheader()\n",
    "    for row in mydata:\n",
    "        # accessing certain columns:\n",
    "        writer.writerow(row)"
   ]
  },
  {
   "cell_type": "code",
   "execution_count": 15,
   "metadata": {
    "collapsed": false
   },
   "outputs": [
    {
     "name": "stdout",
     "output_type": "stream",
     "text": [
      "Name\tScore2\tScore4\tScore1\tScore3\r",
      "\r\n",
      "fred\t4\t12\t2\t5\r",
      "\r\n",
      "annie\t43\t43\t34\t21\r",
      "\r\n",
      "jean\t3\t4\t324\t43\r",
      "\r\n"
     ]
    }
   ],
   "source": [
    "!cat data/myfile3.csv"
   ]
  },
  {
   "cell_type": "code",
   "execution_count": 62,
   "metadata": {
    "collapsed": true
   },
   "outputs": [],
   "source": [
    "# Here we specify the field order and it controls how it gets written out.\n",
    "\n",
    "with open('data/myfile4.csv', 'w', errors='ignore') as csvfile:\n",
    "    writer = csv.DictWriter(csvfile, delimiter='\\t', fieldnames=['Name', 'Score1', 'Score2', 'Score3', 'Score4'])\n",
    "    writer.writeheader()\n",
    "    for row in mydata:\n",
    "        # accessing certain columns:\n",
    "        writer.writerow(row)"
   ]
  },
  {
   "cell_type": "code",
   "execution_count": 61,
   "metadata": {
    "collapsed": false
   },
   "outputs": [
    {
     "name": "stdout",
     "output_type": "stream",
     "text": [
      "Name\tScore1\tScore2\tScore3\tScore4\r",
      "\r\n",
      "fred\t2\t4\t5\t12\r",
      "\r\n",
      "annie\t34\t43\t21\t43\r",
      "\r\n",
      "jean\t324\t3\t43\t4\r",
      "\r\n"
     ]
    }
   ],
   "source": [
    "# this won't work on Windows.\n",
    "!cat data/myfile4.csv"
   ]
  },
  {
   "cell_type": "code",
   "execution_count": null,
   "metadata": {
    "collapsed": true
   },
   "outputs": [],
   "source": []
  }
 ],
 "metadata": {
  "anaconda-cloud": {},
  "kernelspec": {
   "display_name": "Python [conda env:pandasnlp]",
   "language": "python",
   "name": "conda-env-pandasnlp-py"
  },
  "language_info": {
   "codemirror_mode": {
    "name": "ipython",
    "version": 3
   },
   "file_extension": ".py",
   "mimetype": "text/x-python",
   "name": "python",
   "nbconvert_exporter": "python",
   "pygments_lexer": "ipython3",
   "version": "3.5.0"
  }
 },
 "nbformat": 4,
 "nbformat_minor": 1
}
