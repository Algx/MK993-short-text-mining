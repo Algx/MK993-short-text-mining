{
 "cells": [
  {
   "cell_type": "markdown",
   "metadata": {},
   "source": [
    "# Intro to low level NLP - Tokenization, Stopwords, Frequencies, Bigrams"
   ]
  },
  {
   "cell_type": "markdown",
   "metadata": {},
   "source": [
    "We will have to stop and install some stuff for NLTK to work properly, so let me know when you get an error using it."
   ]
  },
  {
   "cell_type": "code",
   "execution_count": 1,
   "metadata": {
    "collapsed": false
   },
   "outputs": [],
   "source": [
    "import itertools\n",
    "import nltk\n",
    "import string"
   ]
  },
  {
   "cell_type": "markdown",
   "metadata": {},
   "source": [
    "## Tokenization\n",
    "\n",
    "Read in a file to use for practice.  The directory is one level above us now, in data/books.  You can add other files into the data directory if you want.\n",
    "\n",
    "** This command will not work on Windows:**"
   ]
  },
  {
   "cell_type": "code",
   "execution_count": 2,
   "metadata": {
    "collapsed": false
   },
   "outputs": [
    {
     "name": "stdout",
     "output_type": "stream",
     "text": [
      "\u001b[31mAusten_Emma.txt\u001b[m\u001b[m       \u001b[31mMelville_MobyDick.txt\u001b[m\u001b[m\r\n",
      "\u001b[31mAusten_Pride.txt\u001b[m\u001b[m      \u001b[31mlovecraft.txt\u001b[m\u001b[m\r\n"
     ]
    }
   ],
   "source": [
    "!ls data/books/"
   ]
  },
  {
   "cell_type": "code",
   "execution_count": 7,
   "metadata": {
    "collapsed": false
   },
   "outputs": [],
   "source": [
    "with open(\"data/books/Austen_Emma.txt\", errors=\"ignore\") as handle:\n",
    "    text = handle.read()"
   ]
  },
  {
   "cell_type": "code",
   "execution_count": 8,
   "metadata": {
    "collapsed": false
   },
   "outputs": [
    {
     "data": {
      "text/plain": [
       "'EMMA\\nBY\\nJANE AUSTEN\\nVOLUME I\\nCHAPTER I\\nEmma Woodhouse, handsome, clever, and rich, with a comfortable home and\\nhappy disposition, seemed to unite some of the best blessings of\\nexistence; and had lived'"
      ]
     },
     "execution_count": 8,
     "metadata": {},
     "output_type": "execute_result"
    }
   ],
   "source": [
    "text[0:200]"
   ]
  },
  {
   "cell_type": "code",
   "execution_count": 11,
   "metadata": {
    "collapsed": false
   },
   "outputs": [],
   "source": [
    "## if you don't want the newlines in there - replace them all with a space!\n",
    "text = text.replace('\\n', ' ')"
   ]
  },
  {
   "cell_type": "code",
   "execution_count": 12,
   "metadata": {
    "collapsed": false
   },
   "outputs": [
    {
     "data": {
      "text/plain": [
       "'EMMA BY JANE AUSTEN VOLUME I CHAPTER I Emma Woodhouse, handsome, clever, and rich, with a comfortabl'"
      ]
     },
     "execution_count": 12,
     "metadata": {},
     "output_type": "execute_result"
    }
   ],
   "source": [
    "text[0:100]"
   ]
  },
  {
   "cell_type": "markdown",
   "metadata": {},
   "source": [
    "### In order to use some features of the NLTK module, you need to download and install some things from it."
   ]
  },
  {
   "cell_type": "code",
   "execution_count": 13,
   "metadata": {
    "collapsed": false
   },
   "outputs": [
    {
     "name": "stdout",
     "output_type": "stream",
     "text": [
      "showing info https://raw.githubusercontent.com/nltk/nltk_data/gh-pages/index.xml\n"
     ]
    },
    {
     "data": {
      "text/plain": [
       "True"
      ]
     },
     "execution_count": 13,
     "metadata": {},
     "output_type": "execute_result"
    }
   ],
   "source": [
    "nltk.download()"
   ]
  },
  {
   "cell_type": "markdown",
   "metadata": {},
   "source": [
    "### Look for the \"python window\" that was opened on your machine.  \n",
    "\n",
    "* In the Corpora tab you need to get \"stopwords.\"\n",
    "* In the Models tab you need \"Punkt Tokenizer Models.\"\n",
    "* In Models you also need \"Averaged Perceptron Tagger.\"\n",
    "\n",
    "<img src=\"assets/nltk_downloader.png\">"
   ]
  },
  {
   "cell_type": "markdown",
   "metadata": {},
   "source": [
    "The process of breaking up a text into smaller pieces that you can count (or analyze) is called **\"tokenizing.\"**  Here we break it up into sentences using a sentence tokenizer."
   ]
  },
  {
   "cell_type": "code",
   "execution_count": 15,
   "metadata": {
    "collapsed": false
   },
   "outputs": [
    {
     "data": {
      "text/plain": [
       "['She dearly loved her father, but he was no companion for her.',\n",
       " 'He could not meet her in conversation, rational or playful.',\n",
       " 'The evil of the actual disparity in their ages (and Mr. Woodhouse had not married early) was much increased by his constitution and habits; for having been a valetudinarian all his life, without activity of mind or body, he was a much older man in ways than in years; and though everywhere beloved for the friendliness of his heart and his amiable temper, his talents could not have recommended him at any time.',\n",
       " 'Her sister, though comparatively but little removed by matrimony, being settled in London, only sixteen miles off, was much beyond her daily reach; and many a long October and November evening must be struggled through at Hartfield, before Christmas brought the next visit from Isabella and her husband, and their little children, to fill the house, and give her pleasant society again.',\n",
       " 'Highbury, the large and populous village, almost amounting to a town, to which Hartfield, in spite of its separate lawn, and shrubberies, and name, did really belong, afforded her no equals.',\n",
       " 'The Woodhouses were first in consequence there.',\n",
       " 'All looked up to them.',\n",
       " 'She had many acquaintance in the place, for her father was universally civil, but not one among them who could be accepted in lieu of Miss Taylor for even half a day.',\n",
       " 'It was a melancholy change; and Emma could not but sigh over it, and wish for impossible things, till her father awoke, and made it necessary to be cheerful.',\n",
       " 'His spirits required support.']"
      ]
     },
     "execution_count": 15,
     "metadata": {},
     "output_type": "execute_result"
    }
   ],
   "source": [
    "## Breaking it up by sentence! \n",
    "sentences = nltk.sent_tokenize(text)\n",
    "sentences[20:30]"
   ]
  },
  {
   "cell_type": "code",
   "execution_count": 16,
   "metadata": {
    "collapsed": false
   },
   "outputs": [
    {
     "data": {
      "text/plain": [
       "7497"
      ]
     },
     "execution_count": 16,
     "metadata": {},
     "output_type": "execute_result"
    }
   ],
   "source": [
    "# How many sentences?\n",
    "len(sentences)"
   ]
  },
  {
   "cell_type": "markdown",
   "metadata": {},
   "source": [
    "**\"Word\" tokenization** is much more common and useful.  But there are lots of types of word tokenization, depending on how you handle punctuation."
   ]
  },
  {
   "cell_type": "code",
   "execution_count": 18,
   "metadata": {
    "collapsed": false
   },
   "outputs": [
    {
     "data": {
      "text/plain": [
       "['comfortable',\n",
       " 'home',\n",
       " 'and',\n",
       " 'happy',\n",
       " 'disposition',\n",
       " ',',\n",
       " 'seemed',\n",
       " 'to',\n",
       " 'unite',\n",
       " 'some',\n",
       " 'of',\n",
       " 'the',\n",
       " 'best',\n",
       " 'blessings',\n",
       " 'of',\n",
       " 'existence',\n",
       " ';',\n",
       " 'and',\n",
       " 'had',\n",
       " 'lived',\n",
       " 'nearly',\n",
       " 'twenty-one',\n",
       " 'years',\n",
       " 'in',\n",
       " 'the',\n",
       " 'world',\n",
       " 'with',\n",
       " 'very',\n",
       " 'little',\n",
       " 'to']"
      ]
     },
     "execution_count": 18,
     "metadata": {},
     "output_type": "execute_result"
    }
   ],
   "source": [
    "tokens = nltk.word_tokenize(text)\n",
    "tokens[20:50]"
   ]
  },
  {
   "cell_type": "code",
   "execution_count": 19,
   "metadata": {
    "collapsed": false
   },
   "outputs": [
    {
     "data": {
      "text/plain": [
       "['happy',\n",
       " 'disposition',\n",
       " ',',\n",
       " 'seemed',\n",
       " 'to',\n",
       " 'unite',\n",
       " 'some',\n",
       " 'of',\n",
       " 'the',\n",
       " 'best',\n",
       " 'blessings',\n",
       " 'of',\n",
       " 'existence',\n",
       " ';',\n",
       " 'and',\n",
       " 'had',\n",
       " 'lived',\n",
       " 'nearly',\n",
       " 'twenty',\n",
       " '-',\n",
       " 'one',\n",
       " 'years',\n",
       " 'in',\n",
       " 'the',\n",
       " 'world',\n",
       " 'with',\n",
       " 'very']"
      ]
     },
     "execution_count": 19,
     "metadata": {},
     "output_type": "execute_result"
    }
   ],
   "source": [
    "# Notice the difference here:\n",
    "nltk.wordpunct_tokenize(text)[23:50]"
   ]
  },
  {
   "cell_type": "markdown",
   "metadata": {},
   "source": [
    "There are other options for tokenization in NLTK.  You can test some out here: http://text-processing.com/demo/tokenize/"
   ]
  },
  {
   "cell_type": "markdown",
   "metadata": {},
   "source": [
    "## Counting Words (First Attempt)"
   ]
  },
  {
   "cell_type": "markdown",
   "metadata": {},
   "source": [
    "Now let's break up a text and count some stuff."
   ]
  },
  {
   "cell_type": "code",
   "execution_count": 20,
   "metadata": {
    "collapsed": false
   },
   "outputs": [
    {
     "data": {
      "text/plain": [
       "['EMMA',\n",
       " 'BY',\n",
       " 'JANE',\n",
       " 'AUSTEN',\n",
       " 'VOLUME',\n",
       " 'I',\n",
       " 'CHAPTER',\n",
       " 'I',\n",
       " 'Emma',\n",
       " 'Woodhouse',\n",
       " ',',\n",
       " 'handsome',\n",
       " ',',\n",
       " 'clever',\n",
       " ',']"
      ]
     },
     "execution_count": 20,
     "metadata": {},
     "output_type": "execute_result"
    }
   ],
   "source": [
    "tokens = nltk.word_tokenize(text)\n",
    "tokens[0:15]"
   ]
  },
  {
   "cell_type": "code",
   "execution_count": 21,
   "metadata": {
    "collapsed": false
   },
   "outputs": [
    {
     "data": {
      "text/plain": [
       "191739"
      ]
     },
     "execution_count": 21,
     "metadata": {},
     "output_type": "execute_result"
    }
   ],
   "source": [
    "# this is how many tokens we have:\n",
    "len(tokens)"
   ]
  },
  {
   "cell_type": "markdown",
   "metadata": {},
   "source": [
    "### What's one way we learned to count things?  Using the Counter from collections."
   ]
  },
  {
   "cell_type": "code",
   "execution_count": 22,
   "metadata": {
    "collapsed": false
   },
   "outputs": [],
   "source": [
    "from collections import Counter"
   ]
  },
  {
   "cell_type": "code",
   "execution_count": 24,
   "metadata": {
    "collapsed": true
   },
   "outputs": [],
   "source": [
    "words = Counter(tokens)"
   ]
  },
  {
   "cell_type": "code",
   "execution_count": 26,
   "metadata": {
    "collapsed": false
   },
   "outputs": [
    {
     "data": {
      "text/plain": [
       "[(',', 12016),\n",
       " ('.', 6359),\n",
       " ('to', 5124),\n",
       " ('the', 4842),\n",
       " ('and', 4652),\n",
       " ('of', 4272),\n",
       " ('I', 3164),\n",
       " ('--', 3097),\n",
       " ('a', 3001),\n",
       " ('was', 2383),\n",
       " ('her', 2360),\n",
       " (';', 2353),\n",
       " ('not', 2242),\n",
       " (\"''\", 2189),\n",
       " ('in', 2103),\n",
       " ('it', 2101),\n",
       " ('``', 1998),\n",
       " ('be', 1965),\n",
       " ('she', 1774),\n",
       " ('that', 1728)]"
      ]
     },
     "execution_count": 26,
     "metadata": {},
     "output_type": "execute_result"
    }
   ],
   "source": [
    "words.most_common(20)"
   ]
  },
  {
   "cell_type": "markdown",
   "metadata": {},
   "source": [
    "Now let's do the same thing with another book.  Let's make a function to make this easier:"
   ]
  },
  {
   "cell_type": "code",
   "execution_count": 27,
   "metadata": {
    "collapsed": true
   },
   "outputs": [],
   "source": [
    "def get_most_common(filename):\n",
    "    # Takes a path to a file, splits it up into tokens, and prints the \"count\" most common.\n",
    "    from collections import Counter\n",
    "    text = None\n",
    "    mycounts = None\n",
    "    \n",
    "    with open(filename, errors=\"ignore\") as handle:\n",
    "        text = handle.read()\n",
    "    if text:\n",
    "        text = text.replace(\"\\n\", \" \")\n",
    "        words = nltk.word_tokenize(text)\n",
    "        mycounts = Counter(words)\n",
    "    return mycounts"
   ]
  },
  {
   "cell_type": "markdown",
   "metadata": {},
   "source": [
    "### Call this with a path to your book file."
   ]
  },
  {
   "cell_type": "code",
   "execution_count": 28,
   "metadata": {
    "collapsed": false
   },
   "outputs": [],
   "source": [
    "counts = get_most_common(\"data/books/Austen_Pride.txt\")"
   ]
  },
  {
   "cell_type": "code",
   "execution_count": 29,
   "metadata": {
    "collapsed": false
   },
   "outputs": [
    {
     "data": {
      "text/plain": [
       "Counter({'windings': 1,\n",
       "         'dispute': 2,\n",
       "         '-no': 1,\n",
       "         'recollections': 8,\n",
       "         'Our': 7,\n",
       "         'points': 4,\n",
       "         '-very': 2,\n",
       "         'coarse': 1,\n",
       "         'adieu': 3,\n",
       "         'put': 30,\n",
       "         'Matlock': 2,\n",
       "         'restored': 2,\n",
       "         'abiding': 1,\n",
       "         'Britain': 1,\n",
       "         \"'you\": 1,\n",
       "         'untouched': 1,\n",
       "         'reconcile': 1,\n",
       "         'involving': 2,\n",
       "         'Meryton': 57,\n",
       "         'basis': 1,\n",
       "         'notions': 3,\n",
       "         'when': 290,\n",
       "         'presumption': 3,\n",
       "         'expectation': 18,\n",
       "         'northern': 3,\n",
       "         'capital': 3,\n",
       "         'wits': 1,\n",
       "         'uncivil': 5,\n",
       "         'accosted': 2,\n",
       "         'tea-time': 1,\n",
       "         'parasol': 2,\n",
       "         'diversified': 1,\n",
       "         'courting': 1,\n",
       "         'accordingly': 5,\n",
       "         'provoked': 3,\n",
       "         'good': 170,\n",
       "         'economically': 1,\n",
       "         'from': 468,\n",
       "         'divide': 3,\n",
       "         'unpleasantly': 1,\n",
       "         'gates': 2,\n",
       "         'Lydia': 169,\n",
       "         'walk': 51,\n",
       "         'unacquainted': 1,\n",
       "         'deeply-rooted': 1,\n",
       "         'younger': 29,\n",
       "         'resolved': 31,\n",
       "         'take': 77,\n",
       "         'fighting': 1,\n",
       "         'sermon': 1,\n",
       "         'mansion': 2,\n",
       "         'half-finished': 1,\n",
       "         'engagement': 20,\n",
       "         '-and': 46,\n",
       "         'pale': 4,\n",
       "         'say': 158,\n",
       "         \"n't\": 12,\n",
       "         'blush': 4,\n",
       "         'ridge': 1,\n",
       "         'tenants': 2,\n",
       "         'laying': 2,\n",
       "         'contrariwise': 1,\n",
       "         'women': 19,\n",
       "         'bracelets': 1,\n",
       "         'prey': 2,\n",
       "         'description': 7,\n",
       "         '-there': 2,\n",
       "         '-most': 1,\n",
       "         'explaining': 3,\n",
       "         'dejection': 3,\n",
       "         'delight': 25,\n",
       "         'meditate': 2,\n",
       "         '8': 1,\n",
       "         'drawn': 8,\n",
       "         'Yours': 5,\n",
       "         'individual': 2,\n",
       "         'partridges': 1,\n",
       "         'successful': 3,\n",
       "         'trying': 6,\n",
       "         'uproar': 1,\n",
       "         'This': 66,\n",
       "         'haunt': 1,\n",
       "         'sentiment': 8,\n",
       "         'deserve': 9,\n",
       "         'provided': 6,\n",
       "         'gained': 11,\n",
       "         'splendid': 4,\n",
       "         'furniture': 10,\n",
       "         'undone': 1,\n",
       "         'flutter': 3,\n",
       "         'advantageously': 2,\n",
       "         'entrance': 12,\n",
       "         'cousin': 49,\n",
       "         'most': 184,\n",
       "         '-something': 1,\n",
       "         'dismay': 1,\n",
       "         'privately': 3,\n",
       "         '3': 1,\n",
       "         'possibility': 13,\n",
       "         'attending': 9,\n",
       "         'planned': 3,\n",
       "         'emotion': 5,\n",
       "         'tormenting': 1,\n",
       "         'Miller': 1,\n",
       "         'greatness': 2,\n",
       "         'ate': 3,\n",
       "         'blasted': 1,\n",
       "         'richly': 1,\n",
       "         'whist': 5,\n",
       "         'flutterings': 1,\n",
       "         'intruder': 1,\n",
       "         'descended': 3,\n",
       "         'transport': 1,\n",
       "         '53': 1,\n",
       "         'dined': 8,\n",
       "         'Nay': 5,\n",
       "         'everywhere': 2,\n",
       "         'arrear': 1,\n",
       "         'insignificant': 1,\n",
       "         'silent': 26,\n",
       "         'letter': 115,\n",
       "         'self': 1,\n",
       "         'black': 1,\n",
       "         'plainer': 1,\n",
       "         'derived': 1,\n",
       "         'suitable': 3,\n",
       "         'wonderfully': 2,\n",
       "         'delicacy': 11,\n",
       "         'gross': 2,\n",
       "         'met': 39,\n",
       "         'involve': 2,\n",
       "         'asking': 14,\n",
       "         'twenty': 5,\n",
       "         'an': 344,\n",
       "         'partly': 2,\n",
       "         'hearers': 1,\n",
       "         'mistress': 9,\n",
       "         'dislike': 23,\n",
       "         '-capital': 1,\n",
       "         'bridge': 3,\n",
       "         'violation': 2,\n",
       "         'times': 19,\n",
       "         'profligacy': 1,\n",
       "         'cruelty': 4,\n",
       "         'insignificance': 3,\n",
       "         'Presuming': 1,\n",
       "         'postilions': 1,\n",
       "         'fruits': 2,\n",
       "         'touched': 4,\n",
       "         'abused': 2,\n",
       "         'composition': 1,\n",
       "         'scarcity': 1,\n",
       "         'deliberately': 2,\n",
       "         'fool': 3,\n",
       "         'Through': 1,\n",
       "         'judging': 2,\n",
       "         'impressive': 1,\n",
       "         'preserved': 4,\n",
       "         'unite': 2,\n",
       "         'behind': 14,\n",
       "         'hack': 1,\n",
       "         'turn': 27,\n",
       "         'consider': 31,\n",
       "         'entreating': 1,\n",
       "         'bowl': 1,\n",
       "         'tempered': 1,\n",
       "         'learning': 1,\n",
       "         'dictating': 1,\n",
       "         'forgave': 1,\n",
       "         'undergone': 2,\n",
       "         'breakfast': 20,\n",
       "         '-allowing': 1,\n",
       "         'gradually': 6,\n",
       "         'position': 1,\n",
       "         'agreeably': 3,\n",
       "         'inclinations': 1,\n",
       "         'received': 61,\n",
       "         'indulged': 2,\n",
       "         'backward': 1,\n",
       "         '-from': 3,\n",
       "         'hat': 2,\n",
       "         \"'Yes\": 1,\n",
       "         'syllables': 1,\n",
       "         'After': 36,\n",
       "         'powers': 6,\n",
       "         '-deliberated': 1,\n",
       "         '-nay': 2,\n",
       "         'considered': 23,\n",
       "         'entirely': 25,\n",
       "         'spirits': 39,\n",
       "         'losing': 1,\n",
       "         'sitting': 20,\n",
       "         'ensue': 1,\n",
       "         'summer': 19,\n",
       "         'letting': 5,\n",
       "         'Prejudice': 1,\n",
       "         'rapturous': 2,\n",
       "         'forgive': 8,\n",
       "         'rather': 55,\n",
       "         'crossed': 5,\n",
       "         'depend': 22,\n",
       "         'pretense': 1,\n",
       "         'measures': 3,\n",
       "         'calm': 5,\n",
       "         'drove': 11,\n",
       "         'encamped': 1,\n",
       "         'transient': 1,\n",
       "         'exertion': 9,\n",
       "         'undecided': 1,\n",
       "         'valueless': 1,\n",
       "         'greatly': 14,\n",
       "         'chief': 15,\n",
       "         'shock': 2,\n",
       "         'deficiency': 2,\n",
       "         'self-attracted': 1,\n",
       "         'seize': 1,\n",
       "         'indisposed': 2,\n",
       "         'affinity': 2,\n",
       "         'bustle': 1,\n",
       "         'passed': 61,\n",
       "         'glimpse': 2,\n",
       "         'resume': 1,\n",
       "         'animal': 1,\n",
       "         'indelicate': 1,\n",
       "         'intervals': 3,\n",
       "         'next': 69,\n",
       "         'cards': 7,\n",
       "         '-or': 5,\n",
       "         'crowd': 1,\n",
       "         'narrow-minded': 1,\n",
       "         'romantic': 1,\n",
       "         'consent': 13,\n",
       "         'October': 1,\n",
       "         'communicativeness': 1,\n",
       "         'must': 307,\n",
       "         'ceremonies': 1,\n",
       "         'any': 268,\n",
       "         'Anything': 1,\n",
       "         'breach': 3,\n",
       "         'lagged': 2,\n",
       "         'complaisance': 5,\n",
       "         'calculate': 1,\n",
       "         'fall': 9,\n",
       "         'admiration': 25,\n",
       "         'Bingleys': 5,\n",
       "         'believe': 84,\n",
       "         'fifteen': 4,\n",
       "         'personal': 2,\n",
       "         'So': 14,\n",
       "         'borne': 5,\n",
       "         'capacity': 1,\n",
       "         'admit': 6,\n",
       "         'wretchedly': 1,\n",
       "         'started': 4,\n",
       "         'farmhouse': 1,\n",
       "         'haughty': 3,\n",
       "         'included': 2,\n",
       "         'paid': 18,\n",
       "         'proudest': 1,\n",
       "         'conjugal': 2,\n",
       "         'long': 99,\n",
       "         'irritated': 1,\n",
       "         'unappeasable': 1,\n",
       "         'console': 8,\n",
       "         'nominally': 1,\n",
       "         'prettier-coloured': 1,\n",
       "         \"'Having\": 1,\n",
       "         'Imprudent': 1,\n",
       "         'strongest': 1,\n",
       "         'used': 20,\n",
       "         'perfectly': 46,\n",
       "         'November': 5,\n",
       "         'returned': 45,\n",
       "         'condescension': 7,\n",
       "         'shew': 1,\n",
       "         'rode': 2,\n",
       "         'interview': 3,\n",
       "         'exuberance': 1,\n",
       "         'engaging': 6,\n",
       "         'Perhaps': 19,\n",
       "         'called': 41,\n",
       "         'furnish': 4,\n",
       "         'bathing-place': 1,\n",
       "         'Things': 1,\n",
       "         \"'had\": 1,\n",
       "         'ideas': 13,\n",
       "         'condemn': 3,\n",
       "         'Gardiners': 6,\n",
       "         'men-servants': 1,\n",
       "         'regulars': 2,\n",
       "         'leaning': 1,\n",
       "         'sentinel': 1,\n",
       "         'intimate': 12,\n",
       "         'curtains': 1,\n",
       "         'cleared': 2,\n",
       "         'over-rated': 1,\n",
       "         'Certainly': 7,\n",
       "         'proportion': 4,\n",
       "         'looks': 12,\n",
       "         'heighten': 1,\n",
       "         'superintended': 1,\n",
       "         'owns': 1,\n",
       "         '.': 5034,\n",
       "         'censure': 5,\n",
       "         'observation': 14,\n",
       "         'alleviated': 1,\n",
       "         'hurt': 6,\n",
       "         'permitted': 1,\n",
       "         'succeed': 3,\n",
       "         'prevailed': 15,\n",
       "         'undetermined': 1,\n",
       "         'interfere': 1,\n",
       "         'single': 11,\n",
       "         'insists': 1,\n",
       "         'discuss': 2,\n",
       "         'My': 110,\n",
       "         'shaken': 3,\n",
       "         'asperity': 1,\n",
       "         'Society': 2,\n",
       "         'weakness': 5,\n",
       "         'Towards': 1,\n",
       "         'buy': 4,\n",
       "         'prettyish': 1,\n",
       "         'embarrassment': 10,\n",
       "         'Can': 11,\n",
       "         'derision': 2,\n",
       "         'ill-treatment': 1,\n",
       "         'jewels': 1,\n",
       "         'sought': 5,\n",
       "         'terrific': 1,\n",
       "         'readily': 17,\n",
       "         'consolatory': 1,\n",
       "         'suspend': 1,\n",
       "         'cousins': 11,\n",
       "         'fortunate': 15,\n",
       "         'laughter': 2,\n",
       "         'bestow': 7,\n",
       "         'Steady': 1,\n",
       "         'added': 71,\n",
       "         'seems': 22,\n",
       "         'member': 1,\n",
       "         'require': 3,\n",
       "         'charms': 4,\n",
       "         'interruption': 10,\n",
       "         'looked': 74,\n",
       "         'changes': 1,\n",
       "         'half-year': 1,\n",
       "         'examining': 4,\n",
       "         'tallest': 1,\n",
       "         'humour': 21,\n",
       "         'hot-pressed': 1,\n",
       "         'overjoyed': 1,\n",
       "         'endeavour': 21,\n",
       "         'to-day': 9,\n",
       "         'enable': 1,\n",
       "         'sensibly': 2,\n",
       "         'peace-making': 1,\n",
       "         'monosyllable': 1,\n",
       "         'mystery': 1,\n",
       "         'superiority': 1,\n",
       "         'shed': 1,\n",
       "         'nectarines': 1,\n",
       "         'reader': 3,\n",
       "         'flowing': 1,\n",
       "         'officious': 3,\n",
       "         'closet': 1,\n",
       "         'unworthily': 1,\n",
       "         'throat': 1,\n",
       "         'came': 90,\n",
       "         'lasted': 3,\n",
       "         'argument': 5,\n",
       "         'camp': 3,\n",
       "         'left': 65,\n",
       "         'undertaking': 1,\n",
       "         '-what': 5,\n",
       "         'governess': 8,\n",
       "         'balm': 1,\n",
       "         'Interested': 1,\n",
       "         'distracted': 2,\n",
       "         'trace': 4,\n",
       "         'how': 163,\n",
       "         'talents': 5,\n",
       "         'anticipation': 1,\n",
       "         'journey': 21,\n",
       "         'daughters': 49,\n",
       "         'closely': 1,\n",
       "         'intentionally': 2,\n",
       "         '-stating': 1,\n",
       "         'mild': 1,\n",
       "         'needless': 3,\n",
       "         '-she': 5,\n",
       "         'accident': 6,\n",
       "         'faultless': 1,\n",
       "         '32': 1,\n",
       "         'circulating': 1,\n",
       "         'Goulding': 1,\n",
       "         'In': 85,\n",
       "         'graces': 1,\n",
       "         'aspect': 6,\n",
       "         'bonnet': 3,\n",
       "         'unconnected': 4,\n",
       "         'celerity': 1,\n",
       "         'wild': 11,\n",
       "         'survivor': 1,\n",
       "         'appearance': 33,\n",
       "         'discomposure': 3,\n",
       "         'attracted': 2,\n",
       "         'produce': 5,\n",
       "         'August': 1,\n",
       "         'breakfast-room': 4,\n",
       "         'discourage': 2,\n",
       "         '34': 1,\n",
       "         'race': 1,\n",
       "         'ended': 4,\n",
       "         'jewel': 1,\n",
       "         'lies': 1,\n",
       "         'oaks': 1,\n",
       "         'made': 126,\n",
       "         'proceed': 5,\n",
       "         'cook': 1,\n",
       "         'done': 91,\n",
       "         'befriended': 1,\n",
       "         'conscientiously': 1,\n",
       "         'why': 30,\n",
       "         'Impossible': 2,\n",
       "         'superciliousness': 1,\n",
       "         'particularly': 32,\n",
       "         'privilege': 3,\n",
       "         'consequential': 1,\n",
       "         'possesses': 1,\n",
       "         'indeed': 75,\n",
       "         'port': 1,\n",
       "         'affability': 4,\n",
       "         'housemaids': 1,\n",
       "         'finished': 10,\n",
       "         'hearing': 24,\n",
       "         'oppose': 3,\n",
       "         'certainly': 63,\n",
       "         'concise': 1,\n",
       "         'spiteful': 1,\n",
       "         'Scotland': 8,\n",
       "         'merry': 3,\n",
       "         'salad': 1,\n",
       "         'noblest': 1,\n",
       "         'endless': 2,\n",
       "         'sufficiently': 5,\n",
       "         'spoke': 43,\n",
       "         'becomes': 4,\n",
       "         'wickedest': 1,\n",
       "         'greatest': 20,\n",
       "         'break': 2,\n",
       "         'springs': 1,\n",
       "         'occasions': 7,\n",
       "         'pleases': 2,\n",
       "         'including': 2,\n",
       "         'exhausted': 1,\n",
       "         'duets': 1,\n",
       "         'favour': 21,\n",
       "         'way': 108,\n",
       "         'upon': 63,\n",
       "         'refrained': 1,\n",
       "         'dispose': 1,\n",
       "         'ceaseless': 1,\n",
       "         'died': 3,\n",
       "         'politely': 3,\n",
       "         'exultation': 1,\n",
       "         'principles': 1,\n",
       "         'bottle': 2,\n",
       "         'hot': 2,\n",
       "         'indicated': 1,\n",
       "         'unwilling': 9,\n",
       "         'visitors': 14,\n",
       "         'ultimately': 1,\n",
       "         'temper': 24,\n",
       "         'York': 1,\n",
       "         'preparing': 6,\n",
       "         'fifty': 6,\n",
       "         'stairs': 8,\n",
       "         'fond': 16,\n",
       "         'consenting': 1,\n",
       "         'maiden': 1,\n",
       "         'compassion': 14,\n",
       "         'rationally': 3,\n",
       "         'recall': 2,\n",
       "         'deserted': 1,\n",
       "         'impunity': 1,\n",
       "         'seeing': 60,\n",
       "         'honoured': 9,\n",
       "         'informing': 2,\n",
       "         'apparently': 2,\n",
       "         'handsomer': 3,\n",
       "         'footing': 2,\n",
       "         'fourthly': 1,\n",
       "         'offers': 5,\n",
       "         'Sure': 1,\n",
       "         'consign': 1,\n",
       "         'encourage': 6,\n",
       "         'truth': 27,\n",
       "         'object': 48,\n",
       "         'fugitives': 1,\n",
       "         'vigorously': 1,\n",
       "         'adventure': 2,\n",
       "         'milliner': 2,\n",
       "         'interpose': 1,\n",
       "         'Under': 1,\n",
       "         'sacrificed': 1,\n",
       "         'melancholy': 5,\n",
       "         'well-informed': 1,\n",
       "         'chosen': 8,\n",
       "         'dictatorial': 1,\n",
       "         'comparison': 13,\n",
       "         'hearty': 2,\n",
       "         'rapidly': 2,\n",
       "         'impudent': 1,\n",
       "         'connected': 14,\n",
       "         'yawn': 2,\n",
       "         'acquit': 2,\n",
       "         'situated': 4,\n",
       "         'critical': 1,\n",
       "         'depart': 4,\n",
       "         '-indeed': 1,\n",
       "         'characteristic': 2,\n",
       "         'imprudent': 10,\n",
       "         'reappear': 1,\n",
       "         '-if': 4,\n",
       "         'sharers': 1,\n",
       "         'under': 32,\n",
       "         'dark': 2,\n",
       "         'mouth': 1,\n",
       "         'relations': 24,\n",
       "         'Courier': 1,\n",
       "         'further': 21,\n",
       "         'prosperity': 3,\n",
       "         'denoted': 2,\n",
       "         '-cheerfulness': 1,\n",
       "         'welcoming': 1,\n",
       "         'grand': 2,\n",
       "         'mention': 30,\n",
       "         'hate': 8,\n",
       "         'Jones': 5,\n",
       "         'chamber': 1,\n",
       "         'Church': 1,\n",
       "         '58': 1,\n",
       "         'Change': 1,\n",
       "         'scarce': 1,\n",
       "         'colonel': 3,\n",
       "         'expectations': 7,\n",
       "         'weaknesses': 1,\n",
       "         'heinous': 1,\n",
       "         'dressing': 4,\n",
       "         'selfish': 7,\n",
       "         'forgiveness': 2,\n",
       "         'stranger': 13,\n",
       "         'blushed': 7,\n",
       "         'address': 19,\n",
       "         'agonies': 1,\n",
       "         'Gouldings': 2,\n",
       "         'fellows': 2,\n",
       "         'speedily': 6,\n",
       "         'there.': 1,\n",
       "         'frankness': 4,\n",
       "         'fatigued': 3,\n",
       "         'various': 9,\n",
       "         'gracefully': 1,\n",
       "         'You': 203,\n",
       "         'half-hours': 1,\n",
       "         'intelligible': 4,\n",
       "         'Attendance': 1,\n",
       "         'entreaty': 8,\n",
       "         'sometimes': 32,\n",
       "         'discontinuance': 1,\n",
       "         'Stoke': 1,\n",
       "         'upstart': 1,\n",
       "         'awoke': 1,\n",
       "         'allowable': 1,\n",
       "         'recollected': 13,\n",
       "         'shifting': 1,\n",
       "         'withheld': 4,\n",
       "         'sentences': 1,\n",
       "         'boys': 3,\n",
       "         'healthfulness': 1,\n",
       "         'Some': 5,\n",
       "         'admire': 18,\n",
       "         'therein': 1,\n",
       "         'Lewis': 3,\n",
       "         'insipidity': 1,\n",
       "         'solidity': 2,\n",
       "         'eminence': 1,\n",
       "         'dispense': 1,\n",
       "         'dissuade': 1,\n",
       "         'Unfeeling': 1,\n",
       "         'spars': 1,\n",
       "         'reception': 9,\n",
       "         'racked': 1,\n",
       "         'Bennets': 10,\n",
       "         'proportions': 1,\n",
       "         'affection': 58,\n",
       "         'apparel': 1,\n",
       "         'supposition': 4,\n",
       "         'minutes': 37,\n",
       "         'dining-parlour': 4,\n",
       "         'clump': 1,\n",
       "         'remonstrance': 1,\n",
       "         'starve': 1,\n",
       "         'content': 1,\n",
       "         'vacant': 5,\n",
       "         'disconcerted': 3,\n",
       "         'absurdity': 1,\n",
       "         'worth': 15,\n",
       "         'permission': 6,\n",
       "         'success': 18,\n",
       "         'cooking': 1,\n",
       "         'epithet': 1,\n",
       "         'assisted': 4,\n",
       "         'announce': 4,\n",
       "         'veracity': 2,\n",
       "         'silently': 3,\n",
       "         'resentments': 1,\n",
       "         'filial': 2,\n",
       "         'agreeable-looking': 1,\n",
       "         'accidentally': 3,\n",
       "         'four': 28,\n",
       "         '51': 1,\n",
       "         'hasty': 5,\n",
       "         'influence': 14,\n",
       "         'prefaced': 1,\n",
       "         'unnaturally': 1,\n",
       "         'explained': 9,\n",
       "         'Christian': 2,\n",
       "         'insulting': 1,\n",
       "         'civilities': 7,\n",
       "         'loved': 10,\n",
       "         'quarreled': 1,\n",
       "         'accompany': 3,\n",
       "         'reproaches': 1,\n",
       "         'money': 25,\n",
       "         'live': 20,\n",
       "         'due': 11,\n",
       "         '-for': 11,\n",
       "         'proudly': 1,\n",
       "         'ungenerous': 3,\n",
       "         'unknowingly': 1,\n",
       "         'this': 380,\n",
       "         '_did_': 1,\n",
       "         'admiring': 2,\n",
       "         'aid': 1,\n",
       "         'partners': 3,\n",
       "         'mess': 1,\n",
       "         'features': 8,\n",
       "         'overcoming': 1,\n",
       "         'instability': 1,\n",
       "         'persisted': 2,\n",
       "         'misrepresentation': 1,\n",
       "         'ground': 11,\n",
       "         'am': 317,\n",
       "         'Friday': 1,\n",
       "         'kitchen': 1,\n",
       "         'reflecting': 1,\n",
       "         'Thoughtlessness': 1,\n",
       "         'executors': 1,\n",
       "         'distractedly': 1,\n",
       "         'widely': 3,\n",
       "         'landlord': 2,\n",
       "         'dismission': 1,\n",
       "         'steadiness': 1,\n",
       "         'awkwardness': 3,\n",
       "         'burnt': 1,\n",
       "         'Even': 2,\n",
       "         'seconded': 1,\n",
       "         'objection': 15,\n",
       "         'conveyed': 2,\n",
       "         'originally': 2,\n",
       "         '26': 1,\n",
       "         'differences': 1,\n",
       "         'lest': 8,\n",
       "         'swell': 1,\n",
       "         'shortly': 12,\n",
       "         'anywhere': 1,\n",
       "         'forcing': 1,\n",
       "         'determined': 32,\n",
       "         'confederacy': 1,\n",
       "         'amply': 2,\n",
       "         'alienated': 1,\n",
       "         'plead': 2,\n",
       "         'arising': 5,\n",
       "         '-And': 1,\n",
       "         'Each': 1,\n",
       "         'gradual': 1,\n",
       "         'supper': 11,\n",
       "         'assemblies': 2,\n",
       "         'obeisance': 1,\n",
       "         'uncles': 3,\n",
       "         'wedding': 14,\n",
       "         'memories': 2,\n",
       "         'toilette': 2,\n",
       "         'rapid': 3,\n",
       "         'independent': 2,\n",
       "         'addresses': 6,\n",
       "         '-does': 1,\n",
       "         'taller': 1,\n",
       "         'answerable': 2,\n",
       "         'attend': 5,\n",
       "         'month': 9,\n",
       "         'contains': 1,\n",
       "         'bequeathed': 1,\n",
       "         'gratified': 14,\n",
       "         'flowed': 1,\n",
       "         'gaiety': 2,\n",
       "         'pronounced': 10,\n",
       "         'Green': 2,\n",
       "         'overtaken': 1,\n",
       "         'safe': 8,\n",
       "         'arrived': 15,\n",
       "         'retained': 2,\n",
       "         'madam': 18,\n",
       "         'Have': 11,\n",
       "         'staid': 2,\n",
       "         'guilt': 3,\n",
       "         'breeding': 5,\n",
       "         'satisfied': 34,\n",
       "         'Sermons': 1,\n",
       "         '-though': 4,\n",
       "         'glow': 3,\n",
       "         'result': 5,\n",
       "         'maintaining': 1,\n",
       "         'differently': 7,\n",
       "         'supported': 4,\n",
       "         'threw': 9,\n",
       "         'quantity': 1,\n",
       "         'dose': 1,\n",
       "         'bed': 5,\n",
       "         'brittle': 1,\n",
       "         'equal': 30,\n",
       "         'truest': 1,\n",
       "         'moment': 70,\n",
       "         'supply': 7,\n",
       "         'begins': 4,\n",
       "         'rained': 1,\n",
       "         'mercenary': 5,\n",
       "         'mode': 5,\n",
       "         'house': 98,\n",
       "         'continual': 3,\n",
       "         'unwillingly': 4,\n",
       "         'dullest': 1,\n",
       "         'unkindness': 1,\n",
       "         'send': 23,\n",
       "         'conceive': 3,\n",
       "         'solace': 1,\n",
       "         'dearly': 3,\n",
       "         'Her': 86,\n",
       "         'harm': 4,\n",
       "         'impartiality': 1,\n",
       "         'lessened': 1,\n",
       "         'hears': 1,\n",
       "         'There': 63,\n",
       "         'Neither': 5,\n",
       "         'compliance': 1,\n",
       "         'victory': 1,\n",
       "         'describe': 7,\n",
       "         'obtain': 3,\n",
       "         'distant': 5,\n",
       "         'opposition': 3,\n",
       "         'butler': 1,\n",
       "         'separates': 1,\n",
       "         'Unless': 2,\n",
       "         'frost': 1,\n",
       "         'fainter': 2,\n",
       "         'tidings': 3,\n",
       "         'few': 71,\n",
       "         'Risk': 1,\n",
       "         'disappoint': 2,\n",
       "         'criticise': 1,\n",
       "         'senses': 4,\n",
       "         'Woods': 1,\n",
       "         'sent': 20,\n",
       "         'cassino': 1,\n",
       "         'attached': 11,\n",
       "         'condescends': 1,\n",
       "         'need': 19,\n",
       "         'uncommonly': 9,\n",
       "         'At': 44,\n",
       "         'trait': 1,\n",
       "         'fear': 25,\n",
       "         'untidy': 1,\n",
       "         'unstudied': 1,\n",
       "         'frighten': 1,\n",
       "         'disgust': 5,\n",
       "         'overflows': 1,\n",
       "         'discontented': 2,\n",
       "         'favourable': 12,\n",
       "         'hackney': 3,\n",
       "         'involves': 1,\n",
       "         'procured': 4,\n",
       "         'original': 4,\n",
       "         'formal': 9,\n",
       "         'premeditation': 1,\n",
       "         'prone': 2,\n",
       "         'despicably': 1,\n",
       "         'poultry': 3,\n",
       "         'reflect': 5,\n",
       "         'proxy': 1,\n",
       "         'second': 24,\n",
       "         'serve': 2,\n",
       "         'mortified': 5,\n",
       "         'unsubdued': 1,\n",
       "         'penetration': 2,\n",
       "         'eluded': 1,\n",
       "         'refuge': 1,\n",
       "         'purchased': 3,\n",
       "         'mix': 1,\n",
       "         'governed': 2,\n",
       "         'incessant': 1,\n",
       "         'disarm': 1,\n",
       "         'Be': 4,\n",
       "         'thinks': 4,\n",
       "         'waiting-woman': 1,\n",
       "         'half': 46,\n",
       "         'pompous': 3,\n",
       "         'declined': 6,\n",
       "         'list': 3,\n",
       "         'showed': 7,\n",
       "         'devoid': 1,\n",
       "         'replying': 3,\n",
       "         'nephew': 22,\n",
       "         'perform': 4,\n",
       "         'pull': 1,\n",
       "         'threatened': 1,\n",
       "         'doorway': 1,\n",
       "         'start': 2,\n",
       "         'dissatisfied': 4,\n",
       "         'we': 193,\n",
       "         'agitation': 6,\n",
       "         'fastidious': 2,\n",
       "         'orderly': 1,\n",
       "         'eligibility': 1,\n",
       "         'harmony': 1,\n",
       "         'footman': 1,\n",
       "         'twelvemonth': 7,\n",
       "         'fidgets': 1,\n",
       "         'inconsistency': 2,\n",
       "         'riding': 1,\n",
       "         'income': 11,\n",
       "         'inherit': 1,\n",
       "         '-an': 1,\n",
       "         'generations': 1,\n",
       "         'susceptibility': 1,\n",
       "         'justified': 5,\n",
       "         'recommended': 9,\n",
       "         'land': 1,\n",
       "         'devoting': 1,\n",
       "         'are': 322,\n",
       "         'replied': 103,\n",
       "         'dividing': 1,\n",
       "         'unaware': 1,\n",
       "         'Was': 3,\n",
       "         'astonished': 14,\n",
       "         'intend': 3,\n",
       "         'arose': 5,\n",
       "         'singing': 3,\n",
       "         'likelihood': 5,\n",
       "         'malicious': 2,\n",
       "         'estate': 20,\n",
       "         'justifying': 1,\n",
       "         'pleasure': 92,\n",
       "         'philosophic': 1,\n",
       "         'repress': 1,\n",
       "         'frisks': 1,\n",
       "         'store': 1,\n",
       "         'mindful': 1,\n",
       "         'assiduously': 1,\n",
       "         'disposal': 2,\n",
       "         'unfit': 2,\n",
       "         'forgiven': 1,\n",
       "         'exhibit': 1,\n",
       "         'slacken': 1,\n",
       "         'spoken': 16,\n",
       "         'laurel': 1,\n",
       "         'tents': 1,\n",
       "         'grief': 2,\n",
       "         'Lucas': 70,\n",
       "         'patient': 1,\n",
       "         'Are': 16,\n",
       "         'standing': 13,\n",
       "         'pointed': 5,\n",
       "         'tone': 16,\n",
       "         'wait': 17,\n",
       "         'rivals': 1,\n",
       "         'wearisome': 1,\n",
       "         'blaming': 3,\n",
       "         'sorry': 34,\n",
       "         'virtue': 10,\n",
       "         'dawdled': 1,\n",
       "         'palings': 1,\n",
       "         'conjunction': 1,\n",
       "         'bridegroom': 1,\n",
       "         'commendable': 1,\n",
       "         'opened': 16,\n",
       "         'spur': 1,\n",
       "         'article': 3,\n",
       "         'meanest': 1,\n",
       "         'henceforth': 1,\n",
       "         'harp': 1,\n",
       "         'delivered': 4,\n",
       "         'save': 3,\n",
       "         'complain': 4,\n",
       "         'apologised': 2,\n",
       "         'overspread': 3,\n",
       "         'affectation': 2,\n",
       "         'alternative': 3,\n",
       "         'revive': 1,\n",
       "         'misleading': 1,\n",
       "         'where': 83,\n",
       "         'importance': 22,\n",
       "         'loser': 1,\n",
       "         'lie': 1,\n",
       "         'disapprobation': 7,\n",
       "         'suggested': 5,\n",
       "         'lobby': 1,\n",
       "         'entreaties': 4,\n",
       "         'inured': 1,\n",
       "         'gaily': 2,\n",
       "         'However': 6,\n",
       "         'bound': 1,\n",
       "         'observe': 10,\n",
       "         'evenings': 4,\n",
       "         'junior': 1,\n",
       "         'occupies': 1,\n",
       "         'spot': 7,\n",
       "         'eligible': 7,\n",
       "         'appearing': 6,\n",
       "         'rank': 12,\n",
       "         'instructed': 1,\n",
       "         'revenging': 1,\n",
       "         'suppositions': 1,\n",
       "         'pleasantness': 3,\n",
       "         'superior': 18,\n",
       "         'supplication': 1,\n",
       "         'disgusting': 1,\n",
       "         'escaping': 1,\n",
       "         'season': 3,\n",
       "         'Neglect': 1,\n",
       "         'confined': 5,\n",
       "         'aloud': 11,\n",
       "         'intently': 2,\n",
       "         'satirical': 1,\n",
       "         'defer': 3,\n",
       "         'occurring': 2,\n",
       "         'amid': 1,\n",
       "         'essential': 2,\n",
       "         'unless': 17,\n",
       "         'stating': 2,\n",
       "         'apologies': 2,\n",
       "         'regulation': 1,\n",
       "         'herself': 228,\n",
       "         'stability': 1,\n",
       "         'trepidation': 1,\n",
       "         'skill': 3,\n",
       "         'decorum': 4,\n",
       "         'elsewhere': 5,\n",
       "         'possibly': 8,\n",
       "         'horse': 3,\n",
       "         'feet': 1,\n",
       "         'overpower': 1,\n",
       "         'ingenuity': 2,\n",
       "         'places': 5,\n",
       "         'ear': 1,\n",
       "         'foresaw': 1,\n",
       "         'diffuseness': 1,\n",
       "         'spring': 5,\n",
       "         'pleasures': 7,\n",
       "         'situation': 38,\n",
       "         '-by': 1,\n",
       "         'out.': 1,\n",
       "         'raptures': 7,\n",
       "         'gentle': 5,\n",
       "         'previously': 2,\n",
       "         'ridiculous': 4,\n",
       "         'dislikes': 1,\n",
       "         'Poor': 8,\n",
       "         'dwell': 2,\n",
       "         'sunk': 4,\n",
       "         'verdure': 1,\n",
       "         'scarlet': 2,\n",
       "         'personage': 1,\n",
       "         'insolent': 4,\n",
       "         'Rendered': 1,\n",
       "         'unbending': 1,\n",
       "         'Philips': 1,\n",
       "         'lieutenant': 1,\n",
       "         'uneasy': 8,\n",
       "         'intimidated': 1,\n",
       "         'spokesman': 1,\n",
       "         'symptoms': 2,\n",
       "         'older': 2,\n",
       "         'safety': 1,\n",
       "         'wrong': 15,\n",
       "         'gravity': 4,\n",
       "         'successor': 1,\n",
       "         'had': 1150,\n",
       "         'formidable': 4,\n",
       "         ...})"
      ]
     },
     "execution_count": 29,
     "metadata": {},
     "output_type": "execute_result"
    }
   ],
   "source": [
    "counts"
   ]
  },
  {
   "cell_type": "code",
   "execution_count": 32,
   "metadata": {
    "collapsed": false
   },
   "outputs": [
    {
     "name": "stdout",
     "output_type": "stream",
     "text": [
      ",\t9117\n",
      ".\t5034\n",
      "to\t4081\n",
      "the\t4047\n",
      "of\t3588\n",
      "and\t3377\n",
      "her\t2139\n",
      "I\t2049\n",
      "a\t1891\n",
      "was\t1841\n",
      "in\t1778\n",
      "``\t1770\n",
      "''\t1739\n",
      ";\t1538\n",
      "that\t1514\n"
     ]
    }
   ],
   "source": [
    "if counts:\n",
    "    for word,count in counts.most_common(15):\n",
    "        print(\"%s\\t%s\" % (word,count))\n",
    "else:\n",
    "    print(\"Something wrong with your path, no file read, so no word counts.\")"
   ]
  },
  {
   "cell_type": "code",
   "execution_count": null,
   "metadata": {
    "collapsed": true
   },
   "outputs": [],
   "source": []
  },
  {
   "cell_type": "code",
   "execution_count": 33,
   "metadata": {
    "collapsed": false
   },
   "outputs": [
    {
     "name": "stdout",
     "output_type": "stream",
     "text": [
      "the\t734\n",
      ",\t650\n",
      "of\t440\n",
      "and\t439\n",
      ".\t329\n",
      "a\t248\n",
      "to\t218\n",
      "in\t215\n",
      "I\t176\n",
      "was\t155\n"
     ]
    }
   ],
   "source": [
    "counts = get_most_common(\"data/books/lovecraft.txt\")\n",
    "for word,count in counts.most_common(10):\n",
    "        print(\"%s\\t%s\" % (word,count))"
   ]
  },
  {
   "cell_type": "code",
   "execution_count": 34,
   "metadata": {
    "collapsed": false
   },
   "outputs": [
    {
     "name": "stdout",
     "output_type": "stream",
     "text": [
      ",\t18923\n",
      "the\t13522\n",
      ".\t7064\n",
      "of\t6402\n",
      "and\t5931\n",
      "a\t4465\n",
      "to\t4444\n",
      ";\t4143\n",
      "in\t3830\n",
      "that\t2942\n"
     ]
    }
   ],
   "source": [
    "counts = get_most_common(\"data/books/Melville_MobyDick.txt\")\n",
    "for word,count in counts.most_common(10):\n",
    "        print(\"%s\\t%s\" % (word,count))"
   ]
  },
  {
   "cell_type": "markdown",
   "metadata": {},
   "source": [
    "These aren't very interesting top words.  Very different books look quite similar when you look at the most common tokens. The problem is that these are common words and punctuation, and they appear in all books the most frequently. You will read about Zipf's law in the reading this week."
   ]
  },
  {
   "cell_type": "markdown",
   "metadata": {},
   "source": [
    "## Removing Punctuation"
   ]
  },
  {
   "cell_type": "markdown",
   "metadata": {},
   "source": [
    "**There are 2 things we need to do to clean the word list.  One is remove punctuation, the other is remove stopwords.**\n",
    "\n",
    "**Let's use a list comprehension to remove the punctuation first.  We can get a list of punctuation from the string library.**"
   ]
  },
  {
   "cell_type": "code",
   "execution_count": 35,
   "metadata": {
    "collapsed": false
   },
   "outputs": [
    {
     "data": {
      "text/plain": [
       "['VOLUME',\n",
       " 'I',\n",
       " 'CHAPTER',\n",
       " 'I',\n",
       " 'Emma',\n",
       " 'Woodhouse',\n",
       " ',',\n",
       " 'handsome',\n",
       " ',',\n",
       " 'clever',\n",
       " ',',\n",
       " 'and']"
      ]
     },
     "execution_count": 35,
     "metadata": {},
     "output_type": "execute_result"
    }
   ],
   "source": [
    "tokens[4:16]"
   ]
  },
  {
   "cell_type": "code",
   "execution_count": 36,
   "metadata": {
    "collapsed": false
   },
   "outputs": [],
   "source": [
    "import string\n",
    "punctuation = string.punctuation"
   ]
  },
  {
   "cell_type": "code",
   "execution_count": 33,
   "metadata": {
    "collapsed": false
   },
   "outputs": [
    {
     "data": {
      "text/plain": [
       "'!\"#$%&\\'()*+,-./:;<=>?@[\\\\]^_`{|}~'"
      ]
     },
     "execution_count": 33,
     "metadata": {},
     "output_type": "execute_result"
    }
   ],
   "source": [
    "# notice this is a string of characters - see the quotes around it?\n",
    "punctuation"
   ]
  },
  {
   "cell_type": "code",
   "execution_count": 34,
   "metadata": {
    "collapsed": false
   },
   "outputs": [
    {
     "data": {
      "text/plain": [
       "191739"
      ]
     },
     "execution_count": 34,
     "metadata": {},
     "output_type": "execute_result"
    }
   ],
   "source": [
    "len(tokens)"
   ]
  },
  {
   "cell_type": "code",
   "execution_count": 35,
   "metadata": {
    "collapsed": false
   },
   "outputs": [
    {
     "data": {
      "text/plain": [
       "True"
      ]
     },
     "execution_count": 35,
     "metadata": {},
     "output_type": "execute_result"
    }
   ],
   "source": [
    "# remember we can do this with strings to test if they are substrings:\n",
    "'?' in punctuation"
   ]
  },
  {
   "cell_type": "code",
   "execution_count": 36,
   "metadata": {
    "collapsed": false
   },
   "outputs": [
    {
     "data": {
      "text/plain": [
       "False"
      ]
     },
     "execution_count": 36,
     "metadata": {},
     "output_type": "execute_result"
    }
   ],
   "source": [
    "\"a\" in punctuation"
   ]
  },
  {
   "cell_type": "code",
   "execution_count": 37,
   "metadata": {
    "collapsed": true
   },
   "outputs": [],
   "source": [
    "# this says: make my new list out of the elements in tokens if they aren't in punctuation.\n",
    "no_punct = [word for word in tokens if word not in punctuation]"
   ]
  },
  {
   "cell_type": "code",
   "execution_count": 38,
   "metadata": {
    "collapsed": false
   },
   "outputs": [
    {
     "data": {
      "text/plain": [
       "['VOLUME',\n",
       " 'I',\n",
       " 'CHAPTER',\n",
       " 'I',\n",
       " 'Emma',\n",
       " 'Woodhouse',\n",
       " 'handsome',\n",
       " 'clever',\n",
       " 'and',\n",
       " 'rich',\n",
       " 'with',\n",
       " 'a']"
      ]
     },
     "execution_count": 38,
     "metadata": {},
     "output_type": "execute_result"
    }
   ],
   "source": [
    "no_punct[4:16]"
   ]
  },
  {
   "cell_type": "code",
   "execution_count": 39,
   "metadata": {
    "collapsed": false
   },
   "outputs": [
    {
     "data": {
      "text/plain": [
       "22936"
      ]
     },
     "execution_count": 39,
     "metadata": {},
     "output_type": "execute_result"
    }
   ],
   "source": [
    "len(tokens) - len(no_punct)"
   ]
  },
  {
   "cell_type": "code",
   "execution_count": 42,
   "metadata": {
    "collapsed": false
   },
   "outputs": [],
   "source": [
    "# let's make a function.  I am assuming punctuation is a global variable, defined outside.\n",
    "# Frequently globals and constants are assigned at the top of your file with capital letters:\n",
    "\n",
    "import string\n",
    "\n",
    "PUNCTUATION = string.punctuation\n",
    "\n",
    "def remove_punct(wordlist):\n",
    "    return [word for word in wordlist if word not in PUNCTUATION]"
   ]
  },
  {
   "cell_type": "markdown",
   "metadata": {},
   "source": [
    "Let's edit our function for the most common words and add this into it."
   ]
  },
  {
   "cell_type": "code",
   "execution_count": 40,
   "metadata": {
    "collapsed": true
   },
   "outputs": [],
   "source": [
    "# Let's put printing inside the function right now:\n",
    "def print_most_common(filename, count=10):\n",
    "    # Takes a path to a file, splits it up into tokens, and prints the \"count\" most common.\n",
    "    # This version removes punctuation.\n",
    "    from collections import Counter\n",
    "    text = None\n",
    "    mycounts = None\n",
    "    \n",
    "    try:\n",
    "        with open(filename, errors=\"ignore\") as handle:\n",
    "            text = handle.read()\n",
    "            text = text.replace(\"\\n\", \" \")\n",
    "            words = nltk.word_tokenize(text)\n",
    "            \n",
    "            print(\"Total Length\", len(words))\n",
    "            words = remove_punct(words)  # new stuff!\n",
    "            print(\"Total Length After Punct Removal\", len(words))\n",
    "            \n",
    "            mycounts = Counter(words)\n",
    "            print(\"Word\\tCount\")\n",
    "            for word,count in mycounts.most_common(count):\n",
    "                print(\"%s\\t%s\" % (word,count))\n",
    "    except:\n",
    "        print(\"Something is wrong with your file location.\")"
   ]
  },
  {
   "cell_type": "code",
   "execution_count": 43,
   "metadata": {
    "collapsed": false
   },
   "outputs": [
    {
     "name": "stdout",
     "output_type": "stream",
     "text": [
      "Total Length 191739\n",
      "Total Length After Punct Removal 168803\n",
      "Word\tCount\n",
      "to\t5124\n",
      "the\t4842\n",
      "and\t4652\n",
      "of\t4272\n",
      "I\t3164\n",
      "--\t3097\n",
      "a\t3001\n",
      "was\t2383\n",
      "her\t2360\n",
      "not\t2242\n",
      "''\t2189\n",
      "in\t2103\n",
      "it\t2101\n",
      "``\t1998\n",
      "be\t1965\n"
     ]
    }
   ],
   "source": [
    "print_most_common(\"data/books/Austen_Emma.txt\",15)"
   ]
  },
  {
   "cell_type": "code",
   "execution_count": 44,
   "metadata": {
    "collapsed": false
   },
   "outputs": [
    {
     "name": "stdout",
     "output_type": "stream",
     "text": [
      "Total Length 12025\n",
      "Total Length After Punct Removal 10912\n",
      "Word\tCount\n",
      "the\t734\n",
      "of\t440\n",
      "and\t439\n",
      "a\t248\n",
      "to\t218\n",
      "in\t215\n",
      "I\t176\n",
      "was\t155\n",
      "had\t131\n",
      "that\t128\n",
      "which\t95\n",
      "my\t93\n",
      "with\t93\n",
      "it\t90\n",
      "--\t85\n"
     ]
    }
   ],
   "source": [
    "print_most_common(\"data/books/lovecraft.txt\",15)"
   ]
  },
  {
   "cell_type": "markdown",
   "metadata": {},
   "source": [
    "So what happened there? Any theories?"
   ]
  },
  {
   "cell_type": "markdown",
   "metadata": {},
   "source": [
    "### StopWords"
   ]
  },
  {
   "cell_type": "markdown",
   "metadata": {},
   "source": [
    "\"Stopwords\" are words that are usually excluded because they are common connectors (or determiners, or short verbs) that are not considered to carry meaning. **BEWARE**: Always check stopword lists to see if you agree with their contents!"
   ]
  },
  {
   "cell_type": "code",
   "execution_count": 49,
   "metadata": {
    "collapsed": false
   },
   "outputs": [],
   "source": [
    "from nltk.corpus import stopwords\n",
    "english_stops = stopwords.words('english')"
   ]
  },
  {
   "cell_type": "markdown",
   "metadata": {},
   "source": [
    "Notice they are lowercase.  This means we need to be sure we lowercase our text if we want to match against them."
   ]
  },
  {
   "cell_type": "code",
   "execution_count": 50,
   "metadata": {
    "collapsed": false
   },
   "outputs": [
    {
     "data": {
      "text/plain": [
       "['i',\n",
       " 'me',\n",
       " 'my',\n",
       " 'myself',\n",
       " 'we',\n",
       " 'our',\n",
       " 'ours',\n",
       " 'ourselves',\n",
       " 'you',\n",
       " 'your',\n",
       " 'yours',\n",
       " 'yourself',\n",
       " 'yourselves',\n",
       " 'he',\n",
       " 'him',\n",
       " 'his',\n",
       " 'himself',\n",
       " 'she',\n",
       " 'her',\n",
       " 'hers',\n",
       " 'herself',\n",
       " 'it',\n",
       " 'its',\n",
       " 'itself',\n",
       " 'they',\n",
       " 'them',\n",
       " 'their',\n",
       " 'theirs',\n",
       " 'themselves',\n",
       " 'what',\n",
       " 'which',\n",
       " 'who',\n",
       " 'whom',\n",
       " 'this',\n",
       " 'that',\n",
       " 'these',\n",
       " 'those',\n",
       " 'am',\n",
       " 'is',\n",
       " 'are',\n",
       " 'was',\n",
       " 'were',\n",
       " 'be',\n",
       " 'been',\n",
       " 'being',\n",
       " 'have',\n",
       " 'has',\n",
       " 'had',\n",
       " 'having',\n",
       " 'do',\n",
       " 'does',\n",
       " 'did',\n",
       " 'doing',\n",
       " 'a',\n",
       " 'an',\n",
       " 'the',\n",
       " 'and',\n",
       " 'but',\n",
       " 'if',\n",
       " 'or',\n",
       " 'because',\n",
       " 'as',\n",
       " 'until',\n",
       " 'while',\n",
       " 'of',\n",
       " 'at',\n",
       " 'by',\n",
       " 'for',\n",
       " 'with',\n",
       " 'about',\n",
       " 'against',\n",
       " 'between',\n",
       " 'into',\n",
       " 'through',\n",
       " 'during',\n",
       " 'before',\n",
       " 'after',\n",
       " 'above',\n",
       " 'below',\n",
       " 'to',\n",
       " 'from',\n",
       " 'up',\n",
       " 'down',\n",
       " 'in',\n",
       " 'out',\n",
       " 'on',\n",
       " 'off',\n",
       " 'over',\n",
       " 'under',\n",
       " 'again',\n",
       " 'further',\n",
       " 'then',\n",
       " 'once',\n",
       " 'here',\n",
       " 'there',\n",
       " 'when',\n",
       " 'where',\n",
       " 'why',\n",
       " 'how',\n",
       " 'all',\n",
       " 'any',\n",
       " 'both',\n",
       " 'each',\n",
       " 'few',\n",
       " 'more',\n",
       " 'most',\n",
       " 'other',\n",
       " 'some',\n",
       " 'such',\n",
       " 'no',\n",
       " 'nor',\n",
       " 'not',\n",
       " 'only',\n",
       " 'own',\n",
       " 'same',\n",
       " 'so',\n",
       " 'than',\n",
       " 'too',\n",
       " 'very',\n",
       " 's',\n",
       " 't',\n",
       " 'can',\n",
       " 'will',\n",
       " 'just',\n",
       " 'don',\n",
       " 'should',\n",
       " 'now',\n",
       " 'd',\n",
       " 'll',\n",
       " 'm',\n",
       " 'o',\n",
       " 're',\n",
       " 've',\n",
       " 'y',\n",
       " 'ain',\n",
       " 'aren',\n",
       " 'couldn',\n",
       " 'didn',\n",
       " 'doesn',\n",
       " 'hadn',\n",
       " 'hasn',\n",
       " 'haven',\n",
       " 'isn',\n",
       " 'ma',\n",
       " 'mightn',\n",
       " 'mustn',\n",
       " 'needn',\n",
       " 'shan',\n",
       " 'shouldn',\n",
       " 'wasn',\n",
       " 'weren',\n",
       " 'won',\n",
       " 'wouldn']"
      ]
     },
     "execution_count": 50,
     "metadata": {},
     "output_type": "execute_result"
    }
   ],
   "source": [
    "english_stops"
   ]
  },
  {
   "cell_type": "code",
   "execution_count": 52,
   "metadata": {
    "collapsed": false
   },
   "outputs": [
    {
     "data": {
      "text/plain": [
       "['au',\n",
       " 'aux',\n",
       " 'avec',\n",
       " 'ce',\n",
       " 'ces',\n",
       " 'dans',\n",
       " 'de',\n",
       " 'des',\n",
       " 'du',\n",
       " 'elle',\n",
       " 'en',\n",
       " 'et',\n",
       " 'eux',\n",
       " 'il',\n",
       " 'je',\n",
       " 'la',\n",
       " 'le',\n",
       " 'leur',\n",
       " 'lui',\n",
       " 'ma',\n",
       " 'mais',\n",
       " 'me',\n",
       " 'même',\n",
       " 'mes',\n",
       " 'moi',\n",
       " 'mon',\n",
       " 'ne',\n",
       " 'nos',\n",
       " 'notre',\n",
       " 'nous',\n",
       " 'on',\n",
       " 'ou',\n",
       " 'par',\n",
       " 'pas',\n",
       " 'pour',\n",
       " 'qu',\n",
       " 'que',\n",
       " 'qui',\n",
       " 'sa',\n",
       " 'se',\n",
       " 'ses',\n",
       " 'son',\n",
       " 'sur',\n",
       " 'ta',\n",
       " 'te',\n",
       " 'tes',\n",
       " 'toi',\n",
       " 'ton',\n",
       " 'tu',\n",
       " 'un',\n",
       " 'une',\n",
       " 'vos',\n",
       " 'votre',\n",
       " 'vous',\n",
       " 'c',\n",
       " 'd',\n",
       " 'j',\n",
       " 'l',\n",
       " 'à',\n",
       " 'm',\n",
       " 'n',\n",
       " 's',\n",
       " 't',\n",
       " 'y',\n",
       " 'été',\n",
       " 'étée',\n",
       " 'étées',\n",
       " 'étés',\n",
       " 'étant',\n",
       " 'étante',\n",
       " 'étants',\n",
       " 'étantes',\n",
       " 'suis',\n",
       " 'es',\n",
       " 'est',\n",
       " 'sommes',\n",
       " 'êtes',\n",
       " 'sont',\n",
       " 'serai',\n",
       " 'seras',\n",
       " 'sera',\n",
       " 'serons',\n",
       " 'serez',\n",
       " 'seront',\n",
       " 'serais',\n",
       " 'serait',\n",
       " 'serions',\n",
       " 'seriez',\n",
       " 'seraient',\n",
       " 'étais',\n",
       " 'était',\n",
       " 'étions',\n",
       " 'étiez',\n",
       " 'étaient',\n",
       " 'fus',\n",
       " 'fut',\n",
       " 'fûmes',\n",
       " 'fûtes',\n",
       " 'furent',\n",
       " 'sois',\n",
       " 'soit',\n",
       " 'soyons',\n",
       " 'soyez',\n",
       " 'soient',\n",
       " 'fusse',\n",
       " 'fusses',\n",
       " 'fût',\n",
       " 'fussions',\n",
       " 'fussiez',\n",
       " 'fussent',\n",
       " 'ayant',\n",
       " 'ayante',\n",
       " 'ayantes',\n",
       " 'ayants',\n",
       " 'eu',\n",
       " 'eue',\n",
       " 'eues',\n",
       " 'eus',\n",
       " 'ai',\n",
       " 'as',\n",
       " 'avons',\n",
       " 'avez',\n",
       " 'ont',\n",
       " 'aurai',\n",
       " 'auras',\n",
       " 'aura',\n",
       " 'aurons',\n",
       " 'aurez',\n",
       " 'auront',\n",
       " 'aurais',\n",
       " 'aurait',\n",
       " 'aurions',\n",
       " 'auriez',\n",
       " 'auraient',\n",
       " 'avais',\n",
       " 'avait',\n",
       " 'avions',\n",
       " 'aviez',\n",
       " 'avaient',\n",
       " 'eut',\n",
       " 'eûmes',\n",
       " 'eûtes',\n",
       " 'eurent',\n",
       " 'aie',\n",
       " 'aies',\n",
       " 'ait',\n",
       " 'ayons',\n",
       " 'ayez',\n",
       " 'aient',\n",
       " 'eusse',\n",
       " 'eusses',\n",
       " 'eût',\n",
       " 'eussions',\n",
       " 'eussiez',\n",
       " 'eussent']"
      ]
     },
     "execution_count": 52,
     "metadata": {},
     "output_type": "execute_result"
    }
   ],
   "source": [
    "french_stops = stopwords.words('french')\n",
    "french_stops"
   ]
  },
  {
   "cell_type": "markdown",
   "metadata": {},
   "source": [
    "** How would we get the french stopwords and look at them?**"
   ]
  },
  {
   "cell_type": "markdown",
   "metadata": {},
   "source": [
    "To remove stopwords efficiently, we need to make sure everything is lower case. This will also mean our counts are better in general. Words at the beginning of a sentence are still the same as words in the middle, just capitalized.  If we want good counts, they must all look the same."
   ]
  },
  {
   "cell_type": "code",
   "execution_count": 53,
   "metadata": {
    "collapsed": false
   },
   "outputs": [],
   "source": [
    "lowercase = [token.lower() for token in tokens]"
   ]
  },
  {
   "cell_type": "code",
   "execution_count": 56,
   "metadata": {
    "collapsed": false
   },
   "outputs": [
    {
     "data": {
      "text/plain": [
       "'austen'"
      ]
     },
     "execution_count": 56,
     "metadata": {},
     "output_type": "execute_result"
    }
   ],
   "source": [
    "tokens[3].lower()"
   ]
  },
  {
   "cell_type": "code",
   "execution_count": 57,
   "metadata": {
    "collapsed": false
   },
   "outputs": [
    {
     "data": {
      "text/plain": [
       "['emma',\n",
       " 'by',\n",
       " 'jane',\n",
       " 'austen',\n",
       " 'volume',\n",
       " 'i',\n",
       " 'chapter',\n",
       " 'i',\n",
       " 'emma',\n",
       " 'woodhouse']"
      ]
     },
     "execution_count": 57,
     "metadata": {},
     "output_type": "execute_result"
    }
   ],
   "source": [
    "lowercase[0:10]"
   ]
  },
  {
   "cell_type": "code",
   "execution_count": 58,
   "metadata": {
    "collapsed": false
   },
   "outputs": [
    {
     "name": "stdout",
     "output_type": "stream",
     "text": [
      "191739 191739\n"
     ]
    }
   ],
   "source": [
    "print(len(lowercase), len(tokens))"
   ]
  },
  {
   "cell_type": "code",
   "execution_count": 59,
   "metadata": {
    "collapsed": false
   },
   "outputs": [
    {
     "data": {
      "text/plain": [
       "104376"
      ]
     },
     "execution_count": 59,
     "metadata": {},
     "output_type": "execute_result"
    }
   ],
   "source": [
    "# try this without .lower() in the if-statement and check the size!\n",
    "# We are using a python list comprehension to remove the tokens from Emma (after lowercasing them!) that are stopwords\n",
    "nostops = [token for token in lowercase if token not in english_stops]\n",
    "len(nostops)"
   ]
  },
  {
   "cell_type": "code",
   "execution_count": 60,
   "metadata": {
    "collapsed": false
   },
   "outputs": [
    {
     "data": {
      "text/plain": [
       "['emma',\n",
       " 'jane',\n",
       " 'austen',\n",
       " 'volume',\n",
       " 'chapter',\n",
       " 'emma',\n",
       " 'woodhouse',\n",
       " ',',\n",
       " 'handsome',\n",
       " ',',\n",
       " 'clever',\n",
       " ',',\n",
       " 'rich',\n",
       " ',',\n",
       " 'comfortable']"
      ]
     },
     "execution_count": 60,
     "metadata": {},
     "output_type": "execute_result"
    }
   ],
   "source": [
    "# now look at the first 15 words:\n",
    "nostops[0:15]"
   ]
  },
  {
   "cell_type": "code",
   "execution_count": 62,
   "metadata": {
    "collapsed": false
   },
   "outputs": [],
   "source": [
    "\n",
    "def remove_stops(wordlist, stopwords):\n",
    "    # takes a list of words and stopwords and filters out stopwords after lowercasing\n",
    "    lowercase = [word.lower() for word in wordlist]\n",
    "    return [word for word in lowercase if word not in stopwords]"
   ]
  },
  {
   "cell_type": "code",
   "execution_count": 63,
   "metadata": {
    "collapsed": false
   },
   "outputs": [
    {
     "data": {
      "text/plain": [
       "['emma',\n",
       " 'jane',\n",
       " 'austen',\n",
       " 'volume',\n",
       " 'chapter',\n",
       " 'emma',\n",
       " 'woodhouse',\n",
       " ',',\n",
       " 'handsome',\n",
       " ',',\n",
       " 'clever',\n",
       " ',',\n",
       " 'rich',\n",
       " ',',\n",
       " 'comfortable',\n",
       " 'home',\n",
       " 'happy',\n",
       " 'disposition',\n",
       " ',',\n",
       " 'seemed',\n",
       " 'unite',\n",
       " 'best',\n",
       " 'blessings',\n",
       " 'existence',\n",
       " ';',\n",
       " 'lived',\n",
       " 'nearly',\n",
       " 'twenty-one',\n",
       " 'years',\n",
       " 'world',\n",
       " 'little',\n",
       " 'distress',\n",
       " 'vex',\n",
       " '.',\n",
       " 'youngest',\n",
       " 'two',\n",
       " 'daughters',\n",
       " 'affectionate',\n",
       " ',',\n",
       " 'indulgent',\n",
       " 'father',\n",
       " ';',\n",
       " ',',\n",
       " 'consequence',\n",
       " 'sister',\n",
       " \"'s\",\n",
       " 'marriage',\n",
       " ',',\n",
       " 'mistress',\n",
       " 'house',\n",
       " 'early',\n",
       " 'period',\n",
       " '.',\n",
       " 'mother',\n",
       " 'died',\n",
       " 'long',\n",
       " 'ago',\n",
       " 'indistinct',\n",
       " 'remembrance',\n",
       " 'caresses',\n",
       " ';',\n",
       " 'place',\n",
       " 'supplied',\n",
       " 'excellent',\n",
       " 'woman',\n",
       " 'governess',\n",
       " ',',\n",
       " 'fallen',\n",
       " 'little',\n",
       " 'short',\n",
       " 'mother',\n",
       " 'affection',\n",
       " '.',\n",
       " 'sixteen',\n",
       " 'years',\n",
       " 'miss',\n",
       " 'taylor',\n",
       " 'mr.',\n",
       " 'woodhouse',\n",
       " \"'s\",\n",
       " 'family',\n",
       " ',',\n",
       " 'less',\n",
       " 'governess',\n",
       " 'friend',\n",
       " ',',\n",
       " 'fond',\n",
       " 'daughters',\n",
       " ',',\n",
       " 'particularly',\n",
       " 'emma',\n",
       " '.',\n",
       " '_them_',\n",
       " 'intimacy',\n",
       " 'sisters',\n",
       " '.',\n",
       " 'even',\n",
       " 'miss',\n",
       " 'taylor',\n",
       " 'ceased',\n",
       " 'hold',\n",
       " 'nominal',\n",
       " 'office',\n",
       " 'governess',\n",
       " ',',\n",
       " 'mildness',\n",
       " 'temper',\n",
       " 'hardly',\n",
       " 'allowed',\n",
       " 'impose',\n",
       " 'restraint',\n",
       " ';',\n",
       " 'shadow',\n",
       " 'authority',\n",
       " 'long',\n",
       " 'passed',\n",
       " 'away',\n",
       " ',',\n",
       " 'living',\n",
       " 'together',\n",
       " 'friend',\n",
       " 'friend',\n",
       " 'mutually',\n",
       " 'attached',\n",
       " ',',\n",
       " 'emma',\n",
       " 'liked',\n",
       " ';',\n",
       " 'highly',\n",
       " 'esteeming',\n",
       " 'miss',\n",
       " 'taylor',\n",
       " \"'s\",\n",
       " 'judgment',\n",
       " ',',\n",
       " 'directed',\n",
       " 'chiefly',\n",
       " '.',\n",
       " 'real',\n",
       " 'evils',\n",
       " ',',\n",
       " 'indeed',\n",
       " ',',\n",
       " 'emma',\n",
       " \"'s\",\n",
       " 'situation',\n",
       " 'power',\n",
       " 'rather',\n",
       " 'much',\n",
       " 'way',\n",
       " ',',\n",
       " 'disposition',\n",
       " 'think',\n",
       " 'little',\n",
       " 'well',\n",
       " ';',\n",
       " 'disadvantages',\n",
       " 'threatened',\n",
       " 'alloy',\n",
       " 'many',\n",
       " 'enjoyments',\n",
       " '.',\n",
       " 'danger',\n",
       " ',',\n",
       " 'however',\n",
       " ',',\n",
       " 'present',\n",
       " 'unperceived',\n",
       " ',',\n",
       " 'means',\n",
       " 'rank',\n",
       " 'misfortunes',\n",
       " '.',\n",
       " 'sorrow',\n",
       " 'came',\n",
       " '--',\n",
       " 'gentle',\n",
       " 'sorrow',\n",
       " '--',\n",
       " 'shape',\n",
       " 'disagreeable',\n",
       " 'consciousness.',\n",
       " '--',\n",
       " 'miss',\n",
       " 'taylor',\n",
       " 'married',\n",
       " '.',\n",
       " 'miss',\n",
       " 'taylor',\n",
       " \"'s\",\n",
       " 'loss',\n",
       " 'first',\n",
       " 'brought',\n",
       " 'grief',\n",
       " '.',\n",
       " 'wedding-day',\n",
       " 'beloved',\n",
       " 'friend',\n",
       " 'emma',\n",
       " 'first',\n",
       " 'sat',\n",
       " 'mournful',\n",
       " 'thought',\n",
       " 'continuance',\n",
       " '.',\n",
       " 'wedding',\n",
       " ',',\n",
       " 'bride-people',\n",
       " 'gone',\n",
       " ',',\n",
       " 'father',\n",
       " 'left',\n",
       " 'dine',\n",
       " 'together',\n",
       " ',',\n",
       " 'prospect',\n",
       " 'third',\n",
       " 'cheer',\n",
       " 'long',\n",
       " 'evening',\n",
       " '.',\n",
       " 'father',\n",
       " 'composed',\n",
       " 'sleep',\n",
       " 'dinner',\n",
       " ',',\n",
       " 'usual',\n",
       " ',',\n",
       " 'sit',\n",
       " 'think',\n",
       " 'lost',\n",
       " '.',\n",
       " 'event',\n",
       " 'every',\n",
       " 'promise',\n",
       " 'happiness',\n",
       " 'friend',\n",
       " '.',\n",
       " 'mr.',\n",
       " 'weston',\n",
       " 'man',\n",
       " 'unexceptionable',\n",
       " 'character',\n",
       " ',',\n",
       " 'easy',\n",
       " 'fortune',\n",
       " ',',\n",
       " 'suitable',\n",
       " 'age',\n",
       " ',',\n",
       " 'pleasant',\n",
       " 'manners',\n",
       " ';',\n",
       " 'satisfaction',\n",
       " 'considering',\n",
       " 'self-denying',\n",
       " ',',\n",
       " 'generous',\n",
       " 'friendship',\n",
       " 'always',\n",
       " 'wished',\n",
       " 'promoted',\n",
       " 'match',\n",
       " ';',\n",
       " 'black',\n",
       " 'morning',\n",
       " \"'s\",\n",
       " 'work',\n",
       " '.',\n",
       " 'want',\n",
       " 'miss',\n",
       " 'taylor',\n",
       " 'would',\n",
       " 'felt',\n",
       " 'every',\n",
       " 'hour',\n",
       " 'every',\n",
       " 'day',\n",
       " '.',\n",
       " 'recalled',\n",
       " 'past',\n",
       " 'kindness',\n",
       " '--',\n",
       " 'kindness',\n",
       " ',',\n",
       " 'affection',\n",
       " 'sixteen',\n",
       " 'years',\n",
       " '--',\n",
       " 'taught',\n",
       " 'played',\n",
       " 'five',\n",
       " 'years',\n",
       " 'old',\n",
       " '--',\n",
       " 'devoted',\n",
       " 'powers',\n",
       " 'attach',\n",
       " 'amuse',\n",
       " 'health',\n",
       " '--',\n",
       " 'nursed',\n",
       " 'various',\n",
       " 'illnesses',\n",
       " 'childhood',\n",
       " '.',\n",
       " 'large',\n",
       " 'debt',\n",
       " 'gratitude',\n",
       " 'owing',\n",
       " ';',\n",
       " 'intercourse',\n",
       " 'last',\n",
       " 'seven',\n",
       " 'years',\n",
       " ',',\n",
       " 'equal',\n",
       " 'footing',\n",
       " 'perfect',\n",
       " 'unreserve',\n",
       " 'soon',\n",
       " 'followed',\n",
       " 'isabella',\n",
       " \"'s\",\n",
       " 'marriage',\n",
       " ',',\n",
       " 'left',\n",
       " ',',\n",
       " 'yet',\n",
       " 'dearer',\n",
       " ',',\n",
       " 'tenderer',\n",
       " 'recollection',\n",
       " '.',\n",
       " 'friend',\n",
       " 'companion',\n",
       " 'possessed',\n",
       " ':',\n",
       " 'intelligent',\n",
       " ',',\n",
       " 'well-informed',\n",
       " ',',\n",
       " 'useful',\n",
       " ',',\n",
       " 'gentle',\n",
       " ',',\n",
       " 'knowing',\n",
       " 'ways',\n",
       " 'family',\n",
       " ',',\n",
       " 'interested',\n",
       " 'concerns',\n",
       " ',',\n",
       " 'peculiarly',\n",
       " 'interested',\n",
       " ',',\n",
       " 'every',\n",
       " 'pleasure',\n",
       " ',',\n",
       " 'every',\n",
       " 'scheme',\n",
       " '--',\n",
       " 'one',\n",
       " 'could',\n",
       " 'speak',\n",
       " 'every',\n",
       " 'thought',\n",
       " 'arose',\n",
       " ',',\n",
       " 'affection',\n",
       " 'could',\n",
       " 'never',\n",
       " 'find',\n",
       " 'fault',\n",
       " '.',\n",
       " 'bear',\n",
       " 'change',\n",
       " '?',\n",
       " '--',\n",
       " 'true',\n",
       " 'friend',\n",
       " 'going',\n",
       " 'half',\n",
       " 'mile',\n",
       " ';',\n",
       " 'emma',\n",
       " 'aware',\n",
       " 'great',\n",
       " 'must',\n",
       " 'difference',\n",
       " 'mrs.',\n",
       " 'weston',\n",
       " ',',\n",
       " 'half',\n",
       " 'mile',\n",
       " ',',\n",
       " 'miss',\n",
       " 'taylor',\n",
       " 'house',\n",
       " ';',\n",
       " 'advantages',\n",
       " ',',\n",
       " 'natural',\n",
       " 'domestic',\n",
       " ',',\n",
       " 'great',\n",
       " 'danger',\n",
       " 'suffering',\n",
       " 'intellectual',\n",
       " 'solitude',\n",
       " '.',\n",
       " 'dearly',\n",
       " 'loved',\n",
       " 'father',\n",
       " ',',\n",
       " 'companion',\n",
       " '.',\n",
       " 'could',\n",
       " 'meet',\n",
       " 'conversation',\n",
       " ',',\n",
       " 'rational',\n",
       " 'playful',\n",
       " '.',\n",
       " 'evil',\n",
       " 'actual',\n",
       " 'disparity',\n",
       " 'ages',\n",
       " '(',\n",
       " 'mr.',\n",
       " 'woodhouse',\n",
       " 'married',\n",
       " 'early',\n",
       " ')',\n",
       " 'much',\n",
       " 'increased',\n",
       " 'constitution',\n",
       " 'habits',\n",
       " ';',\n",
       " 'valetudinarian',\n",
       " 'life',\n",
       " ',',\n",
       " 'without',\n",
       " 'activity',\n",
       " 'mind',\n",
       " 'body',\n",
       " ',',\n",
       " 'much',\n",
       " 'older',\n",
       " 'man',\n",
       " 'ways',\n",
       " 'years',\n",
       " ';',\n",
       " 'though',\n",
       " 'everywhere',\n",
       " 'beloved',\n",
       " 'friendliness',\n",
       " 'heart',\n",
       " 'amiable',\n",
       " 'temper',\n",
       " ',',\n",
       " 'talents',\n",
       " 'could',\n",
       " 'recommended',\n",
       " 'time',\n",
       " '.',\n",
       " 'sister',\n",
       " ',',\n",
       " 'though',\n",
       " 'comparatively',\n",
       " 'little',\n",
       " 'removed',\n",
       " 'matrimony',\n",
       " ',',\n",
       " 'settled',\n",
       " 'london',\n",
       " ',',\n",
       " 'sixteen',\n",
       " 'miles',\n",
       " ',',\n",
       " 'much',\n",
       " 'beyond',\n",
       " 'daily',\n",
       " 'reach',\n",
       " ';',\n",
       " 'many',\n",
       " 'long',\n",
       " 'october',\n",
       " 'november',\n",
       " 'evening',\n",
       " 'must',\n",
       " 'struggled',\n",
       " 'hartfield',\n",
       " ',',\n",
       " 'christmas',\n",
       " 'brought',\n",
       " 'next',\n",
       " 'visit',\n",
       " 'isabella',\n",
       " 'husband',\n",
       " ',',\n",
       " 'little',\n",
       " 'children',\n",
       " ',',\n",
       " 'fill',\n",
       " 'house',\n",
       " ',',\n",
       " 'give',\n",
       " 'pleasant',\n",
       " 'society',\n",
       " '.',\n",
       " 'highbury',\n",
       " ',',\n",
       " 'large',\n",
       " 'populous',\n",
       " 'village',\n",
       " ',',\n",
       " 'almost',\n",
       " 'amounting',\n",
       " 'town',\n",
       " ',',\n",
       " 'hartfield',\n",
       " ',',\n",
       " 'spite',\n",
       " 'separate',\n",
       " 'lawn',\n",
       " ',',\n",
       " 'shrubberies',\n",
       " ',',\n",
       " 'name',\n",
       " ',',\n",
       " 'really',\n",
       " 'belong',\n",
       " ',',\n",
       " 'afforded',\n",
       " 'equals',\n",
       " '.',\n",
       " 'woodhouses',\n",
       " 'first',\n",
       " 'consequence',\n",
       " '.',\n",
       " 'looked',\n",
       " '.',\n",
       " 'many',\n",
       " 'acquaintance',\n",
       " 'place',\n",
       " ',',\n",
       " 'father',\n",
       " 'universally',\n",
       " 'civil',\n",
       " ',',\n",
       " 'one',\n",
       " 'among',\n",
       " 'could',\n",
       " 'accepted',\n",
       " 'lieu',\n",
       " 'miss',\n",
       " 'taylor',\n",
       " 'even',\n",
       " 'half',\n",
       " 'day',\n",
       " '.',\n",
       " 'melancholy',\n",
       " 'change',\n",
       " ';',\n",
       " 'emma',\n",
       " 'could',\n",
       " 'sigh',\n",
       " ',',\n",
       " 'wish',\n",
       " 'impossible',\n",
       " 'things',\n",
       " ',',\n",
       " 'till',\n",
       " 'father',\n",
       " 'awoke',\n",
       " ',',\n",
       " 'made',\n",
       " 'necessary',\n",
       " 'cheerful',\n",
       " '.',\n",
       " 'spirits',\n",
       " 'required',\n",
       " 'support',\n",
       " '.',\n",
       " 'nervous',\n",
       " 'man',\n",
       " ',',\n",
       " 'easily',\n",
       " 'depressed',\n",
       " ';',\n",
       " 'fond',\n",
       " 'every',\n",
       " 'body',\n",
       " 'used',\n",
       " ',',\n",
       " 'hating',\n",
       " 'part',\n",
       " ';',\n",
       " 'hating',\n",
       " 'change',\n",
       " 'every',\n",
       " 'kind',\n",
       " '.',\n",
       " 'matrimony',\n",
       " ',',\n",
       " 'origin',\n",
       " 'change',\n",
       " ',',\n",
       " 'always',\n",
       " 'disagreeable',\n",
       " ';',\n",
       " 'means',\n",
       " 'yet',\n",
       " 'reconciled',\n",
       " 'daughter',\n",
       " \"'s\",\n",
       " 'marrying',\n",
       " ',',\n",
       " 'could',\n",
       " 'ever',\n",
       " 'speak',\n",
       " 'compassion',\n",
       " ',',\n",
       " 'though',\n",
       " 'entirely',\n",
       " 'match',\n",
       " 'affection',\n",
       " ',',\n",
       " 'obliged',\n",
       " 'part',\n",
       " 'miss',\n",
       " 'taylor',\n",
       " ';',\n",
       " 'habits',\n",
       " 'gentle',\n",
       " 'selfishness',\n",
       " ',',\n",
       " 'never',\n",
       " 'able',\n",
       " 'suppose',\n",
       " 'people',\n",
       " 'could',\n",
       " 'feel',\n",
       " 'differently',\n",
       " ',',\n",
       " 'much',\n",
       " 'disposed',\n",
       " 'think',\n",
       " 'miss',\n",
       " 'taylor',\n",
       " 'done',\n",
       " 'sad',\n",
       " 'thing',\n",
       " ',',\n",
       " 'would',\n",
       " 'great',\n",
       " 'deal',\n",
       " 'happier',\n",
       " 'spent',\n",
       " 'rest',\n",
       " 'life',\n",
       " 'hartfield',\n",
       " '.',\n",
       " 'emma',\n",
       " 'smiled',\n",
       " 'chatted',\n",
       " 'cheerfully',\n",
       " 'could',\n",
       " ',',\n",
       " 'keep',\n",
       " 'thoughts',\n",
       " ';',\n",
       " 'tea',\n",
       " 'came',\n",
       " ',',\n",
       " 'impossible',\n",
       " 'say',\n",
       " 'exactly',\n",
       " 'said',\n",
       " 'dinner',\n",
       " ',',\n",
       " '``',\n",
       " 'poor',\n",
       " 'miss',\n",
       " 'taylor',\n",
       " '!',\n",
       " '--',\n",
       " 'wish',\n",
       " '.',\n",
       " 'pity',\n",
       " 'mr.',\n",
       " 'weston',\n",
       " 'ever',\n",
       " 'thought',\n",
       " '!',\n",
       " \"''\",\n",
       " '``',\n",
       " 'agree',\n",
       " ',',\n",
       " 'papa',\n",
       " ';',\n",
       " 'know',\n",
       " '.',\n",
       " 'mr.',\n",
       " 'weston',\n",
       " 'good-humoured',\n",
       " ',',\n",
       " 'pleasant',\n",
       " ',',\n",
       " 'excellent',\n",
       " 'man',\n",
       " ',',\n",
       " 'thoroughly',\n",
       " 'deserves',\n",
       " 'good',\n",
       " 'wife',\n",
       " ';',\n",
       " '--',\n",
       " 'would',\n",
       " 'miss',\n",
       " 'taylor',\n",
       " 'live',\n",
       " 'us',\n",
       " 'ever',\n",
       " ',',\n",
       " 'bear',\n",
       " 'odd',\n",
       " 'humours',\n",
       " ',',\n",
       " 'might',\n",
       " 'house',\n",
       " '?',\n",
       " \"''\",\n",
       " '``',\n",
       " 'house',\n",
       " '!',\n",
       " '--',\n",
       " 'advantage',\n",
       " 'house',\n",
       " '?',\n",
       " 'three',\n",
       " 'times',\n",
       " 'large.',\n",
       " '--',\n",
       " 'never',\n",
       " 'odd',\n",
       " 'humours',\n",
       " ',',\n",
       " 'dear',\n",
       " '.',\n",
       " \"''\",\n",
       " '``',\n",
       " 'often',\n",
       " 'shall',\n",
       " 'going',\n",
       " 'see',\n",
       " ',',\n",
       " 'coming',\n",
       " 'see',\n",
       " 'us',\n",
       " '!',\n",
       " '--',\n",
       " 'shall',\n",
       " 'always',\n",
       " 'meeting',\n",
       " '!',\n",
       " '_we_',\n",
       " 'must',\n",
       " 'begin',\n",
       " ';',\n",
       " 'must',\n",
       " 'go',\n",
       " 'pay',\n",
       " 'wedding',\n",
       " 'visit',\n",
       " 'soon',\n",
       " '.',\n",
       " \"''\",\n",
       " '``',\n",
       " 'dear',\n",
       " ',',\n",
       " 'get',\n",
       " 'far',\n",
       " '?',\n",
       " 'randalls',\n",
       " 'distance',\n",
       " '.',\n",
       " 'could',\n",
       " 'walk',\n",
       " 'half',\n",
       " 'far',\n",
       " '.',\n",
       " \"''\",\n",
       " '``',\n",
       " ',',\n",
       " 'papa',\n",
       " ',',\n",
       " 'nobody',\n",
       " 'thought',\n",
       " 'walking',\n",
       " '.',\n",
       " 'must',\n",
       " 'go',\n",
       " 'carriage',\n",
       " ',',\n",
       " 'sure',\n",
       " '.',\n",
       " \"''\",\n",
       " '``',\n",
       " 'carriage',\n",
       " '!',\n",
       " 'james',\n",
       " 'like',\n",
       " 'put',\n",
       " 'horses',\n",
       " 'little',\n",
       " 'way',\n",
       " ';',\n",
       " '--',\n",
       " 'poor',\n",
       " 'horses',\n",
       " 'paying',\n",
       " 'visit',\n",
       " '?',\n",
       " \"''\",\n",
       " '``',\n",
       " 'put',\n",
       " 'mr.',\n",
       " 'weston',\n",
       " \"'s\",\n",
       " 'stable',\n",
       " ',',\n",
       " 'papa',\n",
       " '.',\n",
       " 'know',\n",
       " 'settled',\n",
       " 'already',\n",
       " '.',\n",
       " 'talked',\n",
       " 'mr.',\n",
       " 'weston',\n",
       " 'last',\n",
       " 'night',\n",
       " '.',\n",
       " 'james',\n",
       " ',',\n",
       " 'may',\n",
       " 'sure',\n",
       " 'always',\n",
       " 'like',\n",
       " 'going',\n",
       " 'randalls',\n",
       " ',',\n",
       " 'daughter',\n",
       " \"'s\",\n",
       " 'housemaid',\n",
       " '.',\n",
       " 'doubt',\n",
       " 'whether',\n",
       " 'ever',\n",
       " 'take',\n",
       " 'us',\n",
       " 'anywhere',\n",
       " 'else',\n",
       " '.',\n",
       " ',',\n",
       " 'papa',\n",
       " '.',\n",
       " 'got',\n",
       " 'hannah',\n",
       " 'good',\n",
       " 'place',\n",
       " '.',\n",
       " 'nobody',\n",
       " 'thought',\n",
       " 'hannah',\n",
       " 'till',\n",
       " 'mentioned',\n",
       " '--',\n",
       " 'james',\n",
       " 'obliged',\n",
       " '!',\n",
       " \"''\",\n",
       " '``',\n",
       " 'glad',\n",
       " 'think',\n",
       " '.',\n",
       " 'lucky',\n",
       " ',',\n",
       " 'would',\n",
       " 'poor',\n",
       " 'james',\n",
       " 'think',\n",
       " 'slighted',\n",
       " 'upon',\n",
       " 'account',\n",
       " ';',\n",
       " 'sure',\n",
       " 'make',\n",
       " 'good',\n",
       " 'servant',\n",
       " ':',\n",
       " 'civil',\n",
       " ',',\n",
       " 'pretty-spoken',\n",
       " 'girl',\n",
       " ';',\n",
       " 'great',\n",
       " 'opinion',\n",
       " '.',\n",
       " 'whenever',\n",
       " 'see',\n",
       " ',',\n",
       " 'always',\n",
       " 'curtseys',\n",
       " 'asks',\n",
       " ',',\n",
       " 'pretty',\n",
       " 'manner',\n",
       " ';',\n",
       " 'needlework',\n",
       " ',',\n",
       " 'observe',\n",
       " 'always',\n",
       " 'turns',\n",
       " 'lock',\n",
       " 'door',\n",
       " 'right',\n",
       " 'way',\n",
       " 'never',\n",
       " 'bangs',\n",
       " '.',\n",
       " 'sure',\n",
       " 'excellent',\n",
       " 'servant',\n",
       " ';',\n",
       " 'great',\n",
       " 'comfort',\n",
       " 'poor',\n",
       " 'miss',\n",
       " 'taylor',\n",
       " 'somebody',\n",
       " 'used',\n",
       " 'see',\n",
       " '.',\n",
       " 'whenever',\n",
       " 'james',\n",
       " 'goes',\n",
       " 'see',\n",
       " 'daughter',\n",
       " ',',\n",
       " 'know',\n",
       " ',',\n",
       " 'hearing',\n",
       " 'us',\n",
       " '.',\n",
       " 'able',\n",
       " 'tell',\n",
       " '.',\n",
       " \"''\",\n",
       " 'emma',\n",
       " 'spared',\n",
       " 'exertions',\n",
       " 'maintain',\n",
       " 'happier',\n",
       " 'flow',\n",
       " 'ideas',\n",
       " ',',\n",
       " 'hoped',\n",
       " ',',\n",
       " 'help',\n",
       " 'backgammon',\n",
       " ',',\n",
       " 'get',\n",
       " 'father',\n",
       " 'tolerably',\n",
       " 'evening',\n",
       " ',',\n",
       " 'attacked',\n",
       " 'regrets',\n",
       " '.',\n",
       " 'backgammon-table',\n",
       " 'placed',\n",
       " ';',\n",
       " 'visitor',\n",
       " 'immediately',\n",
       " 'afterwards',\n",
       " 'walked',\n",
       " 'made',\n",
       " 'unnecessary',\n",
       " '.',\n",
       " 'mr.',\n",
       " 'knightley',\n",
       " ',',\n",
       " 'sensible',\n",
       " 'man',\n",
       " 'seven',\n",
       " 'eight-and-thirty',\n",
       " ',',\n",
       " ...]"
      ]
     },
     "execution_count": 63,
     "metadata": {},
     "output_type": "execute_result"
    }
   ],
   "source": [
    "remove_stops(tokens, english_stops)"
   ]
  },
  {
   "cell_type": "markdown",
   "metadata": {},
   "source": [
    "Let's update our function again to remove stopwords along with making it all lowercase and removing punctuation."
   ]
  },
  {
   "cell_type": "code",
   "execution_count": 69,
   "metadata": {
    "collapsed": true
   },
   "outputs": [],
   "source": [
    "# Let's rename it again\n",
    "def print_most_common3(filename, stops, count=10):\n",
    "    # Takes a path to a file, splits it up into tokens, and prints the \"count\" most common.\n",
    "    # This version removes punctuation.\n",
    "    from collections import Counter\n",
    "    text = None\n",
    "    mycounts = None\n",
    "    try:\n",
    "        with open(filename, errors=\"ignore\") as handle:\n",
    "            text = handle.read()\n",
    "            text = text.replace(\"\\n\", \" \")\n",
    "            words = nltk.word_tokenize(text)\n",
    "            \n",
    "            print(\"Length Before Cleaning\", len(words))\n",
    "            words = remove_punct(words)\n",
    "            words = remove_stops(words, stops)\n",
    "            print(\"Length After Cleaning\", len(words))\n",
    "            \n",
    "            mycounts = Counter(words)\n",
    "            print(\"Word\\tCount\")\n",
    "            for word,count in mycounts.most_common(count):\n",
    "                print(\"%s\\t%s\" % (word,count))\n",
    "    except:\n",
    "        print(\"Something is wrong with your file location.\")"
   ]
  },
  {
   "cell_type": "code",
   "execution_count": 71,
   "metadata": {
    "collapsed": false
   },
   "outputs": [
    {
     "name": "stdout",
     "output_type": "stream",
     "text": [
      "Length Before Cleaning 191739\n",
      "Length After Cleaning 81440\n",
      "Word\tCount\n",
      "--\t3097\n",
      "''\t2189\n",
      "``\t1998\n",
      "mr.\t1089\n",
      "'s\t926\n",
      "emma\t860\n",
      "could\t836\n",
      "would\t818\n",
      "mrs.\t668\n",
      "miss\t597\n"
     ]
    }
   ],
   "source": [
    "print_most_common3(\"data/books/Austen_Emma.txt\", english_stops)"
   ]
  },
  {
   "cell_type": "code",
   "execution_count": 73,
   "metadata": {
    "collapsed": false
   },
   "outputs": [
    {
     "name": "stdout",
     "output_type": "stream",
     "text": [
      "Length Before Cleaning 250560\n",
      "Length After Cleaning 113170\n",
      "Word\tCount\n",
      "'s\t1725\n",
      "--\t1616\n",
      "''\t1442\n",
      "``\t1414\n",
      "whale\t1027\n",
      "one\t899\n",
      "like\t572\n",
      "upon\t560\n",
      "ahab\t511\n",
      "man\t496\n",
      "ship\t464\n",
      "old\t439\n",
      "ye\t433\n",
      "would\t430\n",
      "though\t380\n"
     ]
    }
   ],
   "source": [
    "print_most_common3(\"data/books/Melville_MobyDick.txt\", english_stops, 15)"
   ]
  },
  {
   "cell_type": "markdown",
   "metadata": {},
   "source": [
    "We can write a little function to allow us to remove any string we want, too.  This is basically a custom stopwords filter."
   ]
  },
  {
   "cell_type": "code",
   "execution_count": 74,
   "metadata": {
    "collapsed": true
   },
   "outputs": [],
   "source": [
    "def remove_custom(wordlist, mylist):\n",
    "    return [word for word in wordlist if word not in mylist]"
   ]
  },
  {
   "cell_type": "code",
   "execution_count": 75,
   "metadata": {
    "collapsed": true
   },
   "outputs": [],
   "source": [
    "# a list of words to also remove might start like this:\n",
    "TO_REMOVE = [\"--\",\"``\",\"'s\", \"''\" ]"
   ]
  },
  {
   "cell_type": "code",
   "execution_count": 76,
   "metadata": {
    "collapsed": false
   },
   "outputs": [
    {
     "data": {
      "text/plain": [
       "['hi', 'fred']"
      ]
     },
     "execution_count": 76,
     "metadata": {},
     "output_type": "execute_result"
    }
   ],
   "source": [
    "# test it out:\n",
    "remove_custom(['hi', '--', 'fred'], TO_REMOVE)"
   ]
  },
  {
   "cell_type": "markdown",
   "metadata": {},
   "source": [
    "### So how would we use this and the other removal and cleaning functions?\n",
    "\n",
    "In our functions, we are just doing things to our words list, one after another."
   ]
  },
  {
   "cell_type": "code",
   "execution_count": 78,
   "metadata": {
    "collapsed": true
   },
   "outputs": [],
   "source": [
    "mywords = ['Hi', 'there', ',', 'Sally', '--', 'this', 'is', 'the', 'FBI', '.']"
   ]
  },
  {
   "cell_type": "code",
   "execution_count": 79,
   "metadata": {
    "collapsed": false
   },
   "outputs": [
    {
     "data": {
      "text/plain": [
       "['Hi', 'there', 'Sally', '--', 'this', 'is', 'the', 'FBI']"
      ]
     },
     "execution_count": 79,
     "metadata": {},
     "output_type": "execute_result"
    }
   ],
   "source": [
    "words = remove_punct(mywords)\n",
    "words"
   ]
  },
  {
   "cell_type": "code",
   "execution_count": 80,
   "metadata": {
    "collapsed": false
   },
   "outputs": [
    {
     "data": {
      "text/plain": [
       "['hi', 'sally', '--', 'fbi']"
      ]
     },
     "execution_count": 80,
     "metadata": {},
     "output_type": "execute_result"
    }
   ],
   "source": [
    "words = remove_stops(words, STOPS)\n",
    "words"
   ]
  },
  {
   "cell_type": "code",
   "execution_count": 81,
   "metadata": {
    "collapsed": false
   },
   "outputs": [
    {
     "data": {
      "text/plain": [
       "['hi', 'sally', 'fbi']"
      ]
     },
     "execution_count": 81,
     "metadata": {},
     "output_type": "execute_result"
    }
   ],
   "source": [
    "words = remove_custom(words, TO_REMOVE)\n",
    "words"
   ]
  },
  {
   "cell_type": "markdown",
   "metadata": {},
   "source": [
    "How would we use it in our existing function?  We might need to change the arguments we call this with, to pass in the list of custom stopwords.  Edit this in class to add remove_custom and handle the new list of custom stopwords:"
   ]
  },
  {
   "cell_type": "code",
   "execution_count": 82,
   "metadata": {
    "collapsed": true
   },
   "outputs": [],
   "source": [
    "# Let's rename it again\n",
    "def print_most_common4(filename, stopwords, customstops=None, count=10):\n",
    "    # Takes a path to a file, splits it up into tokens, and prints the \"count\" most common.\n",
    "    # This version removes punctuation.\n",
    "    from collections import Counter\n",
    "    text = None\n",
    "    mycounts = None\n",
    "    if not customstops:\n",
    "        customstops = []\n",
    "        \n",
    "    try:\n",
    "        with open(filename, errors=\"ignore\") as handle:\n",
    "            text = handle.read()\n",
    "            text = text.replace(\"\\n\", \" \")\n",
    "            words = nltk.word_tokenize(text)\n",
    "            \n",
    "            words = remove_punct(words)\n",
    "            words = remove_stops(words, stopwords)\n",
    "            words = remove_custom(words, customstops)\n",
    "            \n",
    "            mycounts = Counter(words)\n",
    "            print(\"Word\\tCount\")\n",
    "            for word,count in mycounts.most_common(count):\n",
    "                print(\"%s\\t%s\" % (word,count))\n",
    "    except:\n",
    "        print(\"Something is wrong with your file location.\")"
   ]
  },
  {
   "cell_type": "markdown",
   "metadata": {},
   "source": [
    "So now when you call that, you should be able to see a list you can live with."
   ]
  },
  {
   "cell_type": "code",
   "execution_count": 84,
   "metadata": {
    "collapsed": false
   },
   "outputs": [
    {
     "name": "stdout",
     "output_type": "stream",
     "text": [
      "Word\tCount\n",
      "mr.\t1089\n",
      "emma\t860\n",
      "could\t836\n",
      "would\t818\n",
      "mrs.\t668\n",
      "miss\t597\n",
      "must\t566\n",
      "harriet\t500\n",
      "much\t484\n",
      "said\t483\n",
      "one\t447\n",
      "weston\t437\n",
      "every\t434\n",
      "thing\t394\n",
      "elton\t384\n"
     ]
    }
   ],
   "source": [
    "# here's how we might call this after editing it... (this is a hint)\n",
    "print_most_common4(\"data/books/Austen_Emma.txt\", english_stops, customstops=TO_REMOVE, count=15)"
   ]
  },
  {
   "cell_type": "code",
   "execution_count": 85,
   "metadata": {
    "collapsed": false
   },
   "outputs": [
    {
     "name": "stdout",
     "output_type": "stream",
     "text": [
      "Word\tCount\n",
      "house\t59\n",
      "street\t41\n",
      "uncle\t39\n",
      "one\t35\n",
      "harris\t34\n",
      "could\t29\n",
      "seemed\t27\n",
      "would\t22\n",
      "might\t21\n",
      "door\t20\n",
      "thing\t18\n",
      "shunned\t18\n",
      "place\t17\n",
      "cellar\t17\n",
      "time\t16\n"
     ]
    }
   ],
   "source": [
    "# here's how we might call this after editing it... (this is a hint)\n",
    "print_most_common4(\"data/books/lovecraft.txt\", STOPS, customstops=TO_REMOVE, count=15)"
   ]
  },
  {
   "cell_type": "code",
   "execution_count": 86,
   "metadata": {
    "collapsed": false
   },
   "outputs": [
    {
     "name": "stdout",
     "output_type": "stream",
     "text": [
      "Word\tCount\n",
      "whale\t1027\n",
      "one\t899\n",
      "like\t572\n",
      "upon\t560\n",
      "ahab\t511\n",
      "man\t496\n",
      "ship\t464\n",
      "old\t439\n",
      "ye\t433\n",
      "would\t430\n",
      "though\t380\n",
      "sea\t367\n",
      "yet\t344\n",
      "time\t324\n",
      "captain\t323\n"
     ]
    }
   ],
   "source": [
    "# here's how we might call this after editing it... (this is a hint)\n",
    "print_most_common4(\"data/books/Melville_MobyDick.txt\", english_stops, customstops=TO_REMOVE, count=15)"
   ]
  },
  {
   "cell_type": "markdown",
   "metadata": {},
   "source": [
    "You might want to read about Python functions, positional arguments, and keyword-named arguments here: http://sys-exit.blogspot.fr/2013/07/python-positional-arguments-and-keyword.html "
   ]
  },
  {
   "cell_type": "markdown",
   "metadata": {},
   "source": [
    "### Refactoring "
   ]
  },
  {
   "cell_type": "markdown",
   "metadata": {},
   "source": [
    "Let's add a bunch of separate little functions now to pull apart the cleaning from the printing.  We might want to use that list of words for more than just a print."
   ]
  },
  {
   "cell_type": "code",
   "execution_count": 87,
   "metadata": {
    "collapsed": true
   },
   "outputs": [],
   "source": [
    "def tokenize_text(path):\n",
    "    # This takes a file path and word_tokenizes it, returning a list of words.\n",
    "    words = None\n",
    "    try:\n",
    "        with open(path, errors=\"ignore\") as handle:\n",
    "            text = handle.read()\n",
    "            text = text.replace(\"\\n\", \" \")\n",
    "            words = nltk.word_tokenize(text)\n",
    "            return words\n",
    "    except:\n",
    "        return None"
   ]
  },
  {
   "cell_type": "code",
   "execution_count": 89,
   "metadata": {
    "collapsed": true
   },
   "outputs": [],
   "source": [
    "def print_counts(tokens, count=10):\n",
    "    # Takes a list of words, counts, prints top \"count\" words.\n",
    "    from collections import Counter\n",
    "    mycounts = Counter(tokens)\n",
    "    print(\"Word\\tCount\")\n",
    "    for word,count in mycounts.most_common(count):\n",
    "        print(\"%s\\t%s\" % (word,count))"
   ]
  },
  {
   "cell_type": "code",
   "execution_count": 90,
   "metadata": {
    "collapsed": false
   },
   "outputs": [],
   "source": [
    "# Now let's define a small python function that's a pretty common one for text processing.\n",
    "\n",
    "def clean_tokens(tokens, stops):\n",
    "    \"\"\" Lowercases, takes out punct and stopwords and short strings. \"\"\"\n",
    "    words = remove_punct(tokens)\n",
    "    words = remove_stops(words, stops)\n",
    "    return words"
   ]
  },
  {
   "cell_type": "code",
   "execution_count": 91,
   "metadata": {
    "collapsed": false,
    "scrolled": true
   },
   "outputs": [
    {
     "data": {
      "text/plain": [
       "['EMMA',\n",
       " 'BY',\n",
       " 'JANE',\n",
       " 'AUSTEN',\n",
       " 'VOLUME',\n",
       " 'I',\n",
       " 'CHAPTER',\n",
       " 'I',\n",
       " 'Emma',\n",
       " 'Woodhouse']"
      ]
     },
     "execution_count": 91,
     "metadata": {},
     "output_type": "execute_result"
    }
   ],
   "source": [
    "emma = tokenize_text(\"data/books/Austen_Emma.txt\")\n",
    "emma[0:10]"
   ]
  },
  {
   "cell_type": "code",
   "execution_count": 92,
   "metadata": {
    "collapsed": false
   },
   "outputs": [
    {
     "data": {
      "text/plain": [
       "['emma',\n",
       " 'jane',\n",
       " 'austen',\n",
       " 'volume',\n",
       " 'chapter',\n",
       " 'emma',\n",
       " 'woodhouse',\n",
       " 'handsome',\n",
       " 'clever',\n",
       " 'rich']"
      ]
     },
     "execution_count": 92,
     "metadata": {},
     "output_type": "execute_result"
    }
   ],
   "source": [
    "emma_clean = clean_tokens(emma, english_stops)\n",
    "emma_clean[0:10]"
   ]
  },
  {
   "cell_type": "code",
   "execution_count": 93,
   "metadata": {
    "collapsed": false
   },
   "outputs": [
    {
     "data": {
      "text/plain": [
       "81440"
      ]
     },
     "execution_count": 93,
     "metadata": {},
     "output_type": "execute_result"
    }
   ],
   "source": [
    "len(emma_clean)"
   ]
  },
  {
   "cell_type": "code",
   "execution_count": 94,
   "metadata": {
    "collapsed": false
   },
   "outputs": [],
   "source": [
    "emma_cleaner = remove_custom(emma_clean, TO_REMOVE)"
   ]
  },
  {
   "cell_type": "code",
   "execution_count": 96,
   "metadata": {
    "collapsed": false
   },
   "outputs": [
    {
     "data": {
      "text/plain": [
       "['emma',\n",
       " 'jane',\n",
       " 'austen',\n",
       " 'volume',\n",
       " 'chapter',\n",
       " 'emma',\n",
       " 'woodhouse',\n",
       " 'handsome',\n",
       " 'clever',\n",
       " 'rich',\n",
       " 'comfortable',\n",
       " 'home',\n",
       " 'happy',\n",
       " 'disposition',\n",
       " 'seemed',\n",
       " 'unite',\n",
       " 'best',\n",
       " 'blessings',\n",
       " 'existence',\n",
       " 'lived',\n",
       " 'nearly',\n",
       " 'twenty-one',\n",
       " 'years',\n",
       " 'world',\n",
       " 'little',\n",
       " 'distress',\n",
       " 'vex',\n",
       " 'youngest',\n",
       " 'two',\n",
       " 'daughters',\n",
       " 'affectionate',\n",
       " 'indulgent',\n",
       " 'father',\n",
       " 'consequence',\n",
       " 'sister',\n",
       " 'marriage',\n",
       " 'mistress',\n",
       " 'house',\n",
       " 'early',\n",
       " 'period']"
      ]
     },
     "execution_count": 96,
     "metadata": {},
     "output_type": "execute_result"
    }
   ],
   "source": [
    "emma_cleaner[0:40]"
   ]
  },
  {
   "cell_type": "code",
   "execution_count": 97,
   "metadata": {
    "collapsed": false
   },
   "outputs": [
    {
     "data": {
      "text/plain": [
       "73230"
      ]
     },
     "execution_count": 97,
     "metadata": {},
     "output_type": "execute_result"
    }
   ],
   "source": [
    "len(emma_cleaner)"
   ]
  },
  {
   "cell_type": "code",
   "execution_count": 98,
   "metadata": {
    "collapsed": false
   },
   "outputs": [
    {
     "name": "stdout",
     "output_type": "stream",
     "text": [
      "Word\tCount\n",
      "mr.\t1089\n",
      "emma\t860\n",
      "could\t836\n",
      "would\t818\n",
      "mrs.\t668\n",
      "miss\t597\n",
      "must\t566\n",
      "harriet\t500\n",
      "much\t484\n",
      "said\t483\n"
     ]
    }
   ],
   "source": [
    "print_counts(emma_cleaner)"
   ]
  },
  {
   "cell_type": "markdown",
   "metadata": {},
   "source": [
    "What would you do now?"
   ]
  },
  {
   "cell_type": "markdown",
   "metadata": {},
   "source": [
    "## Count Word Frequencies Using NLTK"
   ]
  },
  {
   "cell_type": "code",
   "execution_count": 99,
   "metadata": {
    "collapsed": false
   },
   "outputs": [],
   "source": [
    "# Another way to do this is with nltk.FreqDist, which creates an object with keys that are \n",
    "# the vocabulary, and values for the counts- just like a counter.\n",
    "\n",
    "frequencies = nltk.FreqDist(emma_cleaner)"
   ]
  },
  {
   "cell_type": "code",
   "execution_count": 100,
   "metadata": {
    "collapsed": false
   },
   "outputs": [
    {
     "data": {
      "text/plain": [
       "1089"
      ]
     },
     "execution_count": 100,
     "metadata": {},
     "output_type": "execute_result"
    }
   ],
   "source": [
    "frequencies['mr.']"
   ]
  },
  {
   "cell_type": "code",
   "execution_count": 101,
   "metadata": {
    "collapsed": false
   },
   "outputs": [
    {
     "data": {
      "text/plain": [
       "[('mr.', 1089),\n",
       " ('emma', 860),\n",
       " ('could', 836),\n",
       " ('would', 818),\n",
       " ('mrs.', 668),\n",
       " ('miss', 597),\n",
       " ('must', 566),\n",
       " ('harriet', 500),\n",
       " ('much', 484),\n",
       " ('said', 483)]"
      ]
     },
     "execution_count": 101,
     "metadata": {},
     "output_type": "execute_result"
    }
   ],
   "source": [
    "frequencies.most_common(10)"
   ]
  },
  {
   "cell_type": "code",
   "execution_count": null,
   "metadata": {
    "collapsed": true
   },
   "outputs": [],
   "source": [
    "# vocabulary size - unique tokens"
   ]
  },
  {
   "cell_type": "code",
   "execution_count": 163,
   "metadata": {
    "collapsed": false
   },
   "outputs": [
    {
     "data": {
      "text/plain": [
       "dict_keys(['chuse', 'some.', 'knew', 'etc', 'verses', 'praises', 'noticed', 'deliver', 'rout-cakes', 'coachman', 'perfect', 'hoped', 'inferiorities', 'uncomfortable', 'suggest', 'comtesse', 'strikes', 'base', 'undesignedly', 'incapable', 'indignantly', 'jumping', 'stept', 'waiting', 'coloured', '_were_', 'depended', 'removal', 'standard', 'perverse', 'voted', 'mounts', 'example', 'cheer', 'falls', 'dated', 'magnified', 'swiftly', 'persons', 'fear', 'complimenter', 'prohibited', 'young', 'men', 'inquiries', 'reminded', 'generally', 'hindered', 'concluding', 'elegant', 'haberdasher', 'quickened', 'child', 'hint', 'presides', 'dream', 'tautology', 'lost', 'tenderly', 'remonstrance', 'over-salted', 'tremblings', 'vicarage.', 'arrange', 'unsaid', 'slice', 'skill', 'groundless', 'housemaid', 'indulged', 'continual', 'simplicity', 'precision', 'laugh', 'hear.', 'grant', 'medical', \"'three\", 'linen-draper', 'relieved', 'live', 'enough', 'nobility', 'liberally', 'occupations', 'cromer', 'heretofore', 'overseers', 'dreaded', 'intended', 'impertinence', 'solicitous', 'sort', 'pitcher', 'inferiority', 'steep', 'classing', 'comprehend', 'vouchsafe', 'shewing', '_accepted_', 'artlessly', 'serious', 'ten', 'maintenance', 'mr.', 'brighter', 'prophetically', 'utterance', 'endeavours', 'replying', 'misconstrued', 'standers-by', 'counter', 'opposed', 'congratulations', 'speeches', 'invites', '_that_', 'situated', 'narrow', 'impartially', 'cheerfully', 'elegantly', 'fragrance', 'london', 'bestow', 'happier', 'casement', 'activity', 'dangers', 'conundrums', 'decides', 'dinners', 'avoided', 'maintaining', 'braithwaites', 'woods.', 'wondering', 'sketch', 'dearest', 'likenesses', 'detailing', 'portioning', 'overhear', 'hesitate', 'sup', 'wheres', 'force', 'recovered.', 'porker', 'stories', 'weight', 'flirted', 'leaving', 'term', 'solace', 'thankful', 'blush', 'sharp', 'ago.', 'cramer.', 'drills', 'spread', '_thoughts_', 'lungs', 'closing', 'fate', 'conquest', 'engrossed', 'effect.', 'acuteness', 'relate', 'larger', 'forgiving', 'beauty', 'listeners', 'cheek', 'enmity', 'intelligence', 'sufferable', 'pictures', 'twisted', 'nice', 'resolved.', 'secure', 'elevation', 'needlessly', 'subscribe', 'seconds', 'angles', 'writer', 'roast', 'pitch', 'cure', 'design', 'introductions', 'thanked', 'supper-room', 'slackened', 'm.', 'sneers', 'affectation', 'earlier', 'purchase', 'measuring', 'obtrude', 'prone', 'teazed', 'denying', \"'my\", 'left', 'spoken', 'avail', 'floated', 'cole', 'send', 'ninth', 'prevails', 'clothes', 'assented', 'resuming', 'sets', 'would-be', 'beaming', 'concern', 'stores', 'income', 'questionable', 'uncouthness', '_invite_', 'commanded', 'proprieties', 'listlessness', 'devoting', 'relapsing', 'superior', 'articulate', 'poultry-yards', 'shabby', 'handsome', 'footstep', 'feelings', 'achieved', 'rises', 'wingfield', 'ball', 'thrown.', 'neptune', 'jeffereys', 'eggs', 'fancied', 'unobjectionable', 'accidental', 'reproach', 'lament', 'six', 'way.', 'reserved', 'bears', 'accumulation', 'heir', 'fright', 'designedly', 'engagements', 'uninterruptedly', 'mule', 'seemed', 'benevolent', 'interior', 'bustle', 'introducing', 'conviction', 'daughter', 'hope.', 'ended', 'scale', 'fidgets', 'neglected', 'forest', 'taylor', 'fearful', '28th', 'expectation', 'convivial', 'dissatisfaction', 'cows', 'returning', 'closed', 'interesting.', 'vouches', 'sheep', 'visitings', 'generations', 'attributed', 'horrible', 'reconciliation', 'indeed.', 'argued', 'respected', 'ninety', 'unexceptionable', 'trust', '_each_', 'murmured', 'believed', 'stolen', 'unfeeling', 'verse', 'antidote', 'illnesses', 'grandeur', 'behindhand', 'hints', 'backgammon.', 'counsellor', 'undertaken', 'boils', 'spectacles.', 'took', 'vessel', 'oppressed', 'engaging', 'linguist', 'oblige', 'collect', 'geography', 'sandwiches', 'abilities', 'humiliation', 'goodness', 'stockings', 'blameable', 'decease', 'including', 'wretch', 'exclaiming', 'plague', 'rule', 'anticipated', 'separations', 'moved', 'attended', 'untowardly', 'minor', 'praised', 'supposition', 'chief', 'usually', 'school-girl', 'suspension', 'lucky', 'peremptorily', 'given', 'lonely', 'selina', 'well-known', 'oftener', '_felt_', 'exercise', 'briskness', 'merry', 'wounded', 'cabbage-beds', 'lately.', 'permit', 'exertion', 'behold', 'mounted', 'recommended', 'hung', 'divide', 'finds', 'evidence', 'weston', 'serle', 'reproachful', 'ground', 'despatch', 'sweetness', 'abdy', 'front', 'personage', 'soften', 'attentions', 'wound', 'snows', 'drink', 'luck.', 'distance', 'dissentient', 'hautboy', 'momentary', 'well-behaved', 'dimensions', 'gone', 'vanish', 'attributing', 'filled', 'hearts', 'owed', 'omit', 'get', 'abstained', 'testify', 'sacrificing', 'healthy', 'irksomeness', 'meanly', 'reverse.', 'scenes', 'coming.', 'cut', 'terms', 'hitherto', 'provoked', 'gallantry', 'happy.', 'five', 'kept', 'urgent', 'ingenious', 'found', 'deduction', 'pain', 'shrunk', 'completely', 'sun', 'singing', 'grace', 'in-betweens', 'weakly', 'tempered', 'mixture', 'lips', 'terrified', 'authorised', 'amity', 'induce', 'heaven', 'partners', 'misconceptions', 'highest', 'diffident', 'seemingly', 'remonstrated', 'longing', 'regularity', 'detecting', 'disguised', 'draught', 'price', 'circumspection', 'shrinking', 'undaunted', 'attentions.', 'us.', 'pressingly', 'done', 'solemnity', 'mama', 'situation', 'eight', '_his_', 'door', \"ford's.\", 'flourishing', 'forgive', 'communications', 'over-throw', 'justice', 'interruption', 'fallen', 'begged', 'nursery', 'alive', 'advising', 'remains', 'hired', 'truths', 'decisive', 'avoiding', 'whisper', 'censure', 'evening', 'fails', '_shall_', 'pedal', 'acre', 'twinkling', 'appeared', 'precedes', 'scholar', 'corner', 'separate', 'aggression', 'wandering', 'forgot', 'compress', 'audible', 'mine', 'presuming', \"'even\", 'half-whisper', 'incline', 'shamefully', 'december', 'singular', 'actions', 'keep', 'shortly.', \"'miss\", 'sounded', 'advice', 'brick', 'dignities', 'trifling.', \"d'ostalis\", 'imperfection', 'scrupulous', 'mourning', 'leads', 'whose', 'unconcern', '_housebreaking_', 'acquaintance', 'respecting', 'dozen', 'descriptive', 'copying', 'surpass', 'innocently', 'baking', 'return', 'tranquil', 'lights', 'enigmas', 'obscurity', 'formerly', 'third-rate', 'neither', 'waters', 'irritation', 'something', 'succeeding', 'choice', 'warfare', 'eyes.', 'run', 'implore', 'vindicated', 'dignity', 'wonderful', 'exposed', 'vacation', 'swisserland', 'forward.', 'mildest', 'bend', 'even', 'puppyism', 'retired', 'quite', 'loss', 'reprobating', 'foretell', 'self-consequence', 'governess-trade', 'still', 'belongs', 'corn', 'reckoned', 'lover', 'coachmen', 'countenance', 'solicitation', 'fried', 'parishes', 'olive', 'relations', 'give', 'moderately', 'cross', 'inattentive', 'foresee', 'sure', 'prevalence', 'vision', 'engross', 'wax-candles', 'travel', 'possessed', 'stables', 'complaints', 'puzzle', 'accomplished', 'foresaw', 'witty', 'reticule', 'learned', 'harp', 'fast', 'inhabited', 'charade', 'frightened', 'ill-fame', 'suppress', 'affording', 'individual', 'suited', 'recovery', 'repute', 'regardless', 'large', 'collections', 'stating', 'easily', 'sing', 'close', 'follies', 'discuss', 'good-nature', 'regular', 'indistinct', 'vicar', 'evinced', 'recur', 'accommodation', 'reigns', 'arm-in-arm', \"'exactly\", 'refinement', 'forestall', 'please', 'comparison', 'kite', 'perrys', 'gave', 'liked', 'high', 'deposit', 'formal', 'loudness', 'abolition', 'n.', 'ones', 'flakes', 'tone', 'muttering', 'steps', 'division', 'locked', 'listened', 'dispose', 'poet', 'contracted', 'questioned', 'appointments', 'irresistible.', 'protesting', 'pigeon-pies', 'fortune', 'wallises', 'accept', 'lest', 'drinking', 'silent', 'motto', 'misunderstand', 'ill-judged', 'transplanted', 'amiable', 'fruit', 'presenting', 'reprehension', 'impassable', 'utility', 'over-trimmed', 'duped', 'expressed', 'rise', 'own.', 'consequences', 'exertions', 'reanimation', 'sails', 'broad', 'buyings', 'dilatory', 'hundreds', 'abused', 'penetration', 'erroneous', 'dryness', 'inconveniences', 'entreaties', 'resisting', 'broth', 'friendliness', 'fastidious', 'consistently', 'heap', 'resorted', 'curve', '_marry_', 'deliberating', 'knightley', 'unfeelingly', '_tell_', 'debasement', 'horsewoman', 'music', 'institute', 'observed.', 'hither', 'write', 'vent', 'english', 'chili', 'produce', 'bed-room', 'sky', \"d'almane\", 'nature.', 'warm', 'fully', 'draws', 'assurance', 'characteristic', 'separating', 'imagination', 'suffer', 'learnt', 'prodigy', 'along', 'impediment', 'briefly', 'richly', 'overcharged', 'featured', 'pocket-book', 'observations', 'shedding', 'arrow', 'compliments.', 'contributing', 'deprecated', 'pondering', 'asked', 'similar', 'acquitted', 'appeal', 'sung', 'improving', 'helping', 'unfair', 'coxes', 'conduct', 'irresistible', 'ingratitude', 'sixpence', 'deciphered', 'colours', 'lead.', 'senses', 'paling', 'scissors', 'absurd', 'understanding', '_gentleman_', 'lasted', 'blameless', 'doubtfully', 'houseroom', 'gained', 'ornamented', 'eye-lashes', 'fault', 'pushed', 'excepting', 'youthful', 'delivered', 'devise', 'scruples', 'came', 'foundation', 'rack', 'bestowed', 'hurried', 'safe.', 'doomed', 'personally', 'teacher', 'insincere', 'wept', 'lists', 'lets', 'lose', 'thanks', 'wednesday', 'endeared', 'multiplied', 'ingeniously', 'clownish', 'vulgar', 'renewal', 'kingdom', '_when_', 'violence', 'turns', 'risks.', 'freedom.', 'inflicted', 'avoid', 'mis-judging', 'churchwardens', 'peeped', 'reality', 'handwriting', 'washing', 'necessarily', 'trifles', 'follow', 'gloom', 'beautiful', 'precautions', 'nearer', 'unequivocally', 'interest', 'extracts', 'conversations', 'circumstance', 'surrounded', 'relation', 'sufferers', 'cautioned', 'lessen', 'conveyed', 'packs', 'apiece', 'minority', 'intolerable', 'impossible.', 'glass', 'attitude', 'bone', 'changes', 'sublimity', 'notions', 'right.', 'spoiled', 'thankfully', 'broadway', 'frown', 'abundance', 'disinterestedness', 'attestation', 'xi', 'exerted', 'giggle', 'wedding', 'scouted', 'mistaken', 'bailiff', 'disappointing', 'birthday', 'engravings', 'ridden', 'directed', 'trembled', 'severity', 'everywhere', 'contain', 'otway', 'civility', 'parting', 'understood', 'way', 'descried', 'correctly', 'unreasonably', 'acknowledging', 'shoes', 'unfolded', 'perceiving', 'repent', 'immediately.', 'fellow', 'stoutly', 'dryly', 'endeavoured', 'gold', 'proof', 'practised', 'night.', 'ca', '_bride_', 'perturbation', 'dwindled', 'shook', 'play', 'incommoding', 'proving', 'doctrines', 'waiters', 'sweeping', 'temporary', 'refresh', 'reproof', 'best-tempered', 'rejected', 'lime', 'perceive', 'deficiency', 'forms', 'accent', 'acknowledgment', 'bandied', 'restore', 'friday', 'side.', 'signify', 'agreement', 'yourself.', 'divided', 'vigorous', 'contrivances', 'disturbance', 'encountered', 'watches', 'doleful', 'thousand', 'profits', 'wants.', 'nicely', 'hardened', 'sour', '_your_', 'peculiar', 'vouchsafing', 'idlest', 'dismay', 'fine', 'offences', 'french', 'first', \"'why\", 'hating', 'gone.', 'propriety', 'checked', 'urbanity', 'repentance', 'flock', 'examine', 'first-rate', 'missing', 'exceedingly', 'inward', 'affronted', 'afforded', 'enlivened', 'sitting', 'stupidity', 'worse.', 'glow', 'fall', 'illegitimacy', 'involuntarily', 'hopeless.', 'aspect', 'delicately', 'reading', 'effusions', 'youngest', 'gentlemanlike', 'touchstone', 'attempt', 'militia', 'suppressed', 'horse-back', 'secures', 'quantity', 'sofa', 'injury', 'maple', 'fondest', 'nestled', 'widely', 'arguments', 'hyperbolical', 'protestation', 'bitterness', 'hastily', 'omission', 'trophies', 'amiss', 'hesitation', 'likely', 'humble', 'recover', 'inclination', 'appealed', 'aspersion', 'impartial', 'strive', 'reserves', 'bragges', 'deal', 'gladness', 'expected', 'friend.', 'waded', 'shop', 'bilious', 'supply', 'mother-in-law', 'disgusted', 'back-gammon', 'unseasonableness', 'defend', 'space', 'welcoming', 'nought', 'earth', 'thanker', 'puddle', 'accidentally', 'development', 'glimpse', 'lent', 'distinction', 'foot', 'deplorable', 'last', '_now_', 'night', 'converse', 'peculiarity', 'ceremonious', '_must_', 'strange', 'fagged', 'relented', 'alphabetically', 'composedly', 'entering', 'past', 'trifle', 'currants', 'ceaseless', 'apparatus', 'glory', 'grove', 'restrained', 'scornful', 'checking', 'ceremonies', 'absorbing', 'spared', 'fearless', 'clemency', 'sting', 'fondly', 'comment', 'bluntness', '_assistance_', 'presented', 'scold', 'drawings', 'perplexity', 'encouragements', '_my_', 'procure', 'acquire', 'gravity', 'servant', 'dead', 'admission', 'animation', 'gradations', 'mention', 'larkins', 'thorough', 'wish', 'suitable', 'deemed', 'respectably', 'bounded', 'solitude', 'since', 'combined', 'henceforward', '_a_', 'observable', 'decided', 'choose', 'lock', 'influence', 'failures', 'stoop', 'complexion', 'neighbours.', 'arrangement', 'mill', 'unfeignedly', 'sheltered', 'unfit', 'penetrate', 'passive', 'inconsideration', 'awe', 'nailed', 'consequence', 'richest', 'shawl', 'asparagus', 'raise', 'right', 'restless', 'amity.', 'human', 'grievously', 'deservedly', 'his.', 'gratification', 'oddities', 'contrive', 'shut', 'gaily', 'specimen', 'oh', 'mighty', 'speed', 'preserves', 'prejudiced', 'proud', 'beneath', 'kindness.', 'advance', 'unsuitable', 'using', 'biscuits', 'gaieties', 'papa.', 'arthur', 'lame', 'protecting', 'harmonise', 'entire', 'deaf', 'meant', 'grateful', 'approached', 'merriment', 'grandmother', 'basket', 'know.', 'overcome.', 'holyhead', 'shrubbery', 'heightened', 'retirement.', 'suspicions', 'doubled', 'world', 'date', 'luck', 'forfeited', 'sight.', 'small-sized', 'john.', 'matting', 'partner', 'likeliest', 'merit', 'dubious', 'derived', 'born', 'neighbour', 'steeper', 'hue', 'general', 'suffers', 'round', 'leaves', 'riddles', 'forgotten', 'pardon', 'gain', 'vanity-baits', 'distant.', 'dispel', 'knee', 'arisen', 'penitence', 'bewildered', 'gentleness', 'put-to', 'proportionate', 'measles', 'sha', 'interesting', 'furnish', 'much', 'throughout', 'calls', 'cooling', 'self-willed', 'flow', 'followed', 'dialogue', 'mischief', 'deed', 'obstacles', 'favouring', 'bred', 'invited', 'start', 'basins', 'spot', 'blushes', 'papa', 'bushel', 'assure', 'smith', 'littleness', 'windows', 'least', 'restored', 'henry', 'letting', 'pretty.', 'signed', 'silenced', 'could.', 'indeed', 'ungallant', 'black', 'weddings', 'softer', 'ponds', 'workbasket', 'indulgence', 'pencil', 'fits', 'face', 'glaring', 'martins', 'avert', 'tea-visit', 'freedom', 'puff', 'information', 'energetic', 'increasing', 'darting', '26th', 'freeze', 'intermission', 'silver', 'graver', 'paused.', 'else', 'gratify', 'chatty', 'villain.', 'inexpressible', 'stayed', 'confuse', 'allowed', 'screen', 'actually', 'refine', 'convenience.', 'immaterial', 'harbour', 'note', 'individually', 'deep', 'persuade', 'windsor', 'counties', 'feminine', 'shall', 'riddle', 'mistress', 'discovering', 'confidant', 'reassembled', 'word.', 'disagree', 'cottage', 'curiosity', 'invaluable', 'rained', 'tippet', 'sphere', 'defence', 'detach', 'undertaking', '23rd', '_there_', 'impending', 'strenuously', 'meditating', 'broken', 'orders', 'laughing', 'outrage', 'reconcile', 'apprehending', 'crushed', 'quivering', 'fortunate', 'falsehoods', 'behaviour', 'bench', 'clerk', 'clamorous', 'ignorance', 'scream', 'commit', 'efficacy', 'arrive', 'advertising', 'abide', 'unknown', 'property', 'consider', 'contemptible', 'distrusted', 'approving', 'come', 'gentility', 'lace', 'gravely', 'performance', 'pack', 'suffered', 'dancing', 'hungry', 'missed', 'indoors', 'extent.', 'fellows', 'slightingly', 'verdure', 'insulting', 'indulgent', 'portion', 'commandingly', 'pore', 'prolonged', 'joyous', 'unfortunately', 'idleness', 'fruitless', 'punishment', 'prevailed', 'renewed', 'enduring', 'vouch', 'different', 'despise', 'lasting', 'phrase', 'slyness', 'thereabouts', 'yielding', 'self-interest', 'smile', 'plants', 'indifference', 'seeing', 'accomplishment', 'around', 'deafness', 'embarrassment', 'motive', 'coast', 'selves', 'goodnatured', 'lands', 'returned', 'ran', 'count', 'sly', 'plan.', 'looked', 'exultingly', 'moving', 'honoured.', 'desire', 'enscombe', 'quarrelsome', 'achievement', 'stationary', 'mat', 'exclaimed', 'rest.', 'act', 'interruptions', 'feeling', 'drawing', 'vain', 'appease', 'honourably', 'exceeding', 'cherries', 'catherine', 'daughters', 'method', 'ages', 'cameos', 'xiv', 'concealing', 'blaming', 'buried', 'morning', 'somehow', 'seas', 'seldom', 'estimation', 'respectfully', 'tempers', 'constantly', 'serenity', '_present_', 'continuance', 'custom', 'son-in-law', 'fears', 'operations', 'rumour', 'sweep-gate', '_would_', 'vault', 'sensibility', 'regularly', 'gesture', 'behaviour.', 'notch', 'forty-eight', 'brown', 'contemplate', 'volubility', 'intent', 'aspired', \"'do\", 'impede', 'refined', 'familiarise', 'integrity', 'curious', 'job', 'dismal', '_with_', 'reply', 'proceeded', 'cramp', 'judging', 'threatening', 'boyish', 'fuss', 'committed', 'suffice', 'ranks', 'unless', 'gipsies', 'caresses', 'inclines', 'jewels', 'evils', 'wise.', 'eccentric', 'capabilities', 'contrary', 'henceforth', \"'well\", 'veneration', 'popularity.', 'bed-time', 'surrender', 'begin.', 'dust', 'thinks', 'inequality', 'randall', \"'woman\", 'glibly', '_dissolved_', 'childhood', 'slow', 'engaged', 'astonishing', 'occasions', 'wasted', 'illumination', 'effecting', 'sudden', 'magistrate', 'three-and-twenty', 'calculate', 'country.', 'sadly', 'sixpences', 'facts', 'nervous', 'expedients', 'farther.', 'reputation', 'complimentary', '_the', 'misinterpreted', 'draw', 'windsor.', 'meetings', 'tie', 'teach', 'unquestionably', 'disputing', 'xviii', 'languish', 'string', 'robe', 'gently', 'hears', 'affection.', 'alas', 'greeted', 'barnes', 'tears', 'shilling', 'possibly', 'fainted', 'other.', 'guess', 'interfered', 'clear-sighted', 'refreshments', 'misunderstanding', 'weighs', 'inquietudes', 'soothe', 'assume', 'ride', 'despaired', 'minutes', 'render', 'say', 'vii', 'bride-people', 'knock', 'changeable.', 'requisition', 'form.', 'significantly', 'dashed', 'wherever', 'permanent', 'accountable', 'regulated', 'win', 'doctoring', 'openness', 'heedlessness', 'anywhere.', 'poignant', 'discontinuing', 'knack', 'previously', 'became', 'admirably', 'suffered.', 'mercantile', 'ceased', 'whispering', 'permission', 'sometimes', '_sposo_', 'suspicious', 'highbury.', 'orphan', 'gates', 'morrow', 'driven', 'covered', 'scramble', 'compared', 'keenly', 'strictly', 'mentioning', 'defended', 'confidantes', 'dispensing', 'brings', 'inspired', '_broke_', 'prettily', 'delegating', 'wife', 'forwards', 'outcry', 'pools', 'lamenting', 'dashing', 'host', 'exaggeration', 'windy', 'agreed', \"fairfax's.\", 'dreadfully', 'hospitality', 'selfish', 'talkativeness', 'good-tempered', 'happened', 'allowance', 'respects', 'insipid', 'self-deceived', 'alarmed', 'another', 'crayons', 'alliance', 'medicine', 'dwell', 'rejoined', 'meditations', 'undertook', 'superiority', 'prospect', 'dorking', 'bids', 'slices', 'uneasiness', 'written', 'grand', 'caring', 'merited', 'hair', 'uncertain', 'pearls', 'may', 'lavished', 'much.', 'released', 'mechanically', 'fortune.', 'ceases', 'father.', '_wanted_', 'airs', 'to-day', 'clinging', 'foreseen', 'expediency', 'perseverance', 'welch', 's.', 'affirm', 'replied.', 'defer', 'posture', 'embraces', 'felicities', 'serve', 'reproached', 'deceit', 'footsteps', 'coming', 'equality', 'cart', 'goddard', 'carelessly', 'deference', 'constitutions', 'half-boot', 'unwelcome', 'inventing', 'dealing', 'proofs', 'able', 'account.', 'earliest', 'youth', 'exhausted', 'awakened', 'conveniences', 'gallant', 'whole-length', 'scattered', 'merits', 'wright', 'reconciliation.', 'ciphers', 'flurry', 'watching', 'imaginist', 'rejoiced', 'anger', 'irregular', 'thoughtfully', 'well-built', 'spend', 'smells', 'speedily', 'stopped.', 'well-doing', 'dispiriting', 'taste.', 'rapidly', 'constant', 'purchasing', 'minced', 'beloved', 'forming', 'remonstrances', 'naming', 'retreated', 'confined', 'insinuating', 'felicity', 'occurrences', 'direction', 'expressing', 'fatal', 'bed', 'instigator', 'truer', 'ever', 'spleen', 'rationality', 'objection', 'discovered', 'peace', 'sighs', 'good-will', 'turn', 'independence', 'anxious', 'displeased', '_engagement_', 'consulting', 'flower', 'clothing', 'sensible', 'unconsciously', 'conduce', 'interference', 'suspecting', 'quicken', 'rested', 'gang', 'bound', 'betraying', 'snowing', 'penetrated', 'especially', 'put-off', 'hurting', 'grammarian', 'reminding', 'entrapped', 'tacitly', 'tidings', 'pleasure.', 'luckiest', 'hearty', 'blossom', 'determine', 'collecting', 'freed', 'implicitly', '_to_', 'unsteady', 'behave', 'least.', 'elton', 'long-standing', 'tolerated', 'constrained', 'devil', 'threatened', 'saturday', 'inference', 'outstepped', 'sobering', 'recovering', 'fact', 'creditably', 'wantonness', 'gifts', 'soliloquy', 'also', 'path', 'longest-sighted', 'humourist', 'popularity', 'lively', 'projected', 'tune', 'existence.', 'flame', 'cutting', 'covering', 'tenaciously', 'care', 'performers', 'damp', 'complete', 'perplexing', 'blue', 'tongues', 'north', 'probable', 'announcing', 'delusion', 'preference', 'system', 'gate', 'danger', 'convenient', 'contrast', 'claim', '_first_', 'led', 'admiration', 'mild', 'faultless', 'change', 'plain', 'hundred.', 'advancing', 'loved', 'congratulatory', 'moreover', 'inducement', 'v', 'pronounce', 'dictated', 'stain', 'borne', '_think_', 'bordering', 'unlikely', 'quantities', 'project', 'call', 'knight-errantry', 'grounds.', 'prudence', 'depreciating', 'tyrannic', 'head-aches', 'detailed', 'streets', 'measures', 'disingenuousness', 'conscience-stricken', 'pronounced', 'cheerful-tempered', 'understanding.', 'impolite', 'diverted', 'wrist', 'apples', 'unchecked', 'cleared', 'match-making', 'result', 'application', 'eagerness', 'fashion', 'move', 'protracted', 'great.', '_compassion_', 'hanging', 'indescribable', 'bates', 'served', 'clifton', 'lined', 'modern', 'thirteen', 'thousands.', 'car', 'wear', 'narration', 'sentence', 'archly', 'variation', 'pardoned', 'drank', 'right-minded', 'hill', 'perfectly', 'catch', 'xii', 'comparatively', 'attempted', 'cherishing', 'water', 'averting', 'reached', 'rejection', 'ostensible', 'luxuries', 'coarse', 'allied', 'esteeming', 'respectable', 'energy', 'satisfied', 'ashamed', 'devoid', 'excites', 'seduced', 'bring', 'issued', 'near', 'denial', 'parcels', 'grandpapas', 'faces', 'fairfax.', 'fatigues', 'appellation', 'interposed', 'ignorant', 'tender-hearted', 'well-judging', '_compliments_', 'throat', 'bit', 'subsequent', 'finesse', 'representation', 'proverb', 'fuller', 'detestable', 'course', 'severe', 'intellects', 'shoulder', 'spinet', 'weighing', 'reason.', 'hoping', 'exactly', '_both_', 'piquet', 'madness', 'defects', 'cattle', 'polite', 'happiness.', 'dry', 'wickedness', 'carrying', 'queen', 'park', '_mediocre_', 'separation', 'prominent', 'iv', 'sixty-five', 'mode', 'removed', 'fill', 'salary', 'self-control', 'somebody', 'independent', 'subject.', 'haunts', 'proprietor', 'july', 'summer', 'belong', 'condescension', 'scanty', 'accordant', 'witnessing', 'one', 'necessity', 'referring', 'hatred', 'unsuspected', 'delicacy', 'drawback', 'without', '_just_', 'nowhere', 'extravagance', 'easy', 'seized', 'conferred', 'pre-arrangement', 'prize', 'holiday', 'flutter', 'sufficient', 'sleep', 'allies', 'support', 'particularly', 'turkeys', 'knowing', 'nature', 'objectionable', 'endure', 'permanently', 'nieces', 'cordially', 'esteem', 'wretchedest', 'milder', 'object', 'involved.', 'professing', 'waverings', 'greatly', 'remiss.', 'quickest', 'pays', 'said', 'opportune', 'decide', 'replied', 'ladylike', 'intimately', 'court', 'relates', 'infection', 'consistent', 'ambition', 'solicitude', 'arrowroot', 'shocked', 'effusion', 'graciously', 'respect', 'travelling', 'irritated', 'let', \"'rather\", 'packet', 'kindly', 'inevitably', '_at_', 'thaw', 'admitted', 'cards', 'shadow', 'plaintive', 'decorum', 'trade', 'oftentimes', 'deadening', 'worked', 'marking', 'consulted', 'self', 'bow-window', 'joyously', 'square.', 'dwelt', 'ill-equipped', 'colour', 'survey', 'mock', 'rather', 'evenings', 're-urged', 'suits', '_thing_', 'male', 'pointed', 'entangled', 'finest', 'startled', 'bella', 'indiscreetly', 'cheerlessness', 'although', 'ancient', 'regarded', 'parents', 'female', 'behind-hand', 'me.', 'surely', 'frighten', 'timid', 'credulity', 'gardens', 'signified', 'needless', 'remote', 'trimming', 'conditionally', 'rescue', 'rave', 'assuring', 'sight', 'accepts', 'submit', 'runs', 'known.', 'snowed', 'nobody', 'blind', 'bar', 'speck', 'natural.', 'interposition', 'unexampled', 'alone', 'miserable.', 'comparative', 'freshened', 'framed', 'erection', 'incongruity', 'lateness', 'hesitated', 'consequently', 'half-glass', 'freak', 'undergoing', 'indisposition', 'alleviation', 'hours', 'suit', 'expecting', 'woman', 'sashed', 'assert', 'scoundrel', 'endeavour', 'sauntering', 'trident', 'good.', 'condemn', 'valetudinarian', 'beginnings', 'here.', 'practice', 'evil', 'occupied', 'wittier', 'remarkably', 'anxiety', 'inferred', 'fix', 'middling', 'meditated', 'exhibitions', 'parted', 'feature', \"'his\", 'hurts', 'best', 'strangers', 'hand', 'indifferent', 'guest', 'detained', 'eaten', 'dares', 'money', 'courts', 'refuse.', 'to-morrows', 'checker-work', 'remembering', 'anywhere', 'motives', 'silently', 'aunt', \"'yes\", 'satisfaction.', 'privileged', 'told', 'clearness', 'pretensions', 'lodgings', 'carriage-horses', 'stupidest', 'enable', 'bear', 'standing', 'committed.', \"'has\", 'pulling', '_will_', 'trial', 'broader', 'solicitously', 'fourth', 'condescending', 'disordered', 'grease', 'elevate', 'sweetbread', 'invent', 'overrated', 'purchased', 'foppery', 'strawberry-beds', 'corresponded', 'do-nothing', 'song', 'infinity', 'disperse', 'names', 'unluckily', 'deserving', 'yards', 'bent', 'softness', 'matrimony', 'unanswered', 'interval', 'matter', 'so.', 'morning-room', 'carpet-work', 'single-minded', 'labour', 'goodwill', 'sposo', 'insensibility', 'ordinary', 'astonishment', 'mere', 'perusal', 'vanities.', 'endeavouring', 'self-approbation', 'presently', 'widower-father', 'paternal', 'introduction', 'joke', 'already.', 'telling', 'entered', 'leniently', 'varied', 'use', 'lengthened', 'realised', 'contented', 'inheritance', 'tooth', 'impatience', 'heavy', 'overcome', 'lamp', 'supplied', 'helpmate', 'difficulty', 'owe', 'brief', 'cast', 'abhor', 'come-at-able', 'affix', 'removal.', 'discontent', 'slight', 'puppies', 'divert', 'headaches', 'eldest', 'satisfactions', 'cause', 'visits', 'espalier', 'learn', 'joints', 'collection', 'started', 'unwholesome', 'occurrence', 'hands', 'unknown.', 'goodhumoured', 'assent', 'changing', 'dispense', 'inelegance', 'comfortable', 'congratulate', 'accents', 'gets', 'regiment', 'gaiety', 'improper', 'privations', \"'jane\", 'charade.', 'had.', 'invention.', '_say_', 'rest', 'arch', 'approver', 'delay', 'shoulders', 'horror', 'bird', 'apologise', 'head', 'constancy.', 'candour', 'soon.', 'advised', 'effort', 'idolized', 'rapturous', 'steadiness', 'centre', 'country', 'overtaken', 'assured', 'officious', 'in.', 'dispersing', 'cleverness', 'underrated', 'creatures', '_she_', 'dejection', 'certainty', 'train', 'breaks', 'acceptable', 'rung', 'bearer', 'studied', 'always', 'discerning', 'seclusion', 'enjoy', 'curs', 'detaining', 'pursuing', 'civilities', 'tranquillised', 'apt', 'thoughts', 'exultation', 'improvidently', 'private', 'apple-trees', 'case', '_is_', 'regrets', 'affect', 'connect', 'older', 'obtained', 'mermaid', 'aware', 'coddling', 'power.', 'gradual', 'en', 'elegance', 'buttons', 'hastening', 'administered', 'errant', 'hush', 'forward', 'bates.', 'principal', 'contingencies', 'public', 'insensibly', 'alphabets', 'consideration', 'consciousness', 'unexpected', 'awkward', 'coughing', 'illiterate', 'favourably', 'closet', 'service', 'sideboard', 'despatched', 'enlarge', 'cabinets', 'unmirthful', 'appropriated', 'weymouth', 'principally', 'chaise', 'brothers', 'aunt.', 'weekly', 'magistrates', 'laid', 'occasion', 'complacently', 'fly', 'aids', 'cordial', 'account', 'becomes', '_taylor_', 'wore', 'nonsensical', 'hood-wink', 'happiness', 'indulging', 'endured', 'fondling', 'surprize', 'done.', 'closest', 'sanction', 'elderly', 'feeding', 'triumph', 'remain', 'waits', 'honest', 'confide', 'calmness', 'anna', 'respective', 'stare', 'garden', 'amazement', 'duly', 'prized', 'insolence', 'cultivation', 'settling', 'conjecturing', 'sound.', 'unfavourable', 'bearing', 'blank', 'enough.', 'hotter', 'attractive', 'demands', 'wise', 'apologised', 'innocent', 'whispers', 'darted', '_all_', 'commanding', 'lovers', 'novelty', 'fenced', 'pudding', 'neat', \"'oh\", 'excellently', 'epithets', 'sisters', 'sample', 'vexatious', 'station', 'river', 'chapter', 'seven', 'irrational', 'boasts', 'unseen', 'admired', 'dies', 'embarrassment.', 'ventured', 'days', 'ready', 'local', 'refused', 'though', 'unexpensively', 'conundrum', 'fell', 'regulate', 'guidable', '_not_', 'bulky', 'explanation', '_woodhouse_', 'certified', 'grudged', 'authority', 'john', 'low.', 'reverse', 'north-east', '_our_', 'laurels', 'awake', 'captious', 'sacred', 'of.', 'undue', 'home-farm', 'beat', 'consumption', 'slippery', 'ceiling', 'totally', 'confidential', 'moves', 'rights', 'lead', 'looking', 'talk', 'dealt', 'mean', 'whole', 'secured.', 'shape', 'steadily', 'three', 'levity', 'superseded', 'amid', 'eyebrows', 'liberal.', 'strengthened', 'consequent', 'auspices', 'fond', 'smiles', 'times', 'limitations', 'grievous', 'tea', 'drawn', 'amiableness', 'exteriors', 'visitors', 'restlessness', 'schemed', 'wish.', 'lawn', 'agriculture', 'three-quarters', 'reigning', 'third', 'adviser', 'mutual', 'half-hour', 'reflections', 'troubles', 'crowd', 'wife.', 'brace', 'assailed', 'mark', 'spoon', 'respectability', 'wind.', 'excused', 'involve', 'bare', 'singularly', 'blocked', 'hay', 'smilingly', 'forwarded', 'desirable', 'school', 'refuse', 'capacity', 'habit.', 'six-and-thirty', 'gives', 'retirement', 'witness', 'interfere', 'dreamer', 'forgiven', 'beet-root', 'dawdling', 'compliments', 'attendant', 'concealed', 'rheumatic', 'fairfax', 'intends', 'raised', 'sister', 'shivering', 'confinement', 'misunderstood', 'accompany', 'curls', 'despoiling', 'nonsenses', 'amidst', 'used', 'tender', 'house', 'mornings', 'oneself', 'visitor', 'detail.', '_particular_', 'frank.', 'smoothness', 'wisest', 'parent', 'folly', 'agreeably', 'promptitude', 'immediately', 'talkative', 'stream', 'circle', 'claiming', 'sole', 'excuse.', 'voluntarily', 'frightful', 'progress', 'miserable', 'dutiful', 'prologue', 'apartment', 'lurking', 'twice', 'stooping', 'truly', 'rendering', 'cleverest', 'collected', 'envied', 'twenty-one', 'enlightened', 'continually', 'whirling', 'detain', 'selfishness', 'execution', 'lowest', 'abrupt', 'begging', 'rencontre', 'bread', 'affected', 'apologies', 'ease', 'distinct', 'whist-players', 'hospitable', 'feebly', 'deviation', 'chance', 'excess', 'believes', 'day', 'splendour', 'relish', 'widower', 'foolishly', 'longed', 'impatient', 'sympathy', 'tribute', 'repulsed', 'uppermost', 'happiest', 'extremely', 'fatigue', 'dull-looking', 'ix', 'loneliness', 'caution', 'behalf', \"'the\", 'originally', 'hum', 'glances.', 'lot', 'years', 'act.', 'justly', 'reasonable', 'coupled', 'impertinently', 'congratulations.', 'females', 'subdued', 'protected', 'unpretending', 'permitted', 'deciding', 'forcibly', 'perceived', 'inability', 'mixing', 'gloried', 'soft-hearted', 'stomach', 'pastures', 'thick-headed', 'place', 'inimitable', 'particular', 'fish-ponds', 'gentle', 'prophecies', 'boil', 'complaisant', 'good-hearted', 'to-night', 'provocations', 'deathbed', 'elton.', 'tranquillity', 'traits', 'preserving', 'forgave', 'exact', 'labours', 'lesson', 'unwell', 'wiltshire', 'dixon.', 'lectured', 'hope', 'exchanged', 'air', 'thoroughly', 'talker', 'stars', 'like', 'wretchedness', 'finishing', 'people', 'papers', 'concession', 'internal', 'astray', 'companions', 'things', 'free', '7th', 'leather', 'land', 'gilbert', 'eltons', 'reception', 'methodical', 'smoothed', '_me_', '_well_', 'softening', 'seasonable', 'unexceptionably', 'informed', 'petticoat', 'unspent', 'explained', 'peculiarities', 'gratitude', 'moment.', 'coles', 'sir.', 'breathing', 'disputable', 'affirmative', 'equivocation', 'repressed', 'cream', 'resident', 'insignificance', 'lightened', 'dexterously', 'greatcoat', 'ride.', 'willingly', 'detail', 'fellow-mourners', 'undervalued', 'square', 'council', 'incommoded', 'persuasively', 'lasts', 'former', 'silence', 'modesty', 'floor', 'highbury', 'repast', 'hurry', 'chicken', 'two', 'office', 'sanguine', 'various', 'refuted', 'universal', 'indignity', 'non-existence', 'inconveniently', 'treble', 'gala-day', 'conceited', 'furnished', 'campbells.', 'gratifications', 'clayton', 'grievance', 'travelled', 'beau', 'manage', 'victims', 'indefinite', 'woodhouse', 'retain', 'gentleman-farmer', 'fidgetiness', 'worshipping', 'uncertainty', 'unjust', 'hedge', 'hazarded', 'commiseration', 'stimulative', 'eats', 'allowances', 'home', 'residing', 'la', 'want', 'profit', 'overpowered', 'combine', 'speaks', 'passant', 'puzzled', 'resorting', 'struck', 'boot', 'shaking', 'grey', 'interchange', 'subordinate', \"king's-weston\", 'issue', 'preferment', 'recurrence', 'pick', 'merely', 'recently', 'goes', 'evil.', 'ill-humour', 'gentleman', 'utmost', 'dependence', 'card-table', 'enemy', 'fervour', 'advantage', 'slave-trade', 'dreams', 'put', 'midst', 'provoking', 'renounced', 'universally', 'contemptuous', 'increase', 'complaint', 'attach', 'affection', 'invalids', 'sense', 'sympathise', 'front-door', '_boiled_', 'agreeing', 'estate', 'military', 'evident', 'wrong', 'depending', 'cheering', 'measure', 'agree', '_has_', '_most_', 'intimate', '_did_', 'wounding', 'satisfactory', 'habitual', 'entreated.', 'mortification', 'vainly', 'would.', 'disclaiming', 'out.', 'surprized.', 'hypocrisy', '_party_', 'buy', 'successfully', 'christian', 'blooming', 'pleasing', 'attached', 'availing', 'justified', 'envy.', 'well-looking', 'unfinished', 'mutterings', 'stopt', 'named', 'closely', 'self-satisfied', 'arrival', 'lieut', 'accompanying', 'tired', 'contribute', 'agony', 'tosses', 'acute', 'conferring', 'commands', 'dinner-time', 'beautifully', 'safety', 'composure', 'degrading', 'assembled', 'arrangements', 'nodding', 'professed', 'regretted.', 'throw', 'power', 'saving', 'volume', 'stipulate', 'bought', 'prosperous', 'tempting', 'spruce-beer.', 'bless', 'transgressed', 'indiscretion', 'lessening', 'facing', 'minds', 'adoption', 'reign', 'encourage', 'memory', 'injunction', 'housekeeper', 'letter', 'complained', 'wished', 'extravagant', 'hall', 'mutually', 'compose', 'procuring', 'heroine', 'suddenness', 'ensued', 'chambers', 'girls', 'admiring', 'prodigies', 'tunbridge-ware', 'danced', 'cease', 'trifling', 'knives', 'penance', 'opening', 'simply', 'certain', 'comforted', 'brisk-moving', 'gallantries', 'confessed', 'obliged', 'half', 'story', 'agrees', 'concurrence', 'families', 'terrors', 'foot-pace', 'persuasions', 'horse', 'included', 'walk.', 'created', 'likewise', 'submissively', 'unsuspected.', 'begins', 'stuck', 'cautious', 'fixing', 'swayed', 'sealed', 'purest', 'rush', 'strongly', 'behind', 'testifies', 'colouring', 'mimic', 'refrained', 'gaining', 'absolute', 'shock', 'qualifying', 'heartily', 'syllable', 'openly', 'inquiry', 'averted', 'eyes', 'smiled', 'adventure', 'rude', 'gratifying', 'sucking', 'kindest', 'cow', 'diligence', 'wedding-cake', 'accounting', 'sluggish', 'attendance', 'marries', 'stone', 'sullenness', 'travels', 'preserved', 'brewing', 'protest', 'roundly', '_alone_', 'well-grown', 'white', 'direful', 'road', 'surviving', 'virtue', 'directly.', 'muslin', 'speak.', 'waives', 'succeeded', 'successful', 'morning.', '10,000', 'exert', 'ill-assorted', 'charges', 'void', 'slumbering', 'unsuspicious', 'acquiescence', 'physic', 'answer', 'souls', 'invitations', 'poultry-house', 'wins', 'society', 'submitting', 'deplore', 'got', 'opinion.', 'measured', 'seventeen', 'welfare', 'articles', 'west', 'blockhead', 'tried', 'calmly', 'storm', 'demanded', 'dies.', 'forlorn', 'afford', 'specious', 'amazed', 'seriousness', 'newly', 'equal', 'satin', 'injurious', 'letter-boy', 'preface.', 'dissipation', 'part', 'westons', 'myself.', 'raptures', 'else.', 'befriended', 'displayed', 'varieties', 'over-salt', 'unpolished', 'us', 'punctuality', 'safer', 'jokes', 'art', 'doated', 'patiently', 'out-churchill', 'master', 'vacant', 'afraid', 'communicative', 'miss', 'sunshine', \"'depend\", 'breaking', 'moderate', 'bursts', 'apparently', 'highly', 'absenting', 'flesh', 'chat', 'headache', 'greater', 'restoring', 'objections', 'disagreements', 'impossible', 'well.', 'unpermitted', 'sir', 'sooner', 'eight-and-thirty', 'exemption', 'honouring', 'eleven', 'argument', 'mickleham', 'it.', 'objecting', 'colonel', 'errands', 'fluttered', 'fortunately', 'caution.', 'slighted', 'abbey-mill', 'heal', 'prose', 'characters', 'cared', 'age', 'lower', 'tolerable', 'bond', 'sauciness', 'misfortune', 'treats', 'penury', 'faints', 'regained', 'fool', 'scheme', 'healed', 'recollecting', 'pleasanter', 'surprized', 'whiten', 'middle', 'vicarage', 'dinner', '_who_', 'features', 'hardship', 'boast', 'lives', 'dare', 'twenty-five', 'admissible', 'abundant', 'happen', 'bragge', 'card-parties', 'sensibilities', 'addressed', 'rumination', 'emotions', 'kind', 'submitted', 'voices', 'mind', 'harry', '_respect_', 'helped', 'recommendation', 'rubber', 'saddle', 'dancer', 'inspire', 'drunkenness', 'scarlet', 'f.', 'hard', 'walking', 'deem', 'trampers', 'obligation', 'everyday', 'event', 'perpetual', 'heated', 'verified', 'needs', 'palatable', 'thinner', 'dining-parlour', 'half-ashamed', 'conscious', 'cellery', 'appointed', 'quits', 'treated', 'parlour-door', 'character', 'qualities.', 'shrubbery.', 'replete', '_purport_', 'unreserve', 'half-way', 'over-careful', 'wet', 'harboured', 'sensations', 'disengage', 'town', 'pocket', 'arranging', 'winning', 'faults', 'fortnight.', 'politeness.', 'humourist.', 'tenderest', 'reflection', 'pomp', 'placed', 'common', 'pollards', 'strongest', 'beyond', 'curled', 'shameful', 'submissive', 'pang', 'evidently', 'exclaim', 'formerly.', 'recollect.', 'neighbours', 'shows', 'wearied', 'agitated', 'lately', 'cousin', 'conducting', 'insulted', 'danger.', 'imprudence', 'holding', 'discussed', 'forbearance', 'senseless', 'connivance', 'xix', 'provided', 'demand', 'patriotism', 'making', 'continued', 'similarity', 'moralising', 'shortness', \"'there\", 'hardly', 'delightful', 'afterwards', 'allowing', 'nash', 'save', 'produced', 'inquiring', 'clear', 'walks', 'allusions', 'yorkshire', 'contriving', 'idea.', 'more.', 'exclude', 'management', 'ill-will', 'rightly', 'misconduct', 'others.', 'penknife', \"'shall\", 'pained', 'offices', 'mistake', 'appetite', 'earned', 'restraints', 'putrid', 'handsomely', 'children.', 'adopt', 'swelled', 'son', 'beavers', 'rendered', 'conceit', 'forswear', 'propensity', 'routine', 'adjoining', 'earnestly', 'crowded', 'offers', 'insult', 'rooted', 'waiving', 'freaks', 'deserved', 'adoring', 'lending', 'accordingly', 'seven-and-twenty', 'publicity', 'approved', 'gratefully.', 'leading', 'adelaide', 'box', 'insuperable', 'undoubting', 'devote', 'injustice', 'alike', 'mildness', 'nursed', 'clever', 'foretold', 'brunt', 'oppose', 'seem', 'slavery', 'advanced', 'wrapped', 'upbraid', 'acquittal.', 'almost', 'attacking', 'gratified', 'speech', 'pale', 'decisively', 'intelligible', 'winter', 'ate', 'single', 'desirous', 'abroad', 'disagreeableness', 'reprehensible', 'disagreeable', '_what_', 'likeness', 'curiosity.', 'lamentations', 'undistinguishing', 'swept', 'looks', 'society.', 'perfection.', 'post', 'termination', 'am.', 'entitling', 'concluded', 'glorious', 'injuries', 'charades', 'judicious', 'uninterrupted', 'granted', 'dreadful', 'comforts', \"'can\", 'ostentation', 'sign', 'encounter', 'hateful', 'retract', 'never', 'nights', 'conveniently', 'persevered', 'extended', 'window', 'invention', 'fail', 'employments', 'sigh', 'warmly', 'weeks', 'delight', 'palpable', 'promoted', 'folded', 'alleviations', 'wanting', 'wonders', 'towards', 'accord', 'vanity', 'number', 'flattered', 'score', 'soothing', 'jane', 'listener', 'lawfully', 'pales', 'receive', 'asking', 'repaid', 'guinea', 'proposals', 'transcribing', 'contrasted', 'shrubs', 'study', 'determining', 'spruce-beer', 'apple-tart', 'glowing', 'tart', 'readily', 'pembroke', 'sweetest', 'precedent', 'grounds', 'none', 'apart', 'conceptions', 'honoured', 'summoned', 'judge.', 'musical', 'consolation', 'ill-bred', 'fold', 'overpowering', '_secret_', 'disliked', 'stimulate', 'examination', 'brutal', 'year', 'diverting', 'respectful', 'privation', 'artifice', 'judge', 'guard', 'incongruous', 'ripening', 'visible', 'unreasonable', 'mitchell', 'now.', 'recurrences', 'trivial', 'effects', 'repetitions', 'unperceived', 'ill-usage', 'fewer', 'arise', '_eighteen_', 'roundabout', 'goodwill.', 'liking', 'device', 'liable', 'existence', 'knit', 'meals', 'recourse', 'surmise', 'ahead', '_named_', '_small_', 'already', 'inquire', 'said.', 'shelter', 'backward', \"'have\", 'malt', 'could', 'medley', \"ma'am\", 'sheet', 'deficient', 'proposed', 'suspiciously', 'cried', 'blunder', 'jealousy.', 'become', 'rapidity', 'freshness', 'steaks', 'tolerably', 'outwardly', 'miles', 'observation', 'quarrel', \"'george\", 'look', 'politics', 'well-informed', 'following', 'natured', 'redeem', 'subduing', 'thoughtful', 'puppy', 'rev', 'guide', 'terseness', 'owing', \"'every\", 'deficiencies', 'gravel', 'petticoats', 'repellent', 'flew', 'talking', 'dexterity', 'concise', 'sunday', 'coldest', 'affectedly', 'heat', 'properer', 'remiss', 'news', 'consenting', 'laughed.', 'nearer.', 'proudest', 'downstairs', 'refer', 'might', 'drifted', 'delicious', 'chancing', 'modes', 'subjection', 'martin', 'dangerous', 'planned', 'sincerely', 'meet', 'illiberal', 'melodies', 'answered', 'fed', 'assertion', 'unconscious', '_be_', 'self-contentment', 'writing-master', 'usher', 'happily', 'approval', 'solitarily', 'humph', 'accomplish', 'observer', 'woodhouse.', 'atonement', 'reserve', 'all-sufficiency', '_and_', 'weston.', 'prince', 'somewhere', 'kindled', 'good-temper', 'well-tied', 'stanza', 'requesting', 'varying', 'disappearing', 'enliven', 'talent', '_appropriation_', 'ending', 'terror.', 'goodly', 'causes', 'history', 'doubts', 'enjoyment', 'provoke', 'surprise', 'stroke', 'is.', 'empty', 'disdain', 'stationing', 'chamber', 'saying', '_one_', 'extensive', 'funeral', 'demurred', 'doatingly', 'observe', 'resolution', 'pleasant.', 'sentences', 'breath', 'inferior', 'proposing', 'insinuate', 'jump', 'to-morrow', 'nod', 'twentieth', 'elect', 'explore', 'negative', 'husband', 'kinder', 'shrubberies', 'undesirable', 'gainer', 'declining', 'lamented', 'distant', 'built', 'water-colours', 'ungenial', 'observant', 'principals', 'differently', 'teaching', 'quicker', 'fanciful', 'brightened', 'smoke', 'background', 'considerate', 'evening.', 'bloom', 'rational', 'determination', 'damps', 'mania', 'drive', 'fresh', 'saucy', 'thanking', 'purpose', 'changed', 'associate', 'height', 'amusement.', 'apple-tarts', 'plantation', 'disposing', 'hearing', 'agitation', '_names_', 'sack', 'channel', 'amusement', 'instantly', 'imposing', 'unconvinced', 'attends', 'interrupting', 'gentleman-like', 'attorney', 'alarming.', 'stilton', 'sanguinely', 'waking', 'narrower', 'eligible', 'dressing', 'purposes', 'expect', 'hasty', 'cried.', 'remembrance', 'pitiable', 'real', 'generous', 'reflect', 'second', 'newspaper', 'insane', 'nicety', 'temptations', 'sentiment', 'unexamined', 'operation', 'reports', 'credit', 'chance.', 'discoveries', 'elegancies', 'liquor', 'negligence', 'nineteen', 'conniving', 'civilly', 'upstairs', 'half-syllables', 'pushing', 'lay', 'pillars', 'quietness', 'one-and-twenty', 'augur', 'rarely', 'acting', 'recollect', 'worry', 'scolded', 'pleasantness', 'help', 'impulse', 'unfastidious', 'wrapt', 'errs', 'four-and-twenty', 'recovered', 'misspent', 'added', 'systems', 'airing', 'annoyance', 'likes', '_way_', 'attend', 'odd', 'decline', 'dared', 'mortify', 'figure', 'upstarts', 'livelihood', 'harsh', 'across', 'dread', 'constancy', 'hardships', 'occupy', 'previous', 'melancholy', 'dews', 'considerable', 'astonished', 'unimpeded', 'poorly', 'doth', 'passion', 'excellence', 'difference', 'destroy', 'eye.', 'cheap', 'october', 'band', 'noble', 'embarrassing', 'open', 'warmth', 'pressure', 'huswife', 'useless', 'dreamt', 'inseparably', 'complaisance', 'outweigh', 'sheepskin', 'reviving', 'distrust', 'blown', 'main', 'weary', 'imitation', 'commonplace', 'wit', 'clock', 'engagement', 'beforehand', 'order', 'enjoyed', 'secrecy', 'quicksighted', 'plan', 'pique', 'separated', 'pronouns', 'amused', 'unable', 'magnificent', 'quitting', '_answer_', 'declared', 'baskets', 'plainest', 'tells', 'felling', 'rate', 'disgusts', 'frequent', 'mouth', 'knife', 'carte-blanche.', 'sore-throat', 'downright', 'heart-felt', 'offence', 'intimates', 'sensation', 'displeasure.', 'satisfactorily', 'accuse', 'tiresome', 'admit', 'fashionable', 'concern.', 'card-tables', 'reckon', 'predicament', 'opened', 'drops', 'palpitations', 'rationally', 'ago', 'bewitches', 'portrait', 'early', 'nervousness', 'pursuit', 'unbroken', 'heard', 'grief', 'saunders', 'cope', 'cool', 'cruel', 'diffidence', 'mysteriously', 'books', 'delicate', 'impose', 'final', 'coach', 'wearying', 'involuntary', 'cheeks', 'speak', 'hinting', 'vex', 'adieus', 'reproaching', 'foreseeing', 'boys', 'poor', 'terror', 'inconvenient.', 'bearers', 'increases', 'faith', 'denoted', '_perfection_', \"'grandpapa\", 'double-dyed', 'ungraciously', 'abode', 'late', 'yellow', 'intervals', 'inconsistent', 'shod', 'letter.', 'complain', 'presumption', 'triumphant', 'deceptions', 'imagines', 'find', 'chances', 'tenderness', 'honours', 'join', 'artificial', 'pursued', 'twofold', 'inch', 'heiress', 'points', 'stretch', 'create.', 'disgust', 'courageous', 'hearted', 'keen', 'carry', 'proposal', 'relief', 'secret', 'resent.', 'manoeuvring', 'married', 'revived', '_misery_', 'asleep', 'present', 'premature', 'guests', 'gruel', 'writing-desk', 'inconsiderately', 'work', 'handled', 'purposely', 'scrape', 'seems', 'announce', 'moments', 'violent', 'constituted', 'remember', 'flatteries', 'alarming', 'conveyance', 'oxford', 'animating', 'table', 'delight.', 'pork', 'compassion', 'really', 'silversmith', 'passable', 'managed', 'longest', 'lowly', 'indignantly.', 'held', 'perfection', 'do-all', 'promises', 'composing', 'purity', 'improprieties', 'accomplishments', 'ask', 'complacency', 'june', 'tupman', 'understand.', 'show', 'sucklings', 'sketches', 'friendly', 'dearer', 'neatly', 'charity', 'glossed', 'distinguish', 'counteract', 'lord', 'yes', 'acquainted', 'crosser', 'spurn', 'guilty', 'mind.', 'ridicule', 'deceive', 'lady-like', 'undone', 'confederates', 'apple-dumpling', 'errand', 'heritage', 'extreme', 'wording', 'necessary', 'pressed', 'securing', 'mansion', 'street', 'rival', 'envious', 'subject', 'inevitable', 'experienced', 'rejoicing', '_that_.', 'clover', 'confession', \"'so\", 'sore', 'hartfield', 'probabilities', 'disengaged', 'hundred', 'dissipate', 'disapproved', 'fifty', 'professions', 'donkeys', 'chapters', 'tear', 'folly.', 'monarch', 'security.', 'genuine', 'insight', 'declare', 'carriage', '_caro_', 'pains', 'sacrifice', 'vi', 'liberality', 'parcel', 'applying', 'body.', 'equalled', 'abbey', 'rain.', 'richard', 'court-plaister', 'less', 'doings', 'grand-mama', 'bias', 'confirming', 'disparity', 'simple', 'joy', 'inherits', 'popular', 'parlour-boarder', 'creature', 'writes', 'bars', 'incomprehensible', 'deriving', 'conjecture', 'body', 'considers', 'fairy-land', 'introduce', 'man.', 'open-hearted', 'possibility', 'dependent', 'attraction', 'quarrels', 'james', 'shaken', 'debased', 'desert', 'charmingly', 'bond-street', \"'dearer\", 'confound', 'unpardonable', 'horror-struck', 'husbands', 'privately', 'carriage-horse', 'criticism', 'suspected.', 'renting', 'approach', 'conservatory', 'handsomest', 'stop', 'personal', 'sighed', 'beam', 'accession', 'unmarked', 'window-curtain', 'ornaments', 'etc.', 'lies', 'nothing.', 'transformation', 'alloy', 'fare', 'impressed', 'accounts', 'yesterday', 'warmer', 'risks', 'correct.', 'dressed', 'kitchen', 'persisting', 'casements', 'living', 'desultory', 'observance', \"'no\", 'ceremony', 'wisely', 'failed', 'gaiters', 'eligibly', 'company', 'prescribed', 'dirt', 'again.', 'rooms.', 'resignation', 'enquiring', 'grows', 'reflected', 'alert', 'exciting', 'well', 'conjectures', 'eyeing', 'apprehended', '_ten_', 'intending', 'irish', 'staid', 'welcome', 'style', 'security', 'flowers', 'reappeared', 'post-horses', 'relapse', 'united', 'narrative', 'tete-a-tete', 'visiting', '_sensation_', 'fever', 'ostler', 'provide', 'themselves.', 'seriously', 'loser', 'broadwood', 'dispelled', 'badly', 'completed', 'executing', '_more_', 'appearance', 'miniatures', 'propose', 'folding-screen', 'women', 'employed', 'dishes', 'ha', 'vain.', 'indisposed', 'advise', 'quitted', 'attract', 'engage', 'success', 'tempt', 'grievances', 'apprehensive', 'unlucky', 'latterly', 'churchill.', '_lady_', 'thy', 'wavering', 'peculiarly', 'press', 'sitting-room', 'caprice', 'bargain', \"'nobody\", 'excesses', 'arises', 'connecting', 'agreeable', 'forbade', 'her.', 'comprised', 'letters', 'dixon', 'michaelmas', 'market', 'weak', 'copy', 'populous', 'drown', 'hesitatingly', 'singing.', 'unintelligible', 'imply', 'heir-expectant', 'truth', 'wretchedly', 'fitted', '_time_', 'noticing', 'languid', 'predominated', 'wet.', 'wholesome', 'girl', 'quiet', 'utmost.', 'good-humouredly', 'failing', 'earn', 'clergyman', 'heroism', 'mrs.', 'aside', '_part_', 'messenger', 'higher', 'ought', 'possess', 'finis', 'advisable', 'departed', 'raving', 'contents', 'part.', 'destin', 'finished', 'suspense', 'blunt', 'conquered', 'bountiful', 'ruined', 'overcareful', 'velocity', '_woman_', 'shopping', 'bows', 'pleading', 'dined', 'sound', 'seeming', 'excusable', 'rejoice', 'apply', 'reappearance', 'constrain', 'playfully', 'joyful', 'cleverer', 'gossip', 'hetty', 'wishing', 'reproofs', 'a.', 'charming', 'borrowed', 'luxurious', 'novelties', 'affectionately', 'residence', 'green', 'stray', 'vast', 'tend', 'preserve', 'plenty', 'outree', 'prove', 'life.', 'deserted', 'excellent', 'deliberately', 'absence', 'refusal', 'bye', 'awkwardness', 'capable', 'chattering', 'sincere', 'foresight', 'spoke', 'dulness', 'aghast', 'disorder', '_precious_', 'twenty', 'clearly', 'horrors', 'deepest', 'whenever', 'smiled.', 'discreet', 'draughts', 'officiating', 'softened', 'frost', 'backgammon', \"'success\", 'there.', 'receipt', 'yes.', 'misconception', 'favour.', 'understands', 'promote', 'drop', 'half-circle', 'begin', 'seen', 'nurse', 'field', 'lawyer', 'perceive.', 'regretted', 'contribution', 'plainly', 'marriage', 'coldly', 'several', 'confident', 'matters', 'iii', 'modestly', 'visited', 'accident', 'romantic', 'reasonably', 'sake', 'must.', 'supposed', 'quit', 'value', 'caviller', 'denote', 'touches', 'cheerful', 'comfortably', 'pangs', 'for.', 'maternal', 'unnecessary', \"'but\", '8th', 'submission', 'imaginary', 'viewed', 'involvement', 'quieter', 'usual.', 'knightleys', 'intellect', 'refinement.', 'nonsense', 'overcoming', 'alphabet', 'speech.', 'promised', 'angry', 'list', 'exclusively', 'meal', 'side-glance', 'exchange', 'soon', 'dissuade', 'bathing', 'pride', \"'if\", 'mortifications', 'april', 'amusing', 'belonged', 'correspondence', 'tormenting', 'thick', 'removing', 'deny.', '_almost_', 'numbers', 'tupmans', 'far', 'consents', 'nerves', 'increased', 'civility.', 'comfort.', 'coffee', 'unbecoming', 'talents', 'colder', 'convenience', 'hear', 'rushed', 'instruments', 'kingston', 'unexpectedly', 'discover', 'upright', 'criticising', 'unsullied', 'motionless', 'persuasion', 'conceived', 'demurs', 'yeomanry', 'author', 'literary', 'habit', 'amazing', 'listening', 'tremulous', 'obstacle', 'exult', 'properly', 'resisted', 'repeating', 'panic', 'stands', 'regards', 'rapid', 'dearly', 'parley', 'captain', 'aladdin', 'places', '_understand_', 'northward.', 'patience', 'objected', 'accompaniment', 'image', 'bounds', 'asperity', 'beds', 'corresponding', 'disapprobation', 'convince', '_presume_', 'sort.', '_should_', 'page', 'deeply', 'incompatible', 'pet', 'appearances', 'engagement.', 'existed', 'unpardonably', 'answers', 'randalls.', 'dinner-parties', 'happens', 'honourable.', 'sees', 'pattern', '_happily_', 'pitifullest', 'superadded', 'vehicle', 'waste', 'wrote', 'inherited', 'calculation', 'repeatedly', 'southward', 'c.', 'untouched', 'expense', 'contained', 'falling', 'seize', 'summon', 'figured', 'curtains', 'leave-taking', 'joyfully', 'disgustingly', 'exceeds', 'hunting', 'smartened', 'returned.', 'finding', 'hazards', 'stipulation', 'infatuation', 'degradation', 'inn', 'bride', 'dusk', 'once.', 'receives', 'unasked', 'incomplete', 'later', 'faint', 'wild', 'tricking', 'obliging', 'incidental', 'purple', 'sixteen', 'spring', 'preparation', 'accommodate', 'bottom', 'instantaneous', 'jealous', 'family', 'accosted', 'wanted.', 'prosperous.', 'properest', \"'to\", 'sons', 'event.', 'consultation.', 'limes', 'him.', \"'it\", 'dialogues', 'fetched', 'hind-quarter', 'prepared', 'performance.', 'unanswerable', 'good-humour', 'old', 'examined', '_courtship_', 'believe', 'forfeit', 'sweetly', 'saffron', '_blunder_', 'treat', 'fetching', 'appreciate', 'bad.', 'affable', 'intreat', 'make.', 'inroads', 'request', 'undiscerned', 'misery', 'hurt', 'ice', 'uneasy.', 'conversable', 'teachers', 'competent', 'flatterer', 'running', 'candidly', '_told_', 'dance', 'voluntary', 'misfortune.', 'obviate', 'sedate', 'push', 'ill-tempered', 'delighted', 'soothings', 'comfort', 'disagreement', 'attaching', '_he_', 'breathe', 'confirmation', 'shy', 'homely', 'hated', 'apartments', 'agricultural', 'many', 'unprepared', 'de', 'partake', 'subjects', 'thank', 'inquired', 'pity', 'honestly', 'degree', 'professedly', 'strikingly', 'finale', 'ballroom', 'communication', \"'happier\", 'repeat', 'meeting', 'provocation', 'helpless', 'size', 'getting', 'mix', 'quest', 'convinced', 'ball-room', \"'poor\", 'stirring', 'thriving', 'desiring', 'declaration', 'happening', 'incredible', 'sin', '_patriae_', 'formation', 'minute', 'urgency', 'jumble', 'blood', 'wished.', 'connexions', 'remove', 'head-teacher', 'intercourse', 'refreshing', 'animated', 'flies', 'opposing', \"'bless\", 'break', 'sleepless', 'natural', 'perry', 'fat', 'disgusting', 'confirmed', 'vexation', 'required', 'enter', 'enjoyments', 'surprizes', 'portfolio', 'light', 'rudeness', 'preceded', 'thankfulness', 'soul', 'outlived', '_they_', 'contract', 'unfelt', 'secured', 'grow', 'disgraced', 'competence', 'treasure', 'negatives', 'arose', 'attack', 'disappointment', 'indelicate', 'mirth', 'industry', 'felt.', 'timidity', 'games', 'upstart', 'conversed', 'tittle-tattle', 'unevenness', 'perpetually', \"'i\", '_mr_', 'easter', 'balls', 'depend', 'original', 'know', 'dictate', 'tottering', 'excuse', 'disturbing', 'valued', 'ways', 'recollected', 'disapprove', 'unchanged', 'unreserved', 'brilliancy', 'taller', 'mine.', 'sacrifices', 'defies', 'fair.', 'supplying', 'tendency', 'birmingham', 'wonderings', 'contradicted', 'adversary', 'christmas', 'adventuring', 'hero', 'frame', '_may_', 'judged', 'secretly', 'sagacity', 'allusion', 'tones', 'care.', 'enjoying', 'improperly', 'adherence', 'courage', 'avowed', 'divisions', 'made', 'moonlight', 'informs', 'talks', 'earnest', 'physician', 'desponding', 'sick', 'ruin', 'flattering', 'gradually', 'quaint', 'counsel', 'chilblains', 'repugnance', 'survive', 'leave', 'devotion', 'hughes', 'flatter', 'four', 'inspect', 'journey', 'snow', 'airy', 'explain', 'persuadable', 'sweep', 'safest', 'exulting', 'prevent', 'fogs', 'was.', 'endanger', 'spoil', 'gentlewoman', 'level', 'adoration', 'barely', 'figures', 'expenses', 'avenues', 'aimed', 'boastful', 'rank', 'tour', 'ladies', 'zeal', 'feelingly', 'stretching', 'on.', 'limited', 'food', 'carelessness', 'ascending.', 'dull', 'pulse', 'to.', 'veils', 'emma.', 'tens', 'deny', 'claimed', 'couplet', 'wheat', 'mails', 'harmless', 'stock', 'hems', 'vigour', 'reasonings', 'supplanted', '_as_', 'road.', 'either', 'not.', 'restoratives', 'coaches', 'imagining', 'promoting', 'cautiously', 'cake', 'love', 'oysters', 'recollection', 'fair', 'formed', 'transported', 'acceded', 'good-breeding', 'teased', 'might.', 'bringing', 'intentionally', 'richmond', 'purse', 'obstinate', 'matrimonial', 'contrivance', 'she.', 'accommodations', 'desperate', 'poplin', 'sweet-cake', 'readier', 'cavil', 'time', 'vacancies', 'gentleman.', 'nay', 'distrust.', 'excepted', 'anne', 'citizen', 'pent', 'fixed', 'requested', 'sea-bathing', 'safe', 'whim', 'manners', 'club', 'sublime', 'persuaded', 'basin', 'new', 'feasible', 'possession', 'lessened', 'revolts', 'heal.', 'compressed', 'envy', 'acquittal', 'clerks', 'hymen', 'apprehension', 'post-office', 'ford', 'explains', 'aloud', 'hid', '_any_', 'powers', 'good-bye', 'retrospect', 'wants', 'anticipation', 'advances', 'conclude', 'moral', 'game', 'boiling', 'addresses', 'to-morrow.', 'unpretty', 'leg', 'xiii', 'pondered', 'repulsive', 'contributed', 'artist', 'fasten', 'exist', 'wait', 'conscience', 'lines', 'burst', 'guilt', 'certainly', 'chained', 'stays', 'shine', 'fancy-work', 'time.', 'class', 'clearer', 'familiar', 'covert', 'place.', 'unceremoniousness', 'wanted', 'sang', 'store', 'enabled', 'reverie', 'orchard', 'outward', 'backgammon-table', 'building', 'baker', 'christened', 'sorrow', 'branch', 'transaction', 'spacious', 'smallest', 'afloat', 'unmarried', 'associates', 'over-powered', 'whims', 'meanwhile', 'breast', 'thing.', 'arm', 'refreshment', 'amply', 'muffin', 'tremble', 'excite', 'discerned', 'footing', 'unhealthy', 'directly', 'fools', 'gratified.', 'bowed', 'retort', 'attending', 'strawberry-beds.', '_greater_', 'proceedings', 'distresses', 'spite', 'engages', 'saw', 'tradesman', 'haunted', 'entirely', 'shorten', 'sinned', '_promise_', 'rows', 'pleases', 'incessant', 'discordancies', 'generosity', 'calculated', 'objects', 'orderly', 'point', 'impudent', 'fro', 'renewing', 'kings', 'forbid', 'busiest', '_______', '_court_', '_them_', 'raved', 'aright', 'word', 'containing', 'believing', 'enchanting.', 'mistakes', 'sweet', 'unemployed', 'privilege', 'low', 'stir', 'contrition', 'doubtingly', 'recommendations', 'abominable', 'solemn', 'prolong', 'minister', 'entertained', 'famous', 'parsnip', 'character.', 'league', 'fancies', 'passed.', \"'full\", 'column', 'dog', 'caprices', 'ground-plot', 'resulting', 'says', 'revealed', 'glee', 'plump', 'particularity', 'sweet-tempered', 'joined', 'weakness', 'dint', 'memorandum', 'fairy', 'wilfully', 'ungenerous', 'strength', 'everywhere.', 'ill', 'release', 'interview', 'thither', 'motion', 'remained', 'carrot', 'baly-craig', 'tricks', 'unmanageable', 'shark', 'cheerfuller', 'distinguished', 'randalls', 'england', 'irksome', 'uncommon', 'consternation', 'rose', \"harriet's.\", 'shells', 'possesses', 'instrument', 'form', 'allay', 'striking', 'resolutions', 'expressions', 'brotherly', 'delays', 'nods', 'kingdoms', 'settled', 'quickness', 'gilberts', 'crossed', 'caro', 'fortitude', 'surprize.', 'shared', 'imagine', 'impelled', 'words', 'nearest', 'indicated', 'alternative', 'attained', 'anxiously', 'unclosing', 'capricious', 'writing', 'voice', 'wander', 'occupation', 'ready-furnished', 'inadmissibility', 'thing', 'musing', 'better.', 'entree', 'prejudices', 'proudly', 'employment', 'waited', '_her_', 'leisure', 'consented', 'uttered', 'isabella', 'glasses', 'exceed', 'naivete', 'qualify', 'poem', 'touched', 'escape', 'approaching', 'cooper', 'weariness', 'trick', \"'how\", 'notes', 'feel', 'pianoforte', 'chair', 'vowed', 'surmises', 'announced', 'felt', 'worthies', 'desperate.', 'becoming', 'laughing.', 'licentiousness', 'preached', 'pleasure', 'finish', 'striving', 'lecture', 'elsewhere', 'self-denial', 'amazingly', 'fullest', 'attentive', 'vocal', 'hour', 'performances', 'interpret', 'supposes', 'escaping', 'paper', 'resolved', 'knitting', 'lived', 'whispered', 'punctual', 'atmosphere', 'player', 'dignified', 'commonest', 'elegance.', 'person', 'bewitching', 'carriages', 'enumerate', 'agitate', 'side', 'forget', 'reluctance', 'luxury', 'shift', 'smallridge', 'supposing', 'careful', 'prefers', 'salted', 'i.', 'angel', 'weather', 'requiring', 'cheerfulness', 'occasion.', 'omitting', 'daringly', 'favourable.', 'cheerless', 'recall', 'graces', 'head.', 'pursue', 'sea', 'acknowledged', '_recollecting_', 'admire', 'father-in-law', 'father', 'trying', 'concealment', 'educated', 'clung', '_nearer_', 'cobham', 'drew', 'instance', 'suspected', 'pass', 'encouragement', 'flocks', 'explored', 'struggles', 'random', 'restricted', 'disguise', 'proportionably', 'definition', 'introduces', 'shower', 'aid', 'sounds', 'reconciled', 'lovely', 'bake', 'rivet', 'deedily', 'affections', 'overcame', 'follows', 'demanding', 'flown', 'throwing', 'foreboded', 'acted', 'abbots', 'painful', 'donkey', 'relenting', 'quarrelled', 'madame', 'theodore', 'numerous', 'difficulties', 'carriage.', 'originating', 'riding', 'views', 'garrick', 'sickness', 'grave', 'profitable', 'classed', 'displaying', 'partial', 'enviable', 'encumbrance', 'preferable', 'tempted', 'lost.', 'constitution', 'novitiate', 'carefulness', 'pace', 'differ', 'protection', 'relative', 'augmentation', 'woodhouses', 'w.', 'befriend', 'inflamed', 'visit', 'farming', 'impudence', 'pew', 'unequal', 'wakefield', 'supper-table', 'seek', 'declaring', 'expedition', 'considered', 'bore', 'dropped', 'unclosed', 'apothecary', 'prepossessing', 'cordiality', 'immense', 'correspondent', 'bed-ridden', 'probably', 'western', 'demure', 'fields', 'comments', 'dixons', 'industriously', 'pleased.', 'arrived', 'wretches', 'sober', 'charitable', 'expected.', 'seaside', 'pretty-spoken', 'march', 'indulgence.', 'countries', 'presumed', 'scotland', \"'uncle\", 'province', 'monday', 'disclosure', 'agreeableness', 'lamb', 'fairly', 'emma', 'starting', 'growing', 'motherly', 'antagonist', 'persevering', \"'smallridge\", 'owning', 'ajar', 'goose', 'escape.', 'prosings', 'leaned', 'warm-hearted', 'answering', 'commend', 'liberty', 'behaved', 'daily', 'predict', 'pain.', 'conveying', 'lieu', 'affectionate', 'composition', 'wonder', 'rice', 'delayed', 'alacrity', 'sarcastic', 'recollections', '_unrequited_', 'hour.', 'decidedly', 'laying', 'anticipating', 'hang', 'dissipated', 'smell', 'encroach.', 'surry', 'best-judging', 'cough', 'pencilled', 'courses', 'appeared.', 'argumentative', '_have_', 'confusion', 'instances', 'partiality', 'book', 'whatever', 'recordable', 'pleasanter.', 'blushing', 'touching', 'discussing', 'name.', '_him_', 'eternal', 'unavoidable', 'wealth', 'apple-dumplings', 'warrant', 'tremor', 'uncle', 'maid', 'secluded', 'useable', 'knightley.', 'mournful', 'alliances', 'recalled', 'destined', 'wallis', 'describing', '_it_.', 'lain', 'advantageous', 'practising', 'thin', 'disclaimed', 'guidance', 'sold', 'ox', 'revive', 'deeper', 'add', 'ushered', 'inebriety', 'crisis', 'induced', 'speculations', 'smooth.', 'likely.', 'reasons', 'enemies', 'impartiality.', 'accusation', 'confess', 'threadbare', 'sufficed', 'pacing', 'smaller-sized', 'portraits', 'month', 'tree', 'genius', 'bashfulness', 'wholly', 'stood', 'philip', 'adequate', 'suddenly', 'been.', 'grossly', 'sickly', 'confers', 'resolving', 'perforce', 'kitty', 'loudly', 'gather', 'gifted', 'spencer', 'flirtation', 'mrs', 'bath_', 'supplication', 'longer', 'killed', 'wedding-present.', 'stranger', 'ear', 'hot-pressed', 'comparison.', 'secondly', 'grown', 'courtship', '_the_', 'infancy', 'recommend', 'mis-judgment', 'communicated', 'irritable', 'manchester-street', 'over.', 'captivated', 'health', 'contradiction', 'large.', 'concerned', 'token', 'congratulating', 'distressing', 'enters', 'career', 'enjoyable', 'insisted', 'wreath', 'repeated', 'club-nights', '_refused_', 'suspicions.', 'regard', 'confess.', 'pointing', 'interested', '_been_', '_source_', 'debate', 'dish', 'transfer', 'world.', 'important', 'fathomed', 'upon', 'efforts', 'saves', 'disadvantages', 'great', 'contradict', 'pretending', 'feelings.', 'ditch', 'working', 'plausible', \"'give\", 'ordered', 'unpleasant', 'adding', 'intelligent', 'promising', 'demerits', 'elizabeth', 'adapt', 'read', 'smallness', 'remaining', 'arrear', 'recommending', 'received', 'tumbler', 'paying', 'thoughtlessness', 'active', 'deranged', 'bitter', 'convincing.', 'movement', 'besides', 'misfortunes', 'needlework', 'despair', 'solitary', 'messages', 'maintain', 'union', 'inclined', 'goldsmith', 'undertake', 'improves', 'successively', 'friends', 'coarser', 'nervously', 'disturb', 'escorted', 'cases', 'undoubted', 'impossibility', 'modest', 'walker', 'go', 'smiths', 'state', 'hazard', 'introduced', 'bravado', 'formidable', 'duties', 'unadorned', \"'our\", 'bleak', 'unqualified', 'sufficient.', 'remedy', 'obtaining', 'neglecting', 'madam', 'feverish', 'farm', 'prefer', 'divined', 'genteel', 'foretelling', 'chimney', 'expert', 'reach', 'threaten', 'retained', 'tolerate', 'glanced', 'completest', 'stairs', 'groundwork', 'twelve', 'pensive', 'resign', 'surprising', 'ribbon', 'eye', 'cloth', 'musician', 'however', 'occasional', 'thoughtless', 'indubitable', 'clearest-headed', 'holidays', 'entertaining', 'suspect', 'vexed', 'refusing', 'resentment', 'detected', 'resemblance', 'handle', 'ill-health', 'concerns', 'sentiments', 'examining', 'try', 'country-dances', 'circular', 'defying', 'dining-room', 'subsided', 'horrid', 'unconcerned', 'congratulation', 'mean.', 'estimated', 'scarce', 'ascertain', 'liberties', 'excessive', 'bell', 'build', 'literally', 'robert', 'doubtful', 'cold', 'arrived.', 'five-and-twenty', 'half-gentlemen', 'spoilt', 'soup', 'remarkable', 'family-estate', 'losing', 'week', 'misunderstandings', 'edition', 'relic', 'saved', 'niece', 'eventually', 'coffee.', 'corroborating', 'observing', 'often', 'expression', 'herself.', 'assisted', '_elton_', 'apprehensively', 'endurance', 'instrumental', 'straightforward', 'crown', 'fraud', 'moment', 'humour', 'complying', 'analogy', 'brother', 'boarder', \"n't\", 'thoughts.', 'no.', 'softly', 'trunk', 'storeroom', 'gladly', 'transgression', 'liberal', 'dislike', 'asserted', 'amuse', 'drove', '_we_', 'exchanging', 'companion', 'indifferent.', 'cotton', 'agitating', 'alluded', 'picnic', 'abruptly', 'espionage', 'weaker', 'forever', '_home_', 'umbrellas', 'forerunner', 'calling', 'inviting', 'taken', 'ideas', 'according', 'aired', 'important.', 'graham', 'pounds', 'enclosed', 'undoubtedly', 'mad', 'whist', 'confesses', 'blot', 'contemplating', 'commission', 'unmerited', 'solicited', '_dixons_', 'wine', 'additional', \"knightley's.\", 'flourishes', 'glad', 'untainted', 'superintend', 'curtseys', 'displeasure', 'e.', 'expedient', 'except', 'hesitated.', 'unequalled', 'unsentimental', 'overpower', 'discovery', 'complimented', 'partially', 'parish', 'adventurous', 'feared', 'custard', 'uneasy', 'defined', 'stealth', 'insensible', 'nobody.', 'opportunity', 'solemnly', 'gloomy', 'humours', 'memorandums', '_half_', 'paradings', 'sorrowfully', 'perry.', 'blundered', 'cooled', 'strawberries', 'roused', 'imparted', 'matches', 'amused.', 'condolence', 'landed', 'suggestion', 'wholesomeness', 'patronage', 'quietly', 'prepossession', 'leaning', 'tell', 'lighted', 'sleeping', 'drain', '_chaperon_', 'butler', '_had_', '_you_', 'frank', 'composed', 'utter', 'careless', 'filling', 'kindness', 'somewhat', 'matter-of-fact', 'brain', 'satisfied.', 'true', 'improved', 'dirty', 'naturally', 'encouraged', 'candles', 'convictions', 'influenza', 'brought', 'justest', 'attachment', 'complains', 'belief', 'strict', 'invalid', 'conclusion', 'moralised', 'alone.', 'doors', 'unfrequently', 'good-natured', 'overheard', 'parade', 'prisoner', 'expressive', 'hot', 'misses', 'ingratiating', 'creep', 'lip', 'pen', 'encumbered', 'limb', 'produces', 'louder', 'graceful', 'maintained', 'takes', 'substance', 'long', 'confidence', 'comprehended', 'vagaries', 'punctually', 'indolent', 'obedience', 'genlis', '_three_', 'conversation', 'does.', 'misbehave', 'prompt', 'pink', \"'not\", 'quality', 'due', 'gout', 'fore-shortening.', 'visibly', 'commissions', 'drifting', 'prevail', 'transition', 'immediate', 'prosperity', 'fashioned', 'urged', 'pop', 'prime', 'environs', 'miserably', 'lowering', 'evening-parties', 'partly', 'restrain', 'match', 'sad', 'sentimentally', 'relinquished', 'encouraging', 'woeful', 'humanity', 'fetch', 'scruple', 'hairdresser', 'good-looking', 'rich', 'abhorred', 'impute', 'steady', 'frequently', 'february', 'witnessed', 'finger', 'slave', 'pause.', 'summer-house', 'woollen-draper', 'honesty', 'alarms', 'injured', 'spare', 'seated', 'jealousy', 'smooth', 'estimable', 'unmentioned', 'parts', 'feet', 'forced', 'nourishing', 'puzzles', 'deposited', 'yield', 'iron', 'chatter', 'autumn', 'adored', 'ensure', 'impertinent', 'excessively', 'plentiful', 'habits', 'confessing', 'footpath', 'dances.', 'wainscot', 'invariable', 'opens', 'intelligible.', 'eatable', 'mercy', 'plotting', 'pages', 'rain', 'dusty', 'embrocation', 'discomposed', 'robbed', 'language', 'offended', 'mischievous', 'decorated', 'reward', 'scarcely', 'asunder', 'moderation', 'entertainingly', 'softest', 'solicitudes', 'sneering', 'qualities', '_joint_', 'gipsy', 'tenderer', 'nodded', 'undertakes', 'greatness', 'turned', 'sincerity', 'plea', 'bank', 'farmer', 'pupil', 'drowned', 'fish', 'suckling', 'quarter', 'walk', 'idea', 'consciously', 'subordination', 'encourager', 'arranged', 'well-meaning', '_great_', 'established', 'affairs', 'range', 'harriet', 'ult.', 'worshipped', 'passes', 'inadequate', 'understand', 'clouds', 'disposed', \"'ye\", 'resided', 'idle', 'caroline.', 'console', 'polish', 'reads', 'rouse', 'anecdote', '24th', 'unison', 'half-year', 'surrounding', 'resent', 'avowedly', 'merchant', 'half-lengths', 'considering', 'comparing', 'expressly', 'precisely', 'allow', 'york', 'trouble.', 'specimens', 'acquired', 'paid', 'action', 'assistant', 'therefore', 'sink', 'hence', 'pour', 'yet', 'subside', 'texts', 'transcribed', 'genial', 'drugs', 'extricated', 'pertinacity', 'whole-lengths', 'dealings', 'usefulness', 'mental', 'putting', 'heartfelt', 'meal.', 'slightly', 'arriving', 'creditable', 'deceived', 'spirit.', 'shews', 'workmen', 'ridiculous', '_treasures_', 'philosophic', 'sacks', 'unabated', 'depends', 'gloves', 'barouche-landau', 'hesitating', 'discern', 'reflecting', 'feels', 'deserve', 'origin', 'alteration', 'oppressive', 'bateses', 'degree.', 'lessons', 'shew', 'opinion', 'captious.', 'distaste', 'administer', 'basis', 'extraordinary', 'forcing', 'sex', 'waltzes', 'watched', 'indisputable', 'god', 'end', 'par', 'offend', 'acceptance', 'st.', 'hourly', 'sufferings', 'homes', 'predictions', 'accused', 'wrap', 'infectious', 'elms', 'resolve', 'sharer', 'twenty-four', 'judges', 'select', 'fetches', 'disappoint', 'walnuts', 'smiling', 'restraint', 'stay', 'thou', 'expose', 'imprudent', 'imaginations', 'take', 'cockade', 'lighter', 'hoarse', 'set', 'calmer', 'known', 'played', 'coles.', 'favour', 'red', 'em-ma.', 'projects', 'undergo', 'corrected', 'domestic', 'impropriety', 'xv', 'stormy', 'construction', 'depart', \"'f\", 'nominal', 'open-heartedness', 'require', 'entreat', 'firmly', 'indignant', 'drudge', 'whether', 'shops', '_amor_', 'tall', 'tires', 'giving', 'beheld', 'related', 'spent', 'fluently', 'suppose', 'retire', 'parentage', 'affliction', 'inducements', 'enrich', 'l.', 'need', 'september', 'ejaculation', 'pleased', 'liveliness', 'swell', 'thrive', 'bordered', 'lady', 'officer', 'error', 'absurdity', 'chosen', 'ye', 'clearing', 'brother-in-law', 'duty', 'improve', 'suitableness', \"'love\", 'walked', 'inspiriting', 'sister-in-law', 'cooler', 'doubted', 'willing', 'conquering', 'spheres', 'absent', 'greensward', 'infant', 'ardent', 'denotes', 'grown-up', 'alarm', 'elder', 'donwell', 'reckoning', 'reproaches', 'pleasant', 'invite', 'particulars', 'habitation', 'figuratively', 'hold', 'requisite', 'disservice.', 'knows', '_then_', 'shewn', 'secresy', 'politest', 'seconded', 'precious', 'placidity', 'serviceable', 'so-and-so', 'calm', 'passionately', 'results', 'strong', 'mare', 'distasteful', 'lane', 'share', 'go.', 'directions', 'unite', 'judgment', 'readiness', 'quick', 'x', 'fire', 'privy', 'sharks', 'outgrown', 'audibly', 'ribbons', 'brunswick', 'completion', 'expiation', 'means', 'arm.', 'overboard', 'emphasis', 'situations', 'widow', 'room', 'unheard', 'pitiful', 'loin', 'imagined', 'little', 'equals', 'cares', 'fourteen', 'worth', 'pure', 'applications', '_ship_', 'extent', 'courtesy', 'marks', 'contrived', 'speaking', 'fidget', 'infantry', 'embarrassed.', 'proposition', 'tray', 'acquirements', 'summons', 'employ', 'matter.', 'rambling', 'think', 'urge', 'accepted', 'durable', 'replacing', 'corals', 'irritate', 'shameful.', 'white-hart', 'pause', 'exquisite', 'spruce', 'richardson', 'feared.', 'mile', 'described', 'table.', 'death', 'overhearing', 'spreading', 'january', 'short', 'excluded', 'cloud', 'unostentatious', 'compliment', \"'d\", 'devoted', 'ingenuity', 'ends', 'boasted', 'misapply', 'proves', 'different.', 'expiration', 'inconsistency', 'conjugal', 'hesitations', 'observation.', 'ah', 'amendment', 'educate', 'powerless', 'emphatically', 'do.', 'comprehending', 'unsettled', 'establish', 'strike', 'mermaids', 'trees', 'bosom', 'politician', 'makes', 'wall', 'happy', 'procrastinating', 'medium', 'conduct.', 'rescue.', 'assuming', 'tidy', 'affair', 'treasuring', 'supper', 'nicer', 'limits', 'entitled', 'dissuaded', 'forgets', 'ample', 'easier', 'risk', 'daring', 'chuses', 'wholesome.', 'flatterers', 'discretion', 'astonishingly', 'social', 'cheese', 'ill-disposed', 'begun', 'worse', 'indebted', 'differing', 'festivity', 'traffic', 'excuses', 'depressed', 'assurances', 'passing', 'tedious', 'mid-day', 'inconstancy', 'meets', 'appears', 'obtruding', 'astley', 'entertain', 'lapse', 'washed', \"'wait\", 'struggled', 'stability', 'movements', 'conciliating.', 'defeat', 'preventing', 'sources', 'august', 'guessing', 'away', 'spectacles', 'benevolence', 'drawing-room', 'strangest', 'unbleached', 'woodhouse-ing', 'windsor-july', 'interrupted', 'professional', 'second-rate', 'unhappy', 'headed', 'indispensable', 'looks.', 'borrow', 'contemplated', 'dark', 'mentioned', 'considerably', 'sash', 'rued', 'al-fresco', 'series', 'see', 'fit', 'employing', 'parties', 'forebodings', 'colds', 'rooms', 'considerations', 'probability', 'ceasing', 'unbidden', 'cost', 'impair.', 'forwarding', 'courtesies', 'group', 'doubt', 'fireside', 'gardeners', 'trembling', 'must', 'mother', 'discreetly', 'perfectly.', 'italian', 'shifted', 'wishes', 'thirty', 'story.', 'nearly', 'pert', 'disappointment.', 'self-important', 'would', 'coxe', 'mount', 'sitters-by', 'began', 'admits', 'gingerbread', 'ennui', 'dropt', 'privileges', 'feed', 'busy', 'stagnation', 'inclinations', 'mend', 'feeble', 'resolutely', 'unkind', 'indignation', 'proportions', '_repentance_', 'perception', 'illness', 'accrue', 'trouble', '_dixon_', 'disposition', 'listen', 'life', 'eat', 'separate.', 'underbred', 'retentive', 'morality', 'awes', 'thought', 'imposed', 'comfortless', 'sympathiser', 'recital', 'dentist', 'coolly', 'creating', 'eclat', 'however.', 'material', 'praising', 'begs', 'partridge', 'touch', 'asks', 'stokes.', 'taste', 'kindred', 'altar', \"'you\", 'promise', 'dissolved', 'destroyed', 'applicants', 'lacing', 'preparatory', 'figure-pieces', 'practicable', 'difficult', 'shortly', \"'t\", 'lords', 'overlook', 'worn-out', 'longer.', 'wedding-day', 'candlelight', 'productive', 'flavour', 'patient', 'stared', 'material.', 'unpersuadable', 'turning', 'commendation', 'connexion', 'enlarged', 'eighteen', 'dreadful.', 'evasions', 'vivacity', 'spirit', 'awkwardnesses', 'admirer', 'catching', 'invitation', 'copied', 'proved', 'advantages', 'tan', 'party.', 'ring', 'symptoms', 'elbow', 'prepare', 'portionless', 'screwed', 'spontaneous', 'insufferable', 'loves', 'friend', 'unhappiness', 'significant', 'resist', 'twenty-seven', 'engaged.', 'offer', 'prompted', 'bonnet', 'intellectual', 'relieve', 'were.', 'coarseness', 'moderate-sized', 'roasted', 'finery', 'flowed', 'pressing', 'million', 'hit', 'ireland', 'mixed', 'burying', 'representing', 'hop', 'unmixed', 'patroness', 'guileless', 'thinking', 'step', 'fathers', 'apology', 'recited', 'haphazard', 'cogitation', \"'pray\", 'astonishment.', 'divested', 'persuadable.', 'repetition', 'absented', 'eating', 'parlour', 'proceeding', 'breakfast', 'upper', 'indecision', 'attribute', 'went', 'together', 'misled', 'creation', 'equal.', 'favourable', 'styles', 'blame', 'worthy', 'post.', 'delineated', 'sore-throats', 'overthrow', 'hedges', 'alluding', 'whence', 'addressing', '_cause_', 'plays', 'next', 'offending', 'entitle', 'sorry', 'extinction', 'amongst', 'poison', 'methodical.', 'mud', 'accumulations', 'hurrying', 'betray', 'counsels', 'stupid', 'disinclination', 'frightfully', 'events', 'justify', 'spending', 'advocate', 'sorry.', 'knowledge', 'landscapes', 'requisite.', 'debt', 'oppress', 'horseback', 'cox', 'yesterday.', 'gayest', 'consisting', 'beings', 'instant', 'arms', 'bell-ringing', 'gains', 'perhaps', 'coldness', 'opinions', 'false', 'practise', 'feebleness', 'represent', 'lodged', 'ribband', 'diet', 'struggle', 'disinterested', 'midnight', 'negligent', 'well-written', 'boy', 'presiding', 'conditioning', 'implanted', 'wan', 'carries', 'vaunted', 'acquit', 'superior.', 'inconsiderable', 'pretty', 'speed.', 'patty', 'fears.', 'unnatural', 'bid', 'romance', 'intention', 'dine', 'inconvenient', 'sports', 'guess.', 'rarity', '_introduction_', 'dating', 'vigorously', 'back', 'acquiesced', 'noise', 'stake', 'alderneys', 'flushed', 'present.', 'intimacy', 'inheriting', 'cloak', 'humility', 'glancing', 'days.', 'daughter-in-law', 'worlds', 'unmodulated', 'bow', 'desirableness', 'stout', 'ill.', 'blow', 'principle', 'advances.', 'accepting', 'earnestness', 'needed', 'couple', 'opposition', 'wilful', 'going', 'alarm.', 'falsehood', 'home-baked', 'sunk', 'pretend', 'greatest', 'shocking', 'up.', 'reprove', 'glance', 'wedging', 'playing', 'goings-on', 'opposite', 'disinclined', 'library', 'party', 'preparations', 'threw', 'cousins', 'dessert', 'indistinctness', 'old-fashioned', 'sins', 'injure', 'finessing', 'watering-place', 'nothing', 'topic', 'perhaps.', 'dying', 'intently', 'instead', 'replies', 'south', 'forth', 'patch', 'mortified', 'wind', 'absolutely', 'furniture', 'keeping', 'blessings', 'exterior', 'inclining', 'beauties', 'eagerly', 'seat', 'expectations', '_her_.', 'largest', 'readiest', 'broadly', 'unsafe', 'apparent', 'county', 'seminary', 'hopes', 'handed', 'irresolute', 'pleasantly', 'confiding', 'statement', 'lingering', 'presents', 'pretty-behaved', 'declined', 'grandpapa', 'rid', 'dancers', 'unprovided', 'twilight', 'attention', 'attentively', 'hasten', 'unaccountable', 'dispositions', \"'aye\", 'months', 'sighing', 'prudent', 'stabbed', 'esteemed', 'fortnight', 'gaze', 'ordinarily', 'blushed', 'forty', 'blindness', 'briskly', 'quickly', 'eminent', 'finest-looking', 'commended', 'conceive', 'fame', 'grammatical', 'effect', 'happy-looking', 'dinner-company', 'proceed', 'pray', 'inexpressibly', 'mostly', 'homewards', 'worst', 'before.', 'combated', 'compunction', 'presence', 'flying', 'kind-hearted', 'marked', 'forgetting', 'disappearance', 'holds', 'f', 'heart', 'deserves', 'quarrelled.', 'occurred', 'pilfering', 'sure.', 'sorrowful', 'venturing', 'unwilling', 'oddest', 'wound.', 'egg', 'mustered', 'critical', 'law', 'dupe', 'prevalent', '_doubts_', 'altogether', 'observed', 'unfriendly', '_sacrifice_', 'lazy', 'compare', 'politeness', 'name', 'banished', 'stokes', 'commonly', 'councillors', 'palliate', 'laughed', \"'augusta\", 'humane', 'blinded', 'slightest', 'inconvenience', 'condition', 'ought.', 'passage', 'owes', '_was_', 'suggested', 'matched', 'possible', 'slope', 'questions', 'abusing', 'others', 'hardy', 'camp-fever', 'valuable', 'taking', 'principles', 'praise', 'lime-walk', 'reprobation', 'dispersed', 'rode', 'doubly', 'perplexities', 'worn', 'withdrawn', 'clean', 'unaffected', 'sell', 'parlours', 'mr', 'tongue', '_wish_', 'desires', 'affability', 'civil', 'precaution', 'mathematician', 'designs', 'otways.', 'swelling', 'true.', 'experience', 'recent', 'wind-up', 'frozen', 'scepticism', 'lifted', 'inflicting', 'playfulness', 'subsistence', 'muslins', 'sparkling', '_evening_', 'length', 'trusted', 'cautiousness', 'schemes', '_try_', 'enhanced', 'attractions', 'warmest', 'balance', 'affords', 'loveliness', 'preconceived', 'ninety-nine', 'ill-timed', 'amuses', 'lie', 'among', 'owner', 'gestures', 'correct', 'total', 'appeased', 'process', 'teaches', 'hawkins', 'faster', 'secondary', 'sequel', 'hautboys', 'turnips', 'fricassee', 'celibacy', 'gown', 'acrostic', 'provision', 'doat', 'occasioned', 'riddle-book', 'circumstances', 'thousands', 'dinner-party', 'sent', 'gathering', 'literature', 'gracious', 'improvement', 'deserve.', 'accounted', 'simple-minded', 'nine', 'assistance', 'cure.', 'whoever', 'blinder', 'confine', 'fearing', '_two_', 'embarrassed', 'languor', 'afternoon', 'glad.', 'odd-tempered', 'infatuation.', 'closer', 'direct', 'describe', 'deprived', 'disgrace', 'manner', 'chose', 'wool', 'that.', 'unnecessarily.', 'welcomed', 'fight', 'resemble', 'instruction', 'guided', 'indelicacy', 'doating', 'consent', 'desperately', 'kissed', 'venice', 'accompanied', 'urge.', 'retaining', 'fence', 'convincing', 'regret', 'culture', 'disrespect', 'proper', \"'and\", 'died', 'undesigned', 'satisfies', 'appreciating', 'reason', 'topics', '_own_', 'service.', 'failure', 'distress', 'murmurs', 'owned', 'mystery', 'artlessness', 'terribly', 'address', 'pervert', 'pointedly', 'midsummer', 'worldly', 'engrafted', 'maps', 'rubbers', 'george', 'poverty', 'smaller', 'hindrance', 'uneasiness.', 'slept', 'affecting', 'shake', 'suspicion', 'continuing', 'enormous', 'till', 'mortifying', 'ornament', 'sept.', 'met', 'unbiased', 'remark', 'perplexed', 'perform', 'fires', 'remembrances', 'exercises', 'attachments', 'wondered', 'sit', 'fancifulness', 'capacities', 'description', 'bickerton', 'effectually', 'pleasantest', 'weakened', \"'upon\", 'variously', 'entrance', 'assisting', 'approves', 'acknowledgments', 'tuesday', 'variety', 'representations', 'mistresses', 'temptation', 'ingenuousness', 'amount', 'k.', 'blended', 'distinguishing', 'offence.', 'unselfish', 'pursuits', 'proclaimed', 'move.', 'desired', 'unfeigned', 'profusion', 'pair', 'period', 'inexperience', 'darling', 'harm', 'otherwise', 'unequivocal', 'cook', 'equally', 'attempts', 'trusting', 'prosing', 'skilful', 'flattery', '_moment_', 'charge', 'insidious', 'with.', 'nephews', 'marry', 'unsteadiness', 'conviction.', 'rules', 'raising', 'battle', 'suggestions', 'distinctly', 'drizzle', 'treatment', 'drunk', 'bending', 'producing', 'mute', 'houses', 'ungracious', 'november', 'dwellings', 'enjoy.', 'irresistibly', 'curse', 'knocked', 'unwillingness', 'good-humoured', 'marriages', 'ill-bestowed', 'setting', 'successless', 'overflowing', 'bath', 'virtues', 'pleasures', 'guessed', 'xvii', 'detached', 'indefatigable', 'sleek', 'dining', 'viii', 'abruptness', 'proportion', 'discharged', 'infamous', 'sorts.', 'defiance', 'discrimination', 'delights', 'especial', 'boiled', 'insufficient', 'decision', 'absences', 'penetrating', 'loud', 'sought', '_miss_', 'aggrandise', 'insolent', 'suffering', 'extenuation', 'grieved', 'yielded', 'faithful', 'another.', 'speedy', 'waltz', 'country-dance', 'amounting', 'paused', 'view', '_some_', 'sharing', 'legal', 'bristol', 'temper', 'pretence', 'command', 'dublin', 'congratulated', 'docile', 'giver', 'picture', 'fortuitous', 'sights', 'apprehend', 'shaded', 'rides', 'unfortunate', 'solidity', 'associations', 'bends', 'shade', 'bangs', 'wretched', 'implied', 'compassionate', 'pulmonary', 'flight', 'oppression', 'altered', 'mortals.', 'artless', 'graciousness', '_times_', 'concealment.', 'spirits', 'wiser', 'umbrella', 'intrigue', 'periods', 'taught', 'grandmama', 'succeed', 'latest', 'settle', 'neglect', 'seats', 'health.', '_married_', 'concerts', 'propriety.', 'turnip', 'tax', '_i_', 'piece', 'governed', 'nothing-meaning', 'unattended', 'belonging', 'recantation', 'churchills', 'odious', 'reinstate', 'stoops', 'skin', 'infinitely', 'butter', 'unnoticed', 'collectedly', 'stopped', 'medals', 'opportunities', 'loth', 'verbal', 'timber', 'sufficiently', 'apple', 'beaufet', 'heavens', 'meaning', 'joining', 'dreaming', 'likelihood', 'ecstasies', 'precise', 'errors', 'william', 'education', 'ford.', 'blessing', 'delightfully', 'embodied', 'broke', 'sale', 'disappointed', 'neighbourhood', 'card-room', 'educating', 'soft', 'cured', 'self-denying', 'distinction.', 'harshly', 'exploring', 'inexcusable', 'farthest', 'connected', 'positive', 'staying', 'influenced', 'regarding', 'check', 'chiefly', 'fills', 'shrugged', 'doom', 'preparing', 'poorer', 'stale', 'useful', 'undecided', 'merit.', 'joint', 'impression', 'honourable', 'butcher', 'sport', 'blinds', 'discourse', 'harmony', 'fairest', 'farther', 'decent', 'confused', 'silly', 'eager', 'blessed', 'drawers', \"'that\", 'queernesses', 'possibilities', 'bright', 'gross', 'labouring', 'overrating', 'supplanted.', 'contend', 'avenue', 'intentions', 'jumped', 'prospects', 'whichever', 'clara', 'prevented', 'good', 'schoolroom', 'baby', \"'mr\", 'troublesome', 'excited', 'row', 'climate', 'destiny', 'abundantly', 'intimation', 'tom', 'shepherd', 'suggesting', 'be.', 'within', 'coolness', 'charmed.', 'services', 'discussion', 'sleety', 'inspection', 'decree', 'relating', 'deserts', 'obliging.', 'songs', 'labourers', 'stronger', 'die', 'together.', 'wood', 'campbells', 'unusual', 'burn', 'carefully', 'merest', 'admirable', 'making-up', 'thrown', 'rousing', 'whist-club', 'source', 'acknowledge', 'appearing', 'village', 'expeditious', '_mrs._', 'foolish', 'disturbed', 'rough', 'fondness', 'vicinity', 'feigning', 'meadows', '_world_', 'confirm', 'resources', '_of_', 'fearfully', 'indulge', 'venture', 'stable', 'dear', 'ties', 'incumbent', 'slap', 'mutton', 'workbags', 'scene', 'cowper', 'variations', 'essential', 'humanely', 'sheets', 'shame', 'hazle', 'resigned', 'concentrated', '_very_', 'business', 'day.', 'church', 'notion', 'hows', 'baked', 'appear', 'unlike', 'puzzling', 'example.', '_adair_', 'caught', 'model', 'correspond', 'somewhere.', 'native', 'slowly', 'disagreeables', 'himself.', 'brilliant', 'madeira', 'season', 'amends', 'speculation', 'declares', 'emulate', 'express', 'philippics', 'cry-out', 'fidgeting', '_addition_', 'satisfaction', 'slighting', 'beg', '_mrs_', 'double', 'grieve', 'behaving', 'intermediate', 'profession', 'occur', 'milmans', 'taylor.', 'full', 'preferred', 'guarded', 'quadrille', 'communicating', 'addition', \"'which\", 'reaching', 'look-out', 'diffuses', 'transplantation', 'actual', 'seeking', 'chusing', 'understandings', 'powerful', 'repressing', 'departure', 'enquired', 'ungrateful', 'shakespeare', 'dears', 'shifts', 'comes', 'engrossing', 'approve', 'zigzags', 'plans', 'crosses', 'importation', 'marrying', 'worship', 'unsuccessfully', 'talked', \"'aimable\", 'war', 'claims', 'untoward', 'meat', 'absurdities', 'resumed', 'fancy', 'memorial', 'firm', 'playful', 'fatigued', 'discipline', 'resentfully', 'enchanted', 'consoling', 'self-examination', 'crayon', 'involved', 'remind', 'twelvemonth', 'papas', 'escaped', 'half-second', 'notice', 'positively', 'safely', 'multiplicity', 'nursery-maids', 'communicate', 'substitute', 'shewed', 'gratefully', 'remarks', 'thwarted', 'question', 'qualified', 'failings', 'beginning', 'arrogance', 'rising', 'observe.', 'emotion', 'masters', 'dances', 'assist', 'liveliest', 'dwelling', 'concert', 'boarding-school', 'protested', 'diffuse', 'coxcomb', 'continue', 'sinking', 'determined', 'steadier', 'mum', 'awoke', 'stand', 'only.', 'passed', 'alter', 'display', 'gentlemen', 'vulgarity', 'compatible', 'dinner-visiting', 'mantelpiece', 'message', 'refrain', 'attainable', 'darker', 'compliance', 'occurs', 'resulted', 'importance', 'bodies', 'essay', 'approbation', 'spirited', 'ill-luck', 'explanations', 'imputed', '_us_', 'estimate', 'fancying', 'preclude', '_robin_', 'ii', 'kitchen.', 'carried', 'create', 'forestalling', 'consult', 'housekeeping', 'them.', 'sick-chamber', 'pretension', 'eligibility', 'xvi', 'bitterly', 'charm', 'thus', 'quarto', 'friendship', 'article', 'children', 'make', 'rewarded', 'baronne', 'better', 'requires', 'candidates', 'favourite', 'mad.', 'amounted', 'triumphantly', 'affixed', 'bad', 'uncivil', 'admires', 'vouchsafed', 'fastening', 'stomacher', 'all.', 'harriet.', 'collation', 'hodges', 'depression', 'interests', 'benefit', 'watch', 'displays', 'thought.', 'companionableness', 'applied', 'stopping', 'staggered', 'allowable', 're-declined', 'every', 'income.', 'stirred', 'eighth', 'betrayed', 'unnecessarily', 'dr.', 'line', 'fluctuations', 'anything', 'exerting', 'governess', 'honour', 'blamed', 'chatted', 'usual', 'staircase', 'indicate', 'also.', 'reluctant', 'hat', 'office-door', 'discouragement', 'deafer', 'younger', 'consciousness.', 'planning', 'small', 'rub', 'brightest', 'benefited', 'respite', 'noisy', 'capital', 'inspiration', 'suppers', 'horses', 'sat', 'extenuations', 'haunting', 'wives', 'eyelashes', 'denied', 'circulate', 'you.', 'entreated', 'losses', 'throws', 'remembered', 'sending', 'convey', 'campbell', 'offered', 'future', 'contemplation', 'ulcerated', 'womanly', 'suit.', 'dislike.', 'augusta', 'humiliation.', 'drawing-up', 'astonish', 'well-bred', 'overtake', 'irritate.', '_unreasonable_', 'king', 'sums', 'prejudice', 'surmised', 'self-command', 'key', 'works', \"o'clock\", \"se'nnight\", 'presume', 'accustomed', 'simpleton', 'driving', '_little_', 'dispensed', 'appendages', 'langham', 'disappointments', 'exclamation', 'testifying', 'unworthy', 'churchill', 'pay', 'lover.', 'pitied', 'austen', 'scalloped', 'seizure', 'palpably', 'establishment', 'circles', 'servants', 'entertainment', 'clothed', 'aye', 'laborious', 'salting-pan', 'urging', 'scorned', 'garters', 'pantry', 'plainer', 'hereabouts', 'gay', 'hereafter', 'fatiguing', 'engrosses', 'remainder', '_here_', 'sends', 'wicked', 'extend', 'companionably', 'performer', 'values', 'large-sized', 'conceal', 'broiling', 'exception', 'placing', 'infinite', 'comparisons', '_man_', 'materially', 'attacked', 'fling', 'canvassing', 'nephew', 'inconsiderate', 'report', 'destination', 'quarrelling', 'grew', 'secrets', 'alertness', 'comprehension', 'man', 'gossips', 'latter', 'receiving', 'satisfy', 'hannah', 'blunders', 'top', 'birth', 'persuading', 'kind.', 'presumptuous', 'route', 'restoration', 'instinctive', 'congratulation.', 'hate', 'unvarying', 'risking', 'distressed', 'away.', 'steadiest', 'pretended', 'offering', 'treachery', 'crossness', 'dress', 'oath', '_letting_', 'called', 'doer', 'occasionally', 'caps'])"
      ]
     },
     "execution_count": 163,
     "metadata": {},
     "output_type": "execute_result"
    }
   ],
   "source": [
    "frequencies.keys()"
   ]
  },
  {
   "cell_type": "markdown",
   "metadata": {},
   "source": [
    "If you wanted to save the words and counts to a file to use, you can do it like this:"
   ]
  },
  {
   "cell_type": "code",
   "execution_count": 164,
   "metadata": {
    "collapsed": false
   },
   "outputs": [],
   "source": [
    "wordpairs = frequencies.most_common()\n",
    "with open(\"emma_word_counts.csv\", \"w\") as handle:\n",
    "    for pair in wordpairs:\n",
    "        handle.write(pair[0] + \",\" + str(pair[1]) + \"\\n\")"
   ]
  },
  {
   "cell_type": "code",
   "execution_count": 165,
   "metadata": {
    "collapsed": false
   },
   "outputs": [
    {
     "name": "stdout",
     "output_type": "stream",
     "text": [
      "mr.,1089\r\n",
      "emma,860\r\n",
      "could,836\r\n",
      "would,818\r\n",
      "mrs.,668\r\n"
     ]
    }
   ],
   "source": [
    "# this won't work on Windows - it's a unix command to look at the top of the file.\n",
    "!head -n5 emma_word_counts.csv"
   ]
  },
  {
   "cell_type": "code",
   "execution_count": null,
   "metadata": {
    "collapsed": true
   },
   "outputs": [],
   "source": [
    "# How would we read that into pandas and make a graph of the top 10?"
   ]
  },
  {
   "cell_type": "markdown",
   "metadata": {},
   "source": [
    "## Finding Most Common Pairs of Words (\"Bigrams\")\n",
    "\n",
    "Words occur in common sequences, sometimes.  We call word pairs \"bigrams\" (and word triples \"trigrams\").  We refer to N-grams when we mean \"sequences of some length.\"  These functions work on the tokenized text -- the list of tokens.  If we clean it first (punctuation and stopword removal), then the bi- and tri-grams may not look like good grammar.  But it may still be useful information."
   ]
  },
  {
   "cell_type": "code",
   "execution_count": 102,
   "metadata": {
    "collapsed": false
   },
   "outputs": [
    {
     "data": {
      "text/plain": [
       "[(('mr.', 'knightley'), 1946.6592454307174),\n",
       " (('mrs.', 'weston'), 1850.336542407057),\n",
       " (('frank', 'churchill'), 1606.6422087377366),\n",
       " (('mr.', 'elton'), 1322.480745223186),\n",
       " (('miss', 'woodhouse'), 1252.7696197262974),\n",
       " (('miss', 'bates'), 938.7056563680686),\n",
       " (('miss', 'fairfax'), 889.3547077244223),\n",
       " (('every', 'body'), 885.9210086539515),\n",
       " (('jane', 'fairfax'), 865.7102826733177),\n",
       " (('mrs.', 'elton'), 863.7876470227845),\n",
       " (('every', 'thing'), 822.5115947376371),\n",
       " (('mr.', 'weston'), 819.316541417629),\n",
       " (('young', 'man'), 738.0043606265148),\n",
       " (('mr.', 'woodhouse'), 709.2509559335367),\n",
       " (('great', 'deal'), 624.5844244998653),\n",
       " (('maple', 'grove'), 543.5640164601741),\n",
       " (('mrs.', 'goddard'), 539.8815046356124),\n",
       " (('dare', 'say'), 519.4899438008467),\n",
       " (('john', 'knightley'), 481.1441515680198),\n",
       " (('miss', 'taylor'), 455.8587834632044),\n",
       " (('miss', 'smith'), 449.07602962315485),\n",
       " (('robert', 'martin'), 423.1323714473208),\n",
       " (('colonel', 'campbell'), 382.65688903898683),\n",
       " (('box', 'hill'), 290.2446133043724),\n",
       " (('depend', 'upon'), 239.06344414801313),\n",
       " (('upon', 'word'), 225.62889299685202),\n",
       " (('william', 'larkins'), 220.7772382638071),\n",
       " (('said', 'emma'), 210.3560331875389),\n",
       " (('mrs.', 'cole'), 199.17528994831108),\n",
       " (('mr.', 'martin'), 197.65324181025966),\n",
       " (('harriet', 'smith'), 196.81576555709933),\n",
       " (('mr.', 'perry'), 196.536981016899),\n",
       " (('mr.', 'frank'), 192.58441863725932),\n",
       " (('young', 'lady'), 186.30067367322556),\n",
       " (('brunswick', 'square'), 184.57018059042792),\n",
       " (('body', 'else'), 181.24121419336157),\n",
       " (('oh', 'yes'), 179.26479921776485),\n",
       " (('mrs.', 'churchill'), 179.19140524648583),\n",
       " (('take', 'care'), 168.81405687955515),\n",
       " (('miss', 'hawkins'), 165.86436927467986),\n",
       " (('young', 'woman'), 164.55525411114633),\n",
       " (('half', 'hour'), 157.83582405250291),\n",
       " (('last', 'night'), 155.02535338141118),\n",
       " (('young', 'ladies'), 144.1063007032337),\n",
       " (('cried', 'emma'), 140.56828248109935),\n",
       " (('mrs.', 'bates'), 136.46344246179257),\n",
       " (('mr.', 'john'), 134.25009943721378),\n",
       " (('good', 'deal'), 132.28131319146647),\n",
       " (('emma', 'could'), 130.83547258489395),\n",
       " (('mr.', 'dixon'), 128.0663309196494)]"
      ]
     },
     "execution_count": 102,
     "metadata": {},
     "output_type": "execute_result"
    }
   ],
   "source": [
    "from nltk.collocations import *\n",
    "bigram_measures = nltk.collocations.BigramAssocMeasures()\n",
    "\n",
    "word_fd = nltk.FreqDist(emma_cleaner) # all the words\n",
    "bigram_fd = nltk.FreqDist(nltk.bigrams(emma_cleaner))\n",
    "finder = BigramCollocationFinder(word_fd, bigram_fd)\n",
    "scored = finder.score_ngrams(bigram_measures.likelihood_ratio) # a good option here, there are others:\n",
    "scored[0:50]"
   ]
  },
  {
   "cell_type": "code",
   "execution_count": 103,
   "metadata": {
    "collapsed": false
   },
   "outputs": [],
   "source": [
    "# Trigrams - using raw counts is much faster than using a statistical measure of likelihood\n",
    "\n",
    "finder = nltk.collocations.TrigramCollocationFinder.from_words(emma_cleaner,\n",
    "    window_size = 15)\n",
    "# there must be at least 2 for them to be reported:\n",
    "finder.apply_freq_filter(2)\n",
    "# if you want to remove extra words, like character names, you can create the ignored_words list too:\n",
    "#finder.apply_word_filter(lambda w: len(w) < 3 or w.lower() in ignored_words)"
   ]
  },
  {
   "cell_type": "code",
   "execution_count": 104,
   "metadata": {
    "collapsed": false
   },
   "outputs": [
    {
     "data": {
      "text/plain": [
       "[('mr.', 'knightley', 'mr.'),\n",
       " ('mr.', 'elton', 'mr.'),\n",
       " ('mr.', 'mr.', 'knightley'),\n",
       " ('mr.', 'mr.', 'elton'),\n",
       " ('mr.', 'frank', 'churchill'),\n",
       " ('mr.', 'knightley', 'emma'),\n",
       " ('mrs.', 'weston', 'emma'),\n",
       " ('mr.', 'knightley', 'would'),\n",
       " ('emma', 'mr.', 'knightley'),\n",
       " ('mr.', 'weston', 'mr.'),\n",
       " ('mrs.', 'weston', 'would'),\n",
       " ('mr.', 'mrs.', 'weston'),\n",
       " ('could', 'mr.', 'knightley'),\n",
       " ('emma', 'mrs.', 'weston'),\n",
       " ('mr.', 'knightley', 'could'),\n",
       " ('mrs.', 'weston', 'mr.'),\n",
       " ('would', 'mr.', 'knightley'),\n",
       " ('elton', 'mr.', 'elton'),\n",
       " ('mr.', 'john', 'knightley'),\n",
       " ('mr.', 'mr.', 'weston')]"
      ]
     },
     "execution_count": 104,
     "metadata": {},
     "output_type": "execute_result"
    }
   ],
   "source": [
    "trigram_measures = nltk.collocations.TrigramAssocMeasures()\n",
    "# now we use the raw counts here and you'll see lots of garbage unless you did further cleaning\n",
    "finder.nbest(trigram_measures.raw_freq, 20)"
   ]
  },
  {
   "cell_type": "code",
   "execution_count": 105,
   "metadata": {
    "collapsed": false
   },
   "outputs": [
    {
     "data": {
      "text/plain": [
       "[(('mr.', 'knightley', 'mr.'), 1.5006160028691778e-05),\n",
       " (('mr.', 'elton', 'mr.'), 1.3355482425535682e-05),\n",
       " (('mr.', 'mr.', 'knightley'), 1.2605174424101094e-05),\n",
       " (('mr.', 'mr.', 'elton'), 1.1104558421231916e-05),\n",
       " (('mr.', 'frank', 'churchill'), 1.0954496820944997e-05),\n",
       " (('mr.', 'knightley', 'emma'), 1.0054127219223492e-05),\n",
       " (('mrs.', 'weston', 'emma'), 9.904065618936573e-06),\n",
       " (('mr.', 'knightley', 'would'), 9.45388081807582e-06),\n",
       " (('emma', 'mr.', 'knightley'), 9.303819217788902e-06),\n",
       " (('mr.', 'weston', 'mr.'), 9.003696017215066e-06),\n",
       " (('mrs.', 'weston', 'would'), 8.853634416928149e-06),\n",
       " (('mr.', 'mrs.', 'weston'), 8.10332641549356e-06),\n",
       " (('could', 'mr.', 'knightley'), 7.953264815206642e-06),\n",
       " (('emma', 'mrs.', 'weston'), 7.953264815206642e-06),\n",
       " (('mr.', 'knightley', 'could'), 7.953264815206642e-06),\n",
       " (('mrs.', 'weston', 'mr.'), 7.653141614632807e-06),\n",
       " (('would', 'mr.', 'knightley'), 7.653141614632807e-06),\n",
       " (('elton', 'mr.', 'elton'), 7.503080014345889e-06),\n",
       " (('mr.', 'john', 'knightley'), 7.503080014345889e-06),\n",
       " (('mr.', 'mr.', 'weston'), 7.503080014345889e-06)]"
      ]
     },
     "execution_count": 105,
     "metadata": {},
     "output_type": "execute_result"
    }
   ],
   "source": [
    "finder.score_ngrams(trigram_measures.raw_freq)[0:20]"
   ]
  },
  {
   "cell_type": "code",
   "execution_count": null,
   "metadata": {
    "collapsed": false
   },
   "outputs": [],
   "source": [
    "## This is very slow!  Don't run unless you're serious :)\n",
    "\n",
    "finder = TrigramCollocationFinder.from_words(emma_cleaner,\n",
    "    window_size = 10)\n",
    "finder.apply_freq_filter(2)\n",
    "# if you want to remove extra words, like character names, you can create the ignored_words list too:\n",
    "#finder.apply_word_filter(lambda w: len(w) < 3 or w.lower() in ignored_words)\n",
    "#finder.apply_word_filter(lambda w: len(w) < 3)  # remove short words\n",
    "# maximum likelihood ratio is a statistical measure different from just raw counts used above\n",
    "finder.nbest(trigram_measures.likelihood_ratio, 15)"
   ]
  },
  {
   "cell_type": "markdown",
   "metadata": {},
   "source": [
    "Some more help is here: http://www.nltk.org/howto/collocations.html"
   ]
  },
  {
   "cell_type": "markdown",
   "metadata": {},
   "source": [
    "### What if we wanted to try non-fiction, to see if there are more interesting results?\n",
    "\n",
    "We need to read and clean the text for another file.  Let's try positive movie reviews, located in data/movie_reviews/all_pos.txt."
   ]
  },
  {
   "cell_type": "code",
   "execution_count": 170,
   "metadata": {
    "collapsed": false
   },
   "outputs": [],
   "source": [
    "with open(\"data/movie_reviews/all_pos.txt\", errors=\"ignore\") as handle:\n",
    "    text = handle.read()"
   ]
  },
  {
   "cell_type": "code",
   "execution_count": 171,
   "metadata": {
    "collapsed": false
   },
   "outputs": [],
   "source": [
    "tokens = nltk.word_tokenize(text)  # tokenize them - split into words and punct\n",
    "clean_posrevs = clean_tokens(tokens)  # clean up stopwords and punct"
   ]
  },
  {
   "cell_type": "code",
   "execution_count": 172,
   "metadata": {
    "collapsed": false
   },
   "outputs": [
    {
     "data": {
      "text/plain": [
       "['rated',\n",
       " '4-star',\n",
       " 'scale',\n",
       " 'screening',\n",
       " 'venue',\n",
       " 'odoen',\n",
       " 'liverpool',\n",
       " 'city',\n",
       " 'centre',\n",
       " 'released',\n",
       " 'uk',\n",
       " 'uip',\n",
       " 'april',\n",
       " '7',\n",
       " '2000',\n",
       " 'certificate',\n",
       " '15',\n",
       " '126',\n",
       " 'minutes',\n",
       " 'country']"
      ]
     },
     "execution_count": 172,
     "metadata": {},
     "output_type": "execute_result"
    }
   ],
   "source": [
    "clean_posrevs[0:20]"
   ]
  },
  {
   "cell_type": "code",
   "execution_count": 173,
   "metadata": {
    "collapsed": false
   },
   "outputs": [
    {
     "data": {
      "text/plain": [
       "[(('--', '--'), 276.37856128911676),\n",
       " (('martial', 'arts'), 172.9566013400519),\n",
       " (('green', 'mile'), 124.60518604561268),\n",
       " (('jackie', 'brown'), 114.33464649956649),\n",
       " (('high', 'fidelity'), 101.97315011972981),\n",
       " (('wonder', 'boys'), 91.96089134910119),\n",
       " (('mr', 'tarantino'), 87.87868213572972),\n",
       " (('http', '//www'), 78.12829220990892),\n",
       " (('pulp', 'fiction'), 78.12829220990892),\n",
       " (('mira', 'sorvino'), 75.91905463957946),\n",
       " (('beavis', 'butthead'), 70.98878226918048),\n",
       " (('hong', 'kong'), 70.98878226918048),\n",
       " (('irwin', 'winkler'), 70.98878226918048),\n",
       " (('mrs', 'pascal'), 70.98878226918048),\n",
       " (('ca', \"n't\"), 70.26383877215791),\n",
       " (('first', 'sight'), 69.93537990510472),\n",
       " (('good', 'hunting'), 69.39432459762817),\n",
       " (('replacement', 'killers'), 65.9847580337986),\n",
       " (('robin', 'williams'), 65.9402713911571),\n",
       " (('running', 'time'), 64.15271723747468),\n",
       " (('matt', 'damon'), 63.775616177967265),\n",
       " (('pam', 'grier'), 63.35061224964273),\n",
       " (('serial', 'killer'), 63.35061224964273),\n",
       " (('ben', 'affleck'), 58.62347389043332),\n",
       " (('erin', 'brockovich'), 58.34696880344971),\n",
       " (('quentin', 'tarantino'), 55.712442230104976),\n",
       " (('enter', 'dragon'), 54.96796464241866),\n",
       " (('kung', 'fu'), 54.96796464241866),\n",
       " (('van', 'sant'), 54.96796464241866),\n",
       " (('sight', '``'), 54.955604978126146),\n",
       " (('twists', 'turns'), 51.56549208743765),\n",
       " (('years', 'ago'), 51.431961982885824),\n",
       " (('de', 'niro'), 50.469283485472864),\n",
       " (('dinner', 'game'), 49.06561702343973),\n",
       " (('niagara', 'niagara'), 48.81111952999776),\n",
       " (('val', 'kilmer'), 48.2378479723261),\n",
       " (('new', 'york'), 47.71977026233416),\n",
       " (('john', 'cusack'), 46.91800191579502),\n",
       " (('kelly', 'mcgillis'), 46.65019847569932),\n",
       " (('bvoice', 'com'), 45.970792695925695),\n",
       " (('eddie', 'murphy'), 45.40725117661672),\n",
       " (('alien', 'resurrection'), 44.682234881296246),\n",
       " (('white', 'trash'), 44.38295283189096),\n",
       " (('record', 'store'), 43.73954756831499),\n",
       " (('redman', 'bvoice'), 43.73954756831499),\n",
       " (('``', 'eraserhead'), 43.45753554164391),\n",
       " (('eraserhead', '``'), 43.45753554164391),\n",
       " (('coen', 'brothers'), 41.50849284436478),\n",
       " (('stephen', 'frears'), 40.909331598042584),\n",
       " (('kirk', 'douglas'), 39.955891936273034)]"
      ]
     },
     "execution_count": 173,
     "metadata": {},
     "output_type": "execute_result"
    }
   ],
   "source": [
    "word_fd = nltk.FreqDist(clean_posrevs)\n",
    "bigram_fd = nltk.FreqDist(nltk.bigrams(clean_posrevs))\n",
    "finder = BigramCollocationFinder(word_fd, bigram_fd)\n",
    "scored = finder.score_ngrams(bigram_measures.likelihood_ratio) # other options are \n",
    "scored[0:50]"
   ]
  },
  {
   "cell_type": "markdown",
   "metadata": {},
   "source": [
    "Apparently we need to remove custom stopwords from these too!"
   ]
  }
 ],
 "metadata": {
  "anaconda-cloud": {},
  "kernelspec": {
   "display_name": "Python [conda env:pandasnlp]",
   "language": "python",
   "name": "conda-env-pandasnlp-py"
  },
  "language_info": {
   "codemirror_mode": {
    "name": "ipython",
    "version": 3
   },
   "file_extension": ".py",
   "mimetype": "text/x-python",
   "name": "python",
   "nbconvert_exporter": "python",
   "pygments_lexer": "ipython3",
   "version": "3.5.0"
  }
 },
 "nbformat": 4,
 "nbformat_minor": 0
}
