{
 "cells": [
  {
   "cell_type": "markdown",
   "metadata": {},
   "source": [
    "# Using Pandas With a Remote MySQL Server\n",
    "\n",
    "#### To Read Review Files and Create Files from Them on Your Computer"
   ]
  },
  {
   "cell_type": "code",
   "execution_count": 29,
   "metadata": {
    "collapsed": true
   },
   "outputs": [],
   "source": [
    "import numpy as np\n",
    "import pandas as pd"
   ]
  },
  {
   "cell_type": "markdown",
   "metadata": {},
   "source": [
    "You need to \"pip install pymysql\" at the command line. Open a terminal window (not the one that is running your Jupyter notebook server) and type \"pip install pymysql\"."
   ]
  },
  {
   "cell_type": "code",
   "execution_count": 5,
   "metadata": {
    "collapsed": true
   },
   "outputs": [],
   "source": [
    "import pymysql"
   ]
  },
  {
   "cell_type": "code",
   "execution_count": 2,
   "metadata": {
    "collapsed": true
   },
   "outputs": [],
   "source": [
    "server = \"analyst-toolbelt.cn119w37trlg.eu-west-1.rds.amazonaws.com\"\n",
    "username = \"emlyon1\"\n",
    "password = \"student1\""
   ]
  },
  {
   "cell_type": "code",
   "execution_count": 3,
   "metadata": {
    "collapsed": true
   },
   "outputs": [],
   "source": [
    "## we have 2 others - emlyon2 and student2, and emlyon3 and student3"
   ]
  },
  {
   "cell_type": "markdown",
   "metadata": {},
   "source": [
    "###  You can change the name of the Database here from 'prod_reviews' to one you want to use."
   ]
  },
  {
   "cell_type": "code",
   "execution_count": 8,
   "metadata": {
    "collapsed": false
   },
   "outputs": [],
   "source": [
    "connection = pymysql.connect(host=server,\n",
    "                             user=username,\n",
    "                             password=password,\n",
    "                             db='prod_reviews',\n",
    "                             charset='utf8')\n"
   ]
  },
  {
   "cell_type": "code",
   "execution_count": 9,
   "metadata": {
    "collapsed": false
   },
   "outputs": [
    {
     "data": {
      "text/html": [
       "<div>\n",
       "<style>\n",
       "    .dataframe thead tr:only-child th {\n",
       "        text-align: right;\n",
       "    }\n",
       "\n",
       "    .dataframe thead th {\n",
       "        text-align: left;\n",
       "    }\n",
       "\n",
       "    .dataframe tbody tr th {\n",
       "        vertical-align: top;\n",
       "    }\n",
       "</style>\n",
       "<table border=\"1\" class=\"dataframe\">\n",
       "  <thead>\n",
       "    <tr style=\"text-align: right;\">\n",
       "      <th></th>\n",
       "      <th>Tables_in_prod_reviews</th>\n",
       "    </tr>\n",
       "  </thead>\n",
       "  <tbody>\n",
       "    <tr>\n",
       "      <th>0</th>\n",
       "      <td>automotive</td>\n",
       "    </tr>\n",
       "    <tr>\n",
       "      <th>1</th>\n",
       "      <td>garden</td>\n",
       "    </tr>\n",
       "    <tr>\n",
       "      <th>2</th>\n",
       "      <td>music</td>\n",
       "    </tr>\n",
       "  </tbody>\n",
       "</table>\n",
       "</div>"
      ],
      "text/plain": [
       "  Tables_in_prod_reviews\n",
       "0             automotive\n",
       "1                 garden\n",
       "2                  music"
      ]
     },
     "execution_count": 9,
     "metadata": {},
     "output_type": "execute_result"
    }
   ],
   "source": [
    "pd.read_sql('SHOW tables', connection)"
   ]
  },
  {
   "cell_type": "code",
   "execution_count": 10,
   "metadata": {
    "collapsed": true
   },
   "outputs": [],
   "source": [
    "SQL = \"Select * from garden limit 1000\"   # depending on your ability to handle lots of files, you can increase or decrease this. For tweets, use a lot."
   ]
  },
  {
   "cell_type": "code",
   "execution_count": 11,
   "metadata": {
    "collapsed": true
   },
   "outputs": [],
   "source": [
    "garden = pd.read_sql(SQL, connection)"
   ]
  },
  {
   "cell_type": "code",
   "execution_count": 31,
   "metadata": {
    "collapsed": false,
    "scrolled": true
   },
   "outputs": [
    {
     "data": {
      "text/html": [
       "<div>\n",
       "<style>\n",
       "    .dataframe thead tr:only-child th {\n",
       "        text-align: right;\n",
       "    }\n",
       "\n",
       "    .dataframe thead th {\n",
       "        text-align: left;\n",
       "    }\n",
       "\n",
       "    .dataframe tbody tr th {\n",
       "        vertical-align: top;\n",
       "    }\n",
       "</style>\n",
       "<table border=\"1\" class=\"dataframe\">\n",
       "  <thead>\n",
       "    <tr style=\"text-align: right;\">\n",
       "      <th></th>\n",
       "      <th>reviewerID</th>\n",
       "      <th>asin</th>\n",
       "      <th>reviewerName</th>\n",
       "      <th>helpful</th>\n",
       "      <th>helpful_yes</th>\n",
       "      <th>helpful_no</th>\n",
       "      <th>reviewText</th>\n",
       "      <th>overall</th>\n",
       "      <th>summary</th>\n",
       "      <th>fixed_date</th>\n",
       "      <th>unixReviewTime</th>\n",
       "      <th>reviewTime</th>\n",
       "    </tr>\n",
       "  </thead>\n",
       "  <tbody>\n",
       "    <tr>\n",
       "      <th>0</th>\n",
       "      <td>A3S3R88HA0HZG3</td>\n",
       "      <td>B00D2SPZAM</td>\n",
       "      <td>PT Cruiser</td>\n",
       "      <td>[2, 2]</td>\n",
       "      <td>2</td>\n",
       "      <td>2</td>\n",
       "      <td>This Goal Zero 11800 Nomad 7 Solar Charger is ...</td>\n",
       "      <td>5.0</td>\n",
       "      <td>High quality solar charger for smartphones and...</td>\n",
       "      <td>2013-12-29</td>\n",
       "      <td>1388275200</td>\n",
       "      <td>12 29, 2013</td>\n",
       "    </tr>\n",
       "    <tr>\n",
       "      <th>1</th>\n",
       "      <td>A9O1Q1QUUVZC9</td>\n",
       "      <td>B00004RAN0</td>\n",
       "      <td>Texaswomyn</td>\n",
       "      <td>[2, 3]</td>\n",
       "      <td>2</td>\n",
       "      <td>3</td>\n",
       "      <td>Having been unable to create a method of captu...</td>\n",
       "      <td>4.0</td>\n",
       "      <td>a tale of sad success</td>\n",
       "      <td>2009-05-12</td>\n",
       "      <td>1242086400</td>\n",
       "      <td>05 12, 2009</td>\n",
       "    </tr>\n",
       "    <tr>\n",
       "      <th>2</th>\n",
       "      <td>A2DYMDOAJURO5F</td>\n",
       "      <td>B00GVL015Q</td>\n",
       "      <td>Aceto \"All Knowledge is Sorrow\"</td>\n",
       "      <td>[10, 10]</td>\n",
       "      <td>10</td>\n",
       "      <td>10</td>\n",
       "      <td>This is my favorite of the Perky-Pet Hummingbi...</td>\n",
       "      <td>5.0</td>\n",
       "      <td>Hummer on a Hot Tin Roof</td>\n",
       "      <td>2014-05-01</td>\n",
       "      <td>1398902400</td>\n",
       "      <td>05 1, 2014</td>\n",
       "    </tr>\n",
       "    <tr>\n",
       "      <th>3</th>\n",
       "      <td>A3BNMHRW2R35LK</td>\n",
       "      <td>B007UII5R0</td>\n",
       "      <td>S. Peterson \"theswedishchef\"</td>\n",
       "      <td>[0, 0]</td>\n",
       "      <td>0</td>\n",
       "      <td>0</td>\n",
       "      <td>We've had a couple of feeders over the years b...</td>\n",
       "      <td>5.0</td>\n",
       "      <td>Sturdy</td>\n",
       "      <td>2013-06-17</td>\n",
       "      <td>1371427200</td>\n",
       "      <td>06 17, 2013</td>\n",
       "    </tr>\n",
       "    <tr>\n",
       "      <th>4</th>\n",
       "      <td>A15A2KHW0KHJ8D</td>\n",
       "      <td>B000WB13QC</td>\n",
       "      <td>James Archer</td>\n",
       "      <td>[0, 0]</td>\n",
       "      <td>0</td>\n",
       "      <td>0</td>\n",
       "      <td>I have reviewed a couple of other mouse traps ...</td>\n",
       "      <td>1.0</td>\n",
       "      <td>these are useless, but hey, they were cheap</td>\n",
       "      <td>2013-06-07</td>\n",
       "      <td>1370563200</td>\n",
       "      <td>06 7, 2013</td>\n",
       "    </tr>\n",
       "  </tbody>\n",
       "</table>\n",
       "</div>"
      ],
      "text/plain": [
       "       reviewerID        asin                     reviewerName   helpful  \\\n",
       "0  A3S3R88HA0HZG3  B00D2SPZAM                       PT Cruiser    [2, 2]   \n",
       "1   A9O1Q1QUUVZC9  B00004RAN0                       Texaswomyn    [2, 3]   \n",
       "2  A2DYMDOAJURO5F  B00GVL015Q  Aceto \"All Knowledge is Sorrow\"  [10, 10]   \n",
       "3  A3BNMHRW2R35LK  B007UII5R0     S. Peterson \"theswedishchef\"    [0, 0]   \n",
       "4  A15A2KHW0KHJ8D  B000WB13QC                     James Archer    [0, 0]   \n",
       "\n",
       "   helpful_yes  helpful_no                                         reviewText  \\\n",
       "0            2           2  This Goal Zero 11800 Nomad 7 Solar Charger is ...   \n",
       "1            2           3  Having been unable to create a method of captu...   \n",
       "2           10          10  This is my favorite of the Perky-Pet Hummingbi...   \n",
       "3            0           0  We've had a couple of feeders over the years b...   \n",
       "4            0           0  I have reviewed a couple of other mouse traps ...   \n",
       "\n",
       "  overall                                            summary  fixed_date  \\\n",
       "0     5.0  High quality solar charger for smartphones and...  2013-12-29   \n",
       "1     4.0                              a tale of sad success  2009-05-12   \n",
       "2     5.0                           Hummer on a Hot Tin Roof  2014-05-01   \n",
       "3     5.0                                             Sturdy  2013-06-17   \n",
       "4     1.0        these are useless, but hey, they were cheap  2013-06-07   \n",
       "\n",
       "   unixReviewTime   reviewTime  \n",
       "0      1388275200  12 29, 2013  \n",
       "1      1242086400  05 12, 2009  \n",
       "2      1398902400   05 1, 2014  \n",
       "3      1371427200  06 17, 2013  \n",
       "4      1370563200   06 7, 2013  "
      ]
     },
     "execution_count": 31,
     "metadata": {},
     "output_type": "execute_result"
    }
   ],
   "source": [
    "garden.head()"
   ]
  },
  {
   "cell_type": "code",
   "execution_count": 13,
   "metadata": {
    "collapsed": true
   },
   "outputs": [],
   "source": [
    "garden.to_csv(\"garden.csv\")"
   ]
  },
  {
   "cell_type": "code",
   "execution_count": 27,
   "metadata": {
    "collapsed": false
   },
   "outputs": [
    {
     "data": {
      "text/plain": [
       "1000"
      ]
     },
     "execution_count": 27,
     "metadata": {},
     "output_type": "execute_result"
    }
   ],
   "source": [
    "len(garden)"
   ]
  },
  {
   "cell_type": "markdown",
   "metadata": {},
   "source": [
    "### Create a directory/folder to write your files to. On Windows, you need to do this another way. It should be in the same folder as this notebook."
   ]
  },
  {
   "cell_type": "code",
   "execution_count": 20,
   "metadata": {
    "collapsed": false
   },
   "outputs": [],
   "source": [
    "# see above, won't work on windows. make it manually on windows in the same directory you are working in.\n",
    "mkdir \"garden_files\""
   ]
  },
  {
   "cell_type": "markdown",
   "metadata": {},
   "source": [
    "###  We can iterate over the rows of the data frame and save the column with the text in it to a file. Make sure you do this into a directory, it will be a lot of files."
   ]
  },
  {
   "cell_type": "code",
   "execution_count": 33,
   "metadata": {
    "collapsed": false
   },
   "outputs": [],
   "source": [
    "for i, row in garden.iterrows():\n",
    "    # saving into the directory garden_files, using the row number as the name of the file.\n",
    "    with open(\"garden_files/file\" + str(i) + \".txt\", \"w\", errors=\"ignore\") as handle:\n",
    "        handle.write(row[\"reviewText\"])"
   ]
  },
  {
   "cell_type": "markdown",
   "metadata": {},
   "source": [
    "### The problem with this approach is that you don't have the product name/info anywhere. This is just the review text. You might want to keep track of which row is which product if you can. I think the Product is the \"asin\" field."
   ]
  },
  {
   "cell_type": "code",
   "execution_count": null,
   "metadata": {
    "collapsed": true
   },
   "outputs": [],
   "source": []
  }
 ],
 "metadata": {
  "anaconda-cloud": {},
  "kernelspec": {
   "display_name": "Python [default]",
   "language": "python",
   "name": "python3"
  },
  "language_info": {
   "codemirror_mode": {
    "name": "ipython",
    "version": 3
   },
   "file_extension": ".py",
   "mimetype": "text/x-python",
   "name": "python",
   "nbconvert_exporter": "python",
   "pygments_lexer": "ipython3",
   "version": "3.5.0"
  }
 },
 "nbformat": 4,
 "nbformat_minor": 1
}
