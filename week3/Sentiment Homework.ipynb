{
 "cells": [
  {
   "cell_type": "markdown",
   "metadata": {},
   "source": [
    "# Homework Week3 "
   ]
  },
  {
   "cell_type": "code",
   "execution_count": 75,
   "metadata": {
    "collapsed": true
   },
   "outputs": [],
   "source": [
    "import matplotlib as pylot\n",
    "import nltk\n",
    "from nltk.sentiment.vader import SentimentIntensityAnalyzer\n",
    "import nlp_utilities as mytools\n",
    "import numpy as np\n",
    "import pandas as pd\n",
    "import random\n",
    "from textblob import TextBlob\n",
    "\n"
   ]
  },
  {
   "cell_type": "code",
   "execution_count": 57,
   "metadata": {
    "collapsed": true
   },
   "outputs": [],
   "source": [
    "%matplotlib inline"
   ]
  },
  {
   "cell_type": "code",
   "execution_count": null,
   "metadata": {
    "collapsed": false
   },
   "outputs": [],
   "source": [
    "!ls data/Airline_tweet_text/"
   ]
  },
  {
   "cell_type": "code",
   "execution_count": 65,
   "metadata": {
    "collapsed": false
   },
   "outputs": [],
   "source": [
    "files = mytools.get_filenames(\"data/Airline_tweet_text\")"
   ]
  },
  {
   "cell_type": "code",
   "execution_count": 67,
   "metadata": {
    "collapsed": false
   },
   "outputs": [
    {
     "data": {
      "text/plain": [
       "3016"
      ]
     },
     "execution_count": 67,
     "metadata": {},
     "output_type": "execute_result"
    }
   ],
   "source": [
    "len(files)"
   ]
  },
  {
   "cell_type": "markdown",
   "metadata": {},
   "source": [
    "### Let's take a random sample of 100 tweets from it. Everyone's result should be different."
   ]
  },
  {
   "cell_type": "code",
   "execution_count": 86,
   "metadata": {
    "collapsed": false
   },
   "outputs": [],
   "source": [
    "files = random.sample(files, 100)"
   ]
  },
  {
   "cell_type": "code",
   "execution_count": 87,
   "metadata": {
    "collapsed": true
   },
   "outputs": [],
   "source": [
    "tweets = mytools.load_texts_as_string(files)"
   ]
  },
  {
   "cell_type": "code",
   "execution_count": 88,
   "metadata": {
    "collapsed": false
   },
   "outputs": [
    {
     "data": {
      "text/plain": [
       "defaultdict(str,\n",
       "            {'data/Airline_tweet_text/1021.txt': '@USAirways customer service fail... Todays experience will ensure I do my best NEVER to utilize you again...\\n',\n",
       "             'data/Airline_tweet_text/1029.txt': '@USAirways is absolute crap this week!!\\n',\n",
       "             'data/Airline_tweet_text/103.txt': \"@USAirways I didn't make a reservation yet. It's about changing name on my dividend miles account\\n\",\n",
       "             'data/Airline_tweet_text/1051.txt': '@USAirways why have me board a plane knowing there is a maint issue?  US5235.\\n',\n",
       "             'data/Airline_tweet_text/1063.txt': '@USAirways missing our connection due to delay out of @LAS. Told not looking good for tmrw either. We will be stuck in #CLT. Help!\\n',\n",
       "             'data/Airline_tweet_text/1113.txt': '@USAirways not impressed with your customer service. everyone has been unhelpful and incredibly rude.\\n',\n",
       "             'data/Airline_tweet_text/1136.txt': '@usairways 3rd time cut off after 10+ minutes on hold with Chairmans desk?!??? Wth how are we supposed to rebook Cancelled Flightled flights?!?!?\\n',\n",
       "             'data/Airline_tweet_text/1160.txt': '\"@USAirways first flight Cancelled Flightled\\n',\n",
       "             'data/Airline_tweet_text/1196.txt': '@USAirways at least they make you run so you want yo buy this fresh diet coke...nice bizness plan. Its all about marketing right?\\n',\n",
       "             'data/Airline_tweet_text/1205.txt': '@USAirways Now going on 26 minutes on hold.\\n',\n",
       "             'data/Airline_tweet_text/1257.txt': '@USAirways Many thanks for your reply! http://t.co/6CGFv02gzb\\n',\n",
       "             'data/Airline_tweet_text/1268.txt': '@USAirways @AmericanAir  Also your on-hold message is trying to sell Valentines Day gifts.  Over a week Late Flight.  Sounds about right for USAir\\n',\n",
       "             'data/Airline_tweet_text/1282.txt': '@USAirways now on hold for 2 hrs 20 min. This is ridiculous\\n',\n",
       "             'data/Airline_tweet_text/1366.txt': '@USAirways I better get a free flight\\n',\n",
       "             'data/Airline_tweet_text/1398.txt': '\"@USAirways As a member of the news media\\n',\n",
       "             'data/Airline_tweet_text/1422.txt': \"@USAirways flight 837 passengers stuck on plane in Philly. Where is the gangway?  We can't hear the pilot\\n\",\n",
       "             'data/Airline_tweet_text/1459.txt': '@USAirways thanks for letting me know of the 12 hour delay and 2 hours on hold ?\\n',\n",
       "             'data/Airline_tweet_text/147.txt': '\"@USAirways OK we are on DAY 11 trying to  book a flight for 4.  Ur system STILL says \"\"due to weather….call back Late Flightr\"\"  #outofbusiness ?\"\\n',\n",
       "             'data/Airline_tweet_text/1503.txt': '\"@USAirways #ShoutOut 2 Kristie(sp?) from Gate4 @ PVD today. She\\'s a #RockStar\\n',\n",
       "             'data/Airline_tweet_text/1507.txt': '@USAirways message me if you want to issue a refund so someone else can use my seats tomorrow AM #flightCancelled Flighted #custservicehasnonumber\\n',\n",
       "             'data/Airline_tweet_text/1511.txt': '@USAirways @AmericanAir  ..off to vegas http://t.co/AygAOeB6Uu\\n',\n",
       "             'data/Airline_tweet_text/1565.txt': '@USAirways   my miles will expire on 2/29 and it could take someone 10 days to respond...I have over 150000 miles that I do not lose i❤usair\\n',\n",
       "             'data/Airline_tweet_text/1596.txt': \"@USAirways the American Eagle plane you're using for CLT to RDU is disgusting! You should be ashamed! #disgusting #ew http://t.co/B4xhiRuGzV\\n\",\n",
       "             'data/Airline_tweet_text/163.txt': '@USAirways How do I add my TSA Pre number to an existing reservation?\\n',\n",
       "             'data/Airline_tweet_text/1645.txt': '@USAirways how long are you going make us sit in this plane while they repair it? Could I at least get a beer???\\n',\n",
       "             'data/Airline_tweet_text/1673.txt': '@USAirways told to work it out ourselves #joke #fail\\n',\n",
       "             'data/Airline_tweet_text/1683.txt': '\"@USAirways It\\'s pretty hilarious that you want @SweetingR to finish his awful experience before doing something. Make it right\\n',\n",
       "             'data/Airline_tweet_text/1710.txt': '\"@USAirways It says to call. Before connecting\\n',\n",
       "             'data/Airline_tweet_text/1714.txt': '\"@USAirways ah\\n',\n",
       "             'data/Airline_tweet_text/1719.txt': '\"@USAirways the kind gentleman at the gate tells me to \"\"go left\"\" to get my hotel voucher at the ticket gate. Took about 20min to get there\"\\n',\n",
       "             'data/Airline_tweet_text/1723.txt': '@USAirways flight scheduled for 730pm...told at 150am that flight is Cancelled Flightled after sitting on cold plane for 2 hours.\\n',\n",
       "             'data/Airline_tweet_text/1754.txt': \"@USAirways only sympathy she offered was holding a reservation until Monday night. That's pretty awesome if you ask me...\\n\",\n",
       "             'data/Airline_tweet_text/1763.txt': '\"@USAirways new slogan should be \"\"if you don\\'t want to arrive on time\\n',\n",
       "             'data/Airline_tweet_text/1822.txt': \"@USAirways I'm trying to Request Missed Mileage and it keeps saying it can't my flight from 2/13. Then it says call the number.\\n\",\n",
       "             'data/Airline_tweet_text/1863.txt': '@USAirways Merging AA and DividendMiles yield an error. What are the _exact_ steps to navigate the phone menu? All I get is a computer.\\n',\n",
       "             'data/Airline_tweet_text/1864.txt': '@USAirways #2066. Was on plane from PBI to CLT and knew about the frozen water. Also saw a plane to NYC take off at the gate next door!\\n',\n",
       "             'data/Airline_tweet_text/1907.txt': '\"@USAirways awesome! And yes\\n',\n",
       "             'data/Airline_tweet_text/194.txt': '\"@usairways My flight was Cancelled Flighted Saturday. Why was my luggage not at the airport? Today\\n',\n",
       "             'data/Airline_tweet_text/1966.txt': '\"@USAirways @AmericanAir \\n',\n",
       "             'data/Airline_tweet_text/2003.txt': '@USAirways we got 1 drink then F/A sat in jump seat doing crosswords. Glasses picked up at landing. Just a very lazy service 4 First class.\\n',\n",
       "             'data/Airline_tweet_text/2051.txt': '\"@USAirways I doubt that\\n',\n",
       "             'data/Airline_tweet_text/2070.txt': \"@USAirways sitting on the Tarmac waiting to deplane 40+ minutes. The level of service I've come to expect.\\n\",\n",
       "             'data/Airline_tweet_text/2074.txt': '\"@USAirways due to your expensive change fees either. Out of all the airlines\\n',\n",
       "             'data/Airline_tweet_text/2165.txt': '@USAirways so basically I am stuck paying for hidden fees and being bumped to an inferior flight. JetBlue here I come. #usairways #mergers\\n',\n",
       "             'data/Airline_tweet_text/2198.txt': '@USAirways over an hour now and still no one at the Yuma counter\\n',\n",
       "             'data/Airline_tweet_text/2202.txt': '@USAirways @americanair I feel sorry for AA\\n',\n",
       "             'data/Airline_tweet_text/2209.txt': '@USAirways thanks\\n',\n",
       "             'data/Airline_tweet_text/2260.txt': '@USAirways 502 M-phx Im still on The plane waiting And waiting\\n',\n",
       "             'data/Airline_tweet_text/2266.txt': '\"@USAirways My booked seat ended up being the last row which was labeled \"\"do no occupy\"\" had to play musical chairs for 30 mins. Unacceptable\"\\n',\n",
       "             'data/Airline_tweet_text/2332.txt': '@USAirways Thanks for calling me about my 10:00p redirected flight at 10:07p. #SmoothOperation\\n',\n",
       "             'data/Airline_tweet_text/2361.txt': '@USAirways on time today and from PHL! Nice work! #ThereIsAFirstForEverything\\n',\n",
       "             'data/Airline_tweet_text/2367.txt': '@USAirways shout out to the pilots and FC attendant(Eliz) of US 673. Super strong crosswinds during landing. Eliz did a super job throughout\\n',\n",
       "             'data/Airline_tweet_text/2388.txt': '@USAirways Finally back on board.  Door was closed only to be reopened because we need fuel. You think someone wd have thought of it earlier\\n',\n",
       "             'data/Airline_tweet_text/2437.txt': '@USAirways thanks to Betty working gate at ILM and lovely gate agents here in CLT helping me get home 2 Phx tonight instead of tomorrow\\n',\n",
       "             'data/Airline_tweet_text/2445.txt': '@USAirways had 2 Cancelled Flight my trip to LA bc weather @SouthwestAir was easy but US air is making me pay $200 to use the credit. Never again\\n',\n",
       "             'data/Airline_tweet_text/245.txt': '\"@USAirways yeah I know that but that doesn\\'t get me my money back does it\\n',\n",
       "             'data/Airline_tweet_text/2473.txt': '@usairways would it kill you to let me put my tsaprecheck number on my reservation?\\n',\n",
       "             'data/Airline_tweet_text/254.txt': '@USAirways my frustrations are the result of multiple experiences Late Flightly. Currently lost luggage. I want to talk to a real person.\\n',\n",
       "             'data/Airline_tweet_text/2734.txt': '@USAirways It was US 893. The gate was open after about 50 mins waiting. What a great way to finish an 18 hour delayed arrival!!\\n',\n",
       "             'data/Airline_tweet_text/2784.txt': '@USAirways tooooo many Cancelled Flightations! My chain of command hates me now\\n',\n",
       "             'data/Airline_tweet_text/281.txt': '@USAirways - 53 minutes on hold for a reservation?\\n',\n",
       "             'data/Airline_tweet_text/2845.txt': '\"@usairways and @AmericanAir  4 days of Cancelled Flightations\\n',\n",
       "             'data/Airline_tweet_text/2889.txt': \"@USAirways  to arrive the plane I'm sitting on needs to take off...wish someone would tell us what the holdup is\\n\",\n",
       "             'data/Airline_tweet_text/2896.txt': '@USAirways No kidding. Oy.\\n',\n",
       "             'data/Airline_tweet_text/2897.txt': '@USAirways thanks\\n',\n",
       "             'data/Airline_tweet_text/2912.txt': '@USAirways your chairmans phone is down. what other number can i use?\\n',\n",
       "             'data/Airline_tweet_text/293.txt': '@USAirways @PhilaCarService looks like a long trip from cancun to philly? 9 hours Late Flight? Seriously?\\n',\n",
       "             'data/Airline_tweet_text/2933.txt': '\"@AmericanAir Its not that I wasn\\'t offered \"\"perks\"\" by @USAirways.  I ASKED and was told\\n',\n",
       "             'data/Airline_tweet_text/2968.txt': '@AmericanAir the Late Flightst usair4603. Earlier 4591\\n',\n",
       "             'data/Airline_tweet_text/2996.txt': \"@AmericanAir that all AA is for USAir Elite members. It's one big disappointment in the way we are treated. #epicfailure\\n\",\n",
       "             'data/Airline_tweet_text/3000.txt': '\"@AmericanAir @USAirways and our meals are also on us\\n',\n",
       "             'data/Airline_tweet_text/3013.txt': '@AmericanAir - AA1344 Cancelled Flighted on 2.23 - rebooked on us air 623/544 on 2.24. Has to be a nonstop on 2.24 for us (2)?\\n',\n",
       "             'data/Airline_tweet_text/319.txt': '@USAirways I’m still disappointed that it is apparently ok for a Flight Attendant who isn’t up on current policy to argue with a traveler.\\n',\n",
       "             'data/Airline_tweet_text/416.txt': '\"@USAirways Am I allowed to carry on a suit bag and carry on bag? My suit bag will hang like a jacket would. It is soft sided\\n',\n",
       "             'data/Airline_tweet_text/437.txt': \"@USAirways just an FYI I'll be writing registered letters 2 your ceo and those down the line 4 the shameful treatment and reactions we got.\\n\",\n",
       "             'data/Airline_tweet_text/444.txt': '@USAirways I need to speak with a customer service agent today between 5-8pm  I had an unfortunate incident of discrimination today.\\n',\n",
       "             'data/Airline_tweet_text/466.txt': '\"@USAirways US 728. Nope\\n',\n",
       "             'data/Airline_tweet_text/467.txt': '\"@USAirways US 728 Wait\\n',\n",
       "             'data/Airline_tweet_text/475.txt': \"@USAirways One of your workers was very rude with us. We can tell you in DM cuz it won't be any good publicity...\\n\",\n",
       "             'data/Airline_tweet_text/494.txt': '@USAirways seriously buy some WD40 for A319 operating flight 634 from GEG to Phoenix. Every seat squeaks w every shift. Still on ground!\\n',\n",
       "             'data/Airline_tweet_text/512.txt': '\"@USAirways horrible service\\n',\n",
       "             'data/Airline_tweet_text/56.txt': '\"@USAirways getting sorted\\n',\n",
       "             'data/Airline_tweet_text/579.txt': '@USAirways DOMINICK L. at La Guardia airport NYC gives the absolute best customer service! Thanku! Checking in made easy!\\n',\n",
       "             'data/Airline_tweet_text/589.txt': '@USAirways What is going on with flight 1826 from PHL to PHX? 10 mins to estimated departure nobody has board and no update.\\n',\n",
       "             'data/Airline_tweet_text/626.txt': '@USAirways you would rather a while plane get exposed to a nasty contagious virus then work wth me to get my flight changed to a Late Flightr date\\n',\n",
       "             'data/Airline_tweet_text/627.txt': '@USAirways &amp; @AmericanAir what are your weight restrictions for carry on luggage? Can find measurements but not weight restrictions. TIA\\n',\n",
       "             'data/Airline_tweet_text/656.txt': '@USAirways : Maybe You Should Drive #usairwaysfail\\n',\n",
       "             'data/Airline_tweet_text/666.txt': \"@USAirways the only time I tweet is to tell you how horrible you're attendants are. Flight 3841 to LGA. I feel in jail\\n\",\n",
       "             'data/Airline_tweet_text/705.txt': '\"@USAirways And by the way\\n',\n",
       "             'data/Airline_tweet_text/723.txt': \"Number or email? That's the purpose of sending you a tweet? @USAirways\\n\",\n",
       "             'data/Airline_tweet_text/772.txt': '@USAirways Today USAir Cancelled Flightled our rescheduled flight &amp; did not notify us except possibly to our home phone-not helpful since we are in CO\\n',\n",
       "             'data/Airline_tweet_text/79.txt': '@USAirways how can a person go from number one on a standby list to number twelve in three hours?  Should I be super platinum diamond status\\n',\n",
       "             'data/Airline_tweet_text/80.txt': '\"@USAirways Forget reservations. Thank you to the great leadership at your company\\n',\n",
       "             'data/Airline_tweet_text/830.txt': '\"@USAirways your service at PHL is abysmal. An hour on the runway waiting for a gate\\n',\n",
       "             'data/Airline_tweet_text/866.txt': '\"@USAirways we\\'ve been waiting at the gate for 2 hrs\\n',\n",
       "             'data/Airline_tweet_text/898.txt': '@usairways the. Worst. Ever. #dca #customerservice\\n',\n",
       "             'data/Airline_tweet_text/921.txt': '@USAirways #flight2031 the flight to Hell\\n',\n",
       "             'data/Airline_tweet_text/960.txt': '@USAirways What a great way to kick someone when they are down. Cancelled Flight a noon flight and rebook me on one two hours south from here tomorrow\\n',\n",
       "             'data/Airline_tweet_text/966.txt': '\"@USAirways Cancelled Flights my flight to NY 3 times\\n',\n",
       "             'data/Airline_tweet_text/981.txt': '@USAirways spoke with your reps in NH and PA. Very poor communications. Bags still sitting in Philly. TRAIN YOUR STAFF\\n'})"
      ]
     },
     "execution_count": 88,
     "metadata": {},
     "output_type": "execute_result"
    }
   ],
   "source": [
    "tweets"
   ]
  },
  {
   "cell_type": "markdown",
   "metadata": {},
   "source": [
    "You will have to work with that result to do the following problems."
   ]
  },
  {
   "cell_type": "markdown",
   "metadata": {},
   "source": [
    "## Problem 1: Analyse and Chart the Sentiment with SentimentIntensityAnalyzer\n",
    "\n",
    "You must use a bar chart, not a line chart, because we don't have time date for these tweets.\n",
    "\n",
    "Also report the mean sentiment for these tweets from this analysis.  Use the compound score.  You can use pandas, or you can do it without if you can follow the model I gave you at the end of NLTK Sentiment for Tweets."
   ]
  },
  {
   "cell_type": "code",
   "execution_count": 10,
   "metadata": {
    "collapsed": true
   },
   "outputs": [],
   "source": [
    "sid = SentimentIntensityAnalyzer()\n",
    "\n",
    "def get_vader_sentiment(sentence, analyzer):\n",
    "    \"\"\" Pass in the setence to be analysed and the analyzer, e.g., sid.\n",
    "    Returns a dictionary of the scores.\n",
    "    \"\"\"\n",
    "    ss = analyzer.polarity_scores(sentence)\n",
    "    return ss"
   ]
  },
  {
   "cell_type": "markdown",
   "metadata": {},
   "source": [
    "## Problem 2: Analyse the Same Tweets with TextBlob and Make the Same Chart.\n",
    "\n",
    "Make another bar chart. And report the Mean again.  You can't plot these by time, remember, we have no dates."
   ]
  },
  {
   "cell_type": "markdown",
   "metadata": {},
   "source": [
    "## Problem 3:  Run the get_sentiment_chunks.py on a book of your choice (not mine) and make a plot as shown at the end of Simple Sentiment Counting."
   ]
  },
  {
   "cell_type": "code",
   "execution_count": null,
   "metadata": {
    "collapsed": true
   },
   "outputs": [],
   "source": []
  }
 ],
 "metadata": {
  "kernelspec": {
   "display_name": "Python [conda env:pandasnlp]",
   "language": "python",
   "name": "conda-env-pandasnlp-py"
  },
  "language_info": {
   "codemirror_mode": {
    "name": "ipython",
    "version": 3
   },
   "file_extension": ".py",
   "mimetype": "text/x-python",
   "name": "python",
   "nbconvert_exporter": "python",
   "pygments_lexer": "ipython3",
   "version": "3.5.0"
  }
 },
 "nbformat": 4,
 "nbformat_minor": 1
}
