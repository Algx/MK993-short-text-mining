{
 "cells": [
  {
   "cell_type": "markdown",
   "metadata": {},
   "source": [
    "# Simple Sentiment Counting With Sentiment Word Lists\n",
    "\n",
    "The method in this notebook uses word lists for positive and negative emotion, lists called \"AFINN\".  There are many other word lists, if you want to do \"counting\" analysis."
   ]
  },
  {
   "cell_type": "code",
   "execution_count": 6,
   "metadata": {
    "collapsed": false
   },
   "outputs": [],
   "source": [
    "%matplotlib inline\n",
    "import csv\n",
    "import json\n",
    "import nltk\n",
    "import matplotlib.pyplot as plt\n",
    "import pandas as pd\n",
    "\n",
    "import nlp_utilities as mytools"
   ]
  },
  {
   "cell_type": "markdown",
   "metadata": {},
   "source": [
    "\n",
    "Our data files have some word lists in it already.  There are positive and negative words, and the AFINN word scores."
   ]
  },
  {
   "cell_type": "code",
   "execution_count": 7,
   "metadata": {
    "collapsed": true
   },
   "outputs": [],
   "source": [
    "NEGWORDS = \"data/sentiment_wordlists/negative-words.txt\"\n",
    "POSWORDS = \"data/sentiment_wordlists/positive-words.txt\"\n",
    "\n",
    "def load_words(path):\n",
    "    with open(path, encoding='utf-8', errors='replace') as handle:\n",
    "        words = handle.readlines()\n",
    "    words = [w.strip() for w in words if w[0] != ';']\n",
    "    words = [word for word in words if word]  # get rid of empty string\n",
    "    return words\n",
    "\n",
    "negwords = load_words(NEGWORDS)\n",
    "poswords = load_words(POSWORDS)"
   ]
  },
  {
   "cell_type": "markdown",
   "metadata": {},
   "source": [
    "## Simple Counting Example"
   ]
  },
  {
   "cell_type": "code",
   "execution_count": 2,
   "metadata": {
    "collapsed": false
   },
   "outputs": [
    {
     "data": {
      "text/plain": [
       "['2-faced',\n",
       " '2-faces',\n",
       " 'abnormal',\n",
       " 'abolish',\n",
       " 'abominable',\n",
       " 'abominably',\n",
       " 'abominate',\n",
       " 'abomination',\n",
       " 'abort',\n",
       " 'aborted']"
      ]
     },
     "execution_count": 2,
     "metadata": {},
     "output_type": "execute_result"
    }
   ],
   "source": [
    "negwords[0:10]"
   ]
  },
  {
   "cell_type": "code",
   "execution_count": 3,
   "metadata": {
    "collapsed": false
   },
   "outputs": [
    {
     "data": {
      "text/plain": [
       "['a+',\n",
       " 'abound',\n",
       " 'abounds',\n",
       " 'abundance',\n",
       " 'abundant',\n",
       " 'accessable',\n",
       " 'accessible',\n",
       " 'acclaim',\n",
       " 'acclaimed',\n",
       " 'acclamation']"
      ]
     },
     "execution_count": 3,
     "metadata": {},
     "output_type": "execute_result"
    }
   ],
   "source": [
    "poswords[0:10]"
   ]
  },
  {
   "cell_type": "code",
   "execution_count": 9,
   "metadata": {
    "collapsed": true
   },
   "outputs": [],
   "source": [
    "# We have some text we already tokenized.\n",
    "tokens = ['i', 'hate', 'movies', 'without', 'abomination', 'but', 'i', 'love', 'this', 'movie']"
   ]
  },
  {
   "cell_type": "code",
   "execution_count": 10,
   "metadata": {
    "collapsed": false
   },
   "outputs": [
    {
     "name": "stdout",
     "output_type": "stream",
     "text": [
      "neg 2\n",
      "pos 1\n",
      "net score -1\n"
     ]
    }
   ],
   "source": [
    "negativity = 0\n",
    "positivity = 0\n",
    "for token in tokens:\n",
    "    if token in negwords:\n",
    "        negativity += 1\n",
    "    if token in poswords:\n",
    "        positivity += 1\n",
    "print(\"neg\", negativity)\n",
    "print(\"pos\", positivity)\n",
    "print(\"net score\", positivity - negativity)"
   ]
  },
  {
   "cell_type": "markdown",
   "metadata": {},
   "source": [
    "## An Very Efficient Way to Count List Overlap\n",
    "\n",
    "This code is repeated in the command line file I gave you, get_sentiment_chunks.py.  "
   ]
  },
  {
   "cell_type": "code",
   "execution_count": 11,
   "metadata": {
    "collapsed": false
   },
   "outputs": [],
   "source": [
    "def get_overlap(list1, list2):\n",
    "    \"\"\"If you have a list of words (tokens) and you want to get the overlap with \n",
    "    a second list, like a list of sentiment polarity words.\n",
    "    Returns the overlapping words and their counts as a tuple.\n",
    "    \"\"\"\n",
    "    from collections import Counter\n",
    "    list1_multiset = Counter(list1)\n",
    "    list2_multiset = Counter(list2)\n",
    "    overlap = list((list1_multiset & list2_multiset).elements())\n",
    "    totals = []\n",
    "    for word in overlap:\n",
    "        totals.append((word, list1_multiset[word]))\n",
    "    return totals\n",
    "\n",
    "def get_sentiment_counts(text, filename=\"None\", poswords=poswords, negwords=negwords):\n",
    "    \"\"\"This takes a text, a filename, and sentiment polarity wordlists and counts for you.\n",
    "    (The filename is just for a field in the dictionary.)\n",
    "    Returns a dictionary.\n",
    "    \"\"\"\n",
    "    from collections import Counter\n",
    "    count = dict()\n",
    "    overlap_pos = get_overlap(text, poswords)\n",
    "    overlap_neg = get_overlap(text, negwords)\n",
    "    count = {\n",
    "            \"file\": filename,\n",
    "            \"positive_total\": int(sum(Counter(dict(overlap_pos)).values())),\n",
    "            \"positive_words\": list(overlap_pos),\n",
    "            \"negative_total\": int(sum(Counter(dict(overlap_neg)).values())),\n",
    "            \"negative_words\": list(overlap_neg),\n",
    "            \"word_count\": int(len(text)),\n",
    "            \"text\": \" \".join(text)\n",
    "        }\n",
    "    count['net_score'] = count['positive_total'] - count['negative_total']\n",
    "    return count"
   ]
  },
  {
   "cell_type": "code",
   "execution_count": 12,
   "metadata": {
    "collapsed": false
   },
   "outputs": [],
   "source": [
    "files = mytools.get_filenames(\"data/movie_reviews/negative/\")"
   ]
  },
  {
   "cell_type": "code",
   "execution_count": 13,
   "metadata": {
    "collapsed": false
   },
   "outputs": [
    {
     "data": {
      "text/plain": [
       "['data/movie_reviews/negative/cv670_tok-9891.txt',\n",
       " 'data/movie_reviews/negative/cv671_tok-2156.txt',\n",
       " 'data/movie_reviews/negative/cv672_tok-20564.txt',\n",
       " 'data/movie_reviews/negative/cv673_tok-20092.txt',\n",
       " 'data/movie_reviews/negative/cv674_tok-16930.txt',\n",
       " 'data/movie_reviews/negative/cv675_tok-10091.txt',\n",
       " 'data/movie_reviews/negative/cv676_tok-0583.txt',\n",
       " 'data/movie_reviews/negative/cv677_tok-11723.txt',\n",
       " 'data/movie_reviews/negative/cv678_tok-18362.txt',\n",
       " 'data/movie_reviews/negative/cv679_tok-8584.txt',\n",
       " 'data/movie_reviews/negative/cv680_tok-12227.txt',\n",
       " 'data/movie_reviews/negative/cv681_tok-11979.txt',\n",
       " 'data/movie_reviews/negative/cv682_tok-16618.txt',\n",
       " 'data/movie_reviews/negative/cv683_tok-11354.txt',\n",
       " 'data/movie_reviews/negative/cv684_tok-10190.txt',\n",
       " 'data/movie_reviews/negative/cv685_tok-15200.txt',\n",
       " 'data/movie_reviews/negative/cv686_tok-19988.txt',\n",
       " 'data/movie_reviews/negative/cv687_tok-25406.txt',\n",
       " 'data/movie_reviews/negative/cv688_tok-29384.txt',\n",
       " 'data/movie_reviews/negative/cv689_tok-12427.txt',\n",
       " 'data/movie_reviews/negative/cv690_tok-26288.txt',\n",
       " 'data/movie_reviews/negative/cv691_tok-28993.txt',\n",
       " 'data/movie_reviews/negative/cv692_tok-4797.txt',\n",
       " 'data/movie_reviews/negative/cv693_tok-16529.txt',\n",
       " 'data/movie_reviews/negative/cv694_tok-19302.txt',\n",
       " 'data/movie_reviews/negative/cv695_tok-21695.txt',\n",
       " 'data/movie_reviews/negative/cv696_tok-28821.txt',\n",
       " 'data/movie_reviews/negative/cv697_tok-12765.txt',\n",
       " 'data/movie_reviews/negative/cv698_tok-20916.txt',\n",
       " 'data/movie_reviews/negative/cv699_tok-0136.txt']"
      ]
     },
     "execution_count": 13,
     "metadata": {},
     "output_type": "execute_result"
    }
   ],
   "source": [
    "files"
   ]
  },
  {
   "cell_type": "markdown",
   "metadata": {},
   "source": [
    "Let's check the output from one file, the first one."
   ]
  },
  {
   "cell_type": "code",
   "execution_count": 14,
   "metadata": {
    "collapsed": false
   },
   "outputs": [
    {
     "data": {
      "text/plain": [
       "{'file': 'data/movie_reviews/negative/cv672_tok-20564.txt',\n",
       " 'negative_total': 30,\n",
       " 'negative_words': [('murder', 1),\n",
       "  ('plot', 1),\n",
       "  ('chill', 3),\n",
       "  ('bland', 1),\n",
       "  ('dull', 1),\n",
       "  ('crack', 1),\n",
       "  ('weak', 1),\n",
       "  ('disappointing', 1),\n",
       "  ('broken', 1),\n",
       "  ('wild', 1),\n",
       "  ('wasted', 1),\n",
       "  ('worst', 1),\n",
       "  ('enemies', 1),\n",
       "  ('forbid', 1),\n",
       "  ('monotonous', 1),\n",
       "  ('incessant', 1),\n",
       "  ('boring', 1),\n",
       "  ('villains', 1),\n",
       "  ('lethal', 1),\n",
       "  ('fist', 1),\n",
       "  ('isolated', 1),\n",
       "  ('prison', 1),\n",
       "  ('tricky', 1),\n",
       "  ('sadly', 1),\n",
       "  ('deadly', 1),\n",
       "  ('oddly', 1),\n",
       "  ('nasty', 1),\n",
       "  ('dying', 1)],\n",
       " 'net_score': -5,\n",
       " 'positive_total': 25,\n",
       " 'positive_words': [('amusing', 1),\n",
       "  ('important', 1),\n",
       "  ('witty', 1),\n",
       "  ('exciting', 2),\n",
       "  ('enliven', 1),\n",
       "  ('hot', 1),\n",
       "  ('like', 3),\n",
       "  ('supporting', 1),\n",
       "  ('decent', 1),\n",
       "  ('pretty', 1),\n",
       "  ('good', 2),\n",
       "  ('fair', 1),\n",
       "  ('feisty', 1),\n",
       "  ('clever', 1),\n",
       "  ('better', 1),\n",
       "  ('welcome', 1),\n",
       "  ('proves', 1),\n",
       "  ('captivating', 1),\n",
       "  ('fun', 1),\n",
       "  ('humor', 1),\n",
       "  ('top', 1)],\n",
       " 'text': \"chill factor carbon copy speed one notable exception instead speeding bus ice cream truck truck driven arlo cuba gooding jr mason skeet ulrich instructed dying scientist transport deadly chemical weapon military base name fort mcgruder particular weapon nicknamed `elvis must kept temperature degrees else shockwave goo-iffy everything mile radius would pretty nasty power elvis revealed opening scene dr richard long david paymer conducts test isolated tropical island long accidentally melts soldiers defoliates virtually entire island due enormously miscalculated safety distance commanding officer general brynner peter firth sentenced years prison murder troops upon release general intent tracking good doctor snatching elvis selling weapon highest international bidder protecting fate world drifting hamburger flipper ulrich feisty ice cream delivery man gooding jr must elude brynner 's men get elvis safety fort mcgruder course must keep weapon degrees proves tricky among wild adventures arlo mason partake trip tree-covered mountainside boat fist fight top moving vehicle also crack dozen witty retorts supposed find amusing put simply 'll use clever pun chill factor put ice director hugh johnson mixed elements speed broken arrow lethal weapon series create lifelessly bland cocktail chase movie occasional action audience seems oddly detached perhaps 's 've already waded pool clichs boring dialogue material 's used lot spice take villains example typical stereotypes every terrorist ever walked silver screen speak lines recycled profusely one movie next divulge important plot details holding enemies gunpoint act predictable ways tag-team gooding jr ulrich sounds much exciting frankly 'm sure accept cuba ice cream man suppose 's better dressed like giant hot dog selling jumbo frankfurters street corner gooding displays one single emotion movie frequently display lines like `i 'm gon na get yo ass like last year 's underwear incessant sputtering `oh sh virtually character played jerry maguire good gets gooding exciting actor seems dull endlessly monotonous least 's bit captivating ulrich film 's worst dialogue nothing noticeable enliven character supporting cast includes every personality expect pop also wasted fair brief moments serviceable action chuckle times one example ulrich employee `darlene 's diner counter brynner walks door `you place general asks `yeah ulrich says `they call darlene little tidbits humor mainly welcome weak disappointing wreckage action film speed clone could benefited lot suspense perhaps god forbid even decent writing sadly walked away chill factor wondering much fun could\",\n",
       " 'word_count': 383}"
      ]
     },
     "execution_count": 14,
     "metadata": {},
     "output_type": "execute_result"
    }
   ],
   "source": [
    "tokens = mytools.tokenize_text(files[2])\n",
    "tokens = mytools.clean_tokens(tokens)\n",
    "\n",
    "get_sentiment_counts(tokens, files[2])  # the word lists have default values if they are in global scope, we don't need to repeat them in args."
   ]
  },
  {
   "cell_type": "markdown",
   "metadata": {},
   "source": [
    "## Write The Results to a File!"
   ]
  },
  {
   "cell_type": "markdown",
   "metadata": {},
   "source": [
    "We will skip this in class, but it's code you can use another time if you want.\n",
    "\n",
    "The DictWriter in CSV is a nice way to make it easier to create CSV files from Python Dictionaries.  You need to tell it which fields are your headers though."
   ]
  },
  {
   "cell_type": "code",
   "execution_count": 14,
   "metadata": {
    "collapsed": false
   },
   "outputs": [],
   "source": [
    "myfields = ['file', 'positive_total', 'positive_words', 'negative_total', 'negative_words', 'net_score', 'word_count', 'text']\n",
    "\n",
    "def write_sentiment_results(output_file, filenames, fields):\n",
    "    \"\"\" Input args are the filename to write to, the files you are analying, and fields to write out. \n",
    "    The separator is a tab (\\t).\n",
    "    \"\"\"\n",
    "    import csv\n",
    "    with open(output_file, 'w', errors='ignore') as handle:\n",
    "        writer = csv.DictWriter(handle, fieldnames=fields, delimiter=\"\\t\")\n",
    "        writer.writeheader()\n",
    "        for input_file in filenames:\n",
    "            # here we do exactly what we did above, but for all of them.\n",
    "            tokens = mytools.tokenize_text(input_file)\n",
    "            tokens = mytools.clean_tokens(tokens)\n",
    "            dictversion = get_sentiment_counts(tokens, input_file)\n",
    "            writer.writerow(dictversion)"
   ]
  },
  {
   "cell_type": "code",
   "execution_count": 15,
   "metadata": {
    "collapsed": true
   },
   "outputs": [],
   "source": [
    "negfilenames = mytools.get_filenames(\"data/movie_reviews/negative/\")"
   ]
  },
  {
   "cell_type": "code",
   "execution_count": 16,
   "metadata": {
    "collapsed": false
   },
   "outputs": [],
   "source": [
    "write_sentiment_results(\"negresults.csv\", negfilenames, fields=myfields)"
   ]
  },
  {
   "cell_type": "markdown",
   "metadata": {},
   "source": [
    "Read in the results for a quick look... or look at the file in excel/ text editor."
   ]
  },
  {
   "cell_type": "code",
   "execution_count": 17,
   "metadata": {
    "collapsed": false
   },
   "outputs": [],
   "source": [
    "negdf = pd.read_csv(\"negresults.csv\", sep=\"\\t\")  # remember we used a tab separator in the output file"
   ]
  },
  {
   "cell_type": "code",
   "execution_count": 18,
   "metadata": {
    "collapsed": false
   },
   "outputs": [
    {
     "data": {
      "text/html": [
       "<div>\n",
       "<table border=\"1\" class=\"dataframe\">\n",
       "  <thead>\n",
       "    <tr style=\"text-align: right;\">\n",
       "      <th></th>\n",
       "      <th>file</th>\n",
       "      <th>positive_total</th>\n",
       "      <th>positive_words</th>\n",
       "      <th>negative_total</th>\n",
       "      <th>negative_words</th>\n",
       "      <th>net_score</th>\n",
       "      <th>word_count</th>\n",
       "      <th>text</th>\n",
       "    </tr>\n",
       "  </thead>\n",
       "  <tbody>\n",
       "    <tr>\n",
       "      <th>0</th>\n",
       "      <td>data/movie_reviews/negative/cv670_tok-9891.txt</td>\n",
       "      <td>23</td>\n",
       "      <td>[('love', 2), ('cool', 1), ('enough', 1), ('go...</td>\n",
       "      <td>33</td>\n",
       "      <td>[('dreadful', 1), ('stupidity', 2), ('stranger...</td>\n",
       "      <td>-10</td>\n",
       "      <td>314</td>\n",
       "      <td>director josiane balasko writers patrick aubre...</td>\n",
       "    </tr>\n",
       "    <tr>\n",
       "      <th>1</th>\n",
       "      <td>data/movie_reviews/negative/cv671_tok-2156.txt</td>\n",
       "      <td>29</td>\n",
       "      <td>[('happy', 1), ('love', 5), ('work', 2), ('eng...</td>\n",
       "      <td>25</td>\n",
       "      <td>[('crushing', 1), ('unnecessary', 1), ('worthl...</td>\n",
       "      <td>4</td>\n",
       "      <td>325</td>\n",
       "      <td>cast michael j fox gabrielle anwar anthony hig...</td>\n",
       "    </tr>\n",
       "    <tr>\n",
       "      <th>2</th>\n",
       "      <td>data/movie_reviews/negative/cv672_tok-20564.txt</td>\n",
       "      <td>25</td>\n",
       "      <td>[('proves', 1), ('better', 1), ('clever', 1), ...</td>\n",
       "      <td>30</td>\n",
       "      <td>[('oddly', 1), ('lethal', 1), ('wasted', 1), (...</td>\n",
       "      <td>-5</td>\n",
       "      <td>383</td>\n",
       "      <td>chill factor carbon copy speed one notable exc...</td>\n",
       "    </tr>\n",
       "    <tr>\n",
       "      <th>3</th>\n",
       "      <td>data/movie_reviews/negative/cv673_tok-20092.txt</td>\n",
       "      <td>15</td>\n",
       "      <td>[('worked', 1), ('enjoy', 2), ('good', 1), ('s...</td>\n",
       "      <td>9</td>\n",
       "      <td>[('weird', 1), ('secretive', 1), ('cliched', 1...</td>\n",
       "      <td>6</td>\n",
       "      <td>240</td>\n",
       "      <td>directed david cronenberg starring jude law je...</td>\n",
       "    </tr>\n",
       "    <tr>\n",
       "      <th>4</th>\n",
       "      <td>data/movie_reviews/negative/cv674_tok-16930.txt</td>\n",
       "      <td>14</td>\n",
       "      <td>[('enjoy', 1), ('bright', 1), ('worth', 1), ('...</td>\n",
       "      <td>34</td>\n",
       "      <td>[('crushing', 1), ('revenge', 1), ('suspect', ...</td>\n",
       "      <td>-20</td>\n",
       "      <td>391</td>\n",
       "      <td>directed bob clark cast dan monahan mark herri...</td>\n",
       "    </tr>\n",
       "  </tbody>\n",
       "</table>\n",
       "</div>"
      ],
      "text/plain": [
       "                                              file  positive_total  \\\n",
       "0   data/movie_reviews/negative/cv670_tok-9891.txt              23   \n",
       "1   data/movie_reviews/negative/cv671_tok-2156.txt              29   \n",
       "2  data/movie_reviews/negative/cv672_tok-20564.txt              25   \n",
       "3  data/movie_reviews/negative/cv673_tok-20092.txt              15   \n",
       "4  data/movie_reviews/negative/cv674_tok-16930.txt              14   \n",
       "\n",
       "                                      positive_words  negative_total  \\\n",
       "0  [('love', 2), ('cool', 1), ('enough', 1), ('go...              33   \n",
       "1  [('happy', 1), ('love', 5), ('work', 2), ('eng...              25   \n",
       "2  [('proves', 1), ('better', 1), ('clever', 1), ...              30   \n",
       "3  [('worked', 1), ('enjoy', 2), ('good', 1), ('s...               9   \n",
       "4  [('enjoy', 1), ('bright', 1), ('worth', 1), ('...              34   \n",
       "\n",
       "                                      negative_words  net_score  word_count  \\\n",
       "0  [('dreadful', 1), ('stupidity', 2), ('stranger...        -10         314   \n",
       "1  [('crushing', 1), ('unnecessary', 1), ('worthl...          4         325   \n",
       "2  [('oddly', 1), ('lethal', 1), ('wasted', 1), (...         -5         383   \n",
       "3  [('weird', 1), ('secretive', 1), ('cliched', 1...          6         240   \n",
       "4  [('crushing', 1), ('revenge', 1), ('suspect', ...        -20         391   \n",
       "\n",
       "                                                text  \n",
       "0  director josiane balasko writers patrick aubre...  \n",
       "1  cast michael j fox gabrielle anwar anthony hig...  \n",
       "2  chill factor carbon copy speed one notable exc...  \n",
       "3  directed david cronenberg starring jude law je...  \n",
       "4  directed bob clark cast dan monahan mark herri...  "
      ]
     },
     "execution_count": 18,
     "metadata": {},
     "output_type": "execute_result"
    }
   ],
   "source": [
    "negdf.head()"
   ]
  },
  {
   "cell_type": "code",
   "execution_count": 19,
   "metadata": {
    "collapsed": false
   },
   "outputs": [
    {
     "data": {
      "text/html": [
       "<div>\n",
       "<table border=\"1\" class=\"dataframe\">\n",
       "  <thead>\n",
       "    <tr style=\"text-align: right;\">\n",
       "      <th></th>\n",
       "      <th>file</th>\n",
       "      <th>positive_total</th>\n",
       "      <th>positive_words</th>\n",
       "      <th>negative_total</th>\n",
       "      <th>negative_words</th>\n",
       "      <th>net_score</th>\n",
       "      <th>word_count</th>\n",
       "      <th>text</th>\n",
       "    </tr>\n",
       "  </thead>\n",
       "  <tbody>\n",
       "    <tr>\n",
       "      <th>23</th>\n",
       "      <td>data/movie_reviews/negative/cv693_tok-16529.txt</td>\n",
       "      <td>32</td>\n",
       "      <td>[('cute', 1), ('neat', 1), ('cool', 1), ('smil...</td>\n",
       "      <td>55</td>\n",
       "      <td>[('misleading', 1), ('repetitive', 1), ('stumb...</td>\n",
       "      <td>-23</td>\n",
       "      <td>649</td>\n",
       "      <td>watchers reborn film review justin felix copyr...</td>\n",
       "    </tr>\n",
       "    <tr>\n",
       "      <th>4</th>\n",
       "      <td>data/movie_reviews/negative/cv674_tok-16930.txt</td>\n",
       "      <td>14</td>\n",
       "      <td>[('enjoy', 1), ('bright', 1), ('worth', 1), ('...</td>\n",
       "      <td>34</td>\n",
       "      <td>[('crushing', 1), ('revenge', 1), ('suspect', ...</td>\n",
       "      <td>-20</td>\n",
       "      <td>391</td>\n",
       "      <td>directed bob clark cast dan monahan mark herri...</td>\n",
       "    </tr>\n",
       "    <tr>\n",
       "      <th>22</th>\n",
       "      <td>data/movie_reviews/negative/cv692_tok-4797.txt</td>\n",
       "      <td>26</td>\n",
       "      <td>[('cute', 1), ('rapport', 1), ('pure', 1), ('h...</td>\n",
       "      <td>45</td>\n",
       "      <td>[('uneven', 1), ('incoherence', 1), ('painful'...</td>\n",
       "      <td>-19</td>\n",
       "      <td>498</td>\n",
       "      <td>mr wrong directed nick castle produced marty k...</td>\n",
       "    </tr>\n",
       "    <tr>\n",
       "      <th>14</th>\n",
       "      <td>data/movie_reviews/negative/cv684_tok-10190.txt</td>\n",
       "      <td>22</td>\n",
       "      <td>[('correct', 1), ('smile', 1), ('love', 1), ('...</td>\n",
       "      <td>37</td>\n",
       "      <td>[('insult', 1), ('snobby', 1), ('ill-conceived...</td>\n",
       "      <td>-15</td>\n",
       "      <td>309</td>\n",
       "      <td>hey 've got great idea movie ok 'll get tim al...</td>\n",
       "    </tr>\n",
       "    <tr>\n",
       "      <th>5</th>\n",
       "      <td>data/movie_reviews/negative/cv675_tok-10091.txt</td>\n",
       "      <td>19</td>\n",
       "      <td>[('interesting', 1), ('believable', 1), ('top'...</td>\n",
       "      <td>34</td>\n",
       "      <td>[('subjected', 1), ('unnecessary', 1), ('fake'...</td>\n",
       "      <td>-15</td>\n",
       "      <td>455</td>\n",
       "      <td>cast alex linz olek krupa david thornton lenny...</td>\n",
       "    </tr>\n",
       "  </tbody>\n",
       "</table>\n",
       "</div>"
      ],
      "text/plain": [
       "                                               file  positive_total  \\\n",
       "23  data/movie_reviews/negative/cv693_tok-16529.txt              32   \n",
       "4   data/movie_reviews/negative/cv674_tok-16930.txt              14   \n",
       "22   data/movie_reviews/negative/cv692_tok-4797.txt              26   \n",
       "14  data/movie_reviews/negative/cv684_tok-10190.txt              22   \n",
       "5   data/movie_reviews/negative/cv675_tok-10091.txt              19   \n",
       "\n",
       "                                       positive_words  negative_total  \\\n",
       "23  [('cute', 1), ('neat', 1), ('cool', 1), ('smil...              55   \n",
       "4   [('enjoy', 1), ('bright', 1), ('worth', 1), ('...              34   \n",
       "22  [('cute', 1), ('rapport', 1), ('pure', 1), ('h...              45   \n",
       "14  [('correct', 1), ('smile', 1), ('love', 1), ('...              37   \n",
       "5   [('interesting', 1), ('believable', 1), ('top'...              34   \n",
       "\n",
       "                                       negative_words  net_score  word_count  \\\n",
       "23  [('misleading', 1), ('repetitive', 1), ('stumb...        -23         649   \n",
       "4   [('crushing', 1), ('revenge', 1), ('suspect', ...        -20         391   \n",
       "22  [('uneven', 1), ('incoherence', 1), ('painful'...        -19         498   \n",
       "14  [('insult', 1), ('snobby', 1), ('ill-conceived...        -15         309   \n",
       "5   [('subjected', 1), ('unnecessary', 1), ('fake'...        -15         455   \n",
       "\n",
       "                                                 text  \n",
       "23  watchers reborn film review justin felix copyr...  \n",
       "4   directed bob clark cast dan monahan mark herri...  \n",
       "22  mr wrong directed nick castle produced marty k...  \n",
       "14  hey 've got great idea movie ok 'll get tim al...  \n",
       "5   cast alex linz olek krupa david thornton lenny...  "
      ]
     },
     "execution_count": 19,
     "metadata": {},
     "output_type": "execute_result"
    }
   ],
   "source": [
    "negdf.sort_values(by=\"net_score\", ascending=True).head()"
   ]
  },
  {
   "cell_type": "code",
   "execution_count": 21,
   "metadata": {
    "collapsed": false
   },
   "outputs": [
    {
     "data": {
      "text/plain": [
       "<matplotlib.axes._subplots.AxesSubplot at 0x106f4c6a0>"
      ]
     },
     "execution_count": 21,
     "metadata": {},
     "output_type": "execute_result"
    },
    {
     "data": {
      "image/png": "[encoded data removed]",
      "text/plain": [
       "<matplotlib.figure.Figure at 0x106f62f28>"
      ]
     },
     "metadata": {},
     "output_type": "display_data"
    }
   ],
   "source": [
    "# this is not quite the right display for this info...\n",
    "negdf[[\"positive_total\", \"negative_total\"]].plot(kind=\"bar\")"
   ]
  },
  {
   "cell_type": "markdown",
   "metadata": {},
   "source": [
    "Not the right display -- let's fix it."
   ]
  },
  {
   "cell_type": "code",
   "execution_count": 22,
   "metadata": {
    "collapsed": false
   },
   "outputs": [
    {
     "data": {
      "text/plain": [
       "<matplotlib.axes._subplots.AxesSubplot at 0x1133f9b00>"
      ]
     },
     "execution_count": 22,
     "metadata": {},
     "output_type": "execute_result"
    },
    {
     "data": {
      "image/png": "[encoded data removed]",
      "text/plain": [
       "<matplotlib.figure.Figure at 0x116c3fc18>"
      ]
     },
     "metadata": {},
     "output_type": "display_data"
    }
   ],
   "source": [
    "negdf['net_score'].plot(kind=\"bar\")"
   ]
  },
  {
   "cell_type": "code",
   "execution_count": 23,
   "metadata": {
    "collapsed": false
   },
   "outputs": [
    {
     "data": {
      "text/plain": [
       "'data/movie_reviews/negative/cv689_tok-12427.txt'"
      ]
     },
     "execution_count": 23,
     "metadata": {},
     "output_type": "execute_result"
    }
   ],
   "source": [
    "# one weird outlier -- we might want to go read that one.\n",
    "negfilenames[19]"
   ]
  },
  {
   "cell_type": "code",
   "execution_count": 25,
   "metadata": {
    "collapsed": false
   },
   "outputs": [
    {
     "data": {
      "text/plain": [
       "\"united states u release date wide running length mpaa classification r profanity mature themes sexual situations theatrical aspect ratio cast jada pinkett smith tommy davidson dave chappelle paula jai parker cool j darrel heath michael ralph duane martin director daisy v mayer producers beth hubbard michael hubbard screenplay david c johnson cinematography jean lepine music michel colombier u distributor new line cinema working motion picture industry must constant source frustration front-line african american actress like jada pinkett smith despite one freshest talents available pinkett smith often relegated playing thankless supporting parts low dirty shame nutty professor problem course n't many good roles available black women take away likes waiting exhale set soul food eve 's bayou 's left chance someone 's girlfriend local whore murder victim result pinkett smith 's first opportunity atop marquee stuck stupid formulaic romantic comedy unpromising title woo actually woo latest directorial effort daisy v mayer party girl could worse film offers funny albeit juvenile moments on-screen relationship pinkett smith 's woo tommy davidson 's tim appealing rare occasions two n't forced play dumb sake endless barrage cheap gags unfortunately huge portions movie insulting intelligence anyone triple-digit q situations painfully contrived main characters lifted right sit-coms supporting players incredibly stupid wondered whether participated kind free lobotomy lab experiment woo spontaneous energetic young woman looking love wrong places latest relationship testosterone-overdosed drug-dealer came abrupt end refused wear beeper transvestite/medium friend celestrial girlina predicts 's meet mr right 'll virgo later day woo given opportunity go blind date tim shy man penchant neatness order happens virgo 's love first sight however things get rocky start tim makes awkward pass get even worse pair arrives swanky restaurant enjoy quiet dinner one-hundred year history motion pictures ton bad white movies mismatched lovers suppose 's fair get black effort low caliber romantic comedies know beginning woo tim going end together question courtship rituals entertaining good entry genre audience becomes caught love story matter familiar woo constant reliance upon unfunny moronic humor sinks project enjoy spotting continuity gaffes 's huge one woo involving corvette broken window miraculously repairs added mystery car looses top sadly 's one film 's enjoyable sequences entertainment value entirely unintentional despite exuding charm every pore 's little pinkett smith davidson save characters david c johnson 's script since misses mark much better name woo might whoops\""
      ]
     },
     "execution_count": 25,
     "metadata": {},
     "output_type": "execute_result"
    }
   ],
   "source": [
    "negdf.iloc[19]['text']"
   ]
  },
  {
   "cell_type": "markdown",
   "metadata": {},
   "source": [
    "Most of the bars are net negative -- which we'd expect from the negative reviews.  Let's compare to the positive reviews."
   ]
  },
  {
   "cell_type": "code",
   "execution_count": 26,
   "metadata": {
    "collapsed": true
   },
   "outputs": [],
   "source": [
    "posfilenames = mytools.get_filenames(\"data/movie_reviews/positive/\")"
   ]
  },
  {
   "cell_type": "code",
   "execution_count": 27,
   "metadata": {
    "collapsed": true
   },
   "outputs": [],
   "source": [
    "write_sentiment_results(\"posresults.csv\", posfilenames, fields=myfields)"
   ]
  },
  {
   "cell_type": "code",
   "execution_count": 28,
   "metadata": {
    "collapsed": true
   },
   "outputs": [],
   "source": [
    "posdf = pd.read_csv(\"posresults.csv\", sep=\"\\t\")"
   ]
  },
  {
   "cell_type": "code",
   "execution_count": 29,
   "metadata": {
    "collapsed": false
   },
   "outputs": [
    {
     "data": {
      "text/plain": [
       "<matplotlib.axes._subplots.AxesSubplot at 0x116d22a20>"
      ]
     },
     "execution_count": 29,
     "metadata": {},
     "output_type": "execute_result"
    },
    {
     "data": {
      "image/png": "[encoded data removed]",
      "text/plain": [
       "<matplotlib.figure.Figure at 0x116c8e668>"
      ]
     },
     "metadata": {},
     "output_type": "display_data"
    }
   ],
   "source": [
    "posdf['net_score'].plot(kind=\"bar\")"
   ]
  },
  {
   "cell_type": "markdown",
   "metadata": {},
   "source": [
    "More positive, as we'd expect!"
   ]
  },
  {
   "cell_type": "markdown",
   "metadata": {},
   "source": [
    "## Using AFINN: Scored Words"
   ]
  },
  {
   "cell_type": "code",
   "execution_count": 15,
   "metadata": {
    "collapsed": false
   },
   "outputs": [],
   "source": [
    "def load_afinn(filepath):\n",
    "    \"\"\" Returns a dictionary with word as key, score as value\"\"\"\n",
    "    from collections import defaultdict\n",
    "    scores = defaultdict(int)\n",
    "    with open(filepath) as handle:\n",
    "        lines = handle.readlines()\n",
    "        for line in lines:\n",
    "            words = line.split('\\t')\n",
    "            scores[words[0]] = int(words[1])\n",
    "    return scores"
   ]
  },
  {
   "cell_type": "code",
   "execution_count": 16,
   "metadata": {
    "collapsed": false
   },
   "outputs": [],
   "source": [
    "afinn = load_afinn(\"data/sentiment_wordlists/AFINN-111.txt\")"
   ]
  },
  {
   "cell_type": "code",
   "execution_count": 17,
   "metadata": {
    "collapsed": false
   },
   "outputs": [
    {
     "data": {
      "text/plain": [
       "-1"
      ]
     },
     "execution_count": 17,
     "metadata": {},
     "output_type": "execute_result"
    }
   ],
   "source": [
    "afinn['wavering']"
   ]
  },
  {
   "cell_type": "code",
   "execution_count": 18,
   "metadata": {
    "collapsed": false
   },
   "outputs": [
    {
     "data": {
      "text/plain": [
       "-3"
      ]
     },
     "execution_count": 18,
     "metadata": {},
     "output_type": "execute_result"
    }
   ],
   "source": [
    "afinn['angry']"
   ]
  },
  {
   "cell_type": "code",
   "execution_count": 19,
   "metadata": {
    "collapsed": false
   },
   "outputs": [
    {
     "name": "stdout",
     "output_type": "stream",
     "text": [
      "This 0\n",
      "movie 0\n",
      "was 0\n",
      "n't 0\n",
      "very 0\n",
      "good 3\n",
      ". 0\n",
      "It 0\n",
      "had 0\n",
      "shallow 0\n",
      "characters 0\n",
      "and 0\n",
      "was 0\n",
      "unbelievable -1\n",
      ". 0\n",
      "Result: 2\n"
     ]
    }
   ],
   "source": [
    "# Using AFINN on text\n",
    "\n",
    "score = 0\n",
    "\n",
    "tokens = nltk.word_tokenize(\"This movie wasn't very good. It had shallow characters and was unbelievable.\")\n",
    "for token in tokens:\n",
    "    print(token,afinn[token])\n",
    "    try:\n",
    "        score = score + afinn[token]\n",
    "    except KeyError:\n",
    "        continue\n",
    "print(\"Result:\", score)"
   ]
  },
  {
   "cell_type": "markdown",
   "metadata": {},
   "source": [
    "## Sentiment Over Time\n",
    "\n",
    "With long works, like books, you might want to display changes in sentiment over time in the document.  We can do that by breaking up a document into \"chunks\" and then adding up the sentiment at each point.  Use the code I gave you in get_sentiment_chunks.py to do that.\n",
    "\n",
    "At the command line, in the folder with this file and with a data directory, you should be able to type:\n",
    "\n",
    "> python get_sentiment_chunks.py data/books/Austen_Pride.txt 100"
   ]
  },
  {
   "cell_type": "code",
   "execution_count": 20,
   "metadata": {
    "collapsed": false
   },
   "outputs": [],
   "source": [
    "# we can also look at it here, but it's less pretty.\n",
    "df = pd.read_json(\"sentiment.json\")"
   ]
  },
  {
   "cell_type": "code",
   "execution_count": 21,
   "metadata": {
    "collapsed": false
   },
   "outputs": [
    {
     "data": {
      "text/html": [
       "<div>\n",
       "<style>\n",
       "    .dataframe thead tr:only-child th {\n",
       "        text-align: right;\n",
       "    }\n",
       "\n",
       "    .dataframe thead th {\n",
       "        text-align: left;\n",
       "    }\n",
       "\n",
       "    .dataframe tbody tr th {\n",
       "        vertical-align: top;\n",
       "    }\n",
       "</style>\n",
       "<table border=\"1\" class=\"dataframe\">\n",
       "  <thead>\n",
       "    <tr style=\"text-align: right;\">\n",
       "      <th></th>\n",
       "      <th>index</th>\n",
       "      <th>neg</th>\n",
       "      <th>negwords</th>\n",
       "      <th>netpos</th>\n",
       "      <th>pos</th>\n",
       "      <th>poswords</th>\n",
       "      <th>words</th>\n",
       "    </tr>\n",
       "  </thead>\n",
       "  <tbody>\n",
       "    <tr>\n",
       "      <th>0</th>\n",
       "      <td>0</td>\n",
       "      <td>1</td>\n",
       "      <td>[[prejudice, 1]]</td>\n",
       "      <td>2</td>\n",
       "      <td>3</td>\n",
       "      <td>[[good, 1], [pride, 1], [fortune, 1]]</td>\n",
       "      <td>50</td>\n",
       "    </tr>\n",
       "    <tr>\n",
       "      <th>1</th>\n",
       "      <td>1</td>\n",
       "      <td>0</td>\n",
       "      <td>[]</td>\n",
       "      <td>2</td>\n",
       "      <td>2</td>\n",
       "      <td>[[well, 1], [rightful, 1]]</td>\n",
       "      <td>50</td>\n",
       "    </tr>\n",
       "    <tr>\n",
       "      <th>2</th>\n",
       "      <td>2</td>\n",
       "      <td>0</td>\n",
       "      <td>[]</td>\n",
       "      <td>0</td>\n",
       "      <td>0</td>\n",
       "      <td>[]</td>\n",
       "      <td>50</td>\n",
       "    </tr>\n",
       "    <tr>\n",
       "      <th>3</th>\n",
       "      <td>3</td>\n",
       "      <td>2</td>\n",
       "      <td>[[impatiently, 1], [objection, 1]]</td>\n",
       "      <td>-1</td>\n",
       "      <td>1</td>\n",
       "      <td>[[enough, 1]]</td>\n",
       "      <td>50</td>\n",
       "    </tr>\n",
       "    <tr>\n",
       "      <th>4</th>\n",
       "      <td>4</td>\n",
       "      <td>0</td>\n",
       "      <td>[]</td>\n",
       "      <td>2</td>\n",
       "      <td>2</td>\n",
       "      <td>[[fortune, 1], [delighted, 1]]</td>\n",
       "      <td>50</td>\n",
       "    </tr>\n",
       "  </tbody>\n",
       "</table>\n",
       "</div>"
      ],
      "text/plain": [
       "   index  neg                            negwords  netpos  pos  \\\n",
       "0      0    1                    [[prejudice, 1]]       2    3   \n",
       "1      1    0                                  []       2    2   \n",
       "2      2    0                                  []       0    0   \n",
       "3      3    2  [[impatiently, 1], [objection, 1]]      -1    1   \n",
       "4      4    0                                  []       2    2   \n",
       "\n",
       "                                poswords  words  \n",
       "0  [[good, 1], [pride, 1], [fortune, 1]]     50  \n",
       "1             [[well, 1], [rightful, 1]]     50  \n",
       "2                                     []     50  \n",
       "3                          [[enough, 1]]     50  \n",
       "4         [[fortune, 1], [delighted, 1]]     50  "
      ]
     },
     "execution_count": 21,
     "metadata": {},
     "output_type": "execute_result"
    }
   ],
   "source": [
    "df.head()"
   ]
  },
  {
   "cell_type": "code",
   "execution_count": 22,
   "metadata": {
    "collapsed": false
   },
   "outputs": [
    {
     "data": {
      "text/plain": [
       "<matplotlib.axes._subplots.AxesSubplot at 0x11414d9e8>"
      ]
     },
     "execution_count": 22,
     "metadata": {},
     "output_type": "execute_result"
    },
    {
     "data": {
      "image/png": "[encoded data removed]",
      "text/plain": [
       "<matplotlib.figure.Figure at 0x11414ec88>"
      ]
     },
     "metadata": {},
     "output_type": "display_data"
    }
   ],
   "source": [
    "df['netpos'].plot()"
   ]
  },
  {
   "cell_type": "markdown",
   "metadata": {},
   "source": [
    "### Adjust your window to smooth it more:"
   ]
  },
  {
   "cell_type": "markdown",
   "metadata": {},
   "source": [
    "The goal is to get it to be a bit \"smooth\".  Change your chunk size to larger if it's not looking good. In pandas you can do smoothing, of course, using a rolling mean."
   ]
  },
  {
   "cell_type": "code",
   "execution_count": 26,
   "metadata": {
    "collapsed": false
   },
   "outputs": [
    {
     "data": {
      "text/plain": [
       "<matplotlib.text.Text at 0x1145f5d68>"
      ]
     },
     "execution_count": 26,
     "metadata": {},
     "output_type": "execute_result"
    },
    {
     "data": {
      "image/png": "[encoded data removed]",
      "text/plain": [
       "<matplotlib.figure.Figure at 0x1145bfac8>"
      ]
     },
     "metadata": {},
     "output_type": "display_data"
    }
   ],
   "source": [
    "df['netpos'].rolling(window=20).mean().plot()\n",
    "plt.title(\"Sentiment During Pride and Prejudice\")"
   ]
  },
  {
   "cell_type": "code",
   "execution_count": null,
   "metadata": {
    "collapsed": true
   },
   "outputs": [],
   "source": []
  }
 ],
 "metadata": {
  "anaconda-cloud": {},
  "kernelspec": {
   "display_name": "Python [conda env:pandasnlp]",
   "language": "python",
   "name": "conda-env-pandasnlp-py"
  },
  "language_info": {
   "codemirror_mode": {
    "name": "ipython",
    "version": 3
   },
   "file_extension": ".py",
   "mimetype": "text/x-python",
   "name": "python",
   "nbconvert_exporter": "python",
   "pygments_lexer": "ipython3",
   "version": "3.5.0"
  }
 },
 "nbformat": 4,
 "nbformat_minor": 1
}
