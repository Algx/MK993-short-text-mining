{
 "cells": [
  {
   "cell_type": "markdown",
   "metadata": {},
   "source": [
    "# NLTK Tool for Sentiment for Social Media"
   ]
  },
  {
   "cell_type": "markdown",
   "metadata": {},
   "source": [
    "\n",
    "\n",
    "NLTK 3.0 http://www.nltk.org/api/nltk.sentiment.html\n",
    "\n",
    "Specifically on Vader: https://github.com/cjhutto/vaderSentiment"
   ]
  },
  {
   "cell_type": "code",
   "execution_count": 2,
   "metadata": {
    "collapsed": false
   },
   "outputs": [
    {
     "name": "stdout",
     "output_type": "stream",
     "text": [
      "showing info https://raw.githubusercontent.com/nltk/nltk_data/gh-pages/index.xml\n"
     ]
    },
    {
     "data": {
      "text/plain": [
       "True"
      ]
     },
     "execution_count": 2,
     "metadata": {},
     "output_type": "execute_result"
    }
   ],
   "source": [
    "import nltk\n",
    "# Download the vader lexicons:\n",
    "nltk.download()"
   ]
  },
  {
   "cell_type": "code",
   "execution_count": 4,
   "metadata": {
    "collapsed": false
   },
   "outputs": [],
   "source": [
    "import nltk\n",
    "from nltk.sentiment.vader import SentimentIntensityAnalyzer"
   ]
  },
  {
   "cell_type": "code",
   "execution_count": 5,
   "metadata": {
    "collapsed": false
   },
   "outputs": [
    {
     "data": {
      "text/plain": [
       "{'compound': -0.2051, 'neg': 0.206, 'neu': 0.794, 'pos': 0.0}"
      ]
     },
     "execution_count": 5,
     "metadata": {},
     "output_type": "execute_result"
    }
   ],
   "source": [
    "sid = SentimentIntensityAnalyzer()\n",
    "sid.polarity_scores(\"this movie is not very good but hey\")"
   ]
  },
  {
   "cell_type": "markdown",
   "metadata": {},
   "source": [
    "The compound is a sum of the scores that is then normalized to be between -1 and 1.  Negative means negative polarity."
   ]
  },
  {
   "cell_type": "code",
   "execution_count": 7,
   "metadata": {
    "collapsed": false
   },
   "outputs": [],
   "source": [
    "sentences = [\"VADER is smart, handsome, and funny.\", # positive sentence example\n",
    "    \"VADER is smart, handsome, and funny!\", # punctuation emphasis handled correctly (sentiment intensity adjusted)\n",
    "    \"VADER is very smart, handsome, and funny.\",  # booster words handled correctly (sentiment intensity adjusted)\n",
    "    \"VADER is VERY SMART, handsome, and FUNNY.\",  # emphasis for ALLCAPS handled\n",
    "    \"VADER is VERY SMART, handsome, and FUNNY!!!\",# combination of signals - VADER appropriately adjusts intensity\n",
    "    \"VADER is VERY SMART, really handsome, and INCREDIBLY FUNNY!!!\",# booster words & punctuation make this close to ceiling for score\n",
    "    \"The book was good.\",      # positive sentence\n",
    "    \"The book was kind of good.\", # qualified positive sentence is handled correctly (intensity adjusted)\n",
    "    \"The plot was good, but the characters are uncompelling and the dialog is not great.\", # mixed negation sentence\n",
    "    \"A really bad, horrible book.\",    # negative sentence with booster words\n",
    "    \"At least it isn't a horrible book.\", # negated negative sentence with contraction\n",
    "    \":) and :D\",     # emoticons handled\n",
    "    \"\",        # an empty string is correctly handled\n",
    "    \"Today sux\",     #  negative slang handled\n",
    "    \"Today sux!\",    #  negative slang with punctuation emphasis handled\n",
    "    \"Today SUX!\",    #  negative slang with capitalization emphasis\n",
    "    \"Today kinda sux! But I'll get by, lol\" # mixed sentiment example with slang and constrastive conjunction \"but\"\n",
    "    ]\n",
    "\n",
    "# with negation etc.\n",
    "tricky_sentences = [\n",
    "    \"Most automated sentiment analysis tools are shit.\",\n",
    "    \"VADER sentiment analysis is the shit.\",\n",
    "    \"Sentiment analysis has never been good.\",\n",
    "    \"Sentiment analysis with VADER has never been this good.\",\n",
    "    \"Warren Beatty has never been so entertaining.\",\n",
    "    \"I won't say that the movie is astounding and I wouldn't claim that \\\n",
    "    the movie is too banal either.\",\n",
    "    \"I like to hate Michael Bay films, but I couldn't fault this one\",\n",
    "    \"It's one thing to watch an Uwe Boll film, but another thing entirely \\\n",
    "    to pay for it\",\n",
    "    \"The movie was too good\",\n",
    "    \"This movie was actually neither that funny, nor super witty.\",\n",
    "    \"This movie doesn't care about cleverness, wit or any other kind of \\\n",
    "    intelligent humor.\",\n",
    "    \"Those who find ugly meanings in beautiful things are corrupt without \\\n",
    "    being charming.\",\n",
    "    \"There are slow and repetitive parts, BUT it has just enough spice to \\\n",
    "    keep it interesting.\",\n",
    "    \"The script is not fantastic, but the acting is decent and the cinematography \\\n",
    "    is EXCELLENT!\",\n",
    "    \"Roger Dodger is one of the most compelling variations on this theme.\",\n",
    "    \"Roger Dodger is one of the least compelling variations on this theme.\",\n",
    "    \"Roger Dodger is at least compelling as a variation on the theme.\",\n",
    "    \"they fall in love with the product\",\n",
    "    \"but then it breaks\",\n",
    "    \"usually around the time the 90 day warranty expires\",\n",
    "    \"the twin towers collapsed today\",\n",
    "    \"However, Mr. Carter solemnly argues, his client carried out the kidnapping \\\n",
    "    under orders and in the ''least offensive way possible.''\"\n",
    "    ]\n",
    "sentences.extend(tricky_sentences)"
   ]
  },
  {
   "cell_type": "code",
   "execution_count": 9,
   "metadata": {
    "collapsed": false
   },
   "outputs": [
    {
     "name": "stdout",
     "output_type": "stream",
     "text": [
      "VADER is smart, handsome, and funny.\n",
      "compound: 0.8316, neg: 0.0, neu: 0.254, pos: 0.746, \n",
      "\n",
      "VADER is smart, handsome, and funny!\n",
      "compound: 0.8439, neg: 0.0, neu: 0.248, pos: 0.752, \n",
      "\n",
      "VADER is very smart, handsome, and funny.\n",
      "compound: 0.8545, neg: 0.0, neu: 0.299, pos: 0.701, \n",
      "\n",
      "VADER is VERY SMART, handsome, and FUNNY.\n",
      "compound: 0.9227, neg: 0.0, neu: 0.246, pos: 0.754, \n",
      "\n",
      "VADER is VERY SMART, handsome, and FUNNY!!!\n",
      "compound: 0.9342, neg: 0.0, neu: 0.233, pos: 0.767, \n",
      "\n",
      "VADER is VERY SMART, really handsome, and INCREDIBLY FUNNY!!!\n",
      "compound: 0.9469, neg: 0.0, neu: 0.294, pos: 0.706, \n",
      "\n",
      "The book was good.\n",
      "compound: 0.4404, neg: 0.0, neu: 0.508, pos: 0.492, \n",
      "\n",
      "The book was kind of good.\n",
      "compound: 0.3832, neg: 0.0, neu: 0.657, pos: 0.343, \n",
      "\n",
      "The plot was good, but the characters are uncompelling and the dialog is not great.\n",
      "compound: -0.7042, neg: 0.327, neu: 0.579, pos: 0.094, \n",
      "\n",
      "A really bad, horrible book.\n",
      "compound: -0.8211, neg: 0.791, neu: 0.209, pos: 0.0, \n",
      "\n",
      "At least it isn't a horrible book.\n",
      "compound: 0.431, neg: 0.0, neu: 0.637, pos: 0.363, \n",
      "\n",
      ":) and :D\n",
      "compound: 0.7925, neg: 0.0, neu: 0.124, pos: 0.876, \n",
      "\n",
      "\n",
      "compound: 0.0, neg: 0.0, neu: 0.0, pos: 0.0, \n",
      "\n",
      "Today sux\n",
      "compound: -0.3612, neg: 0.714, neu: 0.286, pos: 0.0, \n",
      "\n",
      "Today sux!\n",
      "compound: -0.4199, neg: 0.736, neu: 0.264, pos: 0.0, \n",
      "\n",
      "Today SUX!\n",
      "compound: -0.5461, neg: 0.779, neu: 0.221, pos: 0.0, \n",
      "\n",
      "Today kinda sux! But I'll get by, lol\n",
      "compound: 0.2228, neg: 0.195, neu: 0.531, pos: 0.274, \n",
      "\n",
      "Most automated sentiment analysis tools are shit.\n",
      "compound: -0.5574, neg: 0.375, neu: 0.625, pos: 0.0, \n",
      "\n",
      "VADER sentiment analysis is the shit.\n",
      "compound: 0.6124, neg: 0.0, neu: 0.556, pos: 0.444, \n",
      "\n",
      "Sentiment analysis has never been good.\n",
      "compound: -0.3412, neg: 0.325, neu: 0.675, pos: 0.0, \n",
      "\n",
      "Sentiment analysis with VADER has never been this good.\n",
      "compound: 0.5228, neg: 0.0, neu: 0.703, pos: 0.297, \n",
      "\n",
      "Warren Beatty has never been so entertaining.\n",
      "compound: 0.5777, neg: 0.0, neu: 0.616, pos: 0.384, \n",
      "\n",
      "I won't say that the movie is astounding and I wouldn't claim that     the movie is too banal either.\n",
      "compound: 0.4215, neg: 0.0, neu: 0.851, pos: 0.149, \n",
      "\n",
      "I like to hate Michael Bay films, but I couldn't fault this one\n",
      "compound: 0.3153, neg: 0.157, neu: 0.534, pos: 0.309, \n",
      "\n",
      "It's one thing to watch an Uwe Boll film, but another thing entirely     to pay for it\n",
      "compound: -0.2541, neg: 0.112, neu: 0.888, pos: 0.0, \n",
      "\n",
      "The movie was too good\n",
      "compound: 0.4404, neg: 0.0, neu: 0.58, pos: 0.42, \n",
      "\n",
      "This movie was actually neither that funny, nor super witty.\n",
      "compound: -0.6759, neg: 0.41, neu: 0.59, pos: 0.0, \n",
      "\n",
      "This movie doesn't care about cleverness, wit or any other kind of     intelligent humor.\n",
      "compound: -0.1338, neg: 0.265, neu: 0.497, pos: 0.239, \n",
      "\n",
      "Those who find ugly meanings in beautiful things are corrupt without     being charming.\n",
      "compound: -0.3553, neg: 0.314, neu: 0.493, pos: 0.192, \n",
      "\n",
      "There are slow and repetitive parts, BUT it has just enough spice to     keep it interesting.\n",
      "compound: 0.4678, neg: 0.079, neu: 0.735, pos: 0.186, \n",
      "\n",
      "The script is not fantastic, but the acting is decent and the cinematography     is EXCELLENT!\n",
      "compound: 0.7565, neg: 0.092, neu: 0.607, pos: 0.301, \n",
      "\n",
      "Roger Dodger is one of the most compelling variations on this theme.\n",
      "compound: 0.2944, neg: 0.0, neu: 0.834, pos: 0.166, \n",
      "\n",
      "Roger Dodger is one of the least compelling variations on this theme.\n",
      "compound: -0.1695, neg: 0.132, neu: 0.868, pos: 0.0, \n",
      "\n",
      "Roger Dodger is at least compelling as a variation on the theme.\n",
      "compound: 0.2263, neg: 0.0, neu: 0.84, pos: 0.16, \n",
      "\n",
      "they fall in love with the product\n",
      "compound: 0.6369, neg: 0.0, neu: 0.588, pos: 0.412, \n",
      "\n",
      "but then it breaks\n",
      "compound: 0.0, neg: 0.0, neu: 1.0, pos: 0.0, \n",
      "\n",
      "usually around the time the 90 day warranty expires\n",
      "compound: 0.0, neg: 0.0, neu: 1.0, pos: 0.0, \n",
      "\n",
      "the twin towers collapsed today\n",
      "compound: -0.2732, neg: 0.344, neu: 0.656, pos: 0.0, \n",
      "\n",
      "However, Mr. Carter solemnly argues, his client carried out the kidnapping     under orders and in the ''least offensive way possible.''\n",
      "compound: -0.5859, neg: 0.23, neu: 0.697, pos: 0.074, \n",
      "\n"
     ]
    }
   ],
   "source": [
    "# the analyser object is called sid here - \n",
    "sid = SentimentIntensityAnalyzer()\n",
    "\n",
    "for sentence in sentences:\n",
    "    print(sentence)\n",
    "    ss = sid.polarity_scores(sentence)\n",
    "    for k in sorted(ss):\n",
    "        print('{0}: {1}, '.format(k, ss[k]), end='')\n",
    "    print()\n",
    "    print()"
   ]
  },
  {
   "cell_type": "code",
   "execution_count": 6,
   "metadata": {
    "collapsed": false
   },
   "outputs": [
    {
     "name": "stdout",
     "output_type": "stream",
     "text": [
      "It was one of the worst movies I've seen, despite good reviews.\n",
      "compound: -0.7584, neg: 0.394, neu: 0.606, pos: 0.0, \n",
      "Unbelievably bad acting!!\n",
      "compound: -0.6572, neg: 0.686, neu: 0.314, pos: 0.0, \n",
      "Poor direction.\n",
      "compound: -0.4767, neg: 0.756, neu: 0.244, pos: 0.0, \n",
      "VERY poor production.\n",
      "compound: -0.6281, neg: 0.674, neu: 0.326, pos: 0.0, \n",
      "The movie was bad.\n",
      "compound: -0.5423, neg: 0.538, neu: 0.462, pos: 0.0, \n",
      "Very bad movie.\n",
      "compound: -0.5849, neg: 0.655, neu: 0.345, pos: 0.0, \n",
      "VERY bad movie.\n",
      "compound: -0.6732, neg: 0.694, neu: 0.306, pos: 0.0, \n",
      "VERY BAD movie.\n",
      "compound: -0.7398, neg: 0.724, neu: 0.276, pos: 0.0, \n",
      "VERY BAD movie!\n",
      "compound: -0.7616, neg: 0.735, neu: 0.265, pos: 0.0, \n"
     ]
    }
   ],
   "source": [
    "# using a paragraph - sent_tokenize and add to lines list\n",
    "paragraph = \"It was one of the worst movies I've seen, despite good reviews. \\\n",
    "    Unbelievably bad acting!! Poor direction. VERY poor production. \\\n",
    "    The movie was bad. Very bad movie. VERY bad movie. VERY BAD movie. VERY BAD movie!\"\n",
    "\n",
    "from nltk import tokenize\n",
    "lines_list = tokenize.sent_tokenize(paragraph)\n",
    "\n",
    "for sentence in lines_list:\n",
    "     print(sentence)\n",
    "     ss = sid.polarity_scores(sentence)\n",
    "     for k in sorted(ss):\n",
    "         print('{0}: {1}, '.format(k, ss[k]), end='')\n",
    "     print()"
   ]
  },
  {
   "cell_type": "code",
   "execution_count": 7,
   "metadata": {
    "collapsed": false
   },
   "outputs": [],
   "source": [
    "# a utility function to help\n",
    "def get_vader_sentiment(sentence, analyzer):\n",
    "    \"\"\" Pass in the setence to be analysed and the analyzer, e.g., sid.\n",
    "    Returns a dictionary of the scores.\n",
    "    \"\"\"\n",
    "    ss = analyzer.polarity_scores(sentence)\n",
    "    return ss"
   ]
  },
  {
   "cell_type": "code",
   "execution_count": 8,
   "metadata": {
    "collapsed": false
   },
   "outputs": [
    {
     "data": {
      "text/plain": [
       "{'compound': -0.2481, 'neg': 0.499, 'neu': 0.128, 'pos': 0.372}"
      ]
     },
     "execution_count": 8,
     "metadata": {},
     "output_type": "execute_result"
    }
   ],
   "source": [
    "sid = SentimentIntensityAnalyzer()\n",
    "get_vader_sentiment(\"a terribly good movie!\", sid)"
   ]
  },
  {
   "cell_type": "markdown",
   "metadata": {},
   "source": [
    "## A Simple Model for a Simple Plot (without pandas)\n",
    "\n",
    "If you are good with pandas, it's much nicer to use a dataframe and plot from that."
   ]
  },
  {
   "cell_type": "code",
   "execution_count": 11,
   "metadata": {
    "collapsed": false
   },
   "outputs": [],
   "source": [
    "tweets = [\"a good movie\", \"a bad movie\", \"a fun flick\", \"really awful\", \"don't waste your time\", \"what a romp\"]\n",
    "\n",
    "scores = []\n",
    "for tweet in tweets:\n",
    "    vaderscores = get_vader_sentiment(tweet, sid)\n",
    "    scores.append(vaderscores['compound'])"
   ]
  },
  {
   "cell_type": "code",
   "execution_count": 49,
   "metadata": {
    "collapsed": true
   },
   "outputs": [],
   "source": [
    "import matplotlib.pyplot as plt\n",
    "import numpy as np\n",
    "import seaborn as sns\n",
    "%matplotlib inline"
   ]
  },
  {
   "cell_type": "code",
   "execution_count": 43,
   "metadata": {
    "collapsed": false
   },
   "outputs": [
    {
     "data": {
      "text/plain": [
       "[0, 1, 2, 3, 4, 5]"
      ]
     },
     "execution_count": 43,
     "metadata": {},
     "output_type": "execute_result"
    }
   ],
   "source": [
    "# if we don't use a dataframe, we need to specify the X axis is just a number for the tweet or text\n",
    "count = list(range(len(tweets)))\n",
    "count"
   ]
  },
  {
   "cell_type": "code",
   "execution_count": 51,
   "metadata": {
    "collapsed": false
   },
   "outputs": [],
   "source": [
    "avg = np.mean(scores)"
   ]
  },
  {
   "cell_type": "code",
   "execution_count": 52,
   "metadata": {
    "collapsed": false
   },
   "outputs": [
    {
     "data": {
      "text/plain": [
       "<matplotlib.text.Text at 0x11a38fdd8>"
      ]
     },
     "execution_count": 52,
     "metadata": {},
     "output_type": "execute_result"
    },
    {
     "data": {
      "image/png": "[encoded data removed]",
      "text/plain": [
       "<matplotlib.figure.Figure at 0x119fb46d8>"
      ]
     },
     "metadata": {},
     "output_type": "display_data"
    }
   ],
   "source": [
    "sns.barplot(x=count, y=scores, color=\"blue\")\n",
    "plt.title(\"My Tweets Have Average Polarity of \" + str(avg))"
   ]
  },
  {
   "cell_type": "code",
   "execution_count": null,
   "metadata": {
    "collapsed": true
   },
   "outputs": [],
   "source": []
  }
 ],
 "metadata": {
  "anaconda-cloud": {},
  "kernelspec": {
   "display_name": "Python [conda env:pandasnlp]",
   "language": "python",
   "name": "conda-env-pandasnlp-py"
  },
  "language_info": {
   "codemirror_mode": {
    "name": "ipython",
    "version": 3
   },
   "file_extension": ".py",
   "mimetype": "text/x-python",
   "name": "python",
   "nbconvert_exporter": "python",
   "pygments_lexer": "ipython3",
   "version": "3.5.0"
  }
 },
 "nbformat": 4,
 "nbformat_minor": 1
}
